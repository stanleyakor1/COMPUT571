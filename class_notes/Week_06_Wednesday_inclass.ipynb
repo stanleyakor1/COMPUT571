{
 "cells": [
  {
   "cell_type": "markdown",
   "id": "7b2ac5ab",
   "metadata": {},
   "source": [
    "<hr style=\"border:3px solid coral\"></hr>\n",
    "\n",
    "# Practice\n",
    "\n",
    "<hr style=\"border:3px solid coral\"></hr>\n",
    "\n",
    "Goals for this notebook : \n",
    "\n",
    "* Learn about reading and writing binary data to easily transfer data between C and Python programs. "
   ]
  },
  {
   "cell_type": "markdown",
   "id": "60626b57",
   "metadata": {},
   "source": [
    "<hr style=\"border:3px solid coral\"></hr>\n",
    "\n",
    "##  Reading and writing data between C and Python\n",
    "\n",
    "<hr style=\"border:3px solid coral\"></hr>\n",
    "\n",
    "Once we start solving  interesting PDEs, we will want to be able to visualize the results.  To do this, we will use tools available in Python.  However, we need to be able to write data to a file from our C program, and then read it back into C.   More over, we want to be able to store \"meta-data\" as well (e.g. grid size, domain extent, etc). \n",
    "\n",
    "We will do this by creating binary files in C and read it back in in Python. "
   ]
  },
  {
   "cell_type": "markdown",
   "id": "b082d0ed",
   "metadata": {},
   "source": [
    "## Example 1 : Writing data to a binary file\n",
    "\n",
    "<hr style=\"border:3px solid black\"></hr>\n"
   ]
  },
  {
   "cell_type": "code",
   "execution_count": 1,
   "id": "75683384",
   "metadata": {},
   "outputs": [
    {
     "name": "stdout",
     "output_type": "stream",
     "text": [
      "Overwriting magic_01.c\n"
     ]
    }
   ],
   "source": [
    "%%file magic_01.c\n",
    "\n",
    "#include <stdio.h>\n",
    "#include <stdlib.h>    // Needed for 'atoi' and 'exit(0)'\n",
    "\n",
    "int main(int argc, char** argv)\n",
    "{\n",
    "    if (argc <= 1)\n",
    "    {\n",
    "        printf(\"Error : Include magic int at command line\\n\");\n",
    "        exit(0);\n",
    "    }\n",
    "    int magic_int = atoi(argv[1]);  \n",
    "\n",
    "    FILE *fout = fopen(\"magic_01.dat\",\"w\");        \n",
    "    fwrite(&magic_int,sizeof(int),1, fout); \n",
    "    fclose(fout);\n",
    "\n",
    "    return 0;\n",
    "}"
   ]
  },
  {
   "cell_type": "markdown",
   "id": "aafe6157",
   "metadata": {},
   "source": [
    "### Components \n",
    "\n",
    "<hr style=\"border:1px solid black\"></hr>\n",
    "\n",
    "    #include <stdio.h>\n",
    "    #include <stdlib.h>    \n",
    "\n",
    "The first header `stdio` is needed for the `printf`, and file IO operations `fopen`, `fwrite` and `fclose`. \n",
    "\n",
    "The second header is needed for `atoi` and `exit(0)`. \n",
    "\n",
    "<hr style=\"border:1px solid black\"></hr>\n",
    "\n",
    "    if (argc <= 1)\n",
    "    {\n",
    "        printf(\"Error : Supply a magic integer at command line\\n\");\n",
    "        exit(0);\n",
    "    }\n",
    "    \n",
    "This program will read a \"magic number\" from the command line.  We need to make sure that the user supplied a value at the command line. \n",
    "\n",
    "<hr style=\"border:1px solid black\"></hr>\n",
    "\n",
    "    int magic_int = atoi(argv[1]);  \n",
    "\n",
    "Read the user-supplied magic integer from the command line arguments. \n",
    "\n",
    "<hr style=\"border:1px solid black\"></hr>\n",
    "\n",
    "    FILE *fout = fopen(\"magic_int.dat\",\"w\");        \n",
    "\n",
    "We open a file with the name `magic_int.dat`.  The \"w\" indicates that we plan to *write* to the file.  The return is the *file handle* `fout`. \n",
    "\n",
    "\n",
    "<hr style=\"border:1px solid black\"></hr>\n",
    "\n",
    "    fwrite(&magic_int,sizeof(int),1,fout); \n",
    "    \n",
    "This commands writes a specified number of entries from a memory location. \n",
    "\n",
    "* Address location is  `&magic_int`.\n",
    "\n",
    "* The size of each entry is `sizeof(int)`  (4 bytes).  \n",
    "\n",
    "* We write out 1 entry\n",
    "\n",
    "* Write data to file with handle  `fout`. \n",
    "    \n",
    "    \n",
    "<hr style=\"border:1px solid black\"></hr>\n",
    "\n",
    "     fclose(fout);\n",
    "     \n",
    "Close the file when we are done. "
   ]
  },
  {
   "cell_type": "markdown",
   "id": "c12c7c4d",
   "metadata": {},
   "source": [
    "### Running the code\n",
    "\n",
    "<hr style=\"border:1px solid black\"></hr>\n"
   ]
  },
  {
   "cell_type": "code",
   "execution_count": 2,
   "id": "1e5a4b60",
   "metadata": {},
   "outputs": [],
   "source": [
    "%%bash\n",
    "\n",
    "rm -rf magic_01\n",
    "\n",
    "gcc -o magic_01 magic_01.c\n",
    "\n",
    "./magic_01  17"
   ]
  },
  {
   "cell_type": "markdown",
   "id": "b92a1743",
   "metadata": {},
   "source": [
    "We can check that the file size is what we expect.  "
   ]
  },
  {
   "cell_type": "code",
   "execution_count": 3,
   "id": "7dd69dd2",
   "metadata": {},
   "outputs": [
    {
     "name": "stdout",
     "output_type": "stream",
     "text": [
      "File size : 4 bytes\n"
     ]
    }
   ],
   "source": [
    "import os\n",
    "\n",
    "stats = os.stat(\"magic_01.dat\")\n",
    "print(f\"File size : {stats.st_size:d} bytes\")\n"
   ]
  },
  {
   "cell_type": "markdown",
   "id": "6e360eb8",
   "metadata": {},
   "source": [
    "### To do \n",
    "\n",
    "<hr style=\"border:2px solid black\"></hr>\n",
    "\n",
    "* Modify the code above to read in three magic numbers from the command line and write them to a data file. \n",
    "\n",
    "* Check that the file is the correct size\n",
    "\n",
    "#### Note\n",
    "\n",
    "* Use a *single* `fwrite` statement. "
   ]
  },
  {
   "cell_type": "code",
   "execution_count": 4,
   "id": "9c300e22",
   "metadata": {},
   "outputs": [
    {
     "name": "stdout",
     "output_type": "stream",
     "text": [
      "Overwriting magic_02.c\n"
     ]
    }
   ],
   "source": [
    "%%file magic_02.c\n",
    "\n",
    "#include <stdio.h>     // Needed for file IO\n",
    "#include <stdlib.h>    // Needed for 'atoi' and 'exit(0)'\n",
    "\n",
    "int main(int argc, char** argv)\n",
    "{\n",
    "    if (argc < 4)\n",
    "    {\n",
    "        printf(\"Error : Include three magic ints at command line\\n\");\n",
    "        exit(0);\n",
    "    }\n",
    "    int magic_int[3];\n",
    "    \n",
    "    for(int i = 0; i < 4; i++)\n",
    "    {\n",
    "        printf(\"%s\\n\",argv[i]);\n",
    "    }\n",
    "\n",
    "    for(int i = 0; i < 3; i++)\n",
    "    {\n",
    "        magic_int[i] = atoi(argv[i+1]);          \n",
    "    }\n",
    "    \n",
    "    FILE *fout = fopen(\"magic_02.dat\",\"w\");   \n",
    "    fwrite(&magic_int[0],sizeof(int),3, fout); \n",
    "    fclose(fout);\n",
    "\n",
    "    return 0;\n",
    "}"
   ]
  },
  {
   "cell_type": "code",
   "execution_count": 5,
   "id": "27b3f11f",
   "metadata": {},
   "outputs": [
    {
     "name": "stdout",
     "output_type": "stream",
     "text": [
      "./magic_02\n",
      "17\n",
      "13\n",
      "21\n"
     ]
    }
   ],
   "source": [
    "%%bash\n",
    "\n",
    "rm -rf magic_02\n",
    "\n",
    "gcc -o magic_02 magic_02.c\n",
    "\n",
    "./magic_02 17 13 21"
   ]
  },
  {
   "cell_type": "code",
   "execution_count": 6,
   "id": "975b519a",
   "metadata": {},
   "outputs": [
    {
     "name": "stdout",
     "output_type": "stream",
     "text": [
      "File size : 12 bytes\n"
     ]
    }
   ],
   "source": [
    "import os\n",
    "\n",
    "stats = os.stat(\"magic_02.dat\")\n",
    "print(f\"File size : {stats.st_size:d} bytes\")"
   ]
  },
  {
   "cell_type": "code",
   "execution_count": 7,
   "id": "724ffe73",
   "metadata": {},
   "outputs": [
    {
     "name": "stdout",
     "output_type": "stream",
     "text": [
      "\u0011\u0000\u0000\u0000\r",
      "\u0000\u0000\u0000\u0015\u0000\u0000\u0000"
     ]
    }
   ],
   "source": [
    "%cat magic_02.dat"
   ]
  },
  {
   "cell_type": "markdown",
   "id": "4f33c678",
   "metadata": {},
   "source": [
    "\n",
    "### Example 2 : Reading data in Python\n",
    "\n",
    "<hr style=\"border:3px solid black\"></hr>\n",
    "\n",
    "We can read the the data back into Python by first describing a data type, and then reading the data using the  template described by the data type. \n",
    "\n",
    "* The Numpy `dtype` can be used to create a list of tuples describing the data type.  This will be particularly useful for files containing mixed data types. \n",
    "\n",
    "You can read more about Numpy `dtype` [here](https://numpy.org/doc/stable/reference/generated/numpy.dtype.html)."
   ]
  },
  {
   "cell_type": "code",
   "execution_count": 8,
   "id": "272020aa",
   "metadata": {},
   "outputs": [
    {
     "data": {
      "text/plain": [
       "dtype([('magic_int', '<i4', (3,))])"
      ]
     },
     "execution_count": 8,
     "metadata": {},
     "output_type": "execute_result"
    }
   ],
   "source": [
    "import numpy as np\n",
    "from numpy import *\n",
    "\n",
    "dt = np.dtype([('magic_int',(np.int32,3))])\n",
    "dt"
   ]
  },
  {
   "cell_type": "code",
   "execution_count": 9,
   "id": "608d1eda",
   "metadata": {},
   "outputs": [
    {
     "data": {
      "text/plain": [
       "array([17, 13, 21], dtype=int32)"
      ]
     },
     "metadata": {},
     "output_type": "display_data"
    }
   ],
   "source": [
    "fout = open(\"magic_02.dat\",\"rb\")\n",
    "d = np.fromfile(fout,dtype=dt, count=1)\n",
    "fout.close()\n",
    "\n",
    "display(d[0][0])"
   ]
  },
  {
   "cell_type": "markdown",
   "id": "2a994652",
   "metadata": {},
   "source": [
    "#### Question\n",
    "\n",
    "* How does the return variable `d` store entries from the file? "
   ]
  },
  {
   "cell_type": "markdown",
   "id": "d19e1137",
   "metadata": {},
   "source": [
    "### To do\n",
    "\n",
    "* Modify the above to read in three integers from `magic_02.dat`.  "
   ]
  },
  {
   "cell_type": "markdown",
   "id": "87ec4a72",
   "metadata": {},
   "source": [
    "### Example 2 : Reading and writing mixed-type data\n",
    "\n",
    "<hr style=\"border:3px solid black\"></hr>\n",
    "\n",
    "Often, we want to store data, along with some \"meta data\".  \n",
    "\n",
    "Consider the following example that generates a mesh of values $f_{i} = f(x_i)$ for a specified function $f(x)$. "
   ]
  },
  {
   "cell_type": "code",
   "execution_count": 25,
   "id": "dc553f11",
   "metadata": {},
   "outputs": [
    {
     "name": "stdout",
     "output_type": "stream",
     "text": [
      "Overwriting array_01.c\n"
     ]
    }
   ],
   "source": [
    "%%file array_01.c\n",
    "\n",
    "#include <stdio.h>\n",
    "#include <stdlib.h>\n",
    "#include <math.h>\n",
    "\n",
    "double* allocate_1d(int n)\n",
    "{\n",
    "    double *mem = (double*) malloc(n*sizeof(double));\n",
    "    double *y = &mem[0];\n",
    "    return y;\n",
    "}\n",
    "\n",
    "double  f(double x)\n",
    "{\n",
    "    return cos(M_PI*x);\n",
    "}\n",
    "\n",
    "int main(int argv, char** argc)\n",
    "{\n",
    "    int N = 128;\n",
    "    \n",
    "    double a = 0; \n",
    "    double b = 1; \n",
    "    \n",
    "    double *x = allocate_1d(N+1);\n",
    "    double *fx = allocate_1d(N+1);\n",
    "\n",
    "    double h = (b-a)/N;\n",
    "    \n",
    "    for(int i = 0; i < N+1; i++)\n",
    "    {\n",
    "        x[i] = a + h*i;\n",
    "        fx[i] = f(x[i]);\n",
    "    }\n",
    "    \n",
    "    FILE *fout = fopen(\"array_01.dat\",\"w\");   \n",
    "    fwrite(&N,sizeof(int),1, fout); \n",
    "    fwrite(&a,sizeof(double),1, fout); \n",
    "    fwrite(&b,sizeof(double),1, fout); \n",
    "    fwrite(&x[0],sizeof(double),N+1, fout); \n",
    "    fwrite(&fx[0],sizeof(double),N+1, fout);     \n",
    "    fclose(fout);    \n",
    "    \n",
    "}"
   ]
  },
  {
   "cell_type": "code",
   "execution_count": 26,
   "id": "18573243",
   "metadata": {},
   "outputs": [],
   "source": [
    "%%bash\n",
    "\n",
    "rm -rf array_01\n",
    "\n",
    "gcc -o array_01 array_01.c\n",
    "\n",
    "./array_01"
   ]
  },
  {
   "cell_type": "code",
   "execution_count": 27,
   "id": "c662edb6",
   "metadata": {},
   "outputs": [
    {
     "name": "stdout",
     "output_type": "stream",
     "text": [
      "File size : 2084 bytes\n",
      "Expected file size :  2084\n"
     ]
    }
   ],
   "source": [
    "import os\n",
    "\n",
    "stats = os.stat(\"array_01.dat\")\n",
    "print(f\"File size : {stats.st_size:d} bytes\")\n",
    "\n",
    "N = 128\n",
    "print(\"Expected file size : \",2*(N+1)*8 + 2*8 + 4)"
   ]
  },
  {
   "cell_type": "markdown",
   "id": "c6d39818",
   "metadata": {},
   "source": [
    "### To Do\n",
    "\n",
    "* Add statements that writes out array data $x_i$ and $f_i$ along with metadata $N$, interval data $[a,b]$. \n",
    "\n",
    "* Load the data into Python and plot the function $f(x)$. \n",
    "\n",
    "* Plot the results in Python and compare to the true function $f(x)$. \n",
    "\n",
    "### Tips\n",
    "\n",
    "* Create a Numpy `dtype` to read data into Python. "
   ]
  },
  {
   "cell_type": "code",
   "execution_count": null,
   "id": "b459306c",
   "metadata": {},
   "outputs": [],
   "source": []
  },
  {
   "cell_type": "code",
   "execution_count": 28,
   "id": "f4b5d834",
   "metadata": {},
   "outputs": [],
   "source": [
    "from matplotlib.pyplot import *\n",
    "from numpy import *"
   ]
  },
  {
   "cell_type": "code",
   "execution_count": 32,
   "id": "d5d19662",
   "metadata": {},
   "outputs": [],
   "source": [
    "# fout = open('array_01.dat','rb')\n",
    "# N = fromfile(fout,dtype=int32,count=1)[0]\n",
    "# fout.close()\n",
    "# print(N)\n",
    "\n",
    "# Create a Numpy dtype\n",
    "dt = dtype([('N',np.int32), \\\n",
    "            ('a',np.float64),\\\n",
    "            ('b',np.float64),\\\n",
    "            ('x',(np.float64,N+1)), \\\n",
    "            ('fx',(np.float64,N+1))])\n",
    "\n",
    "# read data from file\n",
    "fout = open('array_01.dat','rb')\n",
    "N,a,b,x,fx = fromfile(fout,dtype=dt,count=1)[0]\n",
    "fout.close()"
   ]
  },
  {
   "cell_type": "code",
   "execution_count": 33,
   "id": "12a86c22",
   "metadata": {},
   "outputs": [
    {
     "data": {
      "text/plain": [
       "array([0.       , 0.0078125, 0.015625 , 0.0234375, 0.03125  , 0.0390625,\n",
       "       0.046875 , 0.0546875, 0.0625   , 0.0703125, 0.078125 , 0.0859375,\n",
       "       0.09375  , 0.1015625, 0.109375 , 0.1171875, 0.125    , 0.1328125,\n",
       "       0.140625 , 0.1484375, 0.15625  , 0.1640625, 0.171875 , 0.1796875,\n",
       "       0.1875   , 0.1953125, 0.203125 , 0.2109375, 0.21875  , 0.2265625,\n",
       "       0.234375 , 0.2421875, 0.25     , 0.2578125, 0.265625 , 0.2734375,\n",
       "       0.28125  , 0.2890625, 0.296875 , 0.3046875, 0.3125   , 0.3203125,\n",
       "       0.328125 , 0.3359375, 0.34375  , 0.3515625, 0.359375 , 0.3671875,\n",
       "       0.375    , 0.3828125, 0.390625 , 0.3984375, 0.40625  , 0.4140625,\n",
       "       0.421875 , 0.4296875, 0.4375   , 0.4453125, 0.453125 , 0.4609375,\n",
       "       0.46875  , 0.4765625, 0.484375 , 0.4921875, 0.5      , 0.5078125,\n",
       "       0.515625 , 0.5234375, 0.53125  , 0.5390625, 0.546875 , 0.5546875,\n",
       "       0.5625   , 0.5703125, 0.578125 , 0.5859375, 0.59375  , 0.6015625,\n",
       "       0.609375 , 0.6171875, 0.625    , 0.6328125, 0.640625 , 0.6484375,\n",
       "       0.65625  , 0.6640625, 0.671875 , 0.6796875, 0.6875   , 0.6953125,\n",
       "       0.703125 , 0.7109375, 0.71875  , 0.7265625, 0.734375 , 0.7421875,\n",
       "       0.75     , 0.7578125, 0.765625 , 0.7734375, 0.78125  , 0.7890625,\n",
       "       0.796875 , 0.8046875, 0.8125   , 0.8203125, 0.828125 , 0.8359375,\n",
       "       0.84375  , 0.8515625, 0.859375 , 0.8671875, 0.875    , 0.8828125,\n",
       "       0.890625 , 0.8984375, 0.90625  , 0.9140625, 0.921875 , 0.9296875,\n",
       "       0.9375   , 0.9453125, 0.953125 , 0.9609375, 0.96875  , 0.9765625,\n",
       "       0.984375 , 0.9921875, 1.       ])"
      ]
     },
     "execution_count": 33,
     "metadata": {},
     "output_type": "execute_result"
    }
   ],
   "source": [
    "x"
   ]
  },
  {
   "cell_type": "code",
   "execution_count": 30,
   "id": "10e10094",
   "metadata": {},
   "outputs": [
    {
     "data": {
      "text/plain": [
       "0.0"
      ]
     },
     "execution_count": 30,
     "metadata": {},
     "output_type": "execute_result"
    },
    {
     "data": {
      "image/png": "[encoded data removed]",
      "text/plain": [
       "<Figure size 432x288 with 1 Axes>"
      ]
     },
     "metadata": {
      "needs_background": "light"
     },
     "output_type": "display_data"
    }
   ],
   "source": [
    "# Plot results here\n",
    "\n",
    "figure(1)\n",
    "clf()\n",
    "\n",
    "plot(x,fx,'r');\n",
    "\n",
    "# Compare to true solution\n",
    "plot(x,cos(pi*x),'b--');\n",
    "max(abs(fx-cos(pi*x)))"
   ]
  },
  {
   "cell_type": "markdown",
   "id": "afccc590",
   "metadata": {},
   "source": [
    "### Example 3 : Two dimensional arrays in C\n",
    "\n",
    "<hr style=\"border:2px solid black\"></hr>\n",
    "\n",
    "Statically defined 2d arrays in C can be allocated as follows: \n",
    "\n",
    "     int N = 64;\n",
    "     double fxy[N+1][N+1];\n",
    "     \n",
    "Then, we can access the entries in `fxy` as `fxy[i][j]`.  \n",
    "\n",
    "* When allocating \"automatic\" arrays, we don't need to worry about de-allocation. \n",
    "\n",
    "### To Do\n",
    "\n",
    "* Modify the code below to create a grid of values for the function $f(x,y) = \\cos(\\pi x)\\sin(\\pi y)$ on the domain $[-1,1] \\times [-1,1]$.    \n",
    "\n",
    "* Write out the data, along with any useful metadata. \n",
    "\n",
    "* Read the results back into Python, and plot the results using `imshow`. \n",
    "\n",
    "### Tips\n",
    "\n",
    "* The memory represented by `fx[N+1][N+1]` is a *contiguous* block of memory.  This means that you can write out the memory as a single $(N+1)^2$ 1d array.\n",
    "\n",
    "* Use the Numpy `reshape` function to reshape the 1d data into a 2d array for plotting\n",
    "\n",
    "* "
   ]
  },
  {
   "cell_type": "code",
   "execution_count": 20,
   "id": "65f87fbc",
   "metadata": {},
   "outputs": [
    {
     "name": "stdout",
     "output_type": "stream",
     "text": [
      "Overwriting array_02.c\n"
     ]
    }
   ],
   "source": [
    "%%file array_02.c\n",
    "\n",
    "#include <stdio.h>\n",
    "#include <stdlib.h>\n",
    "#include <math.h>\n",
    "\n",
    "double* allocate_1d(int n)\n",
    "{\n",
    "    double *mem = (double*) malloc(n*sizeof(double));\n",
    "    return &mem[0];\n",
    "}\n",
    "\n",
    "void free_1d(double **y)\n",
    "{\n",
    "    free(*y);\n",
    "    *y = NULL;\n",
    "}\n",
    "\n",
    "double  f(double x)\n",
    "{\n",
    "    return cos(x);\n",
    "}\n",
    "\n",
    "int main(int argv, char** argc)\n",
    "{\n",
    "    int N = 64;\n",
    "    \n",
    "    double a = 0; \n",
    "    double b = 1; \n",
    "    \n",
    "    double *x = allocate_1d(N+1);    \n",
    "    double *y = allocate_1d(N+1);\n",
    "\n",
    "    double h = (b-a)/N;\n",
    "    \n",
    "    for(int i = 0; i < N+1; i++)\n",
    "    {\n",
    "        x[i] = a + h*i;\n",
    "        y[i] = f(x[i]);\n",
    "    }\n",
    "    \n",
    "    double fxy[N+1][N+1];\n",
    "    \n",
    "    /* Assign valuels to f(x,y) using a double loop */\n",
    "    \n",
    "    \n",
    "    /* Add statements to write out data x, y and metadata N, a and b.  */\n",
    "    \n",
    "    free_1d(&x);\n",
    "    free_1d(&y);\n",
    "}"
   ]
  },
  {
   "cell_type": "code",
   "execution_count": 21,
   "id": "dd6527ef",
   "metadata": {},
   "outputs": [],
   "source": [
    "%%bash\n",
    "\n",
    "rm -rf array_02\n",
    "\n",
    "gcc -o array_02 array_02.c\n",
    "\n",
    "./array_02"
   ]
  },
  {
   "cell_type": "code",
   "execution_count": 22,
   "id": "1a7621a4",
   "metadata": {},
   "outputs": [],
   "source": [
    "# Load data here"
   ]
  },
  {
   "cell_type": "code",
   "execution_count": 24,
   "id": "9e0c7885",
   "metadata": {},
   "outputs": [
    {
     "ename": "NameError",
     "evalue": "name 'y' is not defined",
     "output_type": "error",
     "traceback": [
      "\u001b[0;31m---------------------------------------------------------------------------\u001b[0m",
      "\u001b[0;31mNameError\u001b[0m                                 Traceback (most recent call last)",
      "Input \u001b[0;32mIn [24]\u001b[0m, in \u001b[0;36m<cell line: 7>\u001b[0;34m()\u001b[0m\n\u001b[1;32m      3\u001b[0m clf()\n\u001b[1;32m      4\u001b[0m figure(\u001b[38;5;241m3\u001b[39m)\n\u001b[0;32m----> 7\u001b[0m e \u001b[38;5;241m=\u001b[39m [x[\u001b[38;5;241m0\u001b[39m],x[N],\u001b[43my\u001b[49m[\u001b[38;5;241m0\u001b[39m],y[N]]\n\u001b[1;32m      8\u001b[0m imshow(fxy,cmap\u001b[38;5;241m=\u001b[39mcm\u001b[38;5;241m.\u001b[39mGreys,aspect\u001b[38;5;241m=\u001b[39m\u001b[38;5;28;01mTrue\u001b[39;00m,extent\u001b[38;5;241m=\u001b[39me,origin\u001b[38;5;241m=\u001b[39m\u001b[38;5;124m\"\u001b[39m\u001b[38;5;124mlower\u001b[39m\u001b[38;5;124m\"\u001b[39m)\n",
      "\u001b[0;31mNameError\u001b[0m: name 'y' is not defined"
     ]
    },
    {
     "data": {
      "text/plain": [
       "<Figure size 432x288 with 0 Axes>"
      ]
     },
     "metadata": {},
     "output_type": "display_data"
    },
    {
     "data": {
      "text/plain": [
       "<Figure size 432x288 with 0 Axes>"
      ]
     },
     "metadata": {},
     "output_type": "display_data"
    }
   ],
   "source": [
    "# Plot data here\n",
    "\n",
    "clf()\n",
    "figure(3)\n",
    "\n",
    "\n",
    "e = [x[0],x[N],y[0],y[N]]\n",
    "imshow(fxy,cmap=cm.Greys,aspect=True,extent=e,origin=\"lower\");\n"
   ]
  },
  {
   "cell_type": "code",
   "execution_count": null,
   "id": "04ab97db",
   "metadata": {},
   "outputs": [],
   "source": []
  }
 ],
 "metadata": {
  "kernelspec": {
   "display_name": "ipykernel",
   "language": "python",
   "name": "python3"
  },
  "language_info": {
   "codemirror_mode": {
    "name": "ipython",
    "version": 3
   },
   "file_extension": ".py",
   "mimetype": "text/x-python",
   "name": "python",
   "nbconvert_exporter": "python",
   "pygments_lexer": "ipython3",
   "version": "3.9.12"
  }
 },
 "nbformat": 4,
 "nbformat_minor": 5
}

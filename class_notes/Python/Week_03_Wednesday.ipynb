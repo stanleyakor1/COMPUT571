{
 "cells": [
  {
   "cell_type": "markdown",
   "id": "f2755f2b",
   "metadata": {},
   "source": [
    "<hr style=\"border-width:4px; border-color:coral\"></hr>\n",
    "\n",
    "# Practice\n",
    "\n",
    "<hr style=\"border-width:4px; border-color:coral\"></hr>\n",
    "\n",
    "This notebook will cover using a Pool of workers. \n",
    "\n",
    "\n"
   ]
  },
  {
   "cell_type": "markdown",
   "id": "bb56c7a7",
   "metadata": {},
   "source": [
    "### Review :  Monte Carlo simulations\n",
    "\n",
    "<hr style=\"border-width:4px; border-color:coral\"></hr>\n",
    "\n",
    "Imagine a $2 \\times 2$ foot dart board in with a circular target of radius 1 foot.  You throw darts at the dart board, each time counting how many times your darts hit the target.  If you throw enough darts at the dart board, you can approximate $\\pi$. \n",
    "\n",
    "* How can you use this dart board game to approximate $\\pi$?  \n",
    "\n",
    "* Write a code that implements this idea in serial\n",
    "\n",
    "* How can you use the multiprocessing moddule to speed up your approximation? \n",
    "\n",
    "### To Do\n",
    "\n",
    "* Represent darts as randomly generated points $(x_i,y_i)$ in the domain $[-1,1]\\times [-1,1]$.  Compute the distance of the randomly generated point to the origin to determine if the point is in the circle or not. \n",
    "\n",
    "* Speed up your calculation by using the multiprocessing module.  \n",
    "\n",
    "### Question\n",
    "\n",
    "* How close to pi can you get? "
   ]
  },
  {
   "cell_type": "code",
   "execution_count": 1,
   "id": "82affdcf",
   "metadata": {},
   "outputs": [],
   "source": [
    "import multiprocessing as mp\n",
    "from numpy import *\n",
    "from random import seed\n",
    "from numpy.random import rand\n",
    "mp.set_start_method('fork')\n"
   ]
  },
  {
   "cell_type": "code",
   "execution_count": 2,
   "id": "5c43c8ea",
   "metadata": {},
   "outputs": [
    {
     "name": "stdout",
     "output_type": "stream",
     "text": [
      "PI is approx 3.1384353637695312\n",
      "Error is 3.1573e-03\n"
     ]
    }
   ],
   "source": [
    "def darts(M,s,nval):\n",
    "    # Generate random points in [-1,1]x[-1,1]\n",
    "    seed(s)\n",
    "    x = -1 + 2*rand(M)\n",
    "    y = -1 + 2*rand(M)\n",
    "    r = sqrt(x**2 + y**2)\n",
    "    #print(x[0],y[0])\n",
    "\n",
    "    in_target = less_equal(r,1)\n",
    "    nz = count_nonzero(in_target)\n",
    "    #print(f\"Number of darts that hit the target : {nz} out of {M}\")\n",
    "    \n",
    "    nval.value+=nz \n",
    "    #return nz\n",
    "\n",
    "def compute_pi(M0,P):\n",
    "    jobs=[]\n",
    "    seedlist=[random.randint(1,1234567) for i in range(P)]\n",
    "    \n",
    "    nval=mp.Value('i',0) #shared array\n",
    "    \n",
    "    for i in range(P):\n",
    "        p=mp.Process(target=darts,args=(M0,seedlist[i],nval))\n",
    "        jobs.append(p)\n",
    "        \n",
    "    for p in jobs:\n",
    "        p.start()\n",
    "        \n",
    "    for p in jobs:\n",
    "        p.join()\n",
    "    \n",
    "    pi_approx=4*nval.value/(P*M0)\n",
    "    \n",
    "    return pi_approx\n",
    "\n",
    "# Generate random points (x,y)\n",
    "M = 2**20\n",
    "#I=darts(M)\n",
    "P=2\n",
    "pi_approx=compute_pi(M,P)\n",
    "\n",
    "#Approximate pi ...\n",
    "#pi_approx=4*I/M\n",
    "print(f\"PI is approx {pi_approx}\")\n",
    "err=abs(pi-pi_approx)\n",
    "print(f\"Error is {err:.4e}\")"
   ]
  },
  {
   "cell_type": "markdown",
   "id": "f5d78cb8",
   "metadata": {},
   "source": [
    "### Pool of workers\n",
    "\n",
    "<hr style=\"border-width:4px; border-color:coral\"></hr>\n"
   ]
  },
  {
   "cell_type": "markdown",
   "id": "62f91418",
   "metadata": {},
   "source": [
    "### Example : Pool.map\n",
    "\n",
    "<hr style=\"border-width:4px; border-color:black\"></hr>\n",
    "\n",
    "Notice how results are returned from the process. \n",
    "\n",
    "### To do :\n",
    "\n",
    "* Modify the code below to compute pi. "
   ]
  },
  {
   "cell_type": "code",
   "execution_count": 3,
   "id": "077df327",
   "metadata": {},
   "outputs": [
    {
     "name": "stdout",
     "output_type": "stream",
     "text": [
      "ForkPoolWorker-3 is sleeping for 0.4108 seconds\n",
      "ForkPoolWorker-4 is sleeping for 0.6005 seconds\n",
      "ForkPoolWorker-6 is sleeping for 1.5372 seconds\n",
      "ForkPoolWorker-5 is sleeping for 1.7486 seconds\n",
      "\n",
      "\n",
      "\n",
      "\n",
      "ForkPoolWorker-3 is sleeping for 0.7506 seconds\n",
      "\n",
      "ForkPoolWorker-4 is sleeping for 0.1665 seconds\n",
      "\n",
      "ForkPoolWorker-4 is sleeping for 0.2519 seconds\n",
      "\n",
      "ForkPoolWorker-4 is sleeping for 0.6801 seconds\n",
      "\n",
      "ForkPoolWorker-3 is sleeping for 1.1047 seconds\n",
      "\n",
      "ForkPoolWorker-6 is sleeping for 1.9283 seconds\n",
      "\n",
      "[0.41079629421842334, 0.6005095594926331, 1.7485597220028537, 1.5372135479761966, 0.75064435533606, 0.1664808998106042, 0.25189601001416695, 0.6801163785084003, 1.1047278000342633, 1.9283256306425904]\n",
      "All done!\n"
     ]
    }
   ],
   "source": [
    "import time \n",
    "def naptime(t):\n",
    "    pname = mp.current_process().name\n",
    "    print(f\"{pname} is sleeping for {t:.4f} seconds\\n\")\n",
    "    time.sleep(t)\n",
    "    \n",
    "    # Results can be returned from the process. \n",
    "    return t\n",
    "\n",
    "\n",
    "nprocs = 4\n",
    "pool = mp.Pool(processes=nprocs)\n",
    "\n",
    "# Blocks until all jobs are finished\n",
    "sleep_times = 2*rand(10)\n",
    "results = pool.map(func=naptime,iterable=sleep_times)\n",
    "\n",
    "print(results)\n",
    "print(\"All done!\")\n"
   ]
  },
  {
   "cell_type": "markdown",
   "id": "e9282332",
   "metadata": {},
   "source": [
    "### Example : Pool.async_map\n",
    "\n",
    "<hr style=\"border-width:4px; border-color:black\"></hr>"
   ]
  },
  {
   "cell_type": "code",
   "execution_count": 4,
   "id": "8ea683f5",
   "metadata": {},
   "outputs": [
    {
     "ename": "NameError",
     "evalue": "name 'f' is not defined",
     "output_type": "error",
     "traceback": [
      "\u001b[0;31m---------------------------------------------------------------------------\u001b[0m",
      "\u001b[0;31mNameError\u001b[0m                                 Traceback (most recent call last)",
      "Input \u001b[0;32mIn [4]\u001b[0m, in \u001b[0;36m<cell line: 1>\u001b[0;34m()\u001b[0m\n\u001b[0;32m----> 1\u001b[0m async_results \u001b[38;5;241m=\u001b[39m pool\u001b[38;5;241m.\u001b[39mmap_async(func\u001b[38;5;241m=\u001b[39m\u001b[43mf\u001b[49m, iterable\u001b[38;5;241m=\u001b[39mdata, \n\u001b[1;32m      2\u001b[0m     callback\u001b[38;5;241m=\u001b[39mcb)\n\u001b[1;32m      4\u001b[0m \u001b[38;5;66;03m# Blocks until results are ready\u001b[39;00m\n\u001b[1;32m      5\u001b[0m results \u001b[38;5;241m=\u001b[39m async_results\u001b[38;5;241m.\u001b[39mget()\n",
      "\u001b[0;31mNameError\u001b[0m: name 'f' is not defined"
     ]
    }
   ],
   "source": [
    "async_results = pool.map_async(func=f, iterable=data, \n",
    "    callback=cb)\n",
    "\n",
    "# Blocks until results are ready\n",
    "results = async_results.get()    "
   ]
  }
 ],
 "metadata": {
  "kernelspec": {
   "display_name": "ipykernel",
   "language": "python",
   "name": "python3"
  },
  "language_info": {
   "codemirror_mode": {
    "name": "ipython",
    "version": 3
   },
   "file_extension": ".py",
   "mimetype": "text/x-python",
   "name": "python",
   "nbconvert_exporter": "python",
   "pygments_lexer": "ipython3",
   "version": "3.9.12"
  }
 },
 "nbformat": 4,
 "nbformat_minor": 5
}

{
 "cells": [
  {
   "cell_type": "markdown",
   "metadata": {},
   "source": [
    "<hr style=\"border-width:4px; border-color:coral\"/>\n",
    "\n",
    "# Images : Creating, storing and loading images\n",
    "\n",
    "<hr style=\"border-width:4px; border-color:coral\"/>\n",
    "\n",
    "In this notebook, we will investigate a few ways to create, store and load images. \n",
    "\n",
    "Generally, images (unlike \"plots\") do not have axes, labels, titles, legends or any other annotations.  They are strictly images of pixels, usually described by RGB channels.  \n",
    "\n",
    "In this notebook, we will discuss the Matplotlib functions **imshow** and **imsave**.  \n",
    "\n",
    "Important terms when discussing images : \n",
    "\n",
    "* **Pixels.**  Usually refer to \"screen pixels\".  However, once an image is stored as a file (PNG,PDF, JPG, etc), the term can refer to the tiny squares used to render an image.  These tiny squares may not map directly to screen pixels. \n",
    "\n",
    "\n",
    "* **DPI.**  Dots-per-inch.   This is the mapping that takes a raw \"bit-map\" and determines how large to make it.  The \"dots\" refer to pixels.  \n",
    "\n",
    "\n",
    "* **Colormap.**  This is mapping from a scalar value to a color.  A color map is typically an $N \\times 3$ or $N \\times 4$ array of values in $[0,1]$.  The first three channels are RGB (red-green-blue) channels while the optional fourth channel is the \"alpha\" (or transparency) channel.  The mapping will take values in a data interval $[v_{min}, v_{max}]$ linearly into the colormap array.  Values outside of the colormap will be mapped to the smallest or largest color.   \n",
    "\n",
    "You can find a wide range of Matplotlib colormaps [here](https://matplotlib.org/stable/gallery/color/colormap_reference.html)."
   ]
  },
  {
   "cell_type": "code",
   "execution_count": 1,
   "metadata": {},
   "outputs": [],
   "source": [
    "%matplotlib inline\n",
    "from matplotlib.pyplot import *\n",
    "from numpy import *\n",
    "\n",
    "from matplotlib import colors"
   ]
  },
  {
   "cell_type": "markdown",
   "metadata": {},
   "source": [
    "We can create simple example of a mapping of integers $1-N$ to a colormap `cm.RdBu`. "
   ]
  },
  {
   "cell_type": "code",
   "execution_count": 6,
   "metadata": {},
   "outputs": [
    {
     "data": {
      "image/png": "[encoded data removed]",
      "text/plain": [
       "<Figure size 432x288 with 1 Axes>"
      ]
     },
     "metadata": {
      "needs_background": "light"
     },
     "output_type": "display_data"
    }
   ],
   "source": [
    "N = 32\n",
    "\n",
    "M = arange(N).reshape(1,N)\n",
    "\n",
    "imshow(M,vmin=1,vmax=N,origin='lower', cmap=cm.RdBu)\n",
    "\n",
    "title('Image created using imshow')\n",
    "\n",
    "gca().axis('off');\n",
    "savefig('imshow_01.png',bbox_inches='tight');"
   ]
  },
  {
   "cell_type": "markdown",
   "metadata": {},
   "source": [
    "We can open this in a image viewer (MacOS Preview, Adobe Acroread, etc) and we see that the actual image is $515 \\times 35$ pixels and the DPI is 100 dots-per-inch.  We also see that there is a bit of padding around the image.  To see the padding, we can load the image using HTML. \n",
    "\n",
    "**NOTE.**  You may need to reload this notebook using your browser to get the latest image. \n",
    "\n",
    "<br></br>\n",
    "\n",
    "<figure style=\"margin:20px\">\n",
    "<center>    \n",
    "   <img src=\"imshow_01.png\" style=\"border:1px solid\"></img>\n",
    "    <caption>HTML: Figure created using <span style=\"font-weight:bold\">imshow</span></caption>\n",
    "</center> \n",
    "</figure>\n",
    "\n"
   ]
  },
  {
   "cell_type": "markdown",
   "metadata": {},
   "source": [
    "To get an image without any padding, or any other annotations, we can use **imsave**. Note that  `imsave` does not show the image in the notebook.  To see the image, you will have to open it up in a separate application, or load it here using HTML. "
   ]
  },
  {
   "cell_type": "code",
   "execution_count": 10,
   "metadata": {},
   "outputs": [],
   "source": [
    "imsave(\"imsave_01.png\",M,vmin=1,vmax=N,origin='lower', cmap=cm.RdBu,dpi=16)"
   ]
  },
  {
   "cell_type": "markdown",
   "metadata": {},
   "source": [
    "Here, we display the same image, but this time saved using `imsave`. \n",
    "\n",
    "<figure style=\"margin:20px\">\n",
    "<center>    \n",
    "   <img src=\"imsave_01.png\"></img>\n",
    "    <caption>Figure created using <span style=\"font-weight:bold\">imsave</span>.</caption>\n",
    "</center> \n",
    "</figure>"
   ]
  },
  {
   "cell_type": "markdown",
   "metadata": {},
   "source": [
    "The figure is much smaller, but the actual size $32 \\times 1$.  When viewing this in an image browser, you will have to zoom in to really see the image. "
   ]
  },
  {
   "cell_type": "markdown",
   "metadata": {},
   "source": [
    "<hr style=\"border-width:4px; border-color:coral\"/>\n",
    "\n",
    "## Another example : Random data\n",
    "\n",
    "<hr style=\"border-width:4px; border-color:coral\"/>\n",
    "\n",
    "Here, we create a much larger figure using `imshow` and `imsave`."
   ]
  },
  {
   "cell_type": "code",
   "execution_count": 8,
   "metadata": {},
   "outputs": [
    {
     "data": {
      "image/png": "[encoded data removed]",
      "text/plain": [
       "<Figure size 432x288 with 1 Axes>"
      ]
     },
     "metadata": {
      "needs_background": "light"
     },
     "output_type": "display_data"
    }
   ],
   "source": [
    "from numpy.random import randint\n",
    "\n",
    "N = 64\n",
    "\n",
    "# Random integers in [1,N^2]\n",
    "M = randint(low=0,high=N**2,size=N**2).reshape((N,N)).astype(int)\n",
    "\n",
    "imshow(M,vmin=1,vmax=N**2,origin='lower', cmap=cm.RdBu)\n",
    "\n",
    "title('Random data created using imshow')\n",
    "gca().axis('off');\n",
    "savefig('imshow_02.png',bbox_inches='tight');"
   ]
  },
  {
   "cell_type": "markdown",
   "metadata": {},
   "source": [
    "We can save an image from the same random data using `imsave`.  This will save an image with exactly the specified pixel count and DPI. "
   ]
  },
  {
   "cell_type": "code",
   "execution_count": 9,
   "metadata": {},
   "outputs": [],
   "source": [
    "imsave(\"imsave_02.png\",M,vmin=1,vmax=N**2,cmap=cm.RdBu,origin='lower',dpi=32) #use"
   ]
  },
  {
   "cell_type": "markdown",
   "metadata": {},
   "source": [
    "<figure style=\"margin:20px\">\n",
    "<center>    \n",
    "   <img src=\"imsave_02.png\"></img>\n",
    "    <caption>HTML: Figure created using <span style=\"font-weight:bold\">imsave</span></caption>\n",
    "</center> \n",
    "</figure>\n"
   ]
  },
  {
   "cell_type": "code",
   "execution_count": null,
   "metadata": {},
   "outputs": [],
   "source": []
  }
 ],
 "metadata": {
  "kernelspec": {
   "display_name": "ipykernel",
   "language": "python",
   "name": "python3"
  },
  "language_info": {
   "codemirror_mode": {
    "name": "ipython",
    "version": 3
   },
   "file_extension": ".py",
   "mimetype": "text/x-python",
   "name": "python",
   "nbconvert_exporter": "python",
   "pygments_lexer": "ipython3",
   "version": "3.9.12"
  }
 },
 "nbformat": 4,
 "nbformat_minor": 2
}

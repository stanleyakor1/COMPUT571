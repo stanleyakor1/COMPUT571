{
 "cells": [
  {
   "cell_type": "markdown",
   "id": "28d0b5b4",
   "metadata": {},
   "source": [
    "<hr style=\"border-width:4px; border-color:coral\"></hr>\n",
    "\n",
    "# Practice\n",
    "\n",
    "<hr style=\"border-width:4px; border-color:coral\"></hr>\n",
    "\n",
    "This notebook will cover \n",
    "\n",
    "* Running large number of independent jobs using a Queue.  \n",
    "\n"
   ]
  },
  {
   "cell_type": "code",
   "execution_count": 1,
   "id": "f592b1c4",
   "metadata": {},
   "outputs": [],
   "source": [
    "import multiprocessing as mp\n",
    "mp.set_start_method('fork')"
   ]
  },
  {
   "cell_type": "markdown",
   "id": "f939964b",
   "metadata": {},
   "source": [
    "Starting with Python 3.8, the default start method is 'spawn'.  However, this does not work well in Jupyter notebooks.   The following code will set the start method to `fork`. "
   ]
  },
  {
   "cell_type": "markdown",
   "id": "64d01ede",
   "metadata": {},
   "source": [
    "Test your code with this small example"
   ]
  },
  {
   "cell_type": "code",
   "execution_count": 2,
   "id": "c874d576",
   "metadata": {},
   "outputs": [
    {
     "name": "stdout",
     "output_type": "stream",
     "text": [
      "In process debug\n",
      "All Done!\n"
     ]
    }
   ],
   "source": [
    "def debug():\n",
    "    print(\"In process debug\")\n",
    "    \n",
    "p = mp.Process(target=debug)    \n",
    "\n",
    "p.start()\n",
    "\n",
    "p.join()\n",
    "\n",
    "print(\"All Done!\")"
   ]
  },
  {
   "cell_type": "markdown",
   "id": "059c92f5",
   "metadata": {},
   "source": [
    "\n",
    "## Timing results using `timeit`\n",
    "\n",
    "<hr style=\"border-width:4px; border-color:black\"></hr>\n",
    "\n",
    "One of the main reasons to use multiprocessng is to speed up our codes.  To see how well our multiprocessing is working, we need to be able to determine execution time for a give job.   We will do this using the `timeit` module.  \n",
    "\n",
    "You can read more on `timeit` in the notebook `00_timeit`, available on Canvas. \n",
    "\n",
    "So see how time it works, let's time a process who execution time we know exactly. "
   ]
  },
  {
   "cell_type": "markdown",
   "id": "c9015e12",
   "metadata": {},
   "source": [
    "### Timing a sleep timer"
   ]
  },
  {
   "cell_type": "code",
   "execution_count": 3,
   "id": "d6e4d63c",
   "metadata": {},
   "outputs": [],
   "source": [
    "import time"
   ]
  },
  {
   "cell_type": "code",
   "execution_count": 4,
   "id": "e3fea8a2",
   "metadata": {},
   "outputs": [
    {
     "name": "stdout",
     "output_type": "stream",
     "text": [
      "5 s ± 0 ns per loop (mean ± std. dev. of 1 run, 1 loop each)\n"
     ]
    }
   ],
   "source": [
    "%%timeit -n 1 -r 1\n",
    "\n",
    "time.sleep(5)"
   ]
  },
  {
   "cell_type": "markdown",
   "id": "de0c3a29",
   "metadata": {},
   "source": [
    "To get more accurate statistics, it may be advisable to do multiple runs of the same code and then take the best timing results.  This can be done with the `timeit` flags `-r` (runs) and `-n` (loops). Timeit will report the *averge* time from a series of consecutive runs. "
   ]
  },
  {
   "cell_type": "code",
   "execution_count": 5,
   "id": "9142671e",
   "metadata": {},
   "outputs": [
    {
     "name": "stdout",
     "output_type": "stream",
     "text": [
      "1 s ± 0 ns per loop (mean ± std. dev. of 1 run, 5 loops each)\n"
     ]
    }
   ],
   "source": [
    "%%timeit -n 5 -r 1\n",
    "\n",
    "time.sleep(1)"
   ]
  },
  {
   "cell_type": "markdown",
   "id": "b693b8a6",
   "metadata": {},
   "source": [
    "If we don't specify any parameters, `timeit` will chose default values, which might take a while."
   ]
  },
  {
   "cell_type": "code",
   "execution_count": 6,
   "id": "656ebda0",
   "metadata": {},
   "outputs": [
    {
     "name": "stdout",
     "output_type": "stream",
     "text": [
      "1 s ± 1.55 ms per loop (mean ± std. dev. of 7 runs, 1 loop each)\n"
     ]
    }
   ],
   "source": [
    "%%timeit\n",
    "\n",
    "time.sleep(1)"
   ]
  },
  {
   "cell_type": "markdown",
   "id": "ae110c70",
   "metadata": {},
   "source": [
    "### Timing processes\n",
    "\n",
    "Run the code below for $P = 1,2,4,8,\\dots,1024$ jobs.  Store the timing results in an array.  \n",
    "\n",
    "What behavior do you see?  "
   ]
  },
  {
   "cell_type": "code",
   "execution_count": 7,
   "id": "0541aaa8",
   "metadata": {},
   "outputs": [],
   "source": [
    "from numpy import *"
   ]
  },
  {
   "cell_type": "code",
   "execution_count": 8,
   "id": "59599fc8",
   "metadata": {},
   "outputs": [
    {
     "name": "stdout",
     "output_type": "stream",
     "text": [
      "All done \n",
      "5.06 s ± 0 ns per loop (mean ± std. dev. of 1 run, 1 loop each)\n"
     ]
    }
   ],
   "source": [
    "%%timeit -n 1 -r 1\n",
    "\n",
    "def naptime(Ts):\n",
    "    time.sleep(Ts)  \n",
    "\n",
    "P = 16\n",
    "Ts = 5\n",
    "jobs = []\n",
    "for i in range(P):\n",
    "    p = mp.Process(target=naptime,args=(Ts,))\n",
    "    jobs.append(p)   \n",
    "\n",
    "for p in jobs:\n",
    "    p.start()\n",
    "    \n",
    "for p in jobs:\n",
    "    p.join()     # Wait for each job to join \n",
    "        \n",
    "print(\"All done \")"
   ]
  },
  {
   "cell_type": "code",
   "execution_count": 9,
   "id": "ea106b99",
   "metadata": {},
   "outputs": [],
   "source": [
    "# Store timing results for P = 1,2,4,8,16,.... number of processes.  \n",
    "T = array([5.03, 5.04, 5.05, 5.06, 5.1, 5.16, 5.29, 5.56, 6.26, 8.53, 14.6])\n",
    "T = array([5.03, 5.04, 5.05, 5.06, 5.1, 5.16, 5.29, 5.56, 6.26, 8.53, 14.6])"
   ]
  },
  {
   "cell_type": "markdown",
   "id": "54123419",
   "metadata": {},
   "source": [
    "Plot a loglog plot of *latency* vs. P.  What do you observe? "
   ]
  },
  {
   "cell_type": "code",
   "execution_count": 10,
   "id": "95ad12e7",
   "metadata": {},
   "outputs": [],
   "source": [
    "from matplotlib.pyplot import *"
   ]
  },
  {
   "cell_type": "code",
   "execution_count": 11,
   "id": "5a44e7d6",
   "metadata": {},
   "outputs": [
    {
     "data": {
      "image/png": "[encoded data removed]",
      "text/plain": [
       "<Figure size 432x288 with 1 Axes>"
      ]
     },
     "metadata": {
      "needs_background": "light"
     },
     "output_type": "display_data"
    }
   ],
   "source": [
    "figure(1)\n",
    "clf()\n",
    "\n",
    "P = 2**arange(len(T))   # 1,2,4,8,16,..,1024\n",
    "\n",
    "Ts = 5\n",
    "L = T - Ts    # Compute \"latency\"\n",
    "loglog(P,L,'.-',ms=10,label=\"Timing results\")\n",
    "\n",
    "ps = polyfit(log(P[3:]),log(L[3:]),1)\n",
    "m = ps[0]\n",
    "alpha = exp(ps[1])\n",
    "loglog(P,exp(polyval(ps,log(P))),'k--',label=r'Best-fit line (slope = {:.2f}; $\\alpha$ = {:.2e})'.format(m,alpha))\n",
    "\n",
    "# Plot latency vs. P\n",
    "\n",
    "# Make nice tick marks\n",
    "pstr = ([f'{p}' for p in P])\n",
    "xticks(P,pstr)\n",
    "\n",
    "xlabel('P (processor count)')\n",
    "ylabel('Time (ms)')\n",
    "title('Latency')\n",
    "\n",
    "legend()\n",
    "\n",
    "grid();\n"
   ]
  },
  {
   "cell_type": "markdown",
   "id": "2f3df6c9",
   "metadata": {},
   "source": [
    "<hr style=\"border-width:4px; border-color:coral\"></hr>\n",
    "\n",
    "## Queues\n",
    "\n",
    "<hr style=\"border-width:4px; border-color:c\"></hr>\n",
    "\n",
    "\n",
    "Suppose we have $N$ tasks that need to be completed.  These tasks might be\n",
    "\n",
    "* Processing $N$ data files, \n",
    "\n",
    "* Multiplying a matrix by $N$ vectors, \n",
    "\n",
    "* Creating $N$ plots\n",
    "\n",
    "* Run a simulation with $N$ different choices of parameters\n",
    "\n",
    "Furthermore, suppose these tasks are relatively independent. The order in which the tasks are carried out doesn't matter, and the tasks do not need to communicate with each other. Furthermore, assume that we expect each task to take roughly the same amount of time.   \n",
    "\n",
    "Assume that we have $P$ workers, $P \\ll N$ (e.g. $P$ is *much* smaller than $N$) to carry out these tasks. Then we have to distribute the $N$ tasks more or less evenly to the $P$ workers.  \n",
    "\n",
    "Below we do this first using $P$ pipes to communicate tasks to each worker. "
   ]
  },
  {
   "cell_type": "markdown",
   "id": "6b4c49a0",
   "metadata": {},
   "source": [
    "### Create a task list"
   ]
  },
  {
   "cell_type": "code",
   "execution_count": 12,
   "id": "76b88609",
   "metadata": {},
   "outputs": [
    {
     "name": "stdout",
     "output_type": "stream",
     "text": [
      "['Task 0', 'Task 1', 'Task 2', 'Task 3', 'Task 4', 'Task 5', 'Task 6', 'Task 7', 'Task 8', 'Task 9']\n"
     ]
    }
   ],
   "source": [
    "# Create task list        \n",
    "N = 10    \n",
    "task_list = [f\"Task {i}\" for i in range(N)]    \n",
    "print(task_list)"
   ]
  },
  {
   "cell_type": "markdown",
   "id": "071c5e69",
   "metadata": {},
   "source": [
    "### Define a worker"
   ]
  },
  {
   "cell_type": "code",
   "execution_count": 13,
   "id": "abd51363",
   "metadata": {},
   "outputs": [],
   "source": [
    "def do_task_pipe(conn):\n",
    "    pname = mp.current_process().name\n",
    "    while True:\n",
    "        t=conn[1].recv()\n",
    "        if t=='stop':\n",
    "            break\n",
    "        print(f\"{pname} is doing {t} \\n\")\n",
    "    # ...."
   ]
  },
  {
   "cell_type": "markdown",
   "id": "03a10ff8",
   "metadata": {},
   "source": [
    "### Set up processses and connections"
   ]
  },
  {
   "cell_type": "code",
   "execution_count": 15,
   "id": "4112db7b",
   "metadata": {},
   "outputs": [
    {
     "name": "stdout",
     "output_type": "stream",
     "text": [
      "worker 1 is doing Task 1 \n",
      "worker 0 is doing Task 0 \n",
      "worker 2 is doing Task 2 \n",
      "\n",
      "\n",
      "\n",
      "worker 0 is doing Task 4 \n",
      "worker 1 is doing Task 5 \n",
      "worker 2 is doing Task 6 \n",
      "worker 3 is doing Task 3 \n",
      "\n",
      "\n",
      "\n",
      "\n",
      "worker 0 is doing Task 8 \n",
      "worker 1 is doing Task 9 \n",
      "\n",
      "worker 3 is doing Task 7 \n",
      "\n",
      "\n",
      "Everybody is done!\n"
     ]
    }
   ],
   "source": [
    "'''\n",
    "Distribute jobs to specific processors\n",
    "'''\n",
    "\n",
    "# Create a connection for P workers\n",
    "p = 4    \n",
    "pipes = [mp.Pipe() for i in range(p)]    # \"list comprehension\"\n",
    "\n",
    "\n",
    "# TODO : Create P processes;  pass is a connections\n",
    "workers = []\n",
    "for i in range(p):\n",
    "    w=mp.Process(target=do_task_pipe,name=f\"worker {i}\",args=(pipes[i],))\n",
    "    workers.append(w)\n",
    "\n",
    "# TODO : Start processes\n",
    "for w in workers:\n",
    "    w.start()\n",
    "\n",
    "# TODO : Distribute N tasks to P workers\n",
    "for i in range(N):\n",
    "    t=task_list[i]\n",
    "    #send t to a worker\n",
    "    worker_id = i%p  # i mod p\n",
    "    pipes[worker_id][0].send(t)\n",
    "\n",
    "# for each worker, send a stop message\n",
    "for i in range(p):\n",
    "    pipes[i][0].send('stop')\n",
    "\n",
    "# TODO : Wait for processes to complete\n",
    "for w in workers:\n",
    "    w.join()\n",
    "\n",
    "print(\"Everybody is done!\")"
   ]
  },
  {
   "cell_type": "markdown",
   "id": "b9297d94",
   "metadata": {},
   "source": [
    "<hr style=\"border-width:4px; border-color:coral\"></hr>\n",
    "\n",
    "## Using a Queue\n",
    "\n",
    "<hr style=\"border-width:4px; border-color:coral\"></hr>\n",
    "\n",
    "A Python Queue carries out the above.  \n",
    "\n",
    "* A \"queue\", as the name suggests, is a list of tasks.  As items in queue become available, the tasks can be taken off the queue and completed.  \n",
    "\n",
    "* Queues are built on top of pipes. "
   ]
  },
  {
   "cell_type": "code",
   "execution_count": 16,
   "id": "e80a8b9f",
   "metadata": {},
   "outputs": [
    {
     "name": "stdout",
     "output_type": "stream",
     "text": [
      "Task 0\n"
     ]
    }
   ],
   "source": [
    "'''\n",
    "we can use queues to specifiy which processor does what\n",
    "'''\n",
    "queue = mp.Queue()\n",
    "\n",
    "# Put tasks on the queue\n",
    "queue.put(task_list[0])\n",
    "\n",
    "# Remove tasks from the queue\n",
    "\n",
    "t=queue.get()\n",
    "print(t)"
   ]
  },
  {
   "cell_type": "markdown",
   "id": "94851447",
   "metadata": {},
   "source": [
    "We can use a queue instead of pipes to send tasks to worker processes. "
   ]
  },
  {
   "cell_type": "markdown",
   "id": "eb83db9b",
   "metadata": {},
   "source": [
    "### Define a worker (queue)"
   ]
  },
  {
   "cell_type": "code",
   "execution_count": 17,
   "id": "7062ab27",
   "metadata": {},
   "outputs": [],
   "source": [
    "def do_task_queue(queue):\n",
    "    pname = mp.current_process().name\n",
    "    while True:\n",
    "        t=queue.get()\n",
    "        if t=='stop':\n",
    "            break\n",
    "        print(f\"{pname} is doing task {t} \\n\")"
   ]
  },
  {
   "cell_type": "code",
   "execution_count": 18,
   "id": "899b5b25",
   "metadata": {},
   "outputs": [
    {
     "name": "stdout",
     "output_type": "stream",
     "text": [
      "worker 0 is doing task Task 0 \n",
      "worker 2 is doing task Task 2 \n",
      "worker 1 is doing task Task 1 \n",
      "\n",
      "\n",
      "\n",
      "worker 1 is doing task Task 4 \n",
      "worker 0 is doing task Task 6 \n",
      "worker 2 is doing task Task 5 \n",
      "worker 3 is doing task Task 3 \n",
      "\n",
      "\n",
      "\n",
      "\n",
      "worker 1 is doing task Task 7 \n",
      "worker 2 is doing task Task 9 \n",
      "worker 0 is doing task Task 8 \n",
      "\n",
      "\n",
      "\n",
      "Everybody is done!\n"
     ]
    }
   ],
   "source": [
    "# TODO : Create P processes;  pass is a connections\n",
    "workers = []\n",
    "for i in range(p):\n",
    "    w=mp.Process(target=do_task_queue,name=f\"worker {i}\",args=(queue,))\n",
    "    workers.append(w)\n",
    "\n",
    "# TODO : Start processes\n",
    "for w in workers:\n",
    "    w.start()\n",
    "\n",
    "# TODO : Distribute N tasks to P workers\n",
    "for i in range(N):\n",
    "    t=task_list[i]\n",
    "    queue.put(t)\n",
    "\n",
    "# for each worker, send a stop message\n",
    "for i in range(p):\n",
    "    queue.put('stop')\n",
    "\n",
    "# TODO : Wait for processes to complete\n",
    "for w in workers:\n",
    "    w.join()\n",
    "\n",
    "print(\"Everybody is done!\")"
   ]
  },
  {
   "cell_type": "code",
   "execution_count": null,
   "id": "380280e1",
   "metadata": {},
   "outputs": [],
   "source": []
  },
  {
   "cell_type": "markdown",
   "id": "279633ef",
   "metadata": {},
   "source": [
    "### Computing a mean using Queues \n",
    "\n",
    "<hr style=\"border-width:4px; border-color:black\"></hr>\n",
    "\n",
    "In the following, use a Queue to compute the mean of a large data array"
   ]
  },
  {
   "cell_type": "code",
   "execution_count": 19,
   "id": "cf44813c",
   "metadata": {},
   "outputs": [
    {
     "name": "stdout",
     "output_type": "stream",
     "text": [
      "True sum :  0.4998262403064534\n"
     ]
    }
   ],
   "source": [
    "import random\n",
    "\n",
    "M = 2**20\n",
    "data = [random.random() for i in range(M)]\n",
    "\n",
    "# ...\n",
    "\n",
    "print(\"True sum : \",sum(data)/M)"
   ]
  },
  {
   "cell_type": "markdown",
   "id": "78cba7ba",
   "metadata": {},
   "source": [
    "<hr style=\"border-width:4px; border-color:coral\"></hr>\n",
    "\n",
    "## Shared arrays\n",
    "\n",
    "<hr style=\"border-width:4px; border-color:coral\"></hr>\n",
    "\n",
    "Another way to share data between processes is to use a \"shared value\" or \"shared array\".  A shared array is passed to a process but every process has the same view of the array. \n",
    "\n",
    "You can read more about shared arrays [here](https://superfastpython.com/multiprocessing-shared-ctypes-in-python/). \n",
    "\n",
    "We can create values that are shared among processes using shared values and shared arrays. "
   ]
  },
  {
   "cell_type": "markdown",
   "id": "2c148283",
   "metadata": {},
   "source": [
    "### Example : Sharing a value\n",
    "\n",
    "Below is an example of a \"shared value\".   To create such a value, we use the MP method `.Value`.   In addition to the actual value, we also need to specify the type of data. \n",
    "\n",
    "     d   type double    (double precision, 64 bit) \n",
    "     f   type float     (single precision, 32 bit)\n",
    "     i   type integer\n",
    "     \n",
    "To create a shared \"value\", we use the MP constructor \"value\" as follows:\n",
    "        x=mp.Value('d',math.pi)"
   ]
  },
  {
   "cell_type": "code",
   "execution_count": 20,
   "id": "d40f591e",
   "metadata": {},
   "outputs": [
    {
     "name": "stdout",
     "output_type": "stream",
     "text": [
      "3.141592653589793\n",
      "3.1415927410125732\n",
      "3\n"
     ]
    }
   ],
   "source": [
    "import math\n",
    "\n",
    "# Double precision type\n",
    "x = mp.Value('d',math.pi)\n",
    "print(x.value)\n",
    "\n",
    "# Single precision type\n",
    "y = mp.Value('f',math.pi)\n",
    "print(y.value)\n",
    "\n",
    "m = mp.Value('i',3)\n",
    "print(m.value)"
   ]
  },
  {
   "cell_type": "markdown",
   "id": "96ed3da4",
   "metadata": {},
   "source": [
    "This value can be modified by the process, and the change will be viewed by other processes. "
   ]
  },
  {
   "cell_type": "code",
   "execution_count": 21,
   "id": "63c04520",
   "metadata": {},
   "outputs": [
    {
     "name": "stdout",
     "output_type": "stream",
     "text": [
      "50.26548245743669\n"
     ]
    }
   ],
   "source": [
    "def double_value(x):\n",
    "    x.value *= 2\n",
    "\n",
    "x = mp.Value('d',math.pi)\n",
    "njobs = 4\n",
    "jobs = []\n",
    "for i in range(njobs):\n",
    "    p = mp.Process(target=double_value, args=(x,))\n",
    "    jobs.append(p)\n",
    "\n",
    "for p in jobs:\n",
    "    p.start()\n",
    "\n",
    "for p in jobs:\n",
    "    p.join()\n",
    "\n",
    "print(x.value)"
   ]
  },
  {
   "cell_type": "markdown",
   "id": "00f2754f",
   "metadata": {},
   "source": [
    "### Example : Sharing an array\n",
    "\n",
    "Below is an example of a \"shared value\".   To create such a value, we use the MP method `.Value`.   In addition to the actual value, we also need to specify the type of data. \n",
    "\n",
    "     d   type double    (double precision, 64 bit) \n",
    "     f   type float     (single precision, 32 bit)\n",
    "     i   type integer"
   ]
  },
  {
   "cell_type": "code",
   "execution_count": 22,
   "id": "08456f11",
   "metadata": {},
   "outputs": [
    {
     "name": "stdout",
     "output_type": "stream",
     "text": [
      "before :  [0, 0, 0, 0]\n",
      "after  :  [0, 1, 2, 3]\n"
     ]
    }
   ],
   "source": [
    "def assign_value(i,a):\n",
    "    a[i] = i\n",
    "\n",
    "njobs = 4\n",
    "data = [0]*njobs\n",
    "print(\"before : \",data)\n",
    "\n",
    "a = mp.Array('i',data)\n",
    "\n",
    "jobs = []\n",
    "for i in range(njobs):\n",
    "    p = mp.Process(target=assign_value,args=(i,a))\n",
    "    jobs.append(p)\n",
    "    \n",
    "for p in jobs:\n",
    "    p.start()\n",
    "    \n",
    "for p in jobs:\n",
    "    p.join()\n",
    "    \n",
    "data = [a[i] for i in range(njobs)]\n",
    "print(\"after  : \", data)\n"
   ]
  },
  {
   "cell_type": "markdown",
   "id": "9ecb971e",
   "metadata": {},
   "source": [
    "### Computing a mean using a Shared Array \n",
    "\n",
    "<hr style=\"border-width:4px; border-color:black\"></hr>\n",
    "\n",
    "In the following, use a shared array to compute the mean of a large data array"
   ]
  },
  {
   "cell_type": "code",
   "execution_count": 23,
   "id": "15b83e89",
   "metadata": {},
   "outputs": [],
   "source": [
    "def do_task_queue(A,queue,queue_result):\n",
    "    pname = mp.current_process().name\n",
    "    while True:\n",
    "        i1,i2=queue.get()\n",
    "        s=sum(A[i1:i2])\n",
    "        queue_result.put(S)\n",
    "        if t=='stop':\n",
    "            break\n",
    "        print(f\"{pname} is doing task {t} \\n\")"
   ]
  },
  {
   "cell_type": "code",
   "execution_count": 24,
   "id": "85165a80",
   "metadata": {},
   "outputs": [
    {
     "name": "stdout",
     "output_type": "stream",
     "text": [
      "True sum :  0.4997983398612593\n"
     ]
    }
   ],
   "source": [
    "import random\n",
    "\n",
    "M = 2**20\n",
    "data = [random.random() for i in range(M)]\n",
    "\n",
    "A = mp.Array('d',data)\n",
    "\n",
    "queue=mp.Queue()\n",
    "\n",
    "\n",
    "print(\"True sum : \",sum(data)/M)"
   ]
  },
  {
   "cell_type": "code",
   "execution_count": null,
   "id": "bae263d1",
   "metadata": {},
   "outputs": [],
   "source": []
  },
  {
   "cell_type": "code",
   "execution_count": null,
   "id": "1ef7fc9c",
   "metadata": {},
   "outputs": [],
   "source": []
  }
 ],
 "metadata": {
  "kernelspec": {
   "display_name": "ipykernel",
   "language": "python",
   "name": "python3"
  },
  "language_info": {
   "codemirror_mode": {
    "name": "ipython",
    "version": 3
   },
   "file_extension": ".py",
   "mimetype": "text/x-python",
   "name": "python",
   "nbconvert_exporter": "python",
   "pygments_lexer": "ipython3",
   "version": "3.9.12"
  }
 },
 "nbformat": 4,
 "nbformat_minor": 5
}

{
 "cells": [
  {
   "cell_type": "markdown",
   "metadata": {},
   "source": [
    "<hr style=\"border:3px coral solid\"</hr>\n",
    "\n",
    "# A C Tutorial\n",
    "\n",
    "<hr style=\"border:3px coral solid\"</hr>\n",
    "\n",
    "\n",
    "The following series of simple functions should give you an idea as to how to use pointer variables, statically allocated arrays and dynamically allocated arrays. "
   ]
  },
  {
   "cell_type": "markdown",
   "metadata": {},
   "source": [
    "## Hello, Jupyter!\n",
    "\n",
    "<hr style=\"border:2px coral solid\"</hr>\n",
    "\n",
    "We can use Jupyter notebooks to compile and run simple C programs. \n",
    "\n",
    "In what follows, we will use the following Jupyter \"cell magic\" commands\n",
    "\n",
    "* `%%file <filename>`  Write the contents of a Jupyter notebook cell to a file `filename`, e.g. `%%file prog.c`.   \n",
    "\n",
    "* `%%bash` Run bash commands from a notebook cell.  These commands can also be run directly from a command line. \n",
    "\n",
    "Magic commands typically appear as the first line in a notebook cell. \n",
    "\n",
    "Below is a sample C program.  "
   ]
  },
  {
   "cell_type": "code",
   "execution_count": null,
   "metadata": {},
   "outputs": [],
   "source": [
    "%%file c_demo_01.c\n",
    "\n",
    "#include <stdio.h>\n",
    "\n",
    "int main(int argc, char** argv)\n",
    "{\n",
    "    printf(\"Hello, Jupyter!\\n\");\n",
    "    \n",
    "    return 0;\n",
    "}"
   ]
  },
  {
   "cell_type": "markdown",
   "metadata": {},
   "source": [
    "### Components of the C program\n",
    "\n",
    "This demo program has several components\n",
    "\n",
    "<hr style=\"border:1px solid black\"></hr>\n",
    "\n",
    "    %%file c_demo_01.c\n",
    "    \n",
    "This Jupyter magic command will save the contents of the Jupyter notebook cell to a file called `c_demo_01.c`.  This is a handy way to create text files that we can later read using a text editor, VSCode, or even a Jupyter notebook, when opened as \"plain text\". \n",
    "\n",
    "To see that the file was written correctly, you should see `Writing c_demo_01.c` in an output cell.  \n",
    "\n",
    "We can see that the file was creating by checking the input using the line magic `%cat`. "
   ]
  },
  {
   "cell_type": "code",
   "execution_count": null,
   "metadata": {},
   "outputs": [],
   "source": [
    "%cat c_demo_01.c"
   ]
  },
  {
   "cell_type": "markdown",
   "metadata": {},
   "source": [
    "You can also open this file in any text editor. \n",
    "\n",
    "*We use `%%file` here for  demonstration purposes. However, it is suggested that you use a real text editor, designed for C, to actually write programs.  Some examples include Emacs, VI, VIM, VSCode, Sublime, Atom.*"
   ]
  },
  {
   "cell_type": "markdown",
   "metadata": {},
   "source": [
    "<hr style=\"border:1px solid black\"></hr>\n",
    "\n",
    "    #include <stdio.h>\n",
    "    \n",
    "An `#include` statement is acts like the `import` statement in Python.  We include `stdio.h` (read \"standard I/O\") here so we can call the `printf` function from the body of our code. \n",
    "\n",
    "Files with a `.h` extension are called *header files* and are needed to provide the format that a given function will take.  "
   ]
  },
  {
   "cell_type": "markdown",
   "metadata": {},
   "source": [
    "<hr style=\"border:1px solid black\"></hr>\n",
    "\n",
    "    int main(int argc, char** argv)\n",
    "    \n",
    "Every C program has to have a `main` function. This function contains the entry point for the executable.  The arguments to this function are \n",
    "\n",
    "  * **argc**   The number of input arguments (read from the command line)\n",
    "    \n",
    "  * **argv**   The names of the input arguments (an array of strings)\n",
    "\n",
    "The `int` keyword indicates that the `main` function may return an integer exit code.  \n",
    "\n",
    "*Not all compilers will require the return `int`.*"
   ]
  },
  {
   "cell_type": "markdown",
   "metadata": {},
   "source": [
    "<hr style=\"border:1px solid black\"></hr>\n",
    "    \n",
    "The body of the code is delineated using braces `{}`, (e.g. \"curly braces\"). \n",
    "\n",
    "    int main(int argc, char** argv)\n",
    "    {\n",
    "        printf(\"Hello, Jupyter!\\n\");\n",
    "\n",
    "        return 0;\n",
    "    }\n",
    "\n",
    "The code contains a single print statement using the `printf` function (note the **f** at the end), and a return code (0 in this case). \n",
    "\n",
    "*The `printf` statement in C does not automatically include a new line character.  It will generally be necessary to include `\\n` at the end of a any string to be printed to the console using `printf`.*"
   ]
  },
  {
   "cell_type": "markdown",
   "metadata": {},
   "source": [
    "<hr style=\"border:1px solid black\"></hr>\n",
    "\n",
    "Some differences between Python and C : \n",
    "\n",
    "* Every line in the C program must end with a semicolon (\";\"). \n",
    "\n",
    "* Curly braces `{}` (or just \"braces\", as opposed to brackets `[]` or parenthesis `()`) are used to delineate \"scope\".  In Python, scope is delineated using indentation.  In C, indendation adds to readability, but does not have any particular meaning to the compiler. \n",
    "\n",
    "* Unlike Python, all C strings must be delineated using double quotes, e.g. `\"a string\"`.   Single quotes are reserved for single characters only."
   ]
  },
  {
   "cell_type": "markdown",
   "metadata": {},
   "source": [
    "### Compiling the code\n",
    "\n",
    "We compile the code at a `bash` command line using the compiler `gcc`.  `gcc` is a standard 'GNU'.  Depending on your machine, `gcc` may also be a CLang compiler. "
   ]
  },
  {
   "cell_type": "markdown",
   "metadata": {},
   "source": [
    "To test if we have a C compiler, try the following"
   ]
  },
  {
   "cell_type": "code",
   "execution_count": null,
   "metadata": {},
   "outputs": [],
   "source": [
    "%%bash \n",
    "\n",
    "which gcc"
   ]
  },
  {
   "cell_type": "markdown",
   "metadata": {},
   "source": [
    "This is the C compiler that is found when typing `gcc` on the command line.  We can see waht version this is by passing in a `--version` flag. "
   ]
  },
  {
   "cell_type": "code",
   "execution_count": null,
   "metadata": {},
   "outputs": [],
   "source": [
    "%%bash\n",
    "\n",
    "gcc --version"
   ]
  },
  {
   "cell_type": "markdown",
   "metadata": {},
   "source": [
    "On Apple Macs, it will be necessary to install the Command Line Tools (part of Xcode).  The compiler that comes with command line tools is a `Clang` compiler. "
   ]
  },
  {
   "cell_type": "code",
   "execution_count": null,
   "metadata": {},
   "outputs": [],
   "source": [
    "%%bash\n",
    "\n",
    "/Library/Developer/CommandLineTools/usr/bin/gcc --version"
   ]
  },
  {
   "cell_type": "markdown",
   "metadata": {},
   "source": [
    "To compiler our sample code, we use the command\n",
    "\n",
    "    gcc -o c_demo_01 c_demo_01.c\n",
    "\n",
    "The `-o` flag tells the compiler to create an executable `c_demo_01`.  The filename of the file containing the code follows this statement.  \n",
    "\n",
    "If the compiler successfully compilers our code, we will not see any output.  "
   ]
  },
  {
   "cell_type": "code",
   "execution_count": null,
   "metadata": {},
   "outputs": [],
   "source": [
    "%%bash\n",
    "\n",
    "gcc -o c_demo_01 c_demo_01.c"
   ]
  },
  {
   "cell_type": "markdown",
   "metadata": {},
   "source": [
    " The `ls` statement will show us that an executable, indicated with multiple `x`s in the file descriptor, was successfully created. "
   ]
  },
  {
   "cell_type": "code",
   "execution_count": null,
   "metadata": {},
   "outputs": [],
   "source": [
    "%%bash \n",
    "\n",
    "# List the executable just created. \n",
    "ls -lh c_demo_01"
   ]
  },
  {
   "cell_type": "markdown",
   "metadata": {},
   "source": [
    "### Running the code\n",
    "\n",
    "To run the code, we type the name of the executable on the command line. "
   ]
  },
  {
   "cell_type": "code",
   "execution_count": null,
   "metadata": {},
   "outputs": [],
   "source": [
    "%%bash \n",
    "\n",
    "c_demo_01"
   ]
  },
  {
   "cell_type": "markdown",
   "metadata": {},
   "source": [
    "<hr style=\"border:2px coral solid\"</hr>\n",
    "\n",
    "## Variables and data types in C\n",
    "\n",
    "<hr style=\"border:2px coral solid\"</hr>\n",
    "\n",
    "All variables in C are *strongly typed*. This means that not only must we first initialize a value before using it (as in Python), we must also *declare its type*.  For example\n",
    "\n",
    "     double x;\n",
    "     x = 1.2; \n",
    "     \n",
    "The above declares the variable `x` as a type double (e.g. double precision, or 64bit).  Using shorthand notation, we can both declare the type and assign a value in a single statement. \n",
    "\n",
    "     double x = 1.2;  \n",
    "     \n",
    "Other data types are `int` (32 bit integers) and `char` (for characters and string variables).  Examples include\n",
    "\n",
    "     int m = 4;      \n",
    "     char c = 'c';\n",
    "     \n",
    "A string variable is an array of characters, and as such, must be declared using a pointer variable `char*`.    \n",
    "     \n",
    "     char* msg = \"Hello, World!\";  \n",
    "     \n",
    "We discuss pointers and more below.      \n",
    "\n",
    "In the following sample program, we demonstrate each of these data types, and show how to assign them and print them out. \n"
   ]
  },
  {
   "cell_type": "code",
   "execution_count": null,
   "metadata": {},
   "outputs": [],
   "source": [
    "%%file c_demo_02.c\n",
    "\n",
    "#include <stdio.h>\n",
    "\n",
    "int main(int argc, char** argv)\n",
    "{\n",
    "    double x = 1.2;   \n",
    "    printf(\"x = %f\\n\",x);\n",
    "        \n",
    "    int m = 10;\n",
    "    printf(\"m = %d\\n\",m);\n",
    "    \n",
    "    char* msg = \"Hello, World!\";\n",
    "    printf(\"Greeting : %s\\n\",msg);\n",
    "\n",
    "    return 0;\n",
    "}\n"
   ]
  },
  {
   "cell_type": "markdown",
   "metadata": {},
   "source": [
    "The `printf` statement takes a format specifiers to format the numeric values. \n",
    "\n",
    "   Other examples of format specifiers include \n",
    "\n",
    "\n",
    "   * `%12.4f` Format a floating point value using a fixed point format in a field of width 12.  Show 4 digits after the decimal place. \n",
    "\n",
    "   * `%16.8e` Format a floating point number using exponential notation (e.g. `1.2E+01`) using a format field of width 16, with 8 digits after the decimal represented. \n",
    "\n",
    "   * `%10d` Format an integer in a field of width 10. \n"
   ]
  },
  {
   "cell_type": "markdown",
   "metadata": {},
   "source": [
    "### Compile and run example"
   ]
  },
  {
   "cell_type": "code",
   "execution_count": null,
   "metadata": {},
   "outputs": [],
   "source": [
    "%%bash \n",
    "\n",
    "# Remove old executable\n",
    "rm -rf c_demo_02\n",
    "\n",
    "# Compile executable to program `c_demo_02`\n",
    "gcc -o c_demo_02 c_demo_02.c\n",
    "\n",
    "# Execute code\n",
    "./c_demo_02"
   ]
  },
  {
   "cell_type": "markdown",
   "metadata": {},
   "source": [
    "### Referencing by value\n",
    "\n",
    "<hr style=\"border: 2px solid black\"</hr>\n",
    "\n",
    "A significant difference between Python and C is that in C, we can reference variables either by *value* or by *reference*.  \n",
    "\n",
    "We are already familar with what it means to reference a variable by *value*. \n",
    "\n",
    "      double x = 1.2;\n",
    "      double y = x;\n",
    "      \n",
    "Here, the *value* stored in the variable `x` is copied to the variable `y`.  If we later decide to change the value of `x`, the value of `y` will not be affected.  \n",
    "\n"
   ]
  },
  {
   "cell_type": "code",
   "execution_count": null,
   "metadata": {},
   "outputs": [],
   "source": [
    "%%file c_demo_03.c\n",
    "\n",
    "#include <stdio.h>\n",
    "\n",
    "int main(int argc, char** argv)\n",
    "{\n",
    "    double x = 1.2;\n",
    "    \n",
    "    double y = x;    \n",
    "    printf(\"y         = %g\\n\",y);\n",
    "    \n",
    "    x  = 5.4;\n",
    "    printf(\"y (again) = %g\\n\",y);\n",
    "\n",
    "    return 0;\n",
    "}\n"
   ]
  },
  {
   "cell_type": "code",
   "execution_count": null,
   "metadata": {},
   "outputs": [],
   "source": [
    "%%bash\n",
    "\n",
    "rm -rf c_demo_03\n",
    "\n",
    "gcc -o c_demo_03 c_demo_03.c\n",
    "\n",
    "c_demo_03"
   ]
  },
  {
   "cell_type": "markdown",
   "metadata": {},
   "source": [
    "### Referencing by memory address\n",
    "\n",
    "<hr style=\"border: 2px solid black\"</hr>\n",
    "\n",
    "This situation changes if we refer to `x` by reference.  To refer to the address of `x` rather than its value, we use `&`. \n",
    "\n",
    "     double x = 1.2;\n",
    "     printf(\"Address of x : %p\\n\",&x);\n",
    "     "
   ]
  },
  {
   "cell_type": "code",
   "execution_count": null,
   "metadata": {},
   "outputs": [],
   "source": [
    "%%file c_demo_04.c\n",
    "\n",
    "#include <stdio.h>\n",
    "\n",
    "int main(int argc, char** argv)\n",
    "{\n",
    "    double x = 1.2; \n",
    "    printf(\"Address of x : %p\\n\",&x);\n",
    "    return 0;\n",
    "}\n"
   ]
  },
  {
   "cell_type": "code",
   "execution_count": null,
   "metadata": {},
   "outputs": [],
   "source": [
    "%%bash\n",
    "\n",
    "rm -rf c_demo_04\n",
    "\n",
    "gcc -o c_demo_04 c_demo_04.c\n",
    "\n",
    "c_demo_04"
   ]
  },
  {
   "cell_type": "markdown",
   "metadata": {},
   "source": [
    "This address is a hexidecimal value that refers directly to a location in memory.  "
   ]
  },
  {
   "cell_type": "markdown",
   "metadata": {},
   "source": [
    "### Pointer variables \n",
    "\n",
    "<hr style=\"border: 2px solid black\"</hr>\n",
    "\n",
    "We can directly manipulate the value stored in a memory location through the use of a *pointer* variable. \n",
    "\n",
    "The value of a pointer variable is a memory address (not the value stored in the address).\n",
    "\n",
    "A pointer variable is designated using a `*`.  A pointer variable must also know what data type is stored in the given memory location.  \n",
    "\n",
    "Some examples of pointer variables declarations are : \n",
    "\n",
    "      double* y;   // A pointer to a type double\n",
    "      \n",
    "      int* p;      // A pointer to a type int\n",
    "      \n",
    "      char* str;     // A pointer to a type char (used for string types)\n",
    "\n",
    "\n",
    "#### Assigning values to pointer variables\n",
    "\n",
    "Pointer variables can take *addresses* as values.  In what follows, the pointer variable (or just \"pointer\") is assigned the memory location labeled `x`. \n",
    "\n",
    "     double x = 1.2;\n",
    "     \n",
    "     double *y;  // Declare pointer variable\n",
    "     \n",
    "     y  = &x;    // Assign of x to y\n",
    "     \n",
    "This will assign the address of `x` to the pointer variable `y`. "
   ]
  },
  {
   "cell_type": "code",
   "execution_count": null,
   "metadata": {},
   "outputs": [],
   "source": [
    "%%file c_demo_05.c\n",
    "\n",
    "#include <stdio.h>\n",
    "\n",
    "int main(int argc, char** argv)\n",
    "{\n",
    "    double x = 1.2; \n",
    "    double *y;\n",
    "    \n",
    "    y = &x;    /* Assign address to y */\n",
    "    \n",
    "    printf(\"Address of x : &x = %p\\n\",&x);\n",
    "    printf(\"Value of y   :  y = %p\\n\",y);    \n",
    "    return 0;\n",
    "}\n"
   ]
  },
  {
   "cell_type": "code",
   "execution_count": null,
   "metadata": {},
   "outputs": [],
   "source": [
    "%%bash\n",
    "\n",
    "rm -rf c_demo_05\n",
    "\n",
    "gcc -o c_demo_05 c_demo_05.c\n",
    "\n",
    "c_demo_05"
   ]
  },
  {
   "cell_type": "markdown",
   "metadata": {},
   "source": [
    "### De-referencing a memory address\n",
    "\n",
    "<hr style=\"border: 2px solid black\"</hr>\n",
    "\n",
    "We can obtain the value stored by `x` indirectly by *de-referencing* the pointer variable `y`.  To get the value stored in the memory address `y`, we use the `*` operator. \n",
    "\n",
    "     double z = *y;   // Copy value stored in location y to z. \n",
    "     \n",
    "#### Note\n",
    "\n",
    "* Try not to be confused by the *declaration* of a pointer variable using `double *y` and the *de-referencing* of a pointer variable using `*y`.  "
   ]
  },
  {
   "cell_type": "code",
   "execution_count": null,
   "metadata": {},
   "outputs": [],
   "source": [
    "%%file c_demo_06.c\n",
    "\n",
    "#include <stdio.h>\n",
    "\n",
    "int main(int argc, char** argv)\n",
    "{\n",
    "    double x = 1.2; \n",
    "    \n",
    "    printf(\"Value of x         (x) : %g\\n\",x);\n",
    "    printf(\"Address of x      (&x) : %p\\n\",&x);\n",
    "    printf(\"\\n\");\n",
    "    \n",
    "    double *y;\n",
    "    y = &x;\n",
    "    \n",
    "    double z = *y;   // dereference y and copy value to z\n",
    "    \n",
    "    printf(\"Value of y         (y) : %p\\n\",y);\n",
    "    printf(\"Value of z    (z = *y) : %g\\n\",z);\n",
    "    \n",
    "    return 0;\n",
    "}\n"
   ]
  },
  {
   "cell_type": "code",
   "execution_count": null,
   "metadata": {},
   "outputs": [],
   "source": [
    "%%bash\n",
    "\n",
    "rm -rf c_demo_06\n",
    "\n",
    "gcc -o c_demo_06 c_demo_06.c\n",
    "\n",
    "c_demo_06"
   ]
  },
  {
   "cell_type": "markdown",
   "metadata": {},
   "source": [
    "One of two main uses of pointer variables is to modify directly the value stored in a particular memory location.   \n",
    "\n",
    "For example, the following will change the value of `x` by de-referencing a pointer variable `y`. "
   ]
  },
  {
   "cell_type": "code",
   "execution_count": null,
   "metadata": {},
   "outputs": [],
   "source": [
    "%%file c_demo_07.c\n",
    "\n",
    "#include <stdio.h>\n",
    "\n",
    "int main(int argc, char** argv)\n",
    "{\n",
    "    double x = 1.2;\n",
    "    printf(\"x = %g\\n\",x);\n",
    "      \n",
    "    double *y;\n",
    "    y = &x;  \n",
    "    \n",
    "    *y = 3.5; \n",
    "    printf(\"x = %g\\n\",x);\n",
    "    \n",
    "    return 0;\n",
    "}\n"
   ]
  },
  {
   "cell_type": "code",
   "execution_count": null,
   "metadata": {},
   "outputs": [],
   "source": [
    "%%bash\n",
    "\n",
    "rm -rf c_demo_07\n",
    "\n",
    "gcc -o c_demo_07 c_demo_07.c\n",
    "c_demo_07"
   ]
  },
  {
   "cell_type": "markdown",
   "metadata": {},
   "source": [
    "The fact that C gives us such low level access to memory locations can be used for both good and evil!"
   ]
  },
  {
   "cell_type": "markdown",
   "metadata": {},
   "source": [
    "<hr style=\"border:3px solid coral\"</hr>\n",
    "\n",
    "## Arrays\n",
    "\n",
    "<hr style=\"border:3px solid coral\"</hr>\n",
    "\n",
    "Static arrays are arrays whose size cannot change once it has been declared.  Furthermore, any spaced used for the static array cannot be \"freed\" during runtime. \n",
    "\n",
    "Some array similarities with Python\n",
    "\n",
    "* Arrays are indexed starting with 0. \n",
    "\n",
    "* We access elements of an array using brackets `[]`.  \n",
    "\n",
    "Unlike Python, if we try to access an element that is outside the bounds of the array, we don't generally get an error. But we can expect strange uninitialized values. "
   ]
  },
  {
   "cell_type": "code",
   "execution_count": null,
   "metadata": {},
   "outputs": [],
   "source": [
    "%%file c_demo_08.c\n",
    "\n",
    "#include <stdio.h>\n",
    "\n",
    "int main(int argc, char** argv)\n",
    "{\n",
    "    double x[3]; \n",
    "\n",
    "    for(int i = 0; i < 3; i++)\n",
    "    {\n",
    "        x[i] = i*3.14159;\n",
    "    }\n",
    "    \n",
    "    printf(\"x[0] = %g\\n\",x[0]);\n",
    "    printf(\"x[1] = %g\\n\",x[1]);\n",
    "    printf(\"x[2] = %g\\n\",x[2]);\n",
    "    printf(\"\\n\");\n",
    "    printf(\"x[3] (out of bounds!) %g\\n\",x[3]);\n",
    "    \n",
    "    return 0;\n",
    "}"
   ]
  },
  {
   "cell_type": "code",
   "execution_count": null,
   "metadata": {},
   "outputs": [],
   "source": [
    "%%bash \n",
    "\n",
    "rm -rf c_demo_08\n",
    "\n",
    "gcc -o c_demo_08 c_demo_08.c\n",
    "\n",
    "c_demo_08"
   ]
  },
  {
   "cell_type": "markdown",
   "metadata": {},
   "source": [
    "### Connection between arrays and pointers\n",
    "\n",
    "Arrays variables are actually *pointer* variables.   That is, the value of `x` in the following is an address. \n",
    "\n",
    "     double x[3];\n",
    "     printf(\"Value of x : %p\\n\",x);\n",
    "\n",
    "Moreover, we can assign `x` to another pointer variable. \n",
    "\n",
    "     double *y = x;\n",
    "     \n",
    "We can then use `y` as a replacement for `x`.  Elements of `x` can be accessed and modified using `y[...]`. "
   ]
  },
  {
   "cell_type": "code",
   "execution_count": null,
   "metadata": {},
   "outputs": [],
   "source": [
    "%%file c_demo_09.c\n",
    "\n",
    "#include <stdio.h>\n",
    "\n",
    "int main(int argc, char** argv)\n",
    "{\n",
    "    double x[3] = {1.,2.,3.}; \n",
    "    \n",
    "    \n",
    "    printf(\"x[0] = %f\\n\",x[0]);\n",
    "    printf(\"x[1] = %f\\n\",x[1]);\n",
    "    printf(\"x[2] = %f\\n\",x[2]);\n",
    "    printf(\"\\n\");\n",
    "    \n",
    "    printf(\"Value of x %p\\n\",x);\n",
    "    \n",
    "    \n",
    "    double *y = x;\n",
    "    printf(\"Value of y %p\\n\",y);\n",
    "    printf(\"\\n\");\n",
    "    \n",
    "    y[1] = 15;\n",
    "    \n",
    "    printf(\"x[0] = %f\\n\",x[0]);\n",
    "    printf(\"x[1] = %f\\n\",x[1]);\n",
    "    printf(\"x[2] = %f\\n\",x[2]);\n",
    "    \n",
    "    return 0;\n",
    "}"
   ]
  },
  {
   "cell_type": "code",
   "execution_count": null,
   "metadata": {},
   "outputs": [],
   "source": [
    "%%bash \n",
    "\n",
    "rm -rf c_demo_09\n",
    "\n",
    "gcc -o c_demo_09 c_demo_09.c\n",
    "\n",
    "c_demo_09"
   ]
  },
  {
   "cell_type": "markdown",
   "metadata": {},
   "source": [
    "However, `x` is not a pointer variable in the sense that we can set its address to a new location.   Attempting \n",
    "\n",
    "    double z = 1.0;\n",
    "    x = &z;     \n",
    "    \n",
    "will result in an error, since the variable `x` is statically bound to the memory location fixed at compile time. \n",
    "\n",
    "    c_demo_09.c: In function 'main':\n",
    "    c_demo_09.c:22:7: error: assignment to expression with array type\n",
    "       22 |     x = &z;\n",
    "          |       ^\n"
   ]
  },
  {
   "cell_type": "markdown",
   "metadata": {},
   "source": [
    "### Variable length arrays\n",
    "\n",
    "Modern versions of C allow us to use a dynamically defined variable when sizing static arrays.  \n",
    "\n",
    "In the following, we set the length of the array to a value input by the user on the command line.  We can read an integer from the command line as follows. \n",
    "\n",
    "    int n;\n",
    "    if (argc == 2)\n",
    "        n = atoi(argv[1]);\n",
    "    else\n",
    "        n = 5;    \n",
    "\n",
    "The function `atoi` converts an Ascii value to an integer (\"ascii-to-integer\").  Here, we use it to convert input arguments `8` or `21` to an integer value.  The `atoi` function is defined in the header `stdlib.h`.  \n",
    "\n",
    "And then we can call the executable with a *command line argument*. \n",
    "\n",
    "     c_demo_10 8\n",
    "     \n",
    "We will use this integer value to create an array of length 8. \n",
    "\n",
    "     double x[n];\n",
    "          \n",
    "          \n",
    "To read          "
   ]
  },
  {
   "cell_type": "code",
   "execution_count": 1,
   "metadata": {},
   "outputs": [
    {
     "name": "stdout",
     "output_type": "stream",
     "text": [
      "Writing c_demo_10.c\n"
     ]
    }
   ],
   "source": [
    "%%file c_demo_10.c\n",
    "\n",
    "#include <stdio.h>\n",
    "#include <stdlib.h>   // contains header for atoi\n",
    "\n",
    "int main(int argc, char** argv)\n",
    "{\n",
    "    int n;\n",
    "    if (argc == 2)\n",
    "        n = atoi(argv[1]);\n",
    "    else\n",
    "        n = 5;    \n",
    "    \n",
    "    double x[n];\n",
    "    \n",
    "    for(int i = 0; i < n; i++)\n",
    "        x[i] = i*i;\n",
    "    \n",
    "    for(int i = 0; i < n; i++)\n",
    "        printf(\"x[%d]  %6.1f\\n\",i,x[i]);\n",
    "        \n",
    "    return 0;\n",
    "}"
   ]
  },
  {
   "cell_type": "code",
   "execution_count": 4,
   "metadata": {},
   "outputs": [
    {
     "name": "stdout",
     "output_type": "stream",
     "text": [
      "x[0]     0.0\n",
      "x[1]     1.0\n",
      "x[2]     4.0\n",
      "x[3]     9.0\n",
      "x[4]    16.0\n",
      "x[5]    25.0\n",
      "x[6]    36.0\n",
      "x[7]    49.0\n",
      "x[8]    64.0\n",
      "x[9]    81.0\n",
      "x[10]   100.0\n",
      "x[11]   121.0\n"
     ]
    }
   ],
   "source": [
    "%%bash \n",
    "\n",
    "rm -rf c_demo_10\n",
    "\n",
    "gcc -o c_demo_10 c_demo_10.c\n",
    "\n",
    "./c_demo_10 12"
   ]
  },
  {
   "cell_type": "markdown",
   "metadata": {},
   "source": [
    "### Dynamically allocated arrays\n",
    "\n",
    "<hr style=\"border:2px black solid\"</hr>\n",
    "\n",
    "We can also allocate memory *dynamically*.  This is more flexible than the statically defined arrays, since we can allocate memory at run time, and free it when we no longer need the memory. \n",
    "\n",
    "To dynamically allocate memory, we use the library routine `malloc`.  We specify the size of the dynamically allocated array in *bytes*.  To determine the bytes needed, we use the `sizeof` function.  \n",
    "\n",
    "      double n = 5;\n",
    "      bytes = n*sizeof(double);\n",
    "\n",
    "To allocate the array, we make a call to `malloc` (\"memory allocate\").  To ensure portability with different compilers, it also a good idea to \"cast\" the type of the return to the proper pointer variable type. \n",
    "\n",
    "       double *x = (double*) malloc(bytes);\n",
    "\n",
    "We use the dynamically allocated array in exactly the same way as the statically allocated array. \n",
    "\n",
    "#### Comments \n",
    "\n",
    "* The values stored in the memory allocated by malloc is uninitialized. \n",
    "\n",
    "* To avoid memory leaks, we must remember to `free` the memory we allocated using `malloc`. \n",
    "\n",
    "* The header for `malloc` is in `stdlib.h`, while the header for `sizeof` is in `stdio.h`. \n"
   ]
  },
  {
   "cell_type": "code",
   "execution_count": 5,
   "metadata": {},
   "outputs": [
    {
     "name": "stdout",
     "output_type": "stream",
     "text": [
      "Overwriting c_demo_10.c\n"
     ]
    }
   ],
   "source": [
    "%%file c_demo_10.c\n",
    "\n",
    "#include <stdio.h>\n",
    "#include <stdlib.h>\n",
    "\n",
    "int main(int argc, char** argv)\n",
    "{\n",
    "    int n = 5;\n",
    "    \n",
    "    size_t bytes = n*sizeof(double);\n",
    "    \n",
    "    double *x = (double*) malloc(bytes);  // cast when using with g++\n",
    "    \n",
    "    for(int i = 0; i < n; i++)\n",
    "        x[i] = i*i;\n",
    "    \n",
    "    for(int i = 0; i < n; i++)\n",
    "        printf(\"x[%d]  %6.0f\\n\",i,x[i]);\n",
    "        \n",
    "    free(x);\n",
    "    return 0;\n",
    "}"
   ]
  },
  {
   "cell_type": "code",
   "execution_count": 6,
   "metadata": {},
   "outputs": [
    {
     "name": "stdout",
     "output_type": "stream",
     "text": [
      "x[0]       0\n",
      "x[1]       1\n",
      "x[2]       4\n",
      "x[3]       9\n",
      "x[4]      16\n"
     ]
    }
   ],
   "source": [
    "%%bash\n",
    "\n",
    "rm -rf c_demo_10\n",
    "\n",
    "gcc -o c_demo_10 c_demo_10.c\n",
    "\n",
    "./c_demo_10"
   ]
  },
  {
   "cell_type": "markdown",
   "metadata": {},
   "source": [
    "<hr style=\"border: 3px solid coral\"></hr>\n",
    "\n",
    "##  Scope\n",
    "\n",
    "<hr style=\"border: 3px solid coral\"></hr>\n",
    "\n",
    "In C, variables, functions and so on can go in and out of \"scope\".  We have access to variables that are \"in scope\", but do not have access to variables that are \"out of scope\". \n",
    "\n",
    "Scope is typically delineated by braces `{}`.  As a simple example, consider the following code. \n",
    "\n",
    "    #include <stdio.h>\n",
    "    int main(int argc, char** argv)\n",
    "    {\n",
    "        {\n",
    "            double x = 3.5;\n",
    "        }\n",
    "        printf(\"x = %f\\n\",x);\n",
    "    }\n",
    "    \n",
    "If we were to try to compile this code, we would get an error :     \n",
    "\n",
    "    c_demo_11.c: In function 'main':\n",
    "    c_demo_11.c:9:23: error: 'x' undeclared (first use in this function)\n",
    "        9 |     printf(\"x = %f\\n\",x);\n",
    "          |                       ^\n",
    "    c_demo_11.c:9:23: note: each undeclared identifier is reported only once for each function it appears in\n",
    "    \n",
    "The code fails to compile  since the variable `x` is not longer \"in scope\" when we refer to it in the print statement.   We also say that \"x has gone out of scope\".  "
   ]
  },
  {
   "cell_type": "markdown",
   "metadata": {},
   "source": [
    "### Example\n",
    "\n",
    "<hr style=\"border: 2px solid black\"></hr>\n",
    "\n",
    "\n",
    "What does the following example do? "
   ]
  },
  {
   "cell_type": "code",
   "execution_count": 7,
   "metadata": {},
   "outputs": [
    {
     "name": "stdout",
     "output_type": "stream",
     "text": [
      "Writing c_demo_12.c\n"
     ]
    }
   ],
   "source": [
    "%%file c_demo_12.c\n",
    "\n",
    "#include <stdio.h>\n",
    "\n",
    "int main(int argc, char** argv)\n",
    "{\n",
    "    double x = 1.2;\n",
    "    {\n",
    "        double x = 3.5;\n",
    "    }\n",
    "    printf(\"x = %f\\n\",x);\n",
    "}"
   ]
  },
  {
   "cell_type": "markdown",
   "metadata": {},
   "source": [
    "What value for `x` gets printed out? "
   ]
  },
  {
   "cell_type": "code",
   "execution_count": 8,
   "metadata": {},
   "outputs": [
    {
     "name": "stdout",
     "output_type": "stream",
     "text": [
      "x = 1.200000\n"
     ]
    }
   ],
   "source": [
    "%%bash\n",
    "\n",
    "rm -rf c_demo_12\n",
    "\n",
    "gcc -o c_demo_12 c_demo_12.c\n",
    "\n",
    "./c_demo_12"
   ]
  },
  {
   "cell_type": "markdown",
   "metadata": {},
   "source": [
    "The variable `x` declared in the inner `{}` is only \"local\" in scope.  Even though it has the same name as the previous `x`, it is a different variable.  Assigning it a value does not affect the variable `x` in the outer scope. "
   ]
  },
  {
   "cell_type": "markdown",
   "metadata": {},
   "source": [
    "### Example\n",
    "\n",
    "<hr style=\"border: 2px solid black\"></hr>\n",
    "\n",
    "Here is an example using pointer variables to try to keep track of the variable `x` with lcoal scope. "
   ]
  },
  {
   "cell_type": "code",
   "execution_count": 9,
   "metadata": {},
   "outputs": [
    {
     "name": "stdout",
     "output_type": "stream",
     "text": [
      "Writing c_demo_13.c\n"
     ]
    }
   ],
   "source": [
    "%%file c_demo_13.c\n",
    "\n",
    "#include <stdio.h>\n",
    "\n",
    "int main(int argc, char** argv)\n",
    "{\n",
    "    double *y;\n",
    "    {\n",
    "        double x;\n",
    "        y = &x;\n",
    "        \n",
    "        x = 1.2;\n",
    "    }    \n",
    "    printf(\"*y = %24.16f\\n\",*y);        \n",
    "}"
   ]
  },
  {
   "cell_type": "code",
   "execution_count": 10,
   "metadata": {},
   "outputs": [
    {
     "name": "stdout",
     "output_type": "stream",
     "text": [
      "*y =       1.2000000000000000\n"
     ]
    }
   ],
   "source": [
    "%%bash\n",
    "\n",
    "rm -rf c_demo_13\n",
    "\n",
    "gcc -o c_demo_13 c_demo_13.c\n",
    "\n",
    "./c_demo_13"
   ]
  },
  {
   "cell_type": "markdown",
   "metadata": {},
   "source": [
    "Is this what we expect to happen? "
   ]
  },
  {
   "cell_type": "markdown",
   "metadata": {},
   "source": [
    "### Scope and arrays\n",
    "\n",
    "<hr style=\"border: 2px solid coral\"></hr>\n",
    "\n"
   ]
  },
  {
   "cell_type": "markdown",
   "metadata": {},
   "source": [
    "For statically defined arrays, memory is automatically deleted as soon as the variable goes out of scope. Consider the following code"
   ]
  },
  {
   "cell_type": "code",
   "execution_count": 11,
   "metadata": {},
   "outputs": [
    {
     "name": "stdout",
     "output_type": "stream",
     "text": [
      "Writing c_demo_14.c\n"
     ]
    }
   ],
   "source": [
    "%%file c_demo_14.c\n",
    "\n",
    "#include <stdio.h>\n",
    "#include <stdlib.h>\n",
    "\n",
    "int main(int argc, char** argv)\n",
    "{\n",
    "    int n = 5;\n",
    "    double *y;\n",
    "    {\n",
    "        double x[n];\n",
    "        y = x;\n",
    "    \n",
    "        for(int i = 0; i < n; i++)\n",
    "            x[i] = i;      \n",
    "    }\n",
    "    \n",
    "    for(int i = 0; i < n; i++)\n",
    "        printf(\"x[%d]  %6.1f\\n\",i,y[i]);\n",
    "        \n",
    "    return 0;\n",
    "}"
   ]
  },
  {
   "cell_type": "code",
   "execution_count": 12,
   "metadata": {},
   "outputs": [
    {
     "name": "stdout",
     "output_type": "stream",
     "text": [
      "x[0]     0.0\n",
      "x[1]     0.0\n",
      "x[2]     0.0\n",
      "x[3]  -5870777135244153110549465978205803155262591176789432355731265330666571538705630875655733493772579609446670204235844179788559322596826677768093696.0\n",
      "x[4]     0.0\n"
     ]
    }
   ],
   "source": [
    "%%bash \n",
    "\n",
    "rm -rf c_demo_14\n",
    "\n",
    "gcc -o c_demo_14 c_demo_14.c\n",
    "\n",
    "./c_demo_14"
   ]
  },
  {
   "cell_type": "markdown",
   "metadata": {},
   "source": [
    "### Example\n",
    "\n",
    "<hr style=\"border: 2px solid black\"></hr>\n",
    "\n",
    "\n",
    "The following example on the other hand, will work (Why?)"
   ]
  },
  {
   "cell_type": "code",
   "execution_count": 13,
   "metadata": {},
   "outputs": [
    {
     "name": "stdout",
     "output_type": "stream",
     "text": [
      "Writing c_demo_15.c\n"
     ]
    }
   ],
   "source": [
    "%%file c_demo_15.c\n",
    "\n",
    "#include <stdio.h>\n",
    "#include <stdlib.h>\n",
    "\n",
    "int main(int argc, char** argv)\n",
    "{\n",
    "    int n = 5;\n",
    "    double *y;\n",
    "    {\n",
    "        double *x = (double*) malloc(n*sizeof(double));\n",
    "        y = x;\n",
    "    \n",
    "        for(int i = 0; i < n; i++)\n",
    "            x[i] = i;      \n",
    "    }\n",
    "    \n",
    "    for(int i = 0; i < n; i++)\n",
    "        printf(\"y[%d]  %6.1f\\n\",i,y[i]);\n",
    "        \n",
    "    free(y);\n",
    "    return 0;\n",
    "}"
   ]
  },
  {
   "cell_type": "code",
   "execution_count": 14,
   "metadata": {},
   "outputs": [
    {
     "name": "stdout",
     "output_type": "stream",
     "text": [
      "y[0]     0.0\n",
      "y[1]     1.0\n",
      "y[2]     2.0\n",
      "y[3]     3.0\n",
      "y[4]     4.0\n"
     ]
    }
   ],
   "source": [
    "%%bash \n",
    "\n",
    "rm -rf c_demo_15\n",
    "\n",
    "gcc -o c_demo_15 c_demo_15.c\n",
    "\n",
    "./c_demo_15"
   ]
  },
  {
   "cell_type": "markdown",
   "metadata": {},
   "source": [
    "The difference is that memorry allocated by `malloc` will not be automatically deleted, and so is accessible even if the original pointer used to reference the memory location goes out of scope.  \n",
    "\n",
    "\n",
    "#### Question\n",
    "\n",
    "* Can you see why the above might lead to memory leaks? "
   ]
  },
  {
   "cell_type": "code",
   "execution_count": null,
   "metadata": {},
   "outputs": [],
   "source": []
  }
 ],
 "metadata": {
  "kernelspec": {
   "display_name": "ipykernel",
   "language": "python",
   "name": "python3"
  },
  "language_info": {
   "codemirror_mode": {
    "name": "ipython",
    "version": 3
   },
   "file_extension": ".py",
   "mimetype": "text/x-python",
   "name": "python",
   "nbconvert_exporter": "python",
   "pygments_lexer": "ipython3",
   "version": "3.9.12"
  }
 },
 "nbformat": 4,
 "nbformat_minor": 2
}

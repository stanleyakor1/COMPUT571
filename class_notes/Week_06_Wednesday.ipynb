{
 "cells": [
  {
   "cell_type": "markdown",
   "id": "7b2ac5ab",
   "metadata": {},
   "source": [
    "<hr style=\"border:3px solid coral\"></hr>\n",
    "\n",
    "# Practice\n",
    "\n",
    "<hr style=\"border:3px solid coral\"></hr>\n",
    "\n",
    "Goals for this notebook : \n",
    "\n",
    "* Learn about reading and writing binary data to easily transfer data between C and Python programs. "
   ]
  },
  {
   "cell_type": "markdown",
   "id": "60626b57",
   "metadata": {},
   "source": [
    "<hr style=\"border:3px solid coral\"></hr>\n",
    "\n",
    "##  Reading and writing data between C and Python\n",
    "\n",
    "<hr style=\"border:3px solid coral\"></hr>\n",
    "\n",
    "Once we start solving  interesting PDEs, we will want to be able to visualize the results.  To do this, we will use tools available in Python.  However, we need to be able to write data to a file from our C program, and then read it back into C.   More over, we want to be able to store \"meta-data\" as well (e.g. grid size, domain extent, etc). \n",
    "\n",
    "We will do this by creating binary files in C and read it back in in Python. "
   ]
  },
  {
   "cell_type": "markdown",
   "id": "b082d0ed",
   "metadata": {},
   "source": [
    "## Example 1 : Writing data to a binary file\n",
    "\n",
    "<hr style=\"border:3px solid black\"></hr>\n"
   ]
  },
  {
   "cell_type": "code",
   "execution_count": 14,
   "id": "75683384",
   "metadata": {},
   "outputs": [
    {
     "name": "stdout",
     "output_type": "stream",
     "text": [
      "Writing magic_01.c\n"
     ]
    }
   ],
   "source": [
    "%%file magic_01.c\n",
    "\n",
    "#include <stdio.h>\n",
    "#include <stdlib.h>    // Needed for 'atoi' and 'exit(0)'\n",
    "\n",
    "int main(int argc, char** argv)\n",
    "{\n",
    "    if (argc <= 1)\n",
    "    {\n",
    "        printf(\"Error : Include magic int at command line\\n\");\n",
    "        exit(0);\n",
    "    }\n",
    "    int magic_int = atoi(argv[1]);  \n",
    "\n",
    "    FILE *fout = fopen(\"magic_01.dat\",\"w\");        \n",
    "    fwrite(&magic_int,sizeof(int),1, fout); \n",
    "    fclose(fout);\n",
    "\n",
    "    return 0;\n",
    "}"
   ]
  },
  {
   "cell_type": "markdown",
   "id": "aafe6157",
   "metadata": {},
   "source": [
    "### Components \n",
    "\n",
    "<hr style=\"border:1px solid black\"></hr>\n",
    "\n",
    "    #include <stdio.h>\n",
    "    #include <stdlib.h>    \n",
    "\n",
    "The first header `stdio` is needed for the `printf`, and file IO operations `fopen`, `fwrite` and `fclose`. \n",
    "\n",
    "The second header is needed for `atoi` and `exit(0)`. \n",
    "\n",
    "<hr style=\"border:1px solid black\"></hr>\n",
    "\n",
    "    if (argc <= 1)\n",
    "    {\n",
    "        printf(\"Error : Supply a magic integer at command line\\n\");\n",
    "        exit(0);\n",
    "    }\n",
    "    \n",
    "This program will read a \"magic number\" from the command line.  We need to make sure that the user supplied a value at the command line. \n",
    "\n",
    "<hr style=\"border:1px solid black\"></hr>\n",
    "\n",
    "    int magic_int = atoi(argv[1]);  \n",
    "\n",
    "Read the user-supplied magic integer from the command line arguments. \n",
    "\n",
    "<hr style=\"border:1px solid black\"></hr>\n",
    "\n",
    "    FILE *fout = fopen(\"magic_int.dat\",\"w\");        \n",
    "\n",
    "We open a file with the name `magic_int.dat`.  The \"w\" indicates that we plan to *write* to the file.  The return is the *file handle* `fout`. \n",
    "\n",
    "\n",
    "<hr style=\"border:1px solid black\"></hr>\n",
    "\n",
    "    fwrite(&magic_int,sizeof(int),1,fout); \n",
    "    \n",
    "This commands writes a specified number of entries from a memory location. \n",
    "\n",
    "* Address location is  `&magic_int`.\n",
    "\n",
    "* The size of each entry is `sizeof(int)`  (4 bytes).  \n",
    "\n",
    "* We write out 1 entry\n",
    "\n",
    "* Write data to file with handle  `fout`. \n",
    "    \n",
    "    \n",
    "<hr style=\"border:1px solid black\"></hr>\n",
    "\n",
    "     fclose(fout);\n",
    "     \n",
    "Close the file when we are done. "
   ]
  },
  {
   "cell_type": "markdown",
   "id": "33594dbc",
   "metadata": {},
   "source": [
    "### Running the code\n",
    "\n",
    "<hr style=\"border:1px solid black\"></hr>\n"
   ]
  },
  {
   "cell_type": "code",
   "execution_count": 15,
   "id": "1e5a4b60",
   "metadata": {},
   "outputs": [],
   "source": [
    "%%bash\n",
    "\n",
    "rm -rf magic_01\n",
    "\n",
    "gcc -o magic_01 magic_01.c\n",
    "\n",
    "./magic_01 17"
   ]
  },
  {
   "cell_type": "markdown",
   "id": "018277dc",
   "metadata": {},
   "source": [
    "We can check that the file size is what we expect.  "
   ]
  },
  {
   "cell_type": "code",
   "execution_count": 1,
   "id": "7dd69dd2",
   "metadata": {},
   "outputs": [
    {
     "name": "stdout",
     "output_type": "stream",
     "text": [
      "File size : 4 bytes\n"
     ]
    }
   ],
   "source": [
    "import os\n",
    "\n",
    "stats = os.stat(\"magic_01.dat\")\n",
    "print(f\"File size : {stats.st_size:d} bytes\")\n"
   ]
  },
  {
   "cell_type": "markdown",
   "id": "6e360eb8",
   "metadata": {},
   "source": [
    "### To do \n",
    "\n",
    "<hr style=\"border:2px solid black\"></hr>\n",
    "\n",
    "* Modify the code above to read in three magic numbers from the command line and write them to a data file. \n",
    "\n",
    "* Check that the file is the correct size\n",
    "\n",
    "#### Note\n",
    "\n",
    "* Use a *single* `fwrite` statement. "
   ]
  },
  {
   "cell_type": "code",
   "execution_count": 24,
   "id": "9c300e22",
   "metadata": {},
   "outputs": [
    {
     "name": "stdout",
     "output_type": "stream",
     "text": [
      "Overwriting magic_02.c\n"
     ]
    }
   ],
   "source": [
    "%%file magic_02.c\n",
    "\n",
    "#include <stdio.h>     // Needed for file IO\n",
    "#include <stdlib.h>    // Needed for 'atoi' and 'exit(0)'\n",
    "\n",
    "int main(int argc, char** argv)\n",
    "{\n",
    "    if (argc <4)\n",
    "    {\n",
    "        printf(\"Error : Include magic int at command line\\n\");\n",
    "        exit(0);\n",
    "    }\n",
    "    int magic_int[3] ;\n",
    "    \n",
    "    for (int i=0;i<3;i++)\n",
    "    {\n",
    "    magic_int[i]= atoi(argv[1+1]);  \n",
    "    }\n",
    "    \n",
    "    FILE *fout = fopen(\"magic_02.dat\",\"w\");   \n",
    "    fwrite(&magic_int[0],sizeof(int),3, fout); \n",
    "    fclose(fout);\n",
    "\n",
    "    return 0;\n",
    "}"
   ]
  },
  {
   "cell_type": "code",
   "execution_count": 25,
   "id": "27b3f11f",
   "metadata": {},
   "outputs": [],
   "source": [
    "%%bash\n",
    "\n",
    "rm -rf magic_02\n",
    "\n",
    "gcc -o magic_02 magic_02.c\n",
    "\n",
    "./magic_02 17 13 21"
   ]
  },
  {
   "cell_type": "code",
   "execution_count": 26,
   "id": "975b519a",
   "metadata": {},
   "outputs": [
    {
     "name": "stdout",
     "output_type": "stream",
     "text": [
      "File size : 12 bytes\n"
     ]
    }
   ],
   "source": [
    "import os\n",
    "\n",
    "stats = os.stat(\"magic_02.dat\")\n",
    "print(f\"File size : {stats.st_size:d} bytes\")\n"
   ]
  },
  {
   "cell_type": "markdown",
   "id": "4f33c678",
   "metadata": {},
   "source": [
    "\n",
    "### Example 2 : Reading data in Python\n",
    "\n",
    "<hr style=\"border:3px solid black\"></hr>\n",
    "\n",
    "We can read the the data back into Python by first describing a data type, and then reading the data using the  template described by the data type. \n",
    "\n",
    "* The Numpy `dtype` can be used to create a list of tuples describing the data type.  This will be particularly useful for files containing mixed data types. \n",
    "\n",
    "You can read more about Numpy `dtype` [here](https://numpy.org/doc/stable/reference/generated/numpy.dtype.html)."
   ]
  },
  {
   "cell_type": "code",
   "execution_count": 12,
   "id": "272020aa",
   "metadata": {},
   "outputs": [
    {
     "data": {
      "text/plain": [
       "dtype([('magic_int', '<i4')])"
      ]
     },
     "execution_count": 12,
     "metadata": {},
     "output_type": "execute_result"
    }
   ],
   "source": [
    "import numpy as np\n",
    "from numpy import *\n",
    "\n",
    "dt = np.dtype([('magic_int',np.int32)])\n",
    "dt"
   ]
  },
  {
   "cell_type": "code",
   "execution_count": 17,
   "id": "608d1eda",
   "metadata": {},
   "outputs": [
    {
     "data": {
      "text/plain": [
       "array([(17,)], dtype=[('magic_int', '<i4')])"
      ]
     },
     "metadata": {},
     "output_type": "display_data"
    },
    {
     "name": "stdout",
     "output_type": "stream",
     "text": [
      "17\n"
     ]
    }
   ],
   "source": [
    "fout = open(\"magic_01.dat\",\"rb\") #rb , read binary\n",
    "d = np.fromfile(fout,dtype=dt, count=1)\n",
    "fout.close()\n",
    "\n",
    "display(d)\n",
    "print(d[0][0])"
   ]
  },
  {
   "cell_type": "code",
   "execution_count": 27,
   "id": "6683bba8",
   "metadata": {},
   "outputs": [
    {
     "data": {
      "text/plain": [
       "array([([13, 13, 13],)], dtype=[('magic_int', '<i4', (3,))])"
      ]
     },
     "metadata": {},
     "output_type": "display_data"
    }
   ],
   "source": [
    "dt = np.dtype([('magic_int',(np.int32,3))])\n",
    "fout = open(\"magic_02.dat\",\"rb\") #rb , read binary\n",
    "d = np.fromfile(fout,dtype=dt, count=3)\n",
    "fout.close()\n",
    "\n",
    "display(d)"
   ]
  },
  {
   "cell_type": "markdown",
   "id": "2a994652",
   "metadata": {},
   "source": [
    "#### Question\n",
    "\n",
    "* How does the return variable `d` store entries from the file? "
   ]
  },
  {
   "cell_type": "markdown",
   "id": "d19e1137",
   "metadata": {},
   "source": [
    "### To do\n",
    "\n",
    "* Modify the above to read in three integers from `magic_02.dat`.  "
   ]
  },
  {
   "cell_type": "markdown",
   "id": "87ec4a72",
   "metadata": {},
   "source": [
    "### Example 2 : Reading and writing mixed-type data\n",
    "\n",
    "<hr style=\"border:3px solid black\"></hr>\n",
    "\n",
    "Often, we want to store data, along with some \"meta data\".  \n",
    "\n",
    "Consider the following example that generates a mesh of values $f_{i} = f(x_i)$ for a specified function $f(x)$. "
   ]
  },
  {
   "cell_type": "code",
   "execution_count": 39,
   "id": "dc553f11",
   "metadata": {},
   "outputs": [
    {
     "name": "stdout",
     "output_type": "stream",
     "text": [
      "Overwriting array_01.c\n"
     ]
    }
   ],
   "source": [
    "%%file array_01.c\n",
    "\n",
    "#include <stdio.h>\n",
    "#include <stdlib.h>\n",
    "#include <math.h>\n",
    "\n",
    "double* allocate_1d(int n)\n",
    "{\n",
    "    double *mem = (double*) malloc(n*sizeof(double));\n",
    "    double *y = &mem[0];\n",
    "    return y;\n",
    "}\n",
    "\n",
    "double  f(double x)\n",
    "{\n",
    "    return cos(M_PI*x);\n",
    "}\n",
    "\n",
    "int main()\n",
    "{\n",
    "    int N = 64;\n",
    "    \n",
    "    double a = 0; \n",
    "    double b = 1; \n",
    "    \n",
    "    double *x = allocate_1d(N+1);\n",
    "    double *fx = allocate_1d(N+1);\n",
    "\n",
    "    double h = (b-a)/N;\n",
    "    \n",
    "    for(int i = 0; i < N+1; i++)\n",
    "    {\n",
    "        x[i] = a + h*i;\n",
    "        fx[i] = f(x[i]);\n",
    "    }\n",
    "    \n",
    "    /* Add statements to write out data x, y and metadata N, a and b.  */\n",
    "    FILE *fout = fopen(\"array_01.dat\",\"w\");   \n",
    "    fwrite(&N,sizeof(int),1, fout); \n",
    "    fwrite(&a,sizeof(double),1, fout); \n",
    "    fwrite(&b,sizeof(double),1, fout); \n",
    "    fwrite(x,sizeof(double),N+1, fout);  # we remove the appasand bcs x is a pointer\n",
    "    fwrite(fx,sizeof(double),N+1, fout);\n",
    "    fclose(fout);\n",
    "}"
   ]
  },
  {
   "cell_type": "code",
   "execution_count": 40,
   "id": "18573243",
   "metadata": {},
   "outputs": [
    {
     "name": "stderr",
     "output_type": "stream",
     "text": [
      "array_01.c:41:42: error: expected expression\n",
      "    fwrite(x,sizeof(double),N+1, fout);  # we remove the appasand bcs x is a pointer\n",
      "                                         ^\n",
      "1 error generated.\n",
      "bash: line 6: ./array_01: No such file or directory\n"
     ]
    },
    {
     "ename": "CalledProcessError",
     "evalue": "Command 'b'\\nrm -rf array_01\\n\\ngcc -o array_01 array_01.c\\n\\n./array_01\\n'' returned non-zero exit status 127.",
     "output_type": "error",
     "traceback": [
      "\u001b[0;31m---------------------------------------------------------------------------\u001b[0m",
      "\u001b[0;31mCalledProcessError\u001b[0m                        Traceback (most recent call last)",
      "Input \u001b[0;32mIn [40]\u001b[0m, in \u001b[0;36m<cell line: 1>\u001b[0;34m()\u001b[0m\n\u001b[0;32m----> 1\u001b[0m \u001b[43mget_ipython\u001b[49m\u001b[43m(\u001b[49m\u001b[43m)\u001b[49m\u001b[38;5;241;43m.\u001b[39;49m\u001b[43mrun_cell_magic\u001b[49m\u001b[43m(\u001b[49m\u001b[38;5;124;43m'\u001b[39;49m\u001b[38;5;124;43mbash\u001b[39;49m\u001b[38;5;124;43m'\u001b[39;49m\u001b[43m,\u001b[49m\u001b[43m \u001b[49m\u001b[38;5;124;43m'\u001b[39;49m\u001b[38;5;124;43m'\u001b[39;49m\u001b[43m,\u001b[49m\u001b[43m \u001b[49m\u001b[38;5;124;43m'\u001b[39;49m\u001b[38;5;130;43;01m\\n\u001b[39;49;00m\u001b[38;5;124;43mrm -rf array_01\u001b[39;49m\u001b[38;5;130;43;01m\\n\u001b[39;49;00m\u001b[38;5;130;43;01m\\n\u001b[39;49;00m\u001b[38;5;124;43mgcc -o array_01 array_01.c\u001b[39;49m\u001b[38;5;130;43;01m\\n\u001b[39;49;00m\u001b[38;5;130;43;01m\\n\u001b[39;49;00m\u001b[38;5;124;43m./array_01\u001b[39;49m\u001b[38;5;130;43;01m\\n\u001b[39;49;00m\u001b[38;5;124;43m'\u001b[39;49m\u001b[43m)\u001b[49m\n",
      "File \u001b[0;32m/opt/anaconda3/lib/python3.9/site-packages/IPython/core/interactiveshell.py:2347\u001b[0m, in \u001b[0;36mInteractiveShell.run_cell_magic\u001b[0;34m(self, magic_name, line, cell)\u001b[0m\n\u001b[1;32m   2345\u001b[0m \u001b[38;5;28;01mwith\u001b[39;00m \u001b[38;5;28mself\u001b[39m\u001b[38;5;241m.\u001b[39mbuiltin_trap:\n\u001b[1;32m   2346\u001b[0m     args \u001b[38;5;241m=\u001b[39m (magic_arg_s, cell)\n\u001b[0;32m-> 2347\u001b[0m     result \u001b[38;5;241m=\u001b[39m \u001b[43mfn\u001b[49m\u001b[43m(\u001b[49m\u001b[38;5;241;43m*\u001b[39;49m\u001b[43margs\u001b[49m\u001b[43m,\u001b[49m\u001b[43m \u001b[49m\u001b[38;5;241;43m*\u001b[39;49m\u001b[38;5;241;43m*\u001b[39;49m\u001b[43mkwargs\u001b[49m\u001b[43m)\u001b[49m\n\u001b[1;32m   2348\u001b[0m \u001b[38;5;28;01mreturn\u001b[39;00m result\n",
      "File \u001b[0;32m/opt/anaconda3/lib/python3.9/site-packages/IPython/core/magics/script.py:153\u001b[0m, in \u001b[0;36mScriptMagics._make_script_magic.<locals>.named_script_magic\u001b[0;34m(line, cell)\u001b[0m\n\u001b[1;32m    151\u001b[0m \u001b[38;5;28;01melse\u001b[39;00m:\n\u001b[1;32m    152\u001b[0m     line \u001b[38;5;241m=\u001b[39m script\n\u001b[0;32m--> 153\u001b[0m \u001b[38;5;28;01mreturn\u001b[39;00m \u001b[38;5;28;43mself\u001b[39;49m\u001b[38;5;241;43m.\u001b[39;49m\u001b[43mshebang\u001b[49m\u001b[43m(\u001b[49m\u001b[43mline\u001b[49m\u001b[43m,\u001b[49m\u001b[43m \u001b[49m\u001b[43mcell\u001b[49m\u001b[43m)\u001b[49m\n",
      "File \u001b[0;32m/opt/anaconda3/lib/python3.9/site-packages/IPython/core/magics/script.py:305\u001b[0m, in \u001b[0;36mScriptMagics.shebang\u001b[0;34m(self, line, cell)\u001b[0m\n\u001b[1;32m    300\u001b[0m \u001b[38;5;28;01mif\u001b[39;00m args\u001b[38;5;241m.\u001b[39mraise_error \u001b[38;5;129;01mand\u001b[39;00m p\u001b[38;5;241m.\u001b[39mreturncode \u001b[38;5;241m!=\u001b[39m \u001b[38;5;241m0\u001b[39m:\n\u001b[1;32m    301\u001b[0m     \u001b[38;5;66;03m# If we get here and p.returncode is still None, we must have\u001b[39;00m\n\u001b[1;32m    302\u001b[0m     \u001b[38;5;66;03m# killed it but not yet seen its return code. We don't wait for it,\u001b[39;00m\n\u001b[1;32m    303\u001b[0m     \u001b[38;5;66;03m# in case it's stuck in uninterruptible sleep. -9 = SIGKILL\u001b[39;00m\n\u001b[1;32m    304\u001b[0m     rc \u001b[38;5;241m=\u001b[39m p\u001b[38;5;241m.\u001b[39mreturncode \u001b[38;5;129;01mor\u001b[39;00m \u001b[38;5;241m-\u001b[39m\u001b[38;5;241m9\u001b[39m\n\u001b[0;32m--> 305\u001b[0m     \u001b[38;5;28;01mraise\u001b[39;00m CalledProcessError(rc, cell)\n",
      "\u001b[0;31mCalledProcessError\u001b[0m: Command 'b'\\nrm -rf array_01\\n\\ngcc -o array_01 array_01.c\\n\\n./array_01\\n'' returned non-zero exit status 127."
     ]
    }
   ],
   "source": [
    "%%bash\n",
    "\n",
    "rm -rf array_01\n",
    "\n",
    "gcc -o array_01 array_01.c\n",
    "\n",
    "./array_01"
   ]
  },
  {
   "cell_type": "code",
   "execution_count": 36,
   "id": "bcb8fac7",
   "metadata": {},
   "outputs": [
    {
     "ename": "FileNotFoundError",
     "evalue": "[Errno 2] No such file or directory: 'array_01.dat'",
     "output_type": "error",
     "traceback": [
      "\u001b[0;31m---------------------------------------------------------------------------\u001b[0m",
      "\u001b[0;31mFileNotFoundError\u001b[0m                         Traceback (most recent call last)",
      "Input \u001b[0;32mIn [36]\u001b[0m, in \u001b[0;36m<cell line: 3>\u001b[0;34m()\u001b[0m\n\u001b[1;32m      1\u001b[0m \u001b[38;5;28;01mimport\u001b[39;00m \u001b[38;5;21;01mos\u001b[39;00m\n\u001b[0;32m----> 3\u001b[0m stats \u001b[38;5;241m=\u001b[39m \u001b[43mos\u001b[49m\u001b[38;5;241;43m.\u001b[39;49m\u001b[43mstat\u001b[49m\u001b[43m(\u001b[49m\u001b[38;5;124;43m\"\u001b[39;49m\u001b[38;5;124;43marray_01.dat\u001b[39;49m\u001b[38;5;124;43m\"\u001b[39;49m\u001b[43m)\u001b[49m\n\u001b[1;32m      4\u001b[0m \u001b[38;5;28mprint\u001b[39m(\u001b[38;5;124mf\u001b[39m\u001b[38;5;124m\"\u001b[39m\u001b[38;5;124mFile size : \u001b[39m\u001b[38;5;132;01m{\u001b[39;00mstats\u001b[38;5;241m.\u001b[39mst_size\u001b[38;5;132;01m:\u001b[39;00m\u001b[38;5;124md\u001b[39m\u001b[38;5;132;01m}\u001b[39;00m\u001b[38;5;124m bytes\u001b[39m\u001b[38;5;124m\"\u001b[39m)\n",
      "\u001b[0;31mFileNotFoundError\u001b[0m: [Errno 2] No such file or directory: 'array_01.dat'"
     ]
    }
   ],
   "source": [
    "import os\n",
    "\n",
    "stats = os.stat(\"array_01.dat\")\n",
    "print(f\"File size : {stats.st_size:d} bytes\")\n",
    "\n",
    "\n",
    "print(\"Expected file size: \",2*(N+1)*8+2*8+4)"
   ]
  },
  {
   "cell_type": "markdown",
   "id": "c6d39818",
   "metadata": {},
   "source": [
    "### To Do\n",
    "\n",
    "* Add statements that writes out array data $x_i$ and $f_i$ along with metadata $N$, interval data $[a,b]$. \n",
    "\n",
    "* Load the data into Python and plot the function $f(x)$. \n",
    "\n",
    "* Plot the results in Python and compare to the true function $f(x)$. \n",
    "\n",
    "### Tips\n",
    "\n",
    "* Create a Numpy `dtype` to read data into Python. "
   ]
  },
  {
   "cell_type": "code",
   "execution_count": 12,
   "id": "84e89dce",
   "metadata": {},
   "outputs": [],
   "source": [
    "from matplotlib.pyplot import *\n",
    "from numpy import *"
   ]
  },
  {
   "cell_type": "code",
   "execution_count": 13,
   "id": "d5d19662",
   "metadata": {},
   "outputs": [],
   "source": [
    "# Create a Numpy dtype\n",
    "\n",
    "# read data from file"
   ]
  },
  {
   "cell_type": "code",
   "execution_count": 14,
   "id": "47fb7101",
   "metadata": {},
   "outputs": [
    {
     "data": {
      "text/plain": [
       "<Figure size 640x480 with 0 Axes>"
      ]
     },
     "metadata": {},
     "output_type": "display_data"
    }
   ],
   "source": [
    "# Plot results here\n",
    "\n",
    "figure(1)\n",
    "clf()\n",
    "\n",
    "# plot(x,y,'r');\n",
    "\n",
    "# Compare to true solution\n",
    "# plot(x,cos(pi*x),'b--');"
   ]
  },
  {
   "cell_type": "markdown",
   "id": "4cc9f349",
   "metadata": {},
   "source": [
    "### Example 3 : Two dimensional arrays in C\n",
    "\n",
    "<hr style=\"border:2px solid black\"></hr>\n",
    "\n",
    "Statically defined 2d arrays in C can be allocated as follows: \n",
    "\n",
    "     int N = 64;\n",
    "     double fxy[N+1][N+1];\n",
    "     \n",
    "Then, we can access the entries in `fxy` as `fxy[i][j]`.  \n",
    "\n",
    "* When allocating \"automatic\" arrays, we don't need to worry about de-allocation. \n",
    "\n",
    "### To Do\n",
    "\n",
    "* Modify the function below to create a grid of values for the function $f(x,y) = \\cos(\\pi x)\\sin(\\pi y)$ on the domain $[-1,1] \\times [-1,1]$.    \n",
    "\n",
    "* Write out the data, along with any useful metadata. \n",
    "\n",
    "* Read the results back into Python, and plot the results using `imshow`. "
   ]
  },
  {
   "cell_type": "code",
   "execution_count": 10,
   "id": "f3a4fab0",
   "metadata": {},
   "outputs": [
    {
     "name": "stdout",
     "output_type": "stream",
     "text": [
      "Overwriting array_02.c\n"
     ]
    }
   ],
   "source": [
    "%%file array_02.c\n",
    "\n",
    "#include <stdio.h>\n",
    "#include <stdlib.h>\n",
    "#include <math.h>\n",
    "\n",
    "double* allocate_1d(int n)\n",
    "{\n",
    "    double *mem = (double*) malloc(n*sizeof(double));\n",
    "    double *y = &mem[0];\n",
    "    return y;\n",
    "}\n",
    "\n",
    "void free_1d(double **y)\n",
    "{\n",
    "    free(*y);\n",
    "    *y = NULL;\n",
    "}\n",
    "\n",
    "double  f(double x)\n",
    "{\n",
    "    return cos(x);\n",
    "}\n",
    "\n",
    "int main(int argv, char* argc)\n",
    "{\n",
    "    int N = 64;\n",
    "    \n",
    "    double a = 0; \n",
    "    double b = 1; \n",
    "    \n",
    "    double *x = allocate_1d(N+1);\n",
    "    double *y = allocate_1d(N+1);\n",
    "\n",
    "    double h = (b-a)/N;\n",
    "    \n",
    "    for(int i = 0; i < N+1; i++)\n",
    "    {\n",
    "        x[i] = a + h*i;\n",
    "        y[i] = f(x[i]);\n",
    "    }\n",
    "    \n",
    "    double fxy[N][N];\n",
    "    \n",
    "    /* Assign valuels to f(x,y) using a double loop */\n",
    "    \n",
    "    \n",
    "    /* Add statements to write out data x, y and metadata N, a and b.  */\n",
    "    \n",
    "    free_1d(&x);\n",
    "    free_1d(&y);\n",
    "}"
   ]
  },
  {
   "cell_type": "code",
   "execution_count": 9,
   "id": "609a6049",
   "metadata": {},
   "outputs": [],
   "source": [
    "%%bash\n",
    "\n",
    "rm -rf array_02\n",
    "\n",
    "gcc -o array_02 array_02.c\n",
    "\n",
    "array_02"
   ]
  },
  {
   "cell_type": "code",
   "execution_count": 11,
   "id": "96d6e356",
   "metadata": {},
   "outputs": [],
   "source": [
    "# Load data here"
   ]
  },
  {
   "cell_type": "code",
   "execution_count": null,
   "id": "bd9fbfed",
   "metadata": {},
   "outputs": [],
   "source": [
    "# Plot data here\n",
    "\n",
    "figure(3)\n",
    "clf()\n",
    "\n",
    "# e = [x[0],x[-1],y[0],y[-1]]\n",
    "# imshow(fxy,cmap=cm.Greys,aspect=True,extent=e);\n"
   ]
  }
 ],
 "metadata": {
  "kernelspec": {
   "display_name": "ipykernel",
   "language": "python",
   "name": "python3"
  },
  "language_info": {
   "codemirror_mode": {
    "name": "ipython",
    "version": 3
   },
   "file_extension": ".py",
   "mimetype": "text/x-python",
   "name": "python",
   "nbconvert_exporter": "python",
   "pygments_lexer": "ipython3",
   "version": "3.9.12"
  }
 },
 "nbformat": 4,
 "nbformat_minor": 5
}

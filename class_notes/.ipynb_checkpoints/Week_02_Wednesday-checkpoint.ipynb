{
 "cells": [
  {
   "cell_type": "markdown",
   "id": "898292e8",
   "metadata": {},
   "source": [
    "<hr style=\"border-width:4px; border-color:coral\"></hr>\n",
    "\n",
    "# Practice\n",
    "\n",
    "<hr style=\"border-width:4px; border-color:coral\"></hr>\n",
    "\n",
    "This notebook will cover \n",
    "\n",
    "* Getting timing results\n",
    "\n",
    "* Running large number of independent jobs using a Queue.  \n",
    "\n"
   ]
  },
  {
   "cell_type": "code",
   "execution_count": 2,
   "id": "5db2bc2f",
   "metadata": {},
   "outputs": [],
   "source": [
    "import multiprocessing as mp"
   ]
  },
  {
   "cell_type": "markdown",
   "id": "75a4d6cd",
   "metadata": {},
   "source": [
    "Starting with Python 3.8, the default start method is 'spawn'.  However, this does not work well in Jupyter notebooks.   The following code will set the start method to `fork`. "
   ]
  },
  {
   "cell_type": "code",
   "execution_count": 4,
   "id": "84210813",
   "metadata": {},
   "outputs": [],
   "source": [
    "start_method =  mp.get_start_method()\n",
    "if start_method != 'fork':\n",
    "    print(f\"Start method was {start_method}.  Setting it to 'fork'\")\n",
    "    mp.set_start_method('fork')"
   ]
  },
  {
   "cell_type": "markdown",
   "id": "9aa3417d",
   "metadata": {},
   "source": [
    "Test your code with this small example"
   ]
  },
  {
   "cell_type": "code",
   "execution_count": 5,
   "id": "836c7cde",
   "metadata": {},
   "outputs": [
    {
     "name": "stdout",
     "output_type": "stream",
     "text": [
      "In process debug\n",
      "All Done!\n"
     ]
    }
   ],
   "source": [
    "def debug():\n",
    "    print(\"In process debug\")\n",
    "    \n",
    "p = mp.Process(target=debug)    \n",
    "\n",
    "p.start()\n",
    "\n",
    "p.join()\n",
    "\n",
    "print(\"All Done!\")"
   ]
  },
  {
   "cell_type": "markdown",
   "id": "cbe70288",
   "metadata": {},
   "source": [
    "\n",
    "## Timing results using `timeit`\n",
    "\n",
    "<hr style=\"border-width:4px; border-color:black\"></hr>\n",
    "\n",
    "One of the main reasons to use multiprocessng is to speed up our codes.  To see how well our multiprocessing is working, we need to be able to determine execution time for a give job.   We will do this using the `timeit` module.  \n",
    "\n",
    "You can read more on `timeit` in the notebook `00_timeit`, available on Canvas. \n",
    "\n",
    "So see how time it works, let's time a process who execution time we know exactly. "
   ]
  },
  {
   "cell_type": "markdown",
   "id": "c4cc0a0e",
   "metadata": {},
   "source": [
    "### Timing a sleep timer"
   ]
  },
  {
   "cell_type": "code",
   "execution_count": 6,
   "id": "b26ea8f5",
   "metadata": {},
   "outputs": [],
   "source": [
    "import time"
   ]
  },
  {
   "cell_type": "code",
   "execution_count": 9,
   "id": "986d2eaf",
   "metadata": {},
   "outputs": [
    {
     "name": "stdout",
     "output_type": "stream",
     "text": [
      "1.01 s ± 0 ns per loop (mean ± std. dev. of 1 run, 1 loop each)\n"
     ]
    }
   ],
   "source": [
    "%%timeit -n 1 -r 1\n",
    "\n",
    "time.sleep(1)"
   ]
  },
  {
   "cell_type": "markdown",
   "id": "bb213f6e",
   "metadata": {},
   "source": [
    "To get more accurate statistics, it may be advisable to do multiple runs of the same code and then take the best timing results.  This can be done with the `timeit` flags `-r` (runs) and `-n` (loops). Timeit will report the *averge* time from a series of consecutive runs. "
   ]
  },
  {
   "cell_type": "code",
   "execution_count": 11,
   "id": "420f761a",
   "metadata": {},
   "outputs": [
    {
     "name": "stdout",
     "output_type": "stream",
     "text": [
      "1 s ± 0 ns per loop (mean ± std. dev. of 1 run, 5 loops each)\n"
     ]
    }
   ],
   "source": [
    "%%timeit -n 5 -r 1\n",
    "\n",
    "time.sleep(1)"
   ]
  },
  {
   "cell_type": "markdown",
   "id": "31b880cc",
   "metadata": {},
   "source": [
    "If we don't specify any parameters, `timeit` will chose default values, which might take a while."
   ]
  },
  {
   "cell_type": "code",
   "execution_count": 14,
   "id": "4c6b027a",
   "metadata": {},
   "outputs": [
    {
     "name": "stdout",
     "output_type": "stream",
     "text": [
      "1 s ± 1.54 ms per loop (mean ± std. dev. of 7 runs, 1 loop each)\n"
     ]
    }
   ],
   "source": [
    "%%timeit\n",
    "\n",
    "time.sleep(1)"
   ]
  },
  {
   "cell_type": "markdown",
   "id": "702a5697",
   "metadata": {},
   "source": [
    "### Timing processes\n",
    "\n",
    "Run the code below for $P = 1,2,4,8,\\dots,1024$ jobs.  Store the timing results in an array.  \n",
    "\n",
    "What behavior do you see?  "
   ]
  },
  {
   "cell_type": "code",
   "execution_count": 28,
   "id": "897ec4fb",
   "metadata": {},
   "outputs": [],
   "source": [
    "from numpy import *"
   ]
  },
  {
   "cell_type": "code",
   "execution_count": 26,
   "id": "6e5f9c64",
   "metadata": {},
   "outputs": [
    {
     "name": "stdout",
     "output_type": "stream",
     "text": [
      "All done \n",
      "12.5 s ± 0 ns per loop (mean ± std. dev. of 1 run, 1 loop each)\n"
     ]
    }
   ],
   "source": [
    "%%timeit -n 1 -r 1\n",
    "\n",
    "def naptime():\n",
    "    time.sleep(5)  \n",
    "\n",
    "P = 1024\n",
    "jobs = []\n",
    "for i in range(P):\n",
    "    p = mp.Process(target=naptime)\n",
    "    jobs.append(p)   \n",
    "\n",
    "for p in jobs:\n",
    "    p.start()\n",
    "    \n",
    "for p in jobs:\n",
    "    p.join()     # Wait for each job to join \n",
    "        \n",
    "print(\"All done \")"
   ]
  },
  {
   "cell_type": "code",
   "execution_count": 29,
   "id": "ddb38148",
   "metadata": {},
   "outputs": [],
   "source": [
    "# Store timing results for P = 1,2,4,8,16,.... number of processes.  \n",
    "T = []"
   ]
  },
  {
   "cell_type": "markdown",
   "id": "f6f953a1",
   "metadata": {},
   "source": [
    "Plot a loglog plot of *latency* vs. P.  What do you observe? "
   ]
  },
  {
   "cell_type": "code",
   "execution_count": null,
   "id": "d64ccb2b",
   "metadata": {},
   "outputs": [],
   "source": [
    "figure(1)\n",
    "clf()\n",
    "\n",
    "P = 2**arange(11)   # 1,2,4,8,16,..,1024\n",
    "\n",
    "# Plot latency vs. P\n",
    "\n"
   ]
  },
  {
   "cell_type": "markdown",
   "id": "b75b3c40",
   "metadata": {},
   "source": [
    "## Queues\n",
    "\n",
    "<hr style=\"border-width:4px; border-color:black\"></hr>\n",
    "\n",
    "\n",
    "Suppose we have $N$ tasks that need to be completed.  These tasks might be\n",
    "\n",
    "* Processing $N$ data files, \n",
    "\n",
    "* Multiplying a matrix by $N$ vectors, \n",
    "\n",
    "* Creating $N$ plots\n",
    "\n",
    "* Run a simulation with $N$ different choices of parameters\n",
    "\n",
    "Furthermore, suppose these tasks are relatively independent. The order in which the tasks are carried out doesn't matter, and the tasks do not need to communicate with each other. Furthermore, assume that we expect each task to take roughly the same amount of time.   \n",
    "\n",
    "Assume that we have $P$ workers, $P \\ll N$ (e.g. $P$ is *much* smaller than $N$) to carry out these tasks. Then we have to distribute the $N$ tasks more or less evenly to the $P$ workers.  \n",
    "\n",
    "Below we do this first using $P$ pipes to communicate tasks to each worker. "
   ]
  },
  {
   "cell_type": "markdown",
   "id": "2afbde8c",
   "metadata": {},
   "source": [
    "### Create a task list"
   ]
  },
  {
   "cell_type": "code",
   "execution_count": 30,
   "id": "252ea09d",
   "metadata": {},
   "outputs": [
    {
     "name": "stdout",
     "output_type": "stream",
     "text": [
      "['Task 0', 'Task 1', 'Task 2', 'Task 3', 'Task 4', 'Task 5', 'Task 6', 'Task 7', 'Task 8', 'Task 9']\n"
     ]
    }
   ],
   "source": [
    "# Create task list        \n",
    "N = 10    \n",
    "task_list = [f\"Task {i}\" for i in range(N)]    \n",
    "print(task_list)"
   ]
  },
  {
   "cell_type": "markdown",
   "id": "05372047",
   "metadata": {},
   "source": [
    "### Define a worker"
   ]
  },
  {
   "cell_type": "code",
   "execution_count": 31,
   "id": "f077101e",
   "metadata": {},
   "outputs": [],
   "source": [
    "def do_task_pipe(conn):\n",
    "    pname = mp.current_process().name\n",
    "    # ...."
   ]
  },
  {
   "cell_type": "markdown",
   "id": "e8bccc96",
   "metadata": {},
   "source": [
    "### Set up processses and connections"
   ]
  },
  {
   "cell_type": "code",
   "execution_count": 32,
   "id": "bf16292c",
   "metadata": {},
   "outputs": [],
   "source": [
    "# Create a connection for P workers\n",
    "P = 4    \n",
    "pipes = [mp.Pipe() for i in range(P)]    # \"list comprehension\"\n",
    "\n",
    "\n",
    "# TODO : Create P processes;  pass is a connections\n",
    "workers = []\n",
    "\n",
    "# TODO : Start processes\n",
    "\n",
    "# TODO : Distribute N tasks to P workers\n",
    "\n",
    "# TODO : Wait for processes to complete\n",
    "\n",
    "print(\"Everybody is done!\")"
   ]
  },
  {
   "cell_type": "markdown",
   "id": "137c11aa",
   "metadata": {},
   "source": [
    "<hr style=\"border-width:4px; border-color:coral\"></hr>\n",
    "\n",
    "## Using a Queue\n",
    "\n",
    "<hr style=\"border-width:4px; border-color:coral\"></hr>\n",
    "\n",
    "A Python Queue carries out the above.  \n",
    "\n",
    "* A \"queue\", as the name suggests, is a list of tasks.  As items in queue become available, the tasks can be taken off the queue and completed.  \n",
    "\n",
    "* Queues are built on top of pipes. "
   ]
  },
  {
   "cell_type": "code",
   "execution_count": null,
   "id": "527531e1",
   "metadata": {},
   "outputs": [],
   "source": [
    "queue = mp.Queue()\n",
    "\n",
    "# Put tasks on the queue\n",
    "\n",
    "# Remove tasks from the queue"
   ]
  },
  {
   "cell_type": "markdown",
   "id": "ddacd493",
   "metadata": {},
   "source": [
    "We can use a queue instead of pipes to send tasks to worker processes. "
   ]
  },
  {
   "cell_type": "markdown",
   "id": "58a7936d",
   "metadata": {},
   "source": [
    "### Define a worker (queue)"
   ]
  },
  {
   "cell_type": "code",
   "execution_count": 33,
   "id": "4df8fbad",
   "metadata": {},
   "outputs": [],
   "source": [
    "def do_task_queue(queue):\n",
    "    pname = mp.current_process().name\n",
    "    # ...."
   ]
  },
  {
   "cell_type": "code",
   "execution_count": 34,
   "id": "3bb686f3",
   "metadata": {},
   "outputs": [
    {
     "name": "stdout",
     "output_type": "stream",
     "text": [
      "Everybody is done!\n"
     ]
    }
   ],
   "source": [
    "# TODO : Create P processes;  pass the queue to each process\n",
    "workers = []\n",
    "\n",
    "# TODO : Start processes\n",
    "\n",
    "# TODO :  Put tasks on the queue\n",
    "\n",
    "# TODO : Wait for processes to complete\n",
    "\n",
    "print(\"Everybody is done!\")"
   ]
  },
  {
   "cell_type": "code",
   "execution_count": null,
   "id": "a9fe83f8",
   "metadata": {},
   "outputs": [],
   "source": []
  },
  {
   "cell_type": "markdown",
   "id": "d3b0e4de",
   "metadata": {},
   "source": [
    "<hr style=\"border-width:4px; border-color:coral\"></hr>\n",
    "\n",
    "## Shared arrays\n",
    "\n",
    "<hr style=\"border-width:4px; border-color:coral\"></hr>\n",
    "\n",
    "We can create values that are shared among processes using shared values and shared arrays. "
   ]
  },
  {
   "cell_type": "code",
   "execution_count": 39,
   "id": "391f2573",
   "metadata": {},
   "outputs": [
    {
     "name": "stdout",
     "output_type": "stream",
     "text": [
      "3.141592653589793\n"
     ]
    }
   ],
   "source": [
    "import math\n",
    "x = mp.Value('d',math.pi)\n",
    "\n",
    "print(x.value)"
   ]
  },
  {
   "cell_type": "code",
   "execution_count": 40,
   "id": "a2abb06d",
   "metadata": {},
   "outputs": [
    {
     "name": "stdout",
     "output_type": "stream",
     "text": [
      "6.283185307179586\n"
     ]
    }
   ],
   "source": [
    "def double_value(x):\n",
    "    x.value *= 2\n",
    "\n",
    "p = mp.Process(target=double_value, args=(x,))\n",
    "\n",
    "p.start()\n",
    "\n",
    "p.join()\n",
    "\n",
    "\n",
    "print(x.value)"
   ]
  },
  {
   "cell_type": "code",
   "execution_count": null,
   "id": "bbd31287",
   "metadata": {},
   "outputs": [],
   "source": []
  }
 ],
 "metadata": {
  "kernelspec": {
   "display_name": "ipykernel",
   "language": "python",
   "name": "python3"
  },
  "language_info": {
   "codemirror_mode": {
    "name": "ipython",
    "version": 3
   },
   "file_extension": ".py",
   "mimetype": "text/x-python",
   "name": "python",
   "nbconvert_exporter": "python",
   "pygments_lexer": "ipython3",
   "version": "3.9.12"
  }
 },
 "nbformat": 4,
 "nbformat_minor": 5
}

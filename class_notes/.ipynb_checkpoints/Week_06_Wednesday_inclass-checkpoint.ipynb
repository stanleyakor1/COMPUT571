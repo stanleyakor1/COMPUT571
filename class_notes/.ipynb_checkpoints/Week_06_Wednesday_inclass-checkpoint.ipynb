{
 "cells": [
  {
   "cell_type": "markdown",
   "id": "7b2ac5ab",
   "metadata": {},
   "source": [
    "<hr style=\"border:3px solid coral\"></hr>\n",
    "\n",
    "# Practice\n",
    "\n",
    "<hr style=\"border:3px solid coral\"></hr>\n",
    "\n",
    "Goals for this notebook : \n",
    "\n",
    "* Learn about reading and writing binary data to easily transfer data between C and Python programs. "
   ]
  },
  {
   "cell_type": "markdown",
   "id": "60626b57",
   "metadata": {},
   "source": [
    "<hr style=\"border:3px solid coral\"></hr>\n",
    "\n",
    "##  Reading and writing data between C and Python\n",
    "\n",
    "<hr style=\"border:3px solid coral\"></hr>\n",
    "\n",
    "Once we start solving  interesting PDEs, we will want to be able to visualize the results.  To do this, we will use tools available in Python.  However, we need to be able to write data to a file from our C program, and then read it back into C.   More over, we want to be able to store \"meta-data\" as well (e.g. grid size, domain extent, etc). \n",
    "\n",
    "We will do this by creating binary files in C and read it back in in Python. "
   ]
  },
  {
   "cell_type": "markdown",
   "id": "b082d0ed",
   "metadata": {},
   "source": [
    "## Example 1 : Writing data to a binary file\n",
    "\n",
    "<hr style=\"border:3px solid black\"></hr>\n"
   ]
  },
  {
   "cell_type": "code",
   "execution_count": 55,
   "id": "75683384",
   "metadata": {},
   "outputs": [
    {
     "name": "stdout",
     "output_type": "stream",
     "text": [
      "Overwriting magic_01.c\n"
     ]
    }
   ],
   "source": [
    "%%file magic_01.c\n",
    "\n",
    "#include <stdio.h>\n",
    "#include <stdlib.h>    // Needed for 'atoi' and 'exit(0)'\n",
    "\n",
    "int main(int argc, char** argv)\n",
    "{\n",
    "    if (argc <= 1)\n",
    "    {\n",
    "        printf(\"Error : Include magic int at command line\\n\");\n",
    "        exit(0);\n",
    "    }\n",
    "    int magic_int = atoi(argv[1]);  \n",
    "\n",
    "    FILE *fout = fopen(\"magic_01.dat\",\"w\");        \n",
    "    fwrite(&magic_int,sizeof(int),1, fout); \n",
    "    fclose(fout);\n",
    "\n",
    "    return 0;\n",
    "}"
   ]
  },
  {
   "cell_type": "markdown",
   "id": "aafe6157",
   "metadata": {},
   "source": [
    "### Components \n",
    "\n",
    "<hr style=\"border:1px solid black\"></hr>\n",
    "\n",
    "    #include <stdio.h>\n",
    "    #include <stdlib.h>    \n",
    "\n",
    "The first header `stdio` is needed for the `printf`, and file IO operations `fopen`, `fwrite` and `fclose`. \n",
    "\n",
    "The second header is needed for `atoi` and `exit(0)`. \n",
    "\n",
    "<hr style=\"border:1px solid black\"></hr>\n",
    "\n",
    "    if (argc <= 1)\n",
    "    {\n",
    "        printf(\"Error : Supply a magic integer at command line\\n\");\n",
    "        exit(0);\n",
    "    }\n",
    "    \n",
    "This program will read a \"magic number\" from the command line.  We need to make sure that the user supplied a value at the command line. \n",
    "\n",
    "<hr style=\"border:1px solid black\"></hr>\n",
    "\n",
    "    int magic_int = atoi(argv[1]);  \n",
    "\n",
    "Read the user-supplied magic integer from the command line arguments. \n",
    "\n",
    "<hr style=\"border:1px solid black\"></hr>\n",
    "\n",
    "    FILE *fout = fopen(\"magic_int.dat\",\"w\");        \n",
    "\n",
    "We open a file with the name `magic_int.dat`.  The \"w\" indicates that we plan to *write* to the file.  The return is the *file handle* `fout`. \n",
    "\n",
    "\n",
    "<hr style=\"border:1px solid black\"></hr>\n",
    "\n",
    "    fwrite(&magic_int,sizeof(int),1,fout); \n",
    "    \n",
    "This commands writes a specified number of entries from a memory location. \n",
    "\n",
    "* Address location is  `&magic_int`.\n",
    "\n",
    "* The size of each entry is `sizeof(int)`  (4 bytes).  \n",
    "\n",
    "* We write out 1 entry\n",
    "\n",
    "* Write data to file with handle  `fout`. \n",
    "    \n",
    "    \n",
    "<hr style=\"border:1px solid black\"></hr>\n",
    "\n",
    "     fclose(fout);\n",
    "     \n",
    "Close the file when we are done. "
   ]
  },
  {
   "cell_type": "markdown",
   "id": "c12c7c4d",
   "metadata": {},
   "source": [
    "### Running the code\n",
    "\n",
    "<hr style=\"border:1px solid black\"></hr>\n"
   ]
  },
  {
   "cell_type": "code",
   "execution_count": 16,
   "id": "1e5a4b60",
   "metadata": {},
   "outputs": [],
   "source": [
    "%%bash\n",
    "\n",
    "rm -rf magic_01\n",
    "\n",
    "gcc -o magic_01 magic_01.c\n",
    "\n",
    "./magic_01  17"
   ]
  },
  {
   "cell_type": "markdown",
   "id": "b92a1743",
   "metadata": {},
   "source": [
    "We can check that the file size is what we expect.  "
   ]
  },
  {
   "cell_type": "code",
   "execution_count": 17,
   "id": "7dd69dd2",
   "metadata": {},
   "outputs": [
    {
     "name": "stdout",
     "output_type": "stream",
     "text": [
      "File size : 4 bytes\n"
     ]
    }
   ],
   "source": [
    "import os\n",
    "\n",
    "stats = os.stat(\"magic_01.dat\")\n",
    "print(f\"File size : {stats.st_size:d} bytes\")\n"
   ]
  },
  {
   "cell_type": "markdown",
   "id": "6e360eb8",
   "metadata": {},
   "source": [
    "### To do \n",
    "\n",
    "<hr style=\"border:2px solid black\"></hr>\n",
    "\n",
    "* Modify the code above to read in three magic numbers from the command line and write them to a data file. \n",
    "\n",
    "* Check that the file is the correct size\n",
    "\n",
    "#### Note\n",
    "\n",
    "* Use a *single* `fwrite` statement. "
   ]
  },
  {
   "cell_type": "code",
   "execution_count": 42,
   "id": "9c300e22",
   "metadata": {},
   "outputs": [
    {
     "name": "stdout",
     "output_type": "stream",
     "text": [
      "Overwriting magic_02.c\n"
     ]
    }
   ],
   "source": [
    "%%file magic_02.c\n",
    "\n",
    "#include <stdio.h>     // Needed for file IO\n",
    "#include <stdlib.h>    // Needed for 'atoi' and 'exit(0)'\n",
    "\n",
    "int main(int argc, char** argv)\n",
    "{\n",
    "    if (argc < 4)\n",
    "    {\n",
    "        printf(\"Error : Include three magic ints at command line\\n\");\n",
    "        exit(0);\n",
    "    }\n",
    "    int magic_int[3];\n",
    "    \n",
    "    for(int i = 0; i < 4; i++)\n",
    "    {\n",
    "        printf(\"%s\\n\",argv[i]);\n",
    "    }\n",
    "\n",
    "    for(int i = 0; i < 3; i++)\n",
    "    {\n",
    "        magic_int[i] = atoi(argv[i+1]);          \n",
    "    }\n",
    "    \n",
    "    FILE *fout = fopen(\"magic_02.dat\",\"w\");   \n",
    "    fwrite(&magic_int[0],sizeof(int),3, fout); \n",
    "    fclose(fout);\n",
    "\n",
    "    return 0;\n",
    "}"
   ]
  },
  {
   "cell_type": "code",
   "execution_count": 43,
   "id": "27b3f11f",
   "metadata": {},
   "outputs": [
    {
     "name": "stdout",
     "output_type": "stream",
     "text": [
      "magic_02\n",
      "17\n",
      "13\n",
      "21\n"
     ]
    }
   ],
   "source": [
    "%%bash\n",
    "\n",
    "rm -rf magic_02\n",
    "\n",
    "gcc -o magic_02 magic_02.c\n",
    "\n",
    "./magic_02 17 13 21"
   ]
  },
  {
   "cell_type": "code",
   "execution_count": 44,
   "id": "975b519a",
   "metadata": {},
   "outputs": [
    {
     "name": "stdout",
     "output_type": "stream",
     "text": [
      "File size : 12 bytes\n"
     ]
    }
   ],
   "source": [
    "import os\n",
    "\n",
    "stats = os.stat(\"magic_02.dat\")\n",
    "print(f\"File size : {stats.st_size:d} bytes\")"
   ]
  },
  {
   "cell_type": "code",
   "execution_count": 25,
   "id": "724ffe73",
   "metadata": {},
   "outputs": [
    {
     "name": "stdout",
     "output_type": "stream",
     "text": [
      "\u0000\u0000\u0000\u0000\u0011\u0000\u0000\u0000\r",
      "\u0000\u0000\u0000"
     ]
    }
   ],
   "source": [
    "%cat magic_02.dat"
   ]
  },
  {
   "cell_type": "markdown",
   "id": "4f33c678",
   "metadata": {},
   "source": [
    "\n",
    "### Example 2 : Reading data in Python\n",
    "\n",
    "<hr style=\"border:3px solid black\"></hr>\n",
    "\n",
    "We can read the the data back into Python by first describing a data type, and then reading the data using the  template described by the data type. \n",
    "\n",
    "* The Numpy `dtype` can be used to create a list of tuples describing the data type.  This will be particularly useful for files containing mixed data types. \n",
    "\n",
    "You can read more about Numpy `dtype` [here](https://numpy.org/doc/stable/reference/generated/numpy.dtype.html)."
   ]
  },
  {
   "cell_type": "code",
   "execution_count": 52,
   "id": "272020aa",
   "metadata": {},
   "outputs": [
    {
     "data": {
      "text/plain": [
       "dtype([('magic_int', '<i4', (3,))])"
      ]
     },
     "execution_count": 52,
     "metadata": {},
     "output_type": "execute_result"
    }
   ],
   "source": [
    "import numpy as np\n",
    "from numpy import *\n",
    "\n",
    "dt = np.dtype([('magic_int',(np.int32,3))])\n",
    "dt"
   ]
  },
  {
   "cell_type": "code",
   "execution_count": 55,
   "id": "608d1eda",
   "metadata": {},
   "outputs": [
    {
     "data": {
      "text/plain": [
       "array([17, 13, 21], dtype=int32)"
      ]
     },
     "metadata": {},
     "output_type": "display_data"
    }
   ],
   "source": [
    "fout = open(\"magic_02.dat\",\"rb\")\n",
    "d = np.fromfile(fout,dtype=dt, count=1)\n",
    "fout.close()\n",
    "\n",
    "display(d[0][0])"
   ]
  },
  {
   "cell_type": "markdown",
   "id": "2a994652",
   "metadata": {},
   "source": [
    "#### Question\n",
    "\n",
    "* How does the return variable `d` store entries from the file? "
   ]
  },
  {
   "cell_type": "markdown",
   "id": "d19e1137",
   "metadata": {},
   "source": [
    "### To do\n",
    "\n",
    "* Modify the above to read in three integers from `magic_02.dat`.  "
   ]
  },
  {
   "cell_type": "markdown",
   "id": "87ec4a72",
   "metadata": {},
   "source": [
    "### Example 2 : Reading and writing mixed-type data\n",
    "\n",
    "<hr style=\"border:3px solid black\"></hr>\n",
    "\n",
    "Often, we want to store data, along with some \"meta data\".  \n",
    "\n",
    "Consider the following example that generates a mesh of values $f_{i} = f(x_i)$ for a specified function $f(x)$. "
   ]
  },
  {
   "cell_type": "code",
   "execution_count": 81,
   "id": "dc553f11",
   "metadata": {},
   "outputs": [
    {
     "name": "stdout",
     "output_type": "stream",
     "text": [
      "Overwriting array_01.c\n"
     ]
    }
   ],
   "source": [
    "%%file array_01.c\n",
    "\n",
    "#include <stdio.h>\n",
    "#include <stdlib.h>\n",
    "#include <math.h>\n",
    "\n",
    "double* allocate_1d(int n)\n",
    "{\n",
    "    double *mem = (double*) malloc(n*sizeof(double));\n",
    "    double *y = &mem[0];\n",
    "    return y;\n",
    "}\n",
    "\n",
    "double  f(double x)\n",
    "{\n",
    "    return cos(M_PI*x);\n",
    "}\n",
    "\n",
    "int main(int argv, char* argc)\n",
    "{\n",
    "    int N = 128;\n",
    "    \n",
    "    double a = 0; \n",
    "    double b = 1; \n",
    "    \n",
    "    double *x = allocate_1d(N+1);\n",
    "    double *fx = allocate_1d(N+1);\n",
    "\n",
    "    double h = (b-a)/N;\n",
    "    \n",
    "    for(int i = 0; i < N+1; i++)\n",
    "    {\n",
    "        x[i] = a + h*i;\n",
    "        fx[i] = f(x[i]);\n",
    "    }\n",
    "    \n",
    "    FILE *fout = fopen(\"array_01.dat\",\"w\");   \n",
    "    fwrite(&N,sizeof(int),1, fout); \n",
    "    fwrite(&a,sizeof(double),1, fout); \n",
    "    fwrite(&b,sizeof(double),1, fout); \n",
    "    fwrite(&x[0],sizeof(double),N+1, fout); \n",
    "    fwrite(&fx[0],sizeof(double),N+1, fout);     \n",
    "    fclose(fout);    \n",
    "    \n",
    "}"
   ]
  },
  {
   "cell_type": "code",
   "execution_count": 82,
   "id": "18573243",
   "metadata": {},
   "outputs": [],
   "source": [
    "%%bash\n",
    "\n",
    "rm -rf array_01\n",
    "\n",
    "gcc -o array_01 array_01.c\n",
    "\n",
    "./array_01"
   ]
  },
  {
   "cell_type": "code",
   "execution_count": 83,
   "id": "c662edb6",
   "metadata": {},
   "outputs": [
    {
     "name": "stdout",
     "output_type": "stream",
     "text": [
      "File size : 2084 bytes\n",
      "Expected file size :  2084\n"
     ]
    }
   ],
   "source": [
    "import os\n",
    "\n",
    "stats = os.stat(\"array_01.dat\")\n",
    "print(f\"File size : {stats.st_size:d} bytes\")\n",
    "\n",
    "N = 128\n",
    "print(\"Expected file size : \",2*(N+1)*8 + 2*8 + 4)"
   ]
  },
  {
   "cell_type": "markdown",
   "id": "c6d39818",
   "metadata": {},
   "source": [
    "### To Do\n",
    "\n",
    "* Add statements that writes out array data $x_i$ and $f_i$ along with metadata $N$, interval data $[a,b]$. \n",
    "\n",
    "* Load the data into Python and plot the function $f(x)$. \n",
    "\n",
    "* Plot the results in Python and compare to the true function $f(x)$. \n",
    "\n",
    "### Tips\n",
    "\n",
    "* Create a Numpy `dtype` to read data into Python. "
   ]
  },
  {
   "cell_type": "code",
   "execution_count": null,
   "id": "b459306c",
   "metadata": {},
   "outputs": [],
   "source": []
  },
  {
   "cell_type": "code",
   "execution_count": 12,
   "id": "f4b5d834",
   "metadata": {},
   "outputs": [],
   "source": [
    "from matplotlib.pyplot import *\n",
    "from numpy import *"
   ]
  },
  {
   "cell_type": "code",
   "execution_count": 87,
   "id": "d5d19662",
   "metadata": {},
   "outputs": [
    {
     "name": "stdout",
     "output_type": "stream",
     "text": [
      "128\n"
     ]
    }
   ],
   "source": [
    "fout = open('array_01.dat','rb')\n",
    "N = fromfile(fout,dtype=int32,count=1)[0]\n",
    "fout.close()\n",
    "print(N)\n",
    "\n",
    "# Create a Numpy dtype\n",
    "dt = dtype([('N',np.int32), \\\n",
    "            ('a',np.float64),\\\n",
    "            ('b',np.float64),\\\n",
    "            ('x',(np.float64,N+1)), \\\n",
    "            ('fx',(np.float64,N+1))])\n",
    "\n",
    "# read data from file\n",
    "fout = open('array_01.dat','rb')\n",
    "N,a,b,x,fx = fromfile(fout,dtype=dt,count=1)[0]\n",
    "fout.close()"
   ]
  },
  {
   "cell_type": "code",
   "execution_count": 77,
   "id": "12a86c22",
   "metadata": {},
   "outputs": [
    {
     "data": {
      "text/plain": [
       "(0.0, 1.0)"
      ]
     },
     "execution_count": 77,
     "metadata": {},
     "output_type": "execute_result"
    }
   ],
   "source": []
  },
  {
   "cell_type": "code",
   "execution_count": 88,
   "id": "10e10094",
   "metadata": {},
   "outputs": [
    {
     "data": {
      "text/plain": [
       "1.1102230246251565e-16"
      ]
     },
     "execution_count": 88,
     "metadata": {},
     "output_type": "execute_result"
    },
    {
     "data": {
      "image/png": "[encoded data removed]",
      "text/plain": [
       "<Figure size 640x480 with 1 Axes>"
      ]
     },
     "metadata": {},
     "output_type": "display_data"
    }
   ],
   "source": [
    "# Plot results here\n",
    "\n",
    "figure(1)\n",
    "clf()\n",
    "\n",
    "plot(x,fx,'r');\n",
    "\n",
    "# Compare to true solution\n",
    "plot(x,cos(pi*x),'b--');\n",
    "max(abs(fx-cos(pi*x)))"
   ]
  },
  {
   "cell_type": "markdown",
   "id": "afccc590",
   "metadata": {},
   "source": [
    "### Example 3 : Two dimensional arrays in C\n",
    "\n",
    "<hr style=\"border:2px solid black\"></hr>\n",
    "\n",
    "Statically defined 2d arrays in C can be allocated as follows: \n",
    "\n",
    "     int N = 64;\n",
    "     double fxy[N+1][N+1];\n",
    "     \n",
    "Then, we can access the entries in `fxy` as `fxy[i][j]`.  \n",
    "\n",
    "* When allocating \"automatic\" arrays, we don't need to worry about de-allocation. \n",
    "\n",
    "### To Do\n",
    "\n",
    "* Modify the code below to create a grid of values for the function $f(x,y) = \\cos(\\pi x)\\sin(\\pi y)$ on the domain $[-1,1] \\times [-1,1]$.    \n",
    "\n",
    "* Write out the data, along with any useful metadata. \n",
    "\n",
    "* Read the results back into Python, and plot the results using `imshow`. \n",
    "\n",
    "### Tips\n",
    "\n",
    "* The memory represented by `fx[N+1][N+1]` is a *contiguous* block of memory.  This means that you can write out the memory as a single $(N+1)^2$ 1d array.\n",
    "\n",
    "* Use the Numpy `reshape` function to reshape the 1d data into a 2d array for plotting\n",
    "\n",
    "* "
   ]
  },
  {
   "cell_type": "code",
   "execution_count": 100,
   "id": "65f87fbc",
   "metadata": {},
   "outputs": [
    {
     "name": "stdout",
     "output_type": "stream",
     "text": [
      "Overwriting array_02.c\n"
     ]
    }
   ],
   "source": [
    "%%file array_02.c\n",
    "\n",
    "#include <stdio.h>\n",
    "#include <stdlib.h>\n",
    "#include <math.h>\n",
    "\n",
    "double* allocate_1d(int n)\n",
    "{\n",
    "    double *mem = (double*) malloc(n*sizeof(double));\n",
    "    return &mem[0];\n",
    "}\n",
    "\n",
    "void free_1d(double **y)\n",
    "{\n",
    "    free(*y);\n",
    "    *y = NULL;\n",
    "}\n",
    "\n",
    "double  f(double x)\n",
    "{\n",
    "    return cos(x);\n",
    "}\n",
    "\n",
    "int main(int argv, char* argc)\n",
    "{\n",
    "    int N = 64;\n",
    "    \n",
    "    double a = 0; \n",
    "    double b = 1; \n",
    "    \n",
    "    double *x = allocate_1d(N+1);    \n",
    "    double *y = allocate_1d(N+1);\n",
    "\n",
    "    double h = (b-a)/N;\n",
    "    \n",
    "    for(int i = 0; i < N+1; i++)\n",
    "    {\n",
    "        x[i] = a + h*i;\n",
    "        y[i] = f(x[i]);\n",
    "    }\n",
    "    \n",
    "    double fxy[N+1][N+1];\n",
    "    \n",
    "    /* Assign valuels to f(x,y) using a double loop */\n",
    "    \n",
    "    \n",
    "    /* Add statements to write out data x, y and metadata N, a and b.  */\n",
    "    \n",
    "    free_1d(&x);\n",
    "    free_1d(&y);\n",
    "}"
   ]
  },
  {
   "cell_type": "code",
   "execution_count": 101,
   "id": "dd6527ef",
   "metadata": {},
   "outputs": [],
   "source": [
    "%%bash\n",
    "\n",
    "rm -rf array_02\n",
    "\n",
    "gcc -o array_02 array_02.c\n",
    "\n",
    "array_02"
   ]
  },
  {
   "cell_type": "code",
   "execution_count": 11,
   "id": "1a7621a4",
   "metadata": {},
   "outputs": [],
   "source": [
    "# Load data here"
   ]
  },
  {
   "cell_type": "code",
   "execution_count": 99,
   "id": "9e0c7885",
   "metadata": {},
   "outputs": [
    {
     "data": {
      "text/plain": [
       "<Figure size 640x480 with 0 Axes>"
      ]
     },
     "metadata": {},
     "output_type": "display_data"
    }
   ],
   "source": [
    "# Plot data here\n",
    "\n",
    "figure(3)\n",
    "clf()\n",
    "\n",
    "# e = [x[0],x[N],y[0],y[N]]\n",
    "# imshow(fxy,cmap=cm.Greys,aspect=True,extent=e,origin=\"lower\");\n"
   ]
  },
  {
   "cell_type": "code",
   "execution_count": null,
   "id": "04ab97db",
   "metadata": {},
   "outputs": [],
   "source": []
  }
 ],
 "metadata": {
  "kernelspec": {
   "display_name": "ipykernel",
   "language": "python",
   "name": "python3"
  },
  "language_info": {
   "codemirror_mode": {
    "name": "ipython",
    "version": 3
   },
   "file_extension": ".py",
   "mimetype": "text/x-python",
   "name": "python",
   "nbconvert_exporter": "python",
   "pygments_lexer": "ipython3",
   "version": "3.9.12"
  }
 },
 "nbformat": 4,
 "nbformat_minor": 5
}

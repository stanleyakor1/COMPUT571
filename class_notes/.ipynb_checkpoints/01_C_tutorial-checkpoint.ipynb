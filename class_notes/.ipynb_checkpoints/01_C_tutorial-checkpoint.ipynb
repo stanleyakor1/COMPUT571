{
 "cells": [
  {
   "cell_type": "markdown",
   "metadata": {},
   "source": [
    "<hr style=\"border:3px coral solid\"</hr>\n",
    "\n",
    "# A C Tutorial\n",
    "\n",
    "<hr style=\"border:3px coral solid\"</hr>\n",
    "\n",
    "\n",
    "The following series of simple functions should give you an idea as to how to use pointer variables, statically allocated arrays and dynamically allocated arrays. "
   ]
  },
  {
   "cell_type": "markdown",
   "metadata": {},
   "source": [
    "## Hello, Jupyter!\n",
    "\n",
    "<hr style=\"border:2px coral solid\"</hr>\n",
    "\n",
    "We can use Jupyter notebooks to compile and run simple C programs. \n",
    "\n",
    "In what follows, we will use the following Jupyter \"cell magic\" commands\n",
    "\n",
    "* `%%file <filename>`  Write the contents of a Jupyter notebook cell to a file `filename`, e.g. `%%file prog.c`.   \n",
    "\n",
    "* `%%bash` Run bash commands from a notebook cell.  These commands can also be run directly from a command line. \n",
    "\n",
    "Magic commands typically appear as the first line in a notebook cell. \n",
    "\n",
    "Below is a sample C program.  "
   ]
  },
  {
   "cell_type": "code",
   "execution_count": 1,
   "metadata": {},
   "outputs": [
    {
     "name": "stdout",
     "output_type": "stream",
     "text": [
      "Writing c_demo_01.c\n"
     ]
    }
   ],
   "source": [
    "%%file c_demo_01.c\n",
    "\n",
    "#include <stdio.h>\n",
    "\n",
    "int main(int argc, char** argv)\n",
    "{\n",
    "    printf(\"Hello, Jupyter!\\n\");\n",
    "    \n",
    "    return 0;\n",
    "}"
   ]
  },
  {
   "cell_type": "markdown",
   "metadata": {},
   "source": [
    "### Components of the C program\n",
    "\n",
    "This demo program has several components\n",
    "\n",
    "<hr style=\"border:1px solid black\"></hr>\n",
    "\n",
    "    %%file c_demo_01.c\n",
    "    \n",
    "This Jupyter magic command will save the contents of the Jupyter notebook cell to a file called `c_demo_01.c`.  This is a handy way to create text files that we can later read using a text editor, VSCode, or even a Jupyter notebook, when opened as \"plain text\". \n",
    "\n",
    "To see that the file was written correctly, you should see `Writing c_demo_01.c` in an output cell.  From the syntax highlighting, we can see that the notebook actually understands C.  \n",
    "\n",
    "We can see that the file was creating by checking the input using the line magic `%cat`. "
   ]
  },
  {
   "cell_type": "code",
   "execution_count": 2,
   "metadata": {},
   "outputs": [
    {
     "name": "stdout",
     "output_type": "stream",
     "text": [
      "\r\n",
      "#include <stdio.h>\r\n",
      "\r\n",
      "int main(int argc, char** argv)\r\n",
      "{\r\n",
      "    printf(\"Hello, Jupyter!\\n\");\r\n",
      "    \r\n",
      "    return 0;\r\n",
      "}\r\n"
     ]
    }
   ],
   "source": [
    "%cat c_demo_01.c"
   ]
  },
  {
   "cell_type": "markdown",
   "metadata": {},
   "source": [
    "You can also open this file in any text editor. \n",
    "\n",
    "*We use `%%file` here for  demonstration purposes. However, it is suggested that you use a real text editor, designed for C, to actually write programs.  Some examples include Emacs, VI, VIM, VSCode, Sublime, Atom.*"
   ]
  },
  {
   "cell_type": "markdown",
   "metadata": {},
   "source": [
    "<hr style=\"border:1px solid black\"></hr>\n",
    "\n",
    "    #include <stdio.h>\n",
    "    \n",
    "An `#include` statement is acts like the `import` statement in Python.  We include `stdio.h` (read \"standard I/O\") here so we can call the `printf` function from the body of our code. \n",
    "\n",
    "Files with a `.h` extension are called *header files* and are needed to provide the format that a given function will take.  "
   ]
  },
  {
   "cell_type": "markdown",
   "metadata": {},
   "source": [
    "<hr style=\"border:1px solid black\"></hr>\n",
    "\n",
    "    int main(int argc, char** argv)\n",
    "    \n",
    "Every C program has to have a `main` function. This function contains the entry point for the executable.  The arguments to this function are \n",
    "\n",
    "  * **argc**   The number of input arguments (read from the command line)\n",
    "    \n",
    "  * **argv**   The names of the input arguments (an array of strings)\n",
    "\n",
    "The `int` keyword indicates that the `main` function may return an integer exit code.  \n",
    "\n",
    "*Not all compilers will require the return `int`.*"
   ]
  },
  {
   "cell_type": "markdown",
   "metadata": {},
   "source": [
    "<hr style=\"border:1px solid black\"></hr>\n",
    "    \n",
    "The body of the code is delineated using braces `{}`, (e.g. \"curly braces\"). \n",
    "\n",
    "    int main(int argc, char** argv)\n",
    "    {\n",
    "        printf(\"Hello, Jupyter!\\n\");\n",
    "\n",
    "        return 0;\n",
    "    }\n",
    "\n",
    "The code contains a single print statement using the `printf` function (note the **f** at the end), and a return code (0 in this case). \n",
    "\n",
    "*The `printf` statement in C does not automatically include a new line character.  It will generally be necessary to include `\\n` at the end of a any string to be printed to the console using `printf`.*"
   ]
  },
  {
   "cell_type": "markdown",
   "metadata": {},
   "source": [
    "<hr style=\"border:1px solid black\"></hr>\n",
    "\n",
    "Some differences between Python and C : \n",
    "\n",
    "* Every line in the C program must end with a semicolon (\";\"). \n",
    "\n",
    "* Curly braces `{}` (or just \"braces\", as opposed to brackets `[]` or parenthesis `()`) are used to delineate \"scope\".  In Python, scope is delineated using indentation.\n",
    "\n",
    "* Unlike Python, all strings must be delineated using double quotes, e.g. `\"a string\"`.   Single quotes are reserved for single characters only."
   ]
  },
  {
   "cell_type": "markdown",
   "metadata": {},
   "source": [
    "### Compiling the code\n",
    "\n",
    "We compile the code at a `bash` command line using the compiler `gcc`.  `gcc` is a standard 'GNU'.  Depending on your machine, `gcc` may also be a CLang compiler. "
   ]
  },
  {
   "cell_type": "markdown",
   "metadata": {},
   "source": [
    "To test if we have a C compiler, try the following"
   ]
  },
  {
   "cell_type": "code",
   "execution_count": 3,
   "metadata": {},
   "outputs": [
    {
     "name": "stdout",
     "output_type": "stream",
     "text": [
      "/usr/bin/gcc\n"
     ]
    }
   ],
   "source": [
    "%%bash \n",
    "\n",
    "which gcc"
   ]
  },
  {
   "cell_type": "markdown",
   "metadata": {},
   "source": [
    "This is the C compiler that is found when typing `gcc` on the command line.  We can see waht version this is by passing in a `--version` flag. "
   ]
  },
  {
   "cell_type": "code",
   "execution_count": 4,
   "metadata": {},
   "outputs": [
    {
     "name": "stdout",
     "output_type": "stream",
     "text": [
      "Apple clang version 14.0.0 (clang-1400.0.29.202)\n",
      "Target: x86_64-apple-darwin21.6.0\n",
      "Thread model: posix\n",
      "InstalledDir: /Applications/Xcode.app/Contents/Developer/Toolchains/XcodeDefault.xctoolchain/usr/bin\n"
     ]
    }
   ],
   "source": [
    "%%bash\n",
    "\n",
    "gcc --version"
   ]
  },
  {
   "cell_type": "markdown",
   "metadata": {},
   "source": [
    "On Apple Macs, it will be necessary to install the Command Line Tools (part of Xcode).  The compiler that comes with command line tools is a `Clang` compiler. "
   ]
  },
  {
   "cell_type": "code",
   "execution_count": null,
   "metadata": {},
   "outputs": [],
   "source": [
    "%%bash\n",
    "\n",
    "/Library/Developer/CommandLineTools/usr/bin/gcc --version"
   ]
  },
  {
   "cell_type": "markdown",
   "metadata": {},
   "source": [
    "To compiler our sample code, we use the command\n",
    "\n",
    "    gcc -o c_demo_01 c_demo_01.c\n",
    "\n",
    "The `-o` flag tells the compiler to create an executable `c_demo_01`.  The filename of the file containing the code follows this statement.  \n",
    "\n",
    "If the compiler successfully compilers our code, we will not see any output.  "
   ]
  },
  {
   "cell_type": "code",
   "execution_count": 5,
   "metadata": {},
   "outputs": [],
   "source": [
    "%%bash\n",
    "\n",
    "gcc -o c_demo_01 c_demo_01.c"
   ]
  },
  {
   "cell_type": "markdown",
   "metadata": {},
   "source": [
    " The `ls` statement will show us that an executable, indicated with multiple `x`s in the file descriptor, was successfully created. "
   ]
  },
  {
   "cell_type": "code",
   "execution_count": 6,
   "metadata": {},
   "outputs": [
    {
     "name": "stdout",
     "output_type": "stream",
     "text": [
      "-rwxr-xr-x  2 stanleyakor  BOISESTATE\\Domain Users    48K Feb  6 15:26 c_demo_01\n"
     ]
    }
   ],
   "source": [
    "%%bash \n",
    "\n",
    "# List the executable just created. \n",
    "ls -lh c_demo_01"
   ]
  },
  {
   "cell_type": "markdown",
   "metadata": {},
   "source": [
    "### Running the code\n",
    "\n",
    "To run the code, we type the name of the executable on the command line. "
   ]
  },
  {
   "cell_type": "code",
   "execution_count": 9,
   "metadata": {},
   "outputs": [
    {
     "name": "stdout",
     "output_type": "stream",
     "text": [
      "Hello, Jupyter!\n"
     ]
    }
   ],
   "source": [
    "%%bash \n",
    "\n",
    "./c_demo_01"
   ]
  },
  {
   "cell_type": "markdown",
   "metadata": {},
   "source": [
    "<hr style=\"border:2px coral solid\"</hr>\n",
    "\n",
    "## Variables and data types in C\n",
    "\n",
    "<hr style=\"border:2px coral solid\"</hr>\n",
    "\n",
    "All variables in C are *strongly typed*. This means that not only must we first initialize a value before using it (as in Python), we must also *declare its type*.  For example\n",
    "\n",
    "     double x;\n",
    "     x = 1.2; \n",
    "     \n",
    "The above declares the variable `x` as a type double (e.g. double precision, or 64bit).  Using shorthand notation, we can both declare the type and assign a value in a single statement. \n",
    "\n",
    "     double x = 1.2;  \n",
    "     \n",
    "Other data types are `int` (32 bit integers) and `char` (for characters and string variables).  Examples include\n",
    "\n",
    "     int m = 4;      \n",
    "     char c = 'c';\n",
    "     \n",
    "A string variable is an array of characters, and as such, must be declared using a pointer variable `char*`.    \n",
    "     \n",
    "     char* msg = \"Hello, World!\";  \n",
    "     \n",
    "We discuss pointers and more below.      \n",
    "\n",
    "In the following sample program, we demonstrate each of these data types, and show how to assign them and print them out. \n"
   ]
  },
  {
   "cell_type": "code",
   "execution_count": null,
   "metadata": {},
   "outputs": [],
   "source": [
    "%%file c_demo_02.c\n",
    "\n",
    "#include <stdio.h>\n",
    "\n",
    "int main(int argc, char** argv)\n",
    "{\n",
    "    double x = 1.2;   \n",
    "    printf(\"x = %12.4f\\n\",x);\n",
    "        \n",
    "    int m = 10;\n",
    "    printf(\"m = %d\\n\",m);\n",
    "    \n",
    "    char* msg = \"Hello, World!\";\n",
    "    printf(\"Greeting : %s\\n\",msg);\n",
    "\n",
    "    return 0;\n",
    "}\n"
   ]
  },
  {
   "cell_type": "markdown",
   "metadata": {},
   "source": [
    "The `printf` statement takes a format specifiers to format the numeric values. \n",
    "\n",
    "   Other examples of format specifiers include \n",
    "\n",
    "\n",
    "   * `%12.4f` Format a floating point value using a fixed point format in a field of width 12.  Show 4 digits after the decimal place. \n",
    "\n",
    "   * `%16.8e` Format a floating point number using exponential notation (e.g. `1.2E+01`) using a format field of width 16, with 8 digits after the decimal represented. \n",
    "\n",
    "   * `%10d` Format an integer in a field of width 10. \n"
   ]
  },
  {
   "cell_type": "markdown",
   "metadata": {},
   "source": [
    "### Compile and run example"
   ]
  },
  {
   "cell_type": "code",
   "execution_count": null,
   "metadata": {},
   "outputs": [],
   "source": [
    "%%bash \n",
    "\n",
    "# Compile executable to program `c_demo_02`\n",
    "gcc -o c_demo_02 c_demo_02.c\n",
    "\n",
    "# Execute code\n",
    "c_demo_02"
   ]
  },
  {
   "cell_type": "markdown",
   "metadata": {},
   "source": [
    "### Referencing by value\n",
    "\n",
    "<hr style=\"border: 2px solid black\"</hr>\n",
    "\n",
    "A significant difference between Python and C is that in C, we can reference variables either by *value* or by *reference*.  \n",
    "\n",
    "We are already familar with what it means to reference a variable by *value*. \n",
    "\n",
    "      double x = 1.2;\n",
    "      double y = x;\n",
    "      \n",
    "Here, the *value* stored in the variable `x` is copied to the variable `y`.  If we later decide to change the value of `x`, the value of `y` will not be affected.  \n",
    "\n"
   ]
  },
  {
   "cell_type": "code",
   "execution_count": null,
   "metadata": {},
   "outputs": [],
   "source": [
    "%%file c_demo_03.c\n",
    "\n",
    "#include <stdio.h>\n",
    "\n",
    "int main(int argc, char** argv)\n",
    "{\n",
    "    double x = 1.14;\n",
    "    \n",
    "    double y = x;    \n",
    "    printf(\"y         = %g\\n\",y);\n",
    "    \n",
    "    x  = 5.4;\n",
    "    printf(\"y (again) = %g\\n\",y);\n",
    "\n",
    "    return 0;\n",
    "}\n"
   ]
  },
  {
   "cell_type": "code",
   "execution_count": null,
   "metadata": {},
   "outputs": [],
   "source": [
    "%%bash\n",
    "\n",
    "gcc -o c_demo_03 c_demo_03.c\n",
    "\n",
    "c_demo_03"
   ]
  },
  {
   "cell_type": "markdown",
   "metadata": {},
   "source": [
    "### Referencing by memory address\n",
    "\n",
    "<hr style=\"border: 2px solid black\"</hr>\n",
    "\n",
    "This situation changes if we refer to `x` by reference.  To refer to the address of `x` rather than its value, we use `&`. \n",
    "\n",
    "     double x = 1.2;\n",
    "     printf(\"Address of x : %p\\n\",&x);\n",
    "     "
   ]
  },
  {
   "cell_type": "code",
   "execution_count": null,
   "metadata": {},
   "outputs": [],
   "source": [
    "%%file c_demo_04.c\n",
    "\n",
    "#include <stdio.h>\n",
    "\n",
    "int main(int argc, char** argv)\n",
    "{\n",
    "    double x = 1.14; \n",
    "    printf(\"Address of x : %p\\n\",&x);\n",
    "    return 0;\n",
    "}\n"
   ]
  },
  {
   "cell_type": "code",
   "execution_count": null,
   "metadata": {},
   "outputs": [],
   "source": [
    "%%bash\n",
    "\n",
    "gcc -o c_demo_04 c_demo_04.c\n",
    "\n",
    "c_demo_04"
   ]
  },
  {
   "cell_type": "markdown",
   "metadata": {},
   "source": [
    "This address is a hexidecimal value that refers directly to a location in memory.  We can directly manipulate the value stored in this location through the use of a *pointer* variable. \n",
    "\n",
    "The value of a pointer variable is a memory address (not the value stored in the address). To declare a variable as a pointer variable, we use `*y` in the variable declaration.  \n",
    "\n",
    "     double x = 1.2;\n",
    "     double *y;\n",
    "     y  = &x;  /* Assign address to y */\n",
    "     \n",
    "     printf(\"Address of x : %p\\n\",&x);\n",
    "     printf(\"Value of y   : %p\\n\",y);\n",
    "     \n",
    "This will assign the address of `x` to the pointer variable `y`. "
   ]
  },
  {
   "cell_type": "code",
   "execution_count": null,
   "metadata": {},
   "outputs": [],
   "source": [
    "%%file c_demo_05.c\n",
    "\n",
    "#include <stdio.h>\n",
    "\n",
    "int main(int argc, char** argv)\n",
    "{\n",
    "    double x = 1.14; \n",
    "    double *y;\n",
    "    y = &x;    /* Assign address to y */\n",
    "    printf(\"Address of x : &x = %p\\n\",&x);\n",
    "    printf(\"Value of y   :  y = %p\\n\",y);    \n",
    "    return 0;\n",
    "}\n"
   ]
  },
  {
   "cell_type": "code",
   "execution_count": null,
   "metadata": {},
   "outputs": [],
   "source": [
    "%%bash\n",
    "\n",
    "gcc -o c_demo_05 c_demo_05.c\n",
    "\n",
    "c_demo_05"
   ]
  },
  {
   "cell_type": "markdown",
   "metadata": {},
   "source": [
    "### De-referencing a memory address\n",
    "\n",
    "<hr style=\"border: 2px solid black\"</hr>\n",
    "\n",
    "We can obtain the value stored by `x` indirectly by *de-referencing* the pointer variable `y`. \n",
    "\n",
    "     double x = 1.2;\n",
    "     double *y;\n",
    "     y = &x;\n",
    "     \n",
    "     printf(\"Value stored at y : %g\\n\",*y);\n",
    "     \n",
    "We de-reference a pointer variable using `*y`.  \n",
    "\n",
    "#### Note\n",
    "\n",
    "* Try not to be confused by the *declaration* of a pointer variable using `double *y` and the *de-referencing* of a pointer variable using `*y`.  "
   ]
  },
  {
   "cell_type": "code",
   "execution_count": null,
   "metadata": {},
   "outputs": [],
   "source": [
    "%%file c_demo_06.c\n",
    "\n",
    "#include <stdio.h>\n",
    "\n",
    "int main(int argc, char** argv)\n",
    "{\n",
    "    double x = 1.14; \n",
    "    \n",
    "    printf(\"Value of x         (x) : %g\\n\",x);\n",
    "    printf(\"Address of x      (&x) : %p\\n\",&x);\n",
    "    printf(\"\\n\");\n",
    "    \n",
    "    double *y;\n",
    "    y = &x;\n",
    "    printf(\"Value of y         (y) : %p\\n\",y);\n",
    "    printf(\"Value stored at y (*y) : %g\\n\",*y);\n",
    "\n",
    "    return 0;\n",
    "}\n"
   ]
  },
  {
   "cell_type": "code",
   "execution_count": null,
   "metadata": {},
   "outputs": [],
   "source": [
    "%%bash\n",
    "\n",
    "gcc -o c_demo_06 c_demo_06.c\n",
    "\n",
    "c_demo_06"
   ]
  },
  {
   "cell_type": "markdown",
   "metadata": {},
   "source": [
    "One of two main uses of pointer variables is to modify directly the value stored in a particular memory location.   \n",
    "\n",
    "For example, the following will change the value of `x` by de-referencing a pointer variable `y`. "
   ]
  },
  {
   "cell_type": "code",
   "execution_count": null,
   "metadata": {},
   "outputs": [],
   "source": [
    "%%file c_demo_07.c\n",
    "\n",
    "#include <stdio.h>\n",
    "\n",
    "int main(int argc, char** argv)\n",
    "{\n",
    "    double x = 1.2;\n",
    "    printf(\"x = %g\\n\",x);\n",
    "      \n",
    "    double *y = &x;       \n",
    "    *y = 3.5; \n",
    "    printf(\"x = %g\\n\",x);\n",
    "    \n",
    "    return 0;\n",
    "}\n"
   ]
  },
  {
   "cell_type": "code",
   "execution_count": null,
   "metadata": {},
   "outputs": [],
   "source": [
    "%%bash\n",
    "\n",
    "gcc -o c_demo_07 c_demo_07.c\n",
    "c_demo_07"
   ]
  },
  {
   "cell_type": "markdown",
   "metadata": {},
   "source": [
    "The fact that C gives us such low level access to memory locations can be used for both good and evil!"
   ]
  },
  {
   "cell_type": "markdown",
   "metadata": {},
   "source": [
    "<hr style=\"border:3px solid coral\"</hr>\n",
    "\n",
    "## Arrays\n",
    "\n",
    "<hr style=\"border:3px solid coral\"</hr>\n",
    "\n",
    "Static arrays are arrays whose size cannot change once it has been declared.  Furthermore, any spaced used for the static array cannot be \"freed\" during runtime. \n",
    "\n",
    "Some array similarities with Python\n",
    "\n",
    "* Arrays are indexed starting with 0. \n",
    "\n",
    "* We access elements of an array using brackets `[]`.  \n",
    "\n",
    "Unlike Python, if we try to access an element that is outside the bounds of the array, we don't generally get an error. But we can expect strange uninitialized values. "
   ]
  },
  {
   "cell_type": "code",
   "execution_count": null,
   "metadata": {},
   "outputs": [],
   "source": [
    "%%file c_demo_08.c\n",
    "\n",
    "#include <stdio.h>\n",
    "\n",
    "int main(int argc, char** argv)\n",
    "{\n",
    "    double x[3]; \n",
    "\n",
    "    for(int i = 0; i < 3; i++)\n",
    "    {\n",
    "        x[i] = i*3.14159;\n",
    "    }\n",
    "    \n",
    "    printf(\"x[0] = %g\\n\",x[0]);\n",
    "    printf(\"x[1] = %g\\n\",x[1]);\n",
    "    printf(\"x[2] = %g\\n\",x[2]);\n",
    "    printf(\"\\n\");\n",
    "    printf(\"x[3] (out of bounds!) %g\\n\",x[3]);\n",
    "    \n",
    "    return 0;\n",
    "}"
   ]
  },
  {
   "cell_type": "code",
   "execution_count": null,
   "metadata": {},
   "outputs": [],
   "source": [
    "%%bash \n",
    "\n",
    "gcc -o c_demo_08 c_demo_08.c\n",
    "\n",
    "c_demo_08"
   ]
  },
  {
   "cell_type": "markdown",
   "metadata": {},
   "source": [
    "### Connection between arrays and pointers\n",
    "\n",
    "Arrays variables are actually *pointer* variables.   That is, the value of `x` in the following is an address. \n",
    "\n",
    "     double x[3];\n",
    "     printf(\"Value of x : %p\\n\",x);\n",
    "\n",
    "Moreover, we can assign `x` to another pointer variable. \n",
    "\n",
    "     double *y = x;\n",
    "     \n",
    "We can then use `y` as a replacement for `x`.  Elements of `x` can be accessed and modified using `y[]`. "
   ]
  },
  {
   "cell_type": "code",
   "execution_count": null,
   "metadata": {},
   "outputs": [],
   "source": [
    "%%file c_demo_09.c\n",
    "\n",
    "#include <stdio.h>\n",
    "\n",
    "int main(int argc, char** argv)\n",
    "{\n",
    "    double x[3] = {1.,2.,3.}; \n",
    "    \n",
    "    \n",
    "    printf(\"x[0] = %f\\n\",x[0]);\n",
    "    printf(\"x[1] = %f\\n\",x[1]);\n",
    "    printf(\"x[2] = %f\\n\",x[2]);\n",
    "    printf(\"\\n\");\n",
    "    \n",
    "    double *y = x;\n",
    "    y[1] = 15;\n",
    "    \n",
    "    printf(\"x[0] = %f\\n\",x[0]);\n",
    "    printf(\"x[1] = %f\\n\",x[1]);\n",
    "    printf(\"x[2] = %f\\n\",x[2]);\n",
    "    \n",
    "    return 0;\n",
    "}"
   ]
  },
  {
   "cell_type": "code",
   "execution_count": null,
   "metadata": {},
   "outputs": [],
   "source": [
    "%%bash \n",
    "\n",
    "gcc -o c_demo_09 c_demo_09.c\n",
    "\n",
    "c_demo_09"
   ]
  },
  {
   "cell_type": "markdown",
   "metadata": {},
   "source": [
    "However, `x` is not a pointer variable in the sense that we can set its address to a new location.   Attempting \n",
    "\n",
    "    double z = 1.0;\n",
    "    x = &z;     \n",
    "    \n",
    "will result in an error, since the variable `x` is statically bound to the memory location fixed at compile time. \n",
    "\n",
    "    c_demo_09.c: In function 'main':\n",
    "    c_demo_09.c:22:7: error: assignment to expression with array type\n",
    "       22 |     x = &z;\n",
    "          |       ^\n"
   ]
  },
  {
   "cell_type": "markdown",
   "metadata": {},
   "source": [
    "<hr style=\"border:2px coral solid\"</hr>\n",
    "\n",
    "## Dynamically allocated arrays\n",
    "\n",
    "<hr style=\"border:2px coral solid\"</hr>\n",
    "\n",
    "We can allocate memory dynamically to get more flexible array sizes. We also have to be sure to delete the memory when we are done. "
   ]
  },
  {
   "cell_type": "code",
   "execution_count": null,
   "metadata": {},
   "outputs": [],
   "source": [
    "%%file c_demo_10.c\n",
    "\n",
    "#include <stdio.h>\n",
    "#include <stdlib.h>\n",
    "\n",
    "int main(int argc, char** argv)\n",
    "{\n",
    "    int n = 5;\n",
    "    size_t bytes = n*sizeof(int);\n",
    "    double *x = (double*) malloc(bytes);\n",
    "    \n",
    "    for(int i = 0; i < n; i++)\n",
    "    {\n",
    "        x[i] = i;\n",
    "    }\n",
    "    \n",
    "    printf(\"x[n-1] = %f\\n\",x[n-1]);\n",
    "    \n",
    "    free(x);\n",
    "    return 0;\n",
    "}"
   ]
  },
  {
   "cell_type": "code",
   "execution_count": null,
   "metadata": {},
   "outputs": [],
   "source": [
    "%%bash\n",
    "\n",
    "gcc -o c_demo_10 c_demo_10.c\n",
    "\n",
    "c_demo_10"
   ]
  },
  {
   "cell_type": "code",
   "execution_count": null,
   "metadata": {},
   "outputs": [],
   "source": []
  },
  {
   "cell_type": "code",
   "execution_count": null,
   "metadata": {},
   "outputs": [],
   "source": []
  }
 ],
 "metadata": {
  "kernelspec": {
   "display_name": "ipykernel",
   "language": "python",
   "name": "python3"
  },
  "language_info": {
   "codemirror_mode": {
    "name": "ipython",
    "version": 3
   },
   "file_extension": ".py",
   "mimetype": "text/x-python",
   "name": "python",
   "nbconvert_exporter": "python",
   "pygments_lexer": "ipython3",
   "version": "3.9.12"
  }
 },
 "nbformat": 4,
 "nbformat_minor": 2
}

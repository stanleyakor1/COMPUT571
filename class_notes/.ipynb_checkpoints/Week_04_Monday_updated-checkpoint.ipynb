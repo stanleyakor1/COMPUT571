{
 "cells": [
  {
   "cell_type": "markdown",
   "metadata": {},
   "source": [
    "<hr style=\"border-width:4px; border-color:coral\"/>\n",
    "\n",
    "# Creating fractals\n",
    "<hr style=\"border-width:4px; border-color:coral\"/>\n",
    "\n",
    "Fractals are fascinating images that can be computed using a very simple fixed-point type iteration.  And because the iterations run independently, algorithms for fractal generation parallelize very naturally.  The code below illustrate the Julia fractal.  You can read more about Julia fractals on this <a href=\"https://en.wikipedia.org/wiki/Julia_set\">Wikipedia page</a>."
   ]
  },
  {
   "cell_type": "code",
   "execution_count": 1,
   "metadata": {},
   "outputs": [],
   "source": [
    "%matplotlib inline\n",
    "from matplotlib.pyplot import *\n",
    "from numpy import *\n",
    "\n",
    "from matplotlib import colors\n",
    "import warnings\n",
    "import multiprocessing as mp\n",
    "mp.set_start_method('fork')\n",
    "\n",
    "warnings.simplefilter(\"ignore\")   # Suppress overflow run time warnings"
   ]
  },
  {
   "cell_type": "markdown",
   "metadata": {},
   "source": [
    "The basic algorithm for computing Julia fractals is an iterative scheme, based on the following idea. \n",
    "\n",
    "Given a number $z_0 = x  + iy$ in the complex plane, generate iterates\n",
    "\n",
    "\\begin{equation*}\n",
    "z_{k+1} = g(z_k)\n",
    "\\end{equation*}\n",
    "\n",
    "where $g(z)$ is a prescribed function.  For example, the Julia fractal below uses $g(z) = z^2 + c$ where $c$ is a complex number.   \n",
    "\n",
    "We generate these iterates for every point $z_0$ in a region $D$ in the complex plane \n",
    "(e.g. $z \\in D = [-2,2]x[-2,2]$).  Then, we color each point in the region $D$ based on how quickly the sequence $\\{z_{k}\\}$ diverges.  To determine divergence, we measure $|z_k| = \\sqrt{x^2 + y^2}$.  The sequence $z_k$ is said to have an \"escape time\" $K(z)$ if $|z_k| > \\rho$, for all $k > K(z)$, for some $\\rho \\in R$ (fixed for all $z$ in $D$). If, after some predetermined $K_{max}$, we have $|z_k| < \\rho, k \\ge K_{max}$, we assign the escape time as $K(z_k) = \\infty$.  For these values, the sequence $z_k$ does not diverge.  \n",
    "\n",
    "Once every point $z \\in D$ has an escape time $K(z)$, we can then color the domain by assigning colors to each integer value $K(z)$.  \n",
    "\n",
    "The following code creates an $N \\times N$ grid of values in the domain $[a_x,b_x\\ \\times [a_y,b_y]$.  The code iterates on each point in the domain to compute an escape time. \n",
    "\n",
    "Initially, all escape time are set to a maximum value $k_{max}$.  Escapes times are updated to values smaller than $k_{max}$ as the iterations proceed. "
   ]
  },
  {
   "cell_type": "code",
   "execution_count": 2,
   "metadata": {},
   "outputs": [],
   "source": [
    "res = 1024    # Resolution\n",
    "kmax = 1500\n",
    "\n",
    "domain_width = 4\n",
    "xc = 0\n",
    "yc = 0\n",
    "\n",
    "# Choice from Mandelbrot set\n",
    "c = -0.8+0.156*1j"
   ]
  },
  {
   "cell_type": "code",
   "execution_count": 3,
   "metadata": {},
   "outputs": [],
   "source": [
    "def julia_set(ax,bx,ay,by, Nx, Ny, kmax,c):\n",
    "    \n",
    "    # Generate points in complex planes D\n",
    "    xe = linspace(ax,bx, Nx+1).astype(float64)\n",
    "    ye = linspace(ay,by, Ny+1).astype(float64)\n",
    "    dx = (bx-ax)/N\n",
    "    dy = (by-ay)/N\n",
    "    xc = xe[:-1] + dx/2            \n",
    "    yc = ye[:-1] + dy/2            \n",
    "\n",
    "    # Set of initial values Z0\n",
    "    zk = xc + yc[:, None] * 1j\n",
    "    \n",
    "    # Constant needed for Julia fractal : g(z) = z^2 + c\n",
    "    C = zeros_like(zk) + c\n",
    "    \n",
    "    # Divergence criteria\n",
    "    rho = 2.0\n",
    "    \n",
    "    # Vectorize the computation of g(z); Use \n",
    "    escape_time = zeros_like(zk,dtype=int) + kmax\n",
    "    for n in range(kmax):\n",
    "#         if N < 32:\n",
    "#             print(f\"Iteration {n}\\n\")\n",
    "#             print(escape_time)\n",
    "#             print(\"\")\n",
    "        escaped = less(escape_time,kmax)\n",
    "        if all(escaped):\n",
    "            # print(f\"Breaking at n = {n}\\n\")\n",
    "            break\n",
    "        I = logical_and(greater(abs(zk), rho),logical_not(escaped))\n",
    "        escape_time[I] = n\n",
    "        notI = not_equal(I,True)\n",
    "        zk[notI] = zk[notI]**2 + C[notI]\n",
    "    Iz = equal(escape_time,kmax)\n",
    "    nz = count_nonzero(Iz)  # Number of zero values who never escaped\n",
    "    return zk, escape_time,nz"
   ]
  },
  {
   "cell_type": "code",
   "execution_count": null,
   "metadata": {},
   "outputs": [],
   "source": [
    "%%time\n",
    "\n",
    "# dimensions of D\n",
    "ax, bx = xc - domain_width/2, xc + domain_width/2\n",
    "ay, by = yc - domain_width/2, yc + domain_width/2\n",
    "\n",
    "N = res\n",
    "\n",
    "Z, M, nz = julia_set(ax, bx, ay, by, N, N, kmax,c)\n",
    "print(f\"Number of values that did not escape {nz}\")"
   ]
  },
  {
   "cell_type": "markdown",
   "metadata": {},
   "source": [
    "## Plot results\n",
    "\n",
    "We can show the results in the notebook using `imshow`.  But we will save them to a file using `imsave`. "
   ]
  },
  {
   "cell_type": "code",
   "execution_count": null,
   "metadata": {
    "scrolled": false
   },
   "outputs": [],
   "source": [
    "%%time\n",
    "\n",
    "dpi = 16         # Figure might not show up in the notebook if dpi is too high;  but PNG file will be created (below).\n",
    "\n",
    "# Show image in notebook\n",
    "imshow(M,vmin=0,vmax=kmax/5,origin='lower',cmap=cm.RdBu)\n",
    "gca().axis('off')\n",
    "\n",
    "# Save image to PNG file. Use 'imsave' so we won't get any border or padding\n",
    "imsave(\"fractal_01.png\",M,vmin=0,vmax=kmax/5,cmap=cm.RdBu,dpi=dpi,origin='lower')\n"
   ]
  },
  {
   "cell_type": "markdown",
   "metadata": {},
   "source": [
    "\n",
    "\n",
    "<hr style=\"border-width:4px; border-color:coral\"/>\n",
    "\n",
    "## Accelerating the fractal\n",
    "\n",
    "<hr style=\"border-width:4px; border-color:coral\"/>"
   ]
  },
  {
   "cell_type": "code",
   "execution_count": null,
   "metadata": {},
   "outputs": [],
   "source": [
    "import time\n",
    "\n",
    "# Break up the domain into quadrants.\n",
    "dcount = 4\n",
    "dw = 4/dcount   # Width of each quadrant\n",
    "de = linspace(-2,2,dcount+1)   # \n",
    "\n",
    "# Resolution of each quadrant\n",
    "N = res//dcount"
   ]
  },
  {
   "cell_type": "code",
   "execution_count": null,
   "metadata": {},
   "outputs": [],
   "source": [
    "de"
   ]
  },
  {
   "cell_type": "code",
   "execution_count": null,
   "metadata": {},
   "outputs": [],
   "source": [
    "%%time\n",
    "\n",
    "# Keep track of number of values that \"dont' escape\"\n",
    "nz_total = 0\n",
    "nz_array = empty((dcount,dcount),dtype='int')\n",
    "\n",
    "F = empty((res,res))\n",
    "T = empty((dcount,dcount))\n",
    "for i in range(dcount):\n",
    "    for j in range(dcount):\n",
    "        ax,bx = de[i],de[i+1]\n",
    "        ay,by = de[j],de[j+1]\n",
    "        \n",
    "        t0 = time.time()\n",
    "        Z, M, nz = julia_set(ax, bx, ay, by, N, N, kmax,c)\n",
    "        t1 = time.time()\n",
    "        \n",
    "        etime = 1000*(t1-t0)\n",
    "        T[j,i] = etime\n",
    "        \n",
    "        nz_total += nz\n",
    "        nz_array[j,i] = nz\n",
    "        \n",
    "        # Swap i and j\n",
    "        F[j*N:(j+1)*N,i*N:(i+1)*N] = M\n",
    "        \n",
    "print(f\"Number of values that did not escape {nz_total}\")"
   ]
  },
  {
   "cell_type": "code",
   "execution_count": null,
   "metadata": {},
   "outputs": [],
   "source": [
    "fstr = {'float' : \"{:8.2f}\".format, 'int' : \"{:6d}\".format}\n",
    "set_printoptions(formatter=fstr)\n",
    "\n",
    "print(\"Time\")\n",
    "print(T)\n",
    "print(\"\")\n",
    "\n",
    "print(\"Zero count\")\n",
    "print(nz_array)\n",
    "\n"
   ]
  },
  {
   "cell_type": "code",
   "execution_count": null,
   "metadata": {
    "scrolled": true
   },
   "outputs": [],
   "source": [
    "# Show image in notebook\n",
    "imshow(F,vmin=0,vmax=kmax/5,origin='lower',cmap=cm.RdBu)\n",
    "gca().axis('off')\n",
    "\n",
    "# Save image to PNG file. Use 'imsave' so we won't get any border or padding\n",
    "imsave(\"fractal_02.png\",F,vmin=0,vmax=kmax/5,cmap=cm.RdBu,dpi=dpi,origin='lower')"
   ]
  },
  {
   "cell_type": "markdown",
   "metadata": {},
   "source": [
    "<hr style=\"border-width:4px; border-color:coral\"/>\n",
    "\n",
    "##  Parallel version : Using a queue\n",
    "\n",
    "<hr style=\"border-width:4px; border-color:coral\"/>\n",
    "\n",
    "Your homework problem will be to create a parallel version of the above code using the multiprocessing module.  \n",
    "\n",
    "* Try first using a queue and shared arrays"
   ]
  },
  {
   "cell_type": "code",
   "execution_count": null,
   "metadata": {},
   "outputs": [],
   "source": [
    "import multiprocessing as mp"
   ]
  },
  {
   "cell_type": "code",
   "execution_count": null,
   "metadata": {},
   "outputs": [],
   "source": [
    "%%time \n",
    "\n",
    "# Create target function \n",
    "def target_func(queue):\n",
    "    ax,bx,ay,by,N,kmax,c = queue.get()\n",
    "    _, M, nz = julia_set(ax,bx,ay,by, N, N, kmax,c)\n",
    "        \n",
    "    nz_total.value += nz\n",
    "\n",
    "\n",
    "# Create shared arrays\n",
    "fdata = empty(res*res).astype('int')\n",
    "F = mp.Array('i',fdata)\n",
    "\n",
    "nz_total = mp.Value('i',0)\n",
    "\n",
    "# Create items for a queue\n",
    "queue = mp.Queue()\n",
    "\n",
    "for i in range(dcount):\n",
    "    for j in range(dcount):\n",
    "        ax,bx = de[i],de[i+1]\n",
    "        ay,by = de[j],de[j+1]\n",
    "        queue.put((ax,bx,ay,by,N,kmax,c))\n",
    "                \n",
    "# Call processors\n",
    "njobs = dcount**2\n",
    "jobs = []\n",
    "for i in range(njobs):\n",
    "    p = mp.Process(target=target_func,args=(queue,))\n",
    "    jobs.append(p)\n",
    "    \n",
    "for p in jobs:\n",
    "    p.start()\n",
    "    \n",
    "for p in jobs:\n",
    "    p.join()\n",
    "\n",
    "nzt = nz_total.value\n",
    "print(f\"Total number of nonzeros : {nzt}\")\n"
   ]
  },
  {
   "cell_type": "code",
   "execution_count": null,
   "metadata": {},
   "outputs": [],
   "source": [
    "# Process data from the shared array ...\n",
    "\n",
    "\n",
    "# # Show image in notebook\n",
    "# imshow(F,vmin=0,vmax=kmax/5,origin='lower',cmap=cm.RdBu)\n",
    "# gca().axis('off')\n",
    "\n",
    "# # Save image to PNG file. Use 'imsave' so we won't get any border or padding\n",
    "# imsave(\"fractal_03.png\",F,vmin=0,vmax=kmax/5,cmap=cm.RdBu,dpi=dpi,origin='lower')"
   ]
  },
  {
   "cell_type": "code",
   "execution_count": null,
   "metadata": {},
   "outputs": [],
   "source": []
  },
  {
   "cell_type": "code",
   "execution_count": null,
   "metadata": {},
   "outputs": [],
   "source": []
  }
 ],
 "metadata": {
  "kernelspec": {
   "display_name": "ipykernel",
   "language": "python",
   "name": "python3"
  },
  "language_info": {
   "codemirror_mode": {
    "name": "ipython",
    "version": 3
   },
   "file_extension": ".py",
   "mimetype": "text/x-python",
   "name": "python",
   "nbconvert_exporter": "python",
   "pygments_lexer": "ipython3",
   "version": "3.9.12"
  }
 },
 "nbformat": 4,
 "nbformat_minor": 2
}

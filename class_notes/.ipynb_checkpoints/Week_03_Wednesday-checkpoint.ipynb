{
 "cells": [
  {
   "cell_type": "markdown",
   "id": "f2755f2b",
   "metadata": {},
   "source": [
    "<hr style=\"border-width:4px; border-color:coral\"></hr>\n",
    "\n",
    "# Practice\n",
    "\n",
    "<hr style=\"border-width:4px; border-color:coral\"></hr>\n",
    "\n",
    "This notebook will cover using a Pool of workers. \n",
    "\n",
    "\n"
   ]
  },
  {
   "cell_type": "markdown",
   "id": "bb56c7a7",
   "metadata": {},
   "source": [
    "### Review :  Monte Carlo simulations\n",
    "\n",
    "<hr style=\"border-width:4px; border-color:coral\"></hr>\n",
    "\n",
    "Imagine a $2 \\times 2$ foot dart board in with a circular target of radius 1 foot.  You throw darts at the dart board, each time counting how many times your darts hit the target.  If you throw enough darts at the dart board, you can approximate $\\pi$. \n",
    "\n",
    "* How can you use this dart board game to approximate $\\pi$?  \n",
    "\n",
    "* Write a code that implements this idea in serial\n",
    "\n",
    "* How can you use the multiprocessing moddule to speed up your approximation? \n",
    "\n",
    "### To Do\n",
    "\n",
    "* Represent darts as randomly generated points $(x_i,y_i)$ in the domain $[-1,1]\\times [-1,1]$.  Compute the distance of the randomly generated point to the origin to determine if the point is in the circle or not. \n",
    "\n",
    "* Speed up your calculation by using the multiprocessing module.  \n",
    "\n",
    "### Question\n",
    "\n",
    "* How close to pi can you get? "
   ]
  },
  {
   "cell_type": "code",
   "execution_count": 1,
   "id": "82affdcf",
   "metadata": {},
   "outputs": [],
   "source": [
    "import multiprocessing as mp\n",
    "from numpy import *\n",
    "from numpy.random import rand"
   ]
  },
  {
   "cell_type": "code",
   "execution_count": 5,
   "id": "5c43c8ea",
   "metadata": {},
   "outputs": [
    {
     "name": "stdout",
     "output_type": "stream",
     "text": [
      "Number of darts that hit the target : 794 out of 1024\n"
     ]
    }
   ],
   "source": [
    "def darts(M):\n",
    "    # Generate random points in [-1,1]x[-1,1]\n",
    "    x = -1 + 2*rand(M)\n",
    "    y = -1 + 2*rand(M)\n",
    "    r = sqrt(x**2 + y**2)\n",
    "\n",
    "    in_target = less_equal(r,1)\n",
    "    nz = count_nonzero(in_target)\n",
    "    print(f\"Number of darts that hit the target : {nz} out of {M}\")\n",
    "\n",
    "\n",
    "# Generate random points (x,y)\n",
    "M = 2**10\n",
    "darts(M)\n",
    "    \n",
    "# Approximate pi ...\n",
    "\n"
   ]
  },
  {
   "cell_type": "markdown",
   "id": "f5d78cb8",
   "metadata": {},
   "source": [
    "### Pool of workers\n",
    "\n",
    "<hr style=\"border-width:4px; border-color:coral\"></hr>\n"
   ]
  },
  {
   "cell_type": "markdown",
   "id": "62f91418",
   "metadata": {},
   "source": [
    "### Example : Pool.map\n",
    "\n",
    "<hr style=\"border-width:4px; border-color:black\"></hr>\n",
    "\n",
    "Notice how results are returned from the process. \n",
    "\n",
    "### To do :\n",
    "\n",
    "* Modify the code below to compute pi. "
   ]
  },
  {
   "cell_type": "code",
   "execution_count": 22,
   "id": "077df327",
   "metadata": {},
   "outputs": [
    {
     "name": "stdout",
     "output_type": "stream",
     "text": [
      "ForkPoolWorker-53 is sleeping for 0.5167 seconds\n",
      "ForkPoolWorker-54 is sleeping for 0.0138 seconds\n",
      "ForkPoolWorker-56 is sleeping for 0.5486 seconds\n",
      "ForkPoolWorker-55 is sleeping for 1.1696 seconds\n",
      "\n",
      "\n",
      "\n",
      "\n",
      "ForkPoolWorker-54 is sleeping for 0.0249 seconds\n",
      "\n",
      "ForkPoolWorker-54 is sleeping for 0.2996 seconds\n",
      "\n",
      "ForkPoolWorker-54 is sleeping for 1.4695 seconds\n",
      "\n",
      "ForkPoolWorker-53 is sleeping for 1.6629 seconds\n",
      "\n",
      "ForkPoolWorker-56 is sleeping for 1.5440 seconds\n",
      "\n",
      "ForkPoolWorker-55 is sleeping for 1.4374 seconds\n",
      "\n",
      "[0.5166556274211331, 0.013761588719303441, 1.1696255921669094, 0.5485604762964409, 0.024859020204641702, 0.2995885714654831, 1.4694718457995544, 1.6628561199746876, 1.543975701195066, 1.4374313845123425]\n",
      "All done!\n"
     ]
    }
   ],
   "source": [
    "import time \n",
    "def naptime(t):\n",
    "    pname = mp.current_process().name\n",
    "    print(f\"{pname} is sleeping for {t:.4f} seconds\\n\")\n",
    "    time.sleep(t)\n",
    "    \n",
    "    # Results can be returned from the process. \n",
    "    return t\n",
    "\n",
    "\n",
    "nprocs = 4\n",
    "pool = mp.Pool(processes=nprocs)\n",
    "\n",
    "# Blocks until all jobs are finished\n",
    "sleep_times = 2*rand(10)\n",
    "results = pool.map(func=naptime,iterable=sleep_times)\n",
    "\n",
    "print(results)\n",
    "print(\"All done!\")\n"
   ]
  },
  {
   "cell_type": "markdown",
   "id": "e9282332",
   "metadata": {},
   "source": [
    "### Example : Pool.async_map\n",
    "\n",
    "<hr style=\"border-width:4px; border-color:black\"></hr>"
   ]
  },
  {
   "cell_type": "code",
   "execution_count": null,
   "id": "8ea683f5",
   "metadata": {},
   "outputs": [],
   "source": [
    "async_results = pool.map_async(func=f, iterable=data, \n",
    "    callback=cb)\n",
    "\n",
    "# Blocks until results are ready\n",
    "results = async_results.get()    "
   ]
  }
 ],
 "metadata": {
  "kernelspec": {
   "display_name": "ipykernel",
   "language": "python",
   "name": "python3"
  },
  "language_info": {
   "codemirror_mode": {
    "name": "ipython",
    "version": 3
   },
   "file_extension": ".py",
   "mimetype": "text/x-python",
   "name": "python",
   "nbconvert_exporter": "python",
   "pygments_lexer": "ipython3",
   "version": "3.9.12"
  }
 },
 "nbformat": 4,
 "nbformat_minor": 5
}

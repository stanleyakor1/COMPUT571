{
 "cells": [
  {
   "cell_type": "markdown",
   "metadata": {
    "slideshow": {
     "slide_type": "slide"
    }
   },
   "source": [
    "<hr style=\"border-width:4px; border-color:coral\"></hr>\n",
    "\n",
    "# Welcome to ME/COMPUT 471/571\n",
    "<hr style=\"border-width:4px; border-color:coral\"></hr>\n",
    "\n",
    "This course will cover the basics of Parallel Scientific Computing. \n",
    "\n",
    "Topics we will cover include : \n",
    "\n",
    "* Multi-processing with Python.   This will serve as an introduction to Jupyter Notebooks (in case you are not already familiar with them) as well as some of the tools available in Python for parallal processing.\n",
    "\n",
    "* OpenMP for \"pragma-based\" parallelization across shared memory cores\n",
    "\n",
    "* MPI for distributed memory platforms\n",
    "\n",
    "* CUDA for programming GPUs.  \n",
    "\n",
    "* Parallel performance, including strong and week scaling\n",
    "\n",
    "Along the way, we will also discuss\n",
    "\n",
    "* Makefile systems, including AutoTools and CMake\n",
    "\n",
    "* Basics of C programming\n",
    "\n",
    "* Python programming\n",
    "\n",
    "* Julia programming language\n",
    "\n",
    "* Working on remote clusters (R2, for example). \n",
    "\n",
    "This course assumes some familiarity with at least high level language (Python, Java)  and preferably a compiled language (C, C++) although most details will be made available in class.  \n",
    "\n",
    "Much of the work in this course can be done on your laptop, assuming you have access to at least four cores on your laptop.  Towards the end of the course, you will work on a remote cluster (to get GPU access).   We will discuss in class how to install any tools you will need. \n",
    "\n",
    "The course will be largely homework/project based.  \n"
   ]
  },
  {
   "cell_type": "markdown",
   "metadata": {
    "slideshow": {
     "slide_type": "slide"
    }
   },
   "source": [
    "<hr style=\"border-width:3px; border-color:coral\"></hr>\n",
    "\n",
    "## Course details\n",
    "<hr style=\"border-width:3px; border-color:coral\"></hr>\n",
    "\n",
    "\n",
    "* **Canvas**. All course material (assignments, announcements, notebooks) will be available on Canvas\n",
    "* **Slack site**.  We will have a Slack site for general discussion, questions.  *A link to a Slack invitation will be posted on the Canvas site*. \n",
    "* **TA**. **Michael Chiwere** (Computing PhD student), will be our TA.  He will generally be available for office hours, and extra help. I can also be available by appt. \n"
   ]
  },
  {
   "cell_type": "markdown",
   "metadata": {
    "slideshow": {
     "slide_type": "slide"
    }
   },
   "source": [
    "<hr style=\"border-width:3px; border-color:coral\"></hr>\n",
    "\n",
    "\n",
    "## Textbook, computer\n",
    "<hr style=\"border-width:3px; border-color:coral\"></hr>\n",
    "\n",
    "* A suggested text book for this course is [Introduction to High Performance Scientific Computing](https://www.amazon.com/Introduction-High-Performance-Scientific-Computing/dp/1611975638/ref=sr_1_4?crid=2NVCWWCUC6ZJ1&keywords=introduction+to+high+performance+scientific+computing&qid=1673468966&sprefix=Introduction+to+High+Performance+Sci%2Caps%2C115&sr=8-4)\n",
    "\n",
    "* A second text which you may also find useful is [Introduction to High Performance Computing](https://www.amazon.com/Introduction-High-Performance-Scientific-Computing/dp/1257992546/ref=sr_1_1?crid=2NVCWWCUC6ZJ1&keywords=introduction+to+high+performance+scientific+computing&qid=1673468966&sprefix=Introduction+to+High+Performance+Sci%2Caps%2C115&sr=8-1)\n",
    "\n",
    "* Much of our work will be done in **Jupyter Notebooks** (more on this later). \n",
    "* You will need access to a **laptop** or **desktop** you can use for computations.  You will be asked to download *Anaconda Python*, an open source package containing all the available Python libraries we will need. \n",
    "* You will also need a **Latex** installation.  This is also available in open source libraries. "
   ]
  },
  {
   "cell_type": "markdown",
   "metadata": {
    "slideshow": {
     "slide_type": "slide"
    }
   },
   "source": [
    "<hr style=\"border-width:3px; border-color:coral\"></hr>\n",
    "\n",
    "## Expectations and grading\n",
    "<hr style=\"border-width:3px; border-color:coral\"></hr>\n",
    "\n",
    "* I will aim for short, weekly homework assignments.  \n",
    "* You all start with an A.  \n",
    "     - Turn in all assignments, and do a reasonable job, and there is a good chance you can keep that A. \n",
    "     - How to lose the A?  Fail to turn in two or more assignments, or worse, turn in problems that are identical to other students work.\n",
    "* We will have a final project, due during finals week.   \n",
    "\n",
    "\n",
    "Can we work together?  \n",
    "   - **You may** discuss homework problems with each other\n",
    "   \n",
    "   - **You may** get help from the TA for the course\n",
    "   \n",
    "   - **You may** use outside resources available for Python, C, CUDA, although be careful - there are hundreds of sites, so don't spend too much time googling. \n",
    "   \n",
    "    - **You may** show error messages and non-working code to get help. If you suspect you have a syntax error, you may ask for help about your code.  \n",
    "    \n",
    "   - **You may NOT** share electronic copies of your code with anyone.  If I detect identical versions of homework being submitted, both parties involve will lose points.  \n",
    "   \n",
    "   - **You may NOT** screen share your working code over Zoom.  \n",
    "\n",
    "*Each student is responsible for turning in their own homework.  There are **no group assignments** in this course.*"
   ]
  },
  {
   "cell_type": "code",
   "execution_count": null,
   "metadata": {},
   "outputs": [],
   "source": []
  }
 ],
 "metadata": {
  "celltoolbar": "Slideshow",
  "kernelspec": {
   "display_name": "Python 3 (ipykernel)",
   "language": "python",
   "name": "python3"
  },
  "language_info": {
   "codemirror_mode": {
    "name": "ipython",
    "version": 3
   },
   "file_extension": ".py",
   "mimetype": "text/x-python",
   "name": "python",
   "nbconvert_exporter": "python",
   "pygments_lexer": "ipython3",
   "version": "3.9.12"
  }
 },
 "nbformat": 4,
 "nbformat_minor": 2
}

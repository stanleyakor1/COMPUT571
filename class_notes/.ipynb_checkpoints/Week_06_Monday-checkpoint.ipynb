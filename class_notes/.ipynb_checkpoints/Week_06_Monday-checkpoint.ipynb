{
 "cells": [
  {
   "cell_type": "markdown",
   "id": "b039c03e",
   "metadata": {},
   "source": [
    "<hr style=\"border:2px solid coral\"></hr>\n",
    "\n",
    "# Practice\n",
    "\n",
    "<hr style=\"border:2px solid coral\"></hr>\n",
    "\n",
    "In much of scientific computing, we need to create a 1d, 2d or 3d mesh of equally spaced grid points. \n",
    "\n",
    "Below, we explore different ways to compute such mesh points. "
   ]
  },
  {
   "cell_type": "markdown",
   "id": "7a2f21c1",
   "metadata": {},
   "source": [
    "## Example 1 (Python)\n",
    "\n",
    "<hr style=\"border:2px solid coral\"></hr>\n",
    "\n",
    "\n",
    "Write a short Python program that prints out a table of values of a function $f(x)$ at $N+1$ equally spaced points in an interval $[a,b]$. \n",
    "\n",
    "* Compute values for  the function $f(x) = \\sin(\\pi x)$ on the interval $[0,1]$.   \n",
    "\n",
    "* Use $N=8$. \n",
    "\n",
    "Your table should look like this : \n",
    "\n",
    "     i            x         f(x)\n",
    "     ---------------------------\n",
    "     0   0.00000000   0.00000000\n",
    "     1   0.12500000   0.38268343\n",
    "     2   0.25000000   0.70710678\n",
    "     3   0.37500000   0.92387953\n",
    "     4   0.50000000   1.00000000\n",
    "     5   0.62500000   0.92387953\n",
    "     6   0.75000000   0.70710678\n",
    "     7   0.87500000   0.38268343\n",
    "     8   1.00000000   0.00000000\n",
    "     \n",
    "Do this problem with a for-loop. Do not use Numpy. Also, you don't need to create any arrays or lists. "
   ]
  },
  {
   "cell_type": "code",
   "execution_count": 1,
   "id": "3a3dc765",
   "metadata": {},
   "outputs": [],
   "source": [
    "from math import *"
   ]
  },
  {
   "cell_type": "code",
   "execution_count": 76,
   "id": "97421bf4",
   "metadata": {},
   "outputs": [],
   "source": [
    "# Your code goes here "
   ]
  },
  {
   "cell_type": "markdown",
   "id": "91920736",
   "metadata": {},
   "source": [
    "## Example 2 (Python)\n",
    "\n",
    "<hr style=\"border:2px solid coral\"></hr>\n",
    "\n",
    "We can approximate the derivative of a function using a *centered difference formula*\n",
    "\n",
    "\\begin{equation}\n",
    "f'(x) \\approx \\frac{f(x+h) - f(x-h)}{2h}\n",
    "\\end{equation}\n",
    "\n",
    "Create a table that prints out the derivative $g(x) = f'(x)$ of the function $f(x) = \\sin(\\pi x)$ in the interval $[0,1]$ at $N+1$ equally spaced points.  Include in your table the error $|f'(x_i) - g_i|$ in your approximation.  \n",
    "\n",
    "* Set $h = (b-a)/N$.  \n",
    "\n",
    "* Create an array of values for $x$ and an array of values for $y = f(x)$ at $N+1$ equally spaced points.  Use a loop to compute\n",
    "\n",
    "\\begin{equation}\n",
    "g_i = \\frac{f(x_{i+1}) - f(x_{i-1})}{2h}, \\quad i = 0,1,\\dots N\n",
    "\\end{equation}\n",
    "\n",
    "Your table should look like this for $N = 8$. \n",
    "\n",
    "     i            x         f(x)        f'(x)         e(x)\n",
    "    ------------------------------------------------------\n",
    "     1   0.00000000   0.00000000   3.06146746   8.0125e-02\n",
    "     2   0.12500000   0.38268343   2.82842712   7.4026e-02\n",
    "     3   0.25000000   0.70710678   2.16478440   5.6657e-02\n",
    "     4   0.37500000   0.92387953   1.17157288   3.0663e-02\n",
    "     5   0.50000000   1.00000000   0.00000000   1.9237e-16\n",
    "     6   0.62500000   0.92387953  -1.17157288   3.0663e-02\n",
    "     7   0.75000000   0.70710678  -2.16478440   5.6657e-02\n",
    "     8   0.87500000   0.38268343  -2.82842712   7.4026e-02\n",
    "     \n",
    "### Tips\n",
    "\n",
    "* Use *list comprehension* in Python as an easy way to to construct arrays without using Numpy.  For example, to get $N+1$ equally spaced points in $[0,1]$, one can use the \n",
    "        \n",
    "        N = 10\n",
    "        x = [i/N for i in range(N+1)]\n",
    "        print(x)\n",
    "        \n",
    "which results in        \n",
    "        \n",
    "        [0.0, 0.1, 0.2, 0.3, 0.4, 0.5, 0.6, 0.7, 0.8, 0.9, 1.0]"
   ]
  },
  {
   "cell_type": "code",
   "execution_count": null,
   "id": "4d4bfe54",
   "metadata": {},
   "outputs": [],
   "source": [
    "# Your code"
   ]
  },
  {
   "cell_type": "markdown",
   "id": "80d0abe3",
   "metadata": {},
   "source": [
    "## Example 3 (C)\n",
    "\n",
    "<hr style=\"border:2px solid coral\"></hr>\n",
    "\n",
    "Functions in C can be written using this syntax : \n",
    "\n",
    "     <return-value-type> <function name>(argument-list)\n",
    "     {  \n",
    "         <body of function>\n",
    "         \n",
    "         return <return-value>;\n",
    "     }\n",
    "     \n",
    "As a simple example, condsider     "
   ]
  },
  {
   "cell_type": "code",
   "execution_count": 60,
   "id": "dd0a9cbe",
   "metadata": {},
   "outputs": [
    {
     "name": "stdout",
     "output_type": "stream",
     "text": [
      "Overwriting week_06_00.c\n"
     ]
    }
   ],
   "source": [
    "%%file week_06_00.c\n",
    "\n",
    "#include <stdio.h>\n",
    "\n",
    "double f0(double x)\n",
    "{\n",
    "    double value;\n",
    "    value = x*x;\n",
    "    \n",
    "    return value;\n",
    "}\n",
    "\n",
    "int main(int argv, char* argc)\n",
    "{\n",
    "    /* Call function 0 */\n",
    "    double x = 1.2;\n",
    "\n",
    "    double fx = f0(x);\n",
    "\n",
    "    printf(\"f(x,y) = %g\\n\",fx);\n",
    "}"
   ]
  },
  {
   "cell_type": "code",
   "execution_count": 61,
   "id": "3cbcdaf5",
   "metadata": {},
   "outputs": [
    {
     "name": "stdout",
     "output_type": "stream",
     "text": [
      "f(x,y) = 1.44\n"
     ]
    }
   ],
   "source": [
    "%%bash\n",
    "\n",
    "rm -f week_06_00\n",
    "\n",
    "gcc -o week_06_00 week_06_00.c\n",
    "\n",
    "week_06_00"
   ]
  },
  {
   "cell_type": "markdown",
   "id": "f118b4f7",
   "metadata": {},
   "source": [
    "### Function 1\n",
    "\n",
    "<hr style=\"border:1px solid black\"></hr>\n",
    "\n",
    "\n",
    "Write a function that accepts a scalar variable $x$ and changes it value.  Print the value of $x$ before and after you make the function call.  This function should not return a value, so use `void` as the return type. \n"
   ]
  },
  {
   "cell_type": "code",
   "execution_count": 62,
   "id": "7958c881",
   "metadata": {},
   "outputs": [
    {
     "name": "stdout",
     "output_type": "stream",
     "text": [
      "Overwriting week_06_01.c\n"
     ]
    }
   ],
   "source": [
    "%%file week_06_01.c\n",
    "\n",
    "#include <stdio.h>\n",
    "\n",
    "/* Function 1 goes here */\n",
    "\n",
    "int main(int argv, char* argc)\n",
    "{\n",
    "    /* Call function 1 */\n",
    "}"
   ]
  },
  {
   "cell_type": "code",
   "execution_count": 63,
   "id": "d61d3311",
   "metadata": {},
   "outputs": [],
   "source": [
    "%%bash\n",
    "\n",
    "rm -f week_06_01\n",
    "\n",
    "gcc -o week_06_01 week_06_01.c\n",
    "\n",
    "week_06_01"
   ]
  },
  {
   "cell_type": "markdown",
   "id": "e4550c0e",
   "metadata": {},
   "source": [
    "### Function 2\n",
    "\n",
    "<hr style=\"border:1px solid black\"></hr>\n",
    "\n",
    "Write a function that accepts an input value $n$ and a pointer variable as an input argument.  The function should then  allocate a block of memory of size $n$, and then changes the value of the input pointer variable to point to the newly allocated memory.\n"
   ]
  },
  {
   "cell_type": "code",
   "execution_count": 64,
   "id": "a775fc8c",
   "metadata": {},
   "outputs": [
    {
     "name": "stdout",
     "output_type": "stream",
     "text": [
      "Overwriting week_06_02.c\n"
     ]
    }
   ],
   "source": [
    "%%file week_06_02.c\n",
    "\n",
    "#include <stdio.h>\n",
    "\n",
    "/* Function 2 goes here */\n",
    "\n",
    "int main(int argv, char* argc)\n",
    "{\n",
    "    /* Call function 2 */\n",
    "}"
   ]
  },
  {
   "cell_type": "code",
   "execution_count": 65,
   "id": "5d8f18c5",
   "metadata": {},
   "outputs": [],
   "source": [
    "%%bash\n",
    "\n",
    "rm -f week_06_02\n",
    "\n",
    "gcc -o week_06_02 week_06_02.c\n",
    "\n",
    "week_06_02"
   ]
  },
  {
   "cell_type": "markdown",
   "id": "5f67bf7c",
   "metadata": {},
   "source": [
    "### Function 3\n",
    "\n",
    "<hr style=\"border:1px solid black\"></hr>\n",
    "\n",
    "Write a function that allocates memory for a array of type double, and length $n$ and returns a `double*` pointer to the memory block. \n"
   ]
  },
  {
   "cell_type": "code",
   "execution_count": 66,
   "id": "2c4a8cf6",
   "metadata": {},
   "outputs": [
    {
     "name": "stdout",
     "output_type": "stream",
     "text": [
      "Overwriting week_06_03.c\n"
     ]
    }
   ],
   "source": [
    "%%file week_06_03.c\n",
    "\n",
    "#include <stdio.h>\n",
    "\n",
    "/* Function 3 goes here */\n",
    "\n",
    "int main(int argv, char* argc)\n",
    "{\n",
    "    /* Call function 3 */\n",
    "}"
   ]
  },
  {
   "cell_type": "code",
   "execution_count": 67,
   "id": "09e263f8",
   "metadata": {},
   "outputs": [],
   "source": [
    "%%bash\n",
    "\n",
    "rm -f week_06_03\n",
    "\n",
    "gcc -o week_06_03 week_06_03.c\n",
    "\n",
    "week_06_03"
   ]
  },
  {
   "cell_type": "markdown",
   "id": "6c1a4884",
   "metadata": {},
   "source": [
    "### Function 4\n",
    "\n",
    "<hr style=\"border:1px solid black\"></hr>\n",
    "\n",
    "Write a function that allocates memory for a array of type double, and length $n$ and returns a `double*` pointer to the memory block.   Set up the return so that the first value in the memory block can be accessed using index -1, e.g. `y[-1]`.  \n"
   ]
  },
  {
   "cell_type": "code",
   "execution_count": 71,
   "id": "bfb3601d",
   "metadata": {},
   "outputs": [
    {
     "name": "stdout",
     "output_type": "stream",
     "text": [
      "Overwriting week_06_04.c\n"
     ]
    }
   ],
   "source": [
    "%%file week_06_04.c\n",
    "\n",
    "#include <stdio.h>\n",
    "#include <stdlib.h>\n",
    "\n",
    "/* Function 4 goes here */\n",
    "\n",
    "int main(int argv, char* argc)\n",
    "{\n",
    "    /* Call function 4 */\n",
    "}"
   ]
  },
  {
   "cell_type": "code",
   "execution_count": 72,
   "id": "cdc53316",
   "metadata": {},
   "outputs": [],
   "source": [
    "%%bash\n",
    "\n",
    "rm -f week_06_04\n",
    "\n",
    "gcc -o week_06_04 week_06_04.c\n",
    "\n",
    "week_06_04"
   ]
  },
  {
   "cell_type": "markdown",
   "id": "42429f62",
   "metadata": {},
   "source": [
    "### Function 5\n",
    "\n",
    "<hr style=\"border:1px solid black\"></hr>\n",
    "\n",
    "For functions 2,3,4 above, write functions that free the memory that was allocated.  Test your allocation and free routines. \n"
   ]
  },
  {
   "cell_type": "markdown",
   "id": "d3e25b69",
   "metadata": {},
   "source": [
    "## Example 4 (C)\n",
    "\n",
    "<hr style=\"border:2px solid coral\"></hr>\n",
    "\n",
    "\n",
    "If we want multi-dimensional arrays in C (e.g. a matrix of values), we can allocate a \"double\" array, and then index the array as \n",
    "\n",
    "       A[i][j]\n",
    "       \n",
    "The idea is to allocate an array of pointers, and then point each entry in the array to a block of memory.      \n",
    "\n",
    "Experiment with this idea to allocate a $5 times 5$ array.  Then assign values $0,1,2,\\dots 24$ to the entries of the array.  Print out your results. "
   ]
  },
  {
   "cell_type": "code",
   "execution_count": 73,
   "id": "744f726a",
   "metadata": {},
   "outputs": [
    {
     "name": "stdout",
     "output_type": "stream",
     "text": [
      "Writing week_06_05.c\n"
     ]
    }
   ],
   "source": [
    "%%file week_06_05.c\n",
    "\n",
    "#include <stdio.h>\n",
    "#include <stdlib.h>\n",
    "\n",
    "\n",
    "int main(int argv, char* argc)\n",
    "{\n",
    "    /* Allocate data for a double array */\n",
    "}"
   ]
  },
  {
   "cell_type": "code",
   "execution_count": 72,
   "id": "55a3560b",
   "metadata": {},
   "outputs": [],
   "source": [
    "%%bash\n",
    "\n",
    "rm -f week_06_05\n",
    "\n",
    "gcc -o week_06_05 week_06_05.c\n",
    "\n",
    "week_06_05"
   ]
  },
  {
   "cell_type": "markdown",
   "id": "5e9874c6",
   "metadata": {},
   "source": [
    "## Example 5 (MPI)\n",
    "\n",
    "<hr style=\"border:2px solid coral\"></hr>\n",
    "\n",
    "\n",
    "Modify the code below to and run it in a terminal window with different numbers of MPI processes.  "
   ]
  },
  {
   "cell_type": "code",
   "execution_count": 74,
   "id": "b22539ad",
   "metadata": {},
   "outputs": [
    {
     "name": "stdout",
     "output_type": "stream",
     "text": [
      "Writing mpi_demo_02.c\n"
     ]
    }
   ],
   "source": [
    "%%file mpi_demo_02.c\n",
    "\n",
    "#include <stdio.h>\n",
    "#include <mpi.h>\n",
    "\n",
    "#include <string.h>\n",
    "#include <stdlib.h>\n",
    "\n",
    "void main(int argc, char** argv)\n",
    "{\n",
    "    MPI_Init(&argc, &argv);\n",
    "\n",
    "    int my_rank;\n",
    "    MPI_Comm_rank(MPI_COMM_WORLD, &my_rank);\n",
    "    \n",
    "    if (my_rank == 0)\n",
    "    {\n",
    "        char msg[100] = \"Greetings from processor 0!\";\n",
    "        \n",
    "        int dest = 1;\n",
    "        int tag = 0;\n",
    "        int len = strlen(msg)+1;\n",
    "        printf(\"Sending to rank 1\\n\");\n",
    "        MPI_Send(msg,len,MPI_CHAR,dest,tag,MPI_COMM_WORLD);\n",
    "        printf(\"Done sending!\\n\");\n",
    "    }\n",
    "    else\n",
    "    {\n",
    "        int sender = 0;\n",
    "        int tag = 0;\n",
    "        char msg[100];\n",
    "        MPI_Recv(msg,100,MPI_CHAR,sender,tag,MPI_COMM_WORLD,MPI_STATUS_IGNORE);\n",
    "        printf(\"Rank %d received message : \\\"%s\\\"\\n\",my_rank,msg);\n",
    "    }\n",
    "    \n",
    "    MPI_Finalize();\n",
    "}"
   ]
  },
  {
   "cell_type": "code",
   "execution_count": 75,
   "id": "47103554",
   "metadata": {},
   "outputs": [
    {
     "name": "stdout",
     "output_type": "stream",
     "text": [
      "Sending to rank 1\n",
      "Done sending!\n",
      "Rank 1 received message : \"Greetings from processor 0!\"\n"
     ]
    }
   ],
   "source": [
    "%%bash\n",
    "\n",
    "rm -rf mpi_demo_02\n",
    "\n",
    "mpicc -o mpi_demo_02 mpi_demo_02.c\n",
    "\n",
    "mpirun -n 2 mpi_demo_02"
   ]
  },
  {
   "cell_type": "code",
   "execution_count": null,
   "id": "7bd1eccf",
   "metadata": {},
   "outputs": [],
   "source": []
  }
 ],
 "metadata": {
  "kernelspec": {
   "display_name": "ipykernel",
   "language": "python",
   "name": "python3"
  },
  "language_info": {
   "codemirror_mode": {
    "name": "ipython",
    "version": 3
   },
   "file_extension": ".py",
   "mimetype": "text/x-python",
   "name": "python",
   "nbconvert_exporter": "python",
   "pygments_lexer": "ipython3",
   "version": "3.9.12"
  }
 },
 "nbformat": 4,
 "nbformat_minor": 5
}

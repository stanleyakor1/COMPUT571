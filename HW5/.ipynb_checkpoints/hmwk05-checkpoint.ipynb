{
 "cells": [
  {
   "cell_type": "markdown",
   "id": "e7a2697c",
   "metadata": {},
   "source": [
    "<hr style=\"border:3px solid coral\"></hr>\n",
    "\n",
    "# Homework #5\n",
    "\n",
    "<hr style=\"border:3px solid coral\"></hr>\n",
    "\n",
    "* <a href=\"#prob1\">Problem #1</a> Serial Jacobi solver\n",
    "\n",
    "* <a href=\"#prob2\">Problem #2</a> Parallel Jacobi solver\n",
    "\n",
    "* <a href=\"#prob3\">Problem #3</a> TBD"
   ]
  },
  {
   "cell_type": "code",
   "execution_count": 1,
   "id": "69b264ce",
   "metadata": {},
   "outputs": [],
   "source": [
    "from numpy import *\n",
    "from matplotlib.pyplot import *"
   ]
  },
  {
   "cell_type": "markdown",
   "id": "9a660e5a",
   "metadata": {},
   "source": [
    "<a id=\"prob1\"></a>\n",
    "\n",
    "<hr style=\"border:3px solid coral\"></hr>\n",
    "\n",
    "## Problem #1 (serial)\n",
    "\n",
    "<hr style=\"border:3px solid coral\"></hr>\n",
    "\n",
    "Approximate the solution to the following elliptic problem using a finite difference scheme and the Jacobi method.   \n",
    "\n",
    "\\begin{equation}\n",
    "u''(x) = e^{-x^2}, \\quad x \\in [-1,1]\n",
    "\\end{equation}\n",
    "\n",
    "subject to $u(-1) = u(1) = 0$.   \n",
    "\n",
    "The true solution is given by \n",
    "\n",
    "\\begin{equation}\n",
    "u_{true}(x) = \\frac{1}{2}\\left[\\sqrt{\\pi}\\; x \\;\\mbox{erf}(x) + e^{-x^2}\\right] + c_2 x + c_1\n",
    "\\end{equation}\n",
    "\n",
    "\n",
    "### To Do\n",
    "\n",
    "* Determine coefficients $c_1$ and $c_2$ in the true solution so that boundary conditions are satisfied.\n",
    "\n",
    "* Discretize the problem using a second order centered difference scheme.  \n",
    "\n",
    "* Compute the solution using the Jacobi method.  Use the matrix-free method and the iteration\n",
    "\n",
    "\\begin{equation}\n",
    "\\mathbf u_{k+1} = \\mathbf u_k + D^{-1}(\\mathbf F - A\\mathbf u_k)\n",
    "\\end{equation}\n",
    "\n",
    "Use \n",
    "\n",
    "\\begin{equation}\n",
    "\\Vert \\mathbf u_{k+1} - \\mathbf u_k \\Vert_\\infty < \\tau = 10^{-12}\n",
    "\\end{equation}\n",
    "\n",
    "as stopping criteria. \n",
    "* Report the inf-norm of the error and residual for $N = 32$, $N=64$ and $N=128$.   \n",
    "\n",
    "\n",
    "\\begin{eqnarray}\n",
    "\\mbox{error : } \\quad e &= &\\Vert \\mathbf u - \\mathbf u_{true} \\Vert_\\infty \\\\\n",
    "\\mbox{residual : } \\quad r &= &\\Vert \\mathbf F - A \\mathbf u \\Vert_\\infty\n",
    "\\end{eqnarray}\n",
    "\n",
    "where $\\mathbf u$ is the computed solution. \n",
    "\n",
    "Show that you are getting second order accuracy.   **Hint:** Show that the error is reduced by a factor of 4 each time you double $N$. \n",
    "\n",
    "* Plot your solution for $N = 64$. \n",
    "\n",
    "#### Tips\n",
    "\n",
    "* Solve for values $u_i = u(x_i)$, $x_i = -1 + ih$, $i = 0,1,\\dots N$ and $h = 2/N$. \n",
    "\n",
    "* Recall that the inf-norm $\\Vert \\cdot \\Vert_\\infty$ of a vector $\\mathbf v$ is given by \n",
    "\n",
    "\\begin{equation}\n",
    "\\Vert \\mathbf v \\Vert_\\infty = \\max_{i} |v_i|\n",
    "\\end{equation}\n",
    "\n",
    "* To handle the boundary conditions, you can use the trick we discussed in class and assign values to $u_{-1}$ and $u_{N+1}$ using \n",
    "\n",
    "\\begin{equation}\n",
    "\\frac{u_1 + u_{-1}}{2} = u_{true}(-1) = 0 \\quad \\Longrightarrow \\quad u_{-1} = -u_{1}\n",
    "\\end{equation}\n",
    "\n",
    "and \n",
    "\n",
    "\\begin{equation}\n",
    "\\frac{u_{N-1} + u_{N+1}}{2} = u_{true}(1) = 0 \\quad \\Longrightarrow \\quad u_{N+1} = -u_{N-1}\n",
    "\\end{equation}\n",
    "\n",
    "Allocate space for ghost values $u_{-1}$ and $u_{N+1}$ and before calling the matrix-vector multipy, you can make the assignment\n",
    "\n",
    "    uk[-1] = u[1];\n",
    "    uk[N+1] = u[N-1];\n",
    "    ...\n",
    "    matvec(N,u,Lu);\n",
    "\n",
    "Then matrix-vector routine can be written as\n",
    "\n",
    "    void matvec(int N, double *u, double *L)\n",
    "    {\n",
    "        for(int i = 0; i < N+1; i++)\n",
    "            L[i] = (u[i-1] - 2*u[i] + u[i+1]); \n",
    "    }"
   ]
  },
  {
   "cell_type": "markdown",
   "id": "33610654",
   "metadata": {},
   "source": [
    "### Compute coefficients $c_1$, $c_2$\n",
    "\n",
    "Check that $u(-1) = u(1) = 0$. "
   ]
  },
  {
   "cell_type": "code",
   "execution_count": 2,
   "id": "44dc60e0",
   "metadata": {},
   "outputs": [],
   "source": [
    "import scipy\n",
    "from scipy.special import erf\n",
    "\n",
    "def utrue(x,c1,c2):\n",
    "    return (sqrt(pi)*x*erf(x) + exp(-x**2))/2 + c2*x + c1"
   ]
  },
  {
   "cell_type": "code",
   "execution_count": 25,
   "id": "718bc6de",
   "metadata": {},
   "outputs": [
    {
     "data": {
      "text/plain": [
       "-1.466018519913348e-07"
      ]
     },
     "execution_count": 25,
     "metadata": {},
     "output_type": "execute_result"
    }
   ],
   "source": [
    "from numpy.linalg import solve\n",
    "# Compute c1, c2\n",
    "utrue(-1,-1.4,-0.469236)  "
   ]
  },
  {
   "cell_type": "code",
   "execution_count": null,
   "id": "5a6f3d73",
   "metadata": {},
   "outputs": [],
   "source": []
  },
  {
   "cell_type": "code",
   "execution_count": 4,
   "id": "c8c93a74",
   "metadata": {},
   "outputs": [
    {
     "name": "stdout",
     "output_type": "stream",
     "text": [
      "Writing prob1.c\n"
     ]
    }
   ],
   "source": [
    "%%file prob1.c\n",
    "\n",
    "#include <stdio.h>\n",
    "#include <stdlib.h>\n",
    "\n",
    "#include <math.h>\n",
    "\n",
    "// # TODO : Include values of c1, c2 here\n",
    "double c1 = -1.4;\n",
    "double c2 = -0.469236;\n",
    "\n",
    "double* allocate_1d(int n, int m)\n",
    "{\n",
    "    double *mem = (double*) malloc((n + 2*m)*sizeof(double));\n",
    "    return &mem[m];\n",
    "}\n",
    "\n",
    "void free_1d(double **x, int m)\n",
    "{\n",
    "    free(&(*x)[-m]);\n",
    "    *x = NULL;\n",
    "}\n",
    "\n",
    "\n",
    "double utrue(double x)\n",
    "{\n",
    "    double pi = M_PI;\n",
    "    double utrue = (sqrt(pi)*x*erf(x) + exp(-x*x))/2.0 + c2*x + c1;\n",
    "    return utrue;\n",
    "    \n",
    "}\n",
    "\n",
    "double rhs(double x)\n",
    "{\n",
    "    double upp = exp(-x*x);\n",
    "    return upp;\n",
    "}\n",
    "\n",
    "void matvec(int N, double *u, double *L)\n",
    "{\n",
    "    for(int i = 0; i < N+1; i++)\n",
    "        L[i] = (u[i-1] - 2*u[i] + u[i+1]); \n",
    "}\n",
    "\n",
    "\n",
    "void jacobi(int N,double *F,double* u,double tol,int kmax, int prt)\n",
    "{\n",
    "    // # Jacobi iteration\n",
    "    for(int k = 0; k < kmax; k++)\n",
    "    {\n",
    "        matvec(xk,Ax);\n",
    "        \n",
    "        double err = 0;\n",
    "        for(int i = 0; i < N; i++)\n",
    "        {\n",
    "            double r = b[i] - Ax[i];\n",
    "            double dstep = r/D[i];\n",
    "            xkp1[i] = xk[i] + dstep;  \n",
    "            err = fabs(dstep) > err ? fabs(dstep) : err;\n",
    "        }\n",
    "        printf(\"%5d %12.4e\\n\",k,err);\n",
    "        \n",
    "        // Parallel reduce to get err. \n",
    "        \n",
    "        \n",
    "        if (err < tol)\n",
    "            break;\n",
    "        \n",
    "        for(int i = 0; i < N; i++)\n",
    "            xk[i] = xkp1[i];        \n",
    "    }\n",
    "    for(int i = 0; i < 3; i++)\n",
    "        x[i] = xkp1[i];        \n",
    "}\n",
    "\n",
    "int main(int argc, char** argv)\n",
    "{\n",
    "    int N = atoi(argv[1]);\n",
    "    double *u = allocate_1d(N, 1);\n",
    "    double *u_true = allocate_1d(N,0);\n",
    "    double a = -1.0;\n",
    "    double b = -1.0;\n",
    "    \n",
    "    \n",
    "    \n",
    "    \n",
    "    \n",
    "}\n",
    "\n"
   ]
  },
  {
   "cell_type": "markdown",
   "id": "7131cf68",
   "metadata": {},
   "source": [
    "### Run code and get output (serial)"
   ]
  },
  {
   "cell_type": "code",
   "execution_count": 6,
   "id": "b3530518",
   "metadata": {},
   "outputs": [],
   "source": [
    "%%bash\n",
    "\n",
    "rm -rf prob1.o prob1\n",
    "\n",
    "mpicc -o prob1 prob1.c\n",
    "\n",
    "mpirun -n 1 ./prob1 64"
   ]
  },
  {
   "cell_type": "markdown",
   "id": "1f220abc",
   "metadata": {},
   "source": [
    "### Accuracy of solution (serial)"
   ]
  },
  {
   "cell_type": "code",
   "execution_count": 7,
   "id": "215a3d55",
   "metadata": {},
   "outputs": [
    {
     "name": "stdout",
     "output_type": "stream",
     "text": [
      "[[2.0033]\n",
      " [2.0008]\n",
      " [2.0002]\n",
      " [2.0001]]\n"
     ]
    }
   ],
   "source": [
    "# Errors from running at N=8,16,32,64, 128\n",
    "# Iterations : 307, 1179, 4447, 16659, 62053\n",
    "e = array([1.4834e-02, 3.6999e-03, 9.2446e-04, 2.3108e-04, 5.7765e-05]).reshape((5,1))\n",
    "\n",
    "with printoptions(formatter={'float' : \"{:.4f}\".format}):\n",
    "    print(log2(e[:-1]/e[1:]))\n"
   ]
  },
  {
   "cell_type": "markdown",
   "id": "7420dbe1",
   "metadata": {},
   "source": [
    "### Check file size (serial)"
   ]
  },
  {
   "cell_type": "code",
   "execution_count": null,
   "id": "1aaa0034",
   "metadata": {},
   "outputs": [],
   "source": [
    "import os\n",
    "\n",
    "stats = os.stat(\"prob1.dat\")\n",
    "print(f\"File size          : {stats.st_size:d} bytes\")\n",
    "\n",
    "fout = open(\"prob1.dat\",\"rb\")\n",
    "N = np.fromfile(fout,dtype=int, count=1)[0]\n",
    "fout.close()\n",
    "\n",
    "esize = (N+1)*8 + 2*8 + 4\n",
    "print(f\"Expected file size : {esize:d} bytes\")"
   ]
  },
  {
   "cell_type": "code",
   "execution_count": null,
   "id": "dc9179e7",
   "metadata": {},
   "outputs": [],
   "source": [
    "dt = np.dtype([('N',np.int32),\\\n",
    "               ('a',np.float64), \\\n",
    "               ('b',np.float64),\\\n",
    "               ('u',(np.float64,N+1))])\n",
    "\n",
    "fout = open(\"prob1.dat\",\"rb\")\n",
    "N,a,b,u = np.fromfile(fout,dtype=dt, count=1)[0]\n",
    "fout.close()"
   ]
  },
  {
   "cell_type": "markdown",
   "id": "68367f75",
   "metadata": {},
   "source": [
    "### Plot the solution (serial)"
   ]
  },
  {
   "cell_type": "code",
   "execution_count": null,
   "id": "6196785a",
   "metadata": {},
   "outputs": [],
   "source": [
    "figure(1)\n",
    "clf()\n",
    "\n",
    "x = linspace(a,b,N+1);\n",
    "\n",
    "ut = utrue(x,c1,c2)\n",
    "\n",
    "plot(x,u,'ro',ms=5,label='Computed solution');\n",
    "plot(x,ut,'b-',lw=1,label='True solution');\n",
    "\n",
    "kwargs = {'color' : 'k', 'lw' : 0.5, 'ls' : '-'}\n",
    "axhline(**kwargs)\n",
    "axvline(x=-1,**kwargs)\n",
    "axvline(x=1,**kwargs)\n",
    "\n",
    "legend(loc=4);"
   ]
  },
  {
   "cell_type": "markdown",
   "id": "bf1d409c",
   "metadata": {},
   "source": [
    "<hr style=\"border:3px solid coral\"></hr>\n",
    "\n",
    "## Problem #2 (Parallel)\n",
    "\n",
    "<hr style=\"border:3px solid coral\"></hr>\n",
    "\n",
    "Implement a parallel version of the solver you wrote in problem #1.\n"
   ]
  },
  {
   "cell_type": "code",
   "execution_count": null,
   "id": "184f0172",
   "metadata": {},
   "outputs": [],
   "source": [
    "%%file prob2.c\n",
    "\n",
    "// # Parallel Jacobi solver"
   ]
  },
  {
   "cell_type": "markdown",
   "id": "57802b1b",
   "metadata": {},
   "source": [
    "Compare results to (serial results) : \n",
    "\n",
    "    N = 8\n",
    "    Iteration count     :          307\n",
    "    Error (inf-norm)    :   1.4834e-02\n",
    "    Residual (inf-norm) :   9.0417e-13    \n",
    "    \n",
    "    N = 32\n",
    "    Iteration count     :         4447\n",
    "    Error (inf-norm)    :   9.2446e-04\n",
    "    Residual (inf-norm) :   9.9720e-13    "
   ]
  },
  {
   "cell_type": "code",
   "execution_count": null,
   "id": "f11353b0",
   "metadata": {},
   "outputs": [],
   "source": [
    "%%bash\n",
    "\n",
    "rm -rf prob2.o prob2\n",
    "\n",
    "mpicc -o prob2 prob2.c\n",
    "\n",
    "mpirun -n  4 prob2 64"
   ]
  },
  {
   "cell_type": "markdown",
   "id": "fbbfa94f",
   "metadata": {},
   "source": [
    "### Accuracy of solution (parallel)"
   ]
  },
  {
   "cell_type": "code",
   "execution_count": null,
   "id": "28e5ab89",
   "metadata": {},
   "outputs": [],
   "source": [
    "# Errors from running at N=8, 16, 32, 64, 128\n",
    "\n",
    "# Report errors"
   ]
  },
  {
   "cell_type": "markdown",
   "id": "262a8ca9",
   "metadata": {},
   "source": [
    "### Check file size"
   ]
  },
  {
   "cell_type": "code",
   "execution_count": null,
   "id": "250f89ee",
   "metadata": {},
   "outputs": [],
   "source": [
    "import os\n",
    "\n",
    "stats = os.stat(\"prob2.out\")\n",
    "print(f\"File size          : {stats.st_size:d} bytes\")\n",
    "\n",
    "fout = open(\"prob2.out\",\"rb\")\n",
    "N = np.fromfile(fout,dtype=int, count=1)[0]\n",
    "fout.close()\n",
    "\n",
    "esize = (N+1)*8 + 2*8 + 4\n",
    "print(f\"Expected file size : {esize:d} bytes\")"
   ]
  },
  {
   "cell_type": "code",
   "execution_count": null,
   "id": "4f1a228a",
   "metadata": {},
   "outputs": [],
   "source": [
    "dt = np.dtype([('N',np.int32),\\\n",
    "               ('a',np.float64), \\\n",
    "               ('b',np.float64),\\\n",
    "               ('u',(np.float64,N+1))])\n",
    "\n",
    "fout = open(\"prob2.out\",\"rb\")\n",
    "N,a,b,u = np.fromfile(fout,dtype=dt, count=1)[0]\n",
    "fout.close()"
   ]
  },
  {
   "cell_type": "markdown",
   "id": "bf2cb764",
   "metadata": {},
   "source": [
    "### Plot the solution"
   ]
  },
  {
   "cell_type": "code",
   "execution_count": null,
   "id": "ffb24af4",
   "metadata": {},
   "outputs": [],
   "source": [
    "figure(1)\n",
    "clf()\n",
    "\n",
    "x = linspace(a,b,N+1);\n",
    "\n",
    "ut = utrue(x,c1,c2)\n",
    "\n",
    "plot(x,u,'ro',ms=5,label='Computed solution');\n",
    "plot(x,ut,'b-',lw=1,label='True solution');\n",
    "\n",
    "kwargs = {'color' : 'k', 'lw' : 0.5, 'ls' : '-'}\n",
    "axhline(**kwargs)\n",
    "axvline(x=-1,**kwargs)\n",
    "axvline(x=1,**kwargs)\n",
    "\n",
    "legend(loc=4);"
   ]
  },
  {
   "cell_type": "markdown",
   "id": "58603585",
   "metadata": {},
   "source": [
    "<hr style=\"border:3px solid coral\"></hr>\n",
    "\n",
    "## Problem #3\n",
    "\n",
    "<hr style=\"border:3px solid coral\"></hr>\n",
    "\n",
    "TDB. "
   ]
  },
  {
   "cell_type": "markdown",
   "id": "ac3be2b7",
   "metadata": {},
   "source": []
  }
 ],
 "metadata": {
  "kernelspec": {
   "display_name": "ipykernel",
   "language": "python",
   "name": "python3"
  },
  "language_info": {
   "codemirror_mode": {
    "name": "ipython",
    "version": 3
   },
   "file_extension": ".py",
   "mimetype": "text/x-python",
   "name": "python",
   "nbconvert_exporter": "python",
   "pygments_lexer": "ipython3",
   "version": "3.9.12"
  }
 },
 "nbformat": 4,
 "nbformat_minor": 5
}

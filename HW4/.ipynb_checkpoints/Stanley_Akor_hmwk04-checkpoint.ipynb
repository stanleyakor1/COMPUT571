{
 "cells": [
  {
   "cell_type": "markdown",
   "id": "4377b1cd",
   "metadata": {},
   "source": [
    "<hr style="
   ]
  },
  {
   "cell_type": "markdown",
   "id": "b1da7055",
   "metadata": {},
   "source": [
    "<hr style=\"border:2px solid coral\"></hr>\n",
    "\n",
    "# Homework #4\n",
    "\n",
    "<hr style=\"border:2px solid coral\"></hr>\n",
    "\n",
    "In this assignment, you will implement a routines that manage \"collective communication\" \n",
    "\n",
    "* [Problem #1](#prob1) - Computing statistics (serial)\n",
    "\n",
    "* [Problem #2](#prob2) - Computing statistics (parallel)\n",
    "\n",
    "* [Problem #3](#prob3) - Compute derivative and do convergence study.  Write results to a file. "
   ]
  },
  {
   "cell_type": "code",
   "execution_count": 1,
   "id": "9afefc55",
   "metadata": {},
   "outputs": [],
   "source": [
    "from numpy import *\n",
    "from matplotlib.pyplot import *"
   ]
  },
  {
   "cell_type": "markdown",
   "id": "635c5101",
   "metadata": {},
   "source": [
    "<a id=\"prob1\"></a>\n",
    "\n",
    "<hr style=\"border:2px solid coral\"></hr>\n",
    "\n",
    "## Problem #1 (Statistics in serial)\n",
    "\n",
    "<hr style=\"border:2px solid coral\"></hr>\n",
    "\n",
    "In this problem, you will assume that you have a stream of data that is coming in continuously.  As the data comes in, you want to compute the mean, variance and standard deviation of the data you have seen so far.   \n",
    "\n",
    "To compute the statistics, you will use \"incrememtal algorithnms\" to update the mean and a sum-of-squared-differences as each new data point comes in.  \n",
    "\n",
    "### Mathematical formulas\n",
    "\n",
    "Formulas for the mean, variance and standard deviation are given by \n",
    "\n",
    "\\begin{equation}\n",
    "\\begin{aligned}\n",
    "\\overline{x}_n & \\equiv \\frac{1}{n}\\sum_{i=1}^{n} x_i, \\qquad \\mbox{(Mean)}  \\\\\n",
    "S^2 & \\equiv \\frac{1}{n} \\sum_{i=1}^{n} (x_i - \\overline{x}_n)^2, \n",
    "\\qquad \\mbox{(Sample variance)} \\\\\n",
    "S & \\equiv \\sqrt{\\frac{1}{n} \\sum_{i=1}^{n} (x_i - \\overline{x}_n)^2}, \n",
    "\\qquad \\mbox{(Standard deviation)} \\\\\n",
    "\\end{aligned}\n",
    "\\end{equation}"
   ]
  },
  {
   "cell_type": "markdown",
   "id": "80edd74a",
   "metadata": {},
   "source": [
    "#### Incremental formulas\n",
    "\n",
    "It can be shown that the mean can be incrementally updated using \n",
    "\n",
    "\\begin{equation}\n",
    "\\overline{x}_{n} = \\overline{x}_{n-1} + \\frac{x_n - \\overline{x}_{n-1}}{n}, \\qquad n = 2, \\dots,\n",
    "\\end{equation}\n",
    "\n",
    "We define the sum of squared differences as\n",
    "\\begin{equation}\n",
    "M_n \\equiv \\sum_{i=1}^{n} (x_i - \\overline{x}_n)^2  \\\\\n",
    "\\end{equation}\n",
    "\n",
    "Then $M_{n}$ can be incrementally updated using\n",
    "\n",
    "\\begin{equation}\n",
    "M_n = M_{n-1} + (x_n - \\overline{x}_n)(x_n - \\overline{x}_{n-1})\n",
    "\\end{equation}\n",
    "\n",
    "The resulting algorithms is essentially the serial *Welford's Algorithm* for computing these statistics. \n",
    "\n",
    "### To Do\n",
    "\n",
    "* Show that the above formulas are correct.  Include your derivations in Latex in this notebook. \n",
    "\n",
    "* Use Python code below to create a \"large\" data set of $N$ random numbers.  Write the file to a binary file to be read in C. \n",
    "\n",
    "\n",
    "* Write a function that implements the formulas for incrementally computing the mean and sum-of-squared-differences $M_N$ formulas.  Your function should have the  signature\n",
    "\n",
    "      void compute_stats(FILE *file, int n, double *mean, double *sum2)\n",
    "\n",
    "  where `file` is a file handle to the location in the binary data file containing `n` data items to be read.  The returns are `mean` and `sum2`.   Assume that `n` data items cannot all fit into memory, so that you can only read one item at a time from the data file. \n",
    "\n",
    "\n",
    "* Compute the variance and the standard deviation $M_N$. \n",
    "\n",
    "\n",
    "* Compare your results to those obtained from Python.  Your Python and C results should be essentially the same. \n",
    "\n",
    "For this problem, set $N=2^{20}$.  For this problem, you only need to run on a single processor. \n",
    "\n",
    "### Tips\n",
    "\n",
    "* Use `fread` to read a single value from the data set. \n",
    "\n",
    "      double x;\n",
    "      fread(&x,sizeof(double),1,file);\n",
    "       \n",
    "* You do not need to allocate any memory for this problem.        "
   ]
  },
  {
   "cell_type": "markdown",
   "id": "f7bf6d6c",
   "metadata": {},
   "source": [
    "<hr style=\"border:2px solid black\"></hr>\n",
    "\n",
    "### Derivations of incremental formulas\n",
    "\n",
    "*TODO : Include derivations of formulas here*.    You may do these directly in the notebook using LaTex (easiest!) or scan in hand-written a derivation and include it here using HTML : \n",
    "\n",
    "<img width=600 src=\"1.jpg\">\n",
    "<img width=600 src=\"21.jpg\">    \n",
    "If you include scanned work, be sure it shows up in your final PDF.  You may need to test different browsers and methods of export to PDF to really see the image show up. "
   ]
  },
  {
   "cell_type": "markdown",
   "id": "ecfb4cdf",
   "metadata": {},
   "source": [
    "### (prob1) Generate data\n",
    "\n",
    "Create data array of length $N$ and save it to binary file `X.dat`. Store the value of $N$ as meta data in the same file. "
   ]
  },
  {
   "cell_type": "code",
   "execution_count": 2,
   "id": "0da8ad5e",
   "metadata": {},
   "outputs": [],
   "source": [
    "set_printoptions(formatter={'float' : \"{:24.16}\".format})\n",
    "N = 1 << 20;    # 2**20\n",
    "\n",
    "X = random.rand(N)\n",
    "\n",
    "fout = open(\"X.dat\",\"wb\")\n",
    "array([N],dtype=int32).tofile(fout)\n",
    "X.tofile(fout)\n",
    "fout.close()"
   ]
  },
  {
   "cell_type": "markdown",
   "id": "88259ae1",
   "metadata": {},
   "source": [
    "### (prob1) Compute statistics\n",
    "\n",
    "Complete the routine `compute_stats` below to compute mean and sum-of-squared-differences. "
   ]
  },
  {
   "cell_type": "code",
   "execution_count": 3,
   "id": "c5182de1",
   "metadata": {},
   "outputs": [
    {
     "name": "stdout",
     "output_type": "stream",
     "text": [
      "Overwriting prob1.c\n"
     ]
    }
   ],
   "source": [
    "%%file prob1.c\n",
    "\n",
    "#include <stdio.h>\n",
    "#include <stdlib.h>\n",
    "#include <time.h>\n",
    "\n",
    "#include <math.h>\n",
    "\n",
    "void compute_stats(FILE *file, int n, double *mean, double *sum2)\n",
    "{\n",
    "    /* # TODO : Implement incremental algorithm for mean and sum2. \n",
    "       # Use only 'fread' to read 1 item at time from `file`.  \n",
    "    */\n",
    "    int i = 0;\n",
    "    double dm, value;\n",
    "    *mean = 0;\n",
    "    *sum2 = 0;\n",
    "    \n",
    "    do {\n",
    "        fread(&value, sizeof(double), 1, file);\n",
    "        dm = value - *mean;\n",
    "        *mean +=   dm/(double)(i + 1);\n",
    "        *sum2 += dm * (value - *mean);\n",
    "        i++;\n",
    "    } while (i <n);\n",
    "    \n",
    "}\n",
    "\n",
    "\n",
    "int main(int argc, char** argv)\n",
    "{    \n",
    "    FILE *file=fopen(\"X.dat\",\"r\");\n",
    "    int N;\n",
    "    fread(&N,sizeof(int),1,file);\n",
    "    double mean, sum2;\n",
    "    compute_stats(file,N,&mean, &sum2);\n",
    "    fclose(file);\n",
    "\n",
    "    printf(\"Mean  (C)       = %24.16f\\n\",mean);\n",
    "    printf(\"Sum2  (C)       = %24.16f\\n\",sum2);\n",
    "    printf(\"STD   (C)       = %24.16f\\n\",sqrt(sum2/N));\n",
    "    \n",
    "    return 0;\n",
    "}"
   ]
  },
  {
   "cell_type": "markdown",
   "id": "c601052f",
   "metadata": {},
   "source": [
    "### (prob1) Compile and run code"
   ]
  },
  {
   "cell_type": "code",
   "execution_count": 4,
   "id": "42972282",
   "metadata": {},
   "outputs": [
    {
     "name": "stdout",
     "output_type": "stream",
     "text": [
      "Mean  (C)       =       0.5000845712948909\n",
      "Sum2  (C)       =   87274.8268645673524588\n",
      "STD   (C)       =       0.2884991522509903\n"
     ]
    }
   ],
   "source": [
    "%%bash\n",
    "\n",
    "rm -rf prob1\n",
    "\n",
    "gcc -o prob1 prob1.c\n",
    "\n",
    "./prob1"
   ]
  },
  {
   "cell_type": "markdown",
   "id": "e5345883",
   "metadata": {},
   "source": [
    "### (prob1) Verify results"
   ]
  },
  {
   "cell_type": "code",
   "execution_count": 5,
   "id": "2b2ac1d4",
   "metadata": {},
   "outputs": [
    {
     "name": "stdout",
     "output_type": "stream",
     "text": [
      "Mean (Python) is       0.5000845712949017\n",
      "Sum2 (Python) is   87274.8268645667994861\n",
      "STD  (Python) is       0.2884991522509894\n"
     ]
    }
   ],
   "source": [
    "print(f\"Mean (Python) is {X.mean():24.16f}\")\n",
    "\n",
    "sum2 = sum((X-X.mean())**2)\n",
    "print(f\"Sum2 (Python) is {sum2:24.16f}\")\n",
    "print(f\"STD  (Python) is {X.std():24.16f}\")"
   ]
  },
  {
   "cell_type": "code",
   "execution_count": 6,
   "id": "c7ac9c75",
   "metadata": {},
   "outputs": [],
   "source": [
    "# relative error: (mean_c - mean_python)/mean_python 10-15"
   ]
  },
  {
   "cell_type": "markdown",
   "id": "05b7be06",
   "metadata": {},
   "source": [
    "<a id=\"prob2\"></a>\n",
    "\n",
    "<hr style=\"border:2px solid coral\"></hr>\n",
    "\n",
    "## Problem #2 (Statistics in parallel)\n",
    "\n",
    "<hr style=\"border:2px solid coral\"></hr>\n",
    "\n",
    "For this problem, you again have a data set that is too large to fit into memory.  This time, you want to read values from the data set one at a time. Each processor will read from the same file, starting at a location determined by the processor rank. \n",
    "\n",
    "As in problem #1, you will use *incremental formulas* to compute the mean $\\overline{x}_N$ and the sum-of-squared-differences $M_N$ of $N$ data values.    But this time, each processor will compute the mean $\\overline{x}_n$ and $M_n$ of a chunk  of $n$ data values.   Then, rank 0 will gather these mean values and combine them incrementally to form the mean, variance and standard deviation of the entire set. \n",
    "\n",
    "### Mathematical formulas\n",
    "\n",
    "Let $\\overline{X}_A$ and $\\overline{X}_B$ be the mean of two data sets $X_A$ and $X_B$, respectively.  Then the mean of the combined data set $X_X = X_A \\cup X_B$ is given by \n",
    "\n",
    "\\begin{equation}\n",
    "\\overline{X}_X = \\overline{X}_A + \\left(\\overline{X}_B - \\overline{X}_A\\right)\\frac{N_B}{N_X} \n",
    "\\end{equation}\n",
    "\n",
    "where $N_A$ and $N_B$ are the number of data elements in $X_A$ and $X_B$, respectively. \n",
    "\n",
    "Let $M_A$ and $M_B$ be the sum-of-squared differences of two data sets $X_A$ and $X_B$.  Then the sum-of-squared-differences $M_X$ of the two combined data sets $X_X$ is given by \n",
    "\n",
    "\\begin{equation}\n",
    "M_X = M_A + M_B + \\left(\\overline{X}_B - \\overline{X}_A\\right)^2 \\frac{N_A N_B}{N_X}\n",
    "\\end{equation}\n",
    "\n",
    "The goal of this problem is to compute the mean, variance and standard deviation of a large data set using multiple processors.   Each process will compute the mean and sum-of-squared-differences for a chunk of data, read in one at a time from a file.  The rank 0 will collect these results and use the incremental update for sets to form the true mean, variance and standard deviation of the full data set.  \n",
    "\n",
    "### To do\n",
    "\n",
    "* Verify the two incremental formulas above. \n",
    "\n",
    "* Create a large data set\n",
    "\n",
    "* Implement the incremental formula in C.  Use MPI to compute statistics on multiple processors. \n"
   ]
  },
  {
   "cell_type": "markdown",
   "id": "306c2ff4",
   "metadata": {},
   "source": [
    "<hr style=\"border:2px solid black\"></hr>\n",
    "<img width=600 src=\"3.jpg\">\n",
    "<img width=600 src=\"4.jpg\"> \n",
    "<img width=600 src=\"5.jpg\"> "
   ]
  },
  {
   "cell_type": "markdown",
   "id": "5327394e",
   "metadata": {},
   "source": [
    "### (prob2) Create large data set"
   ]
  },
  {
   "cell_type": "code",
   "execution_count": 7,
   "id": "4b4c05fe",
   "metadata": {},
   "outputs": [
    {
     "name": "stdout",
     "output_type": "stream",
     "text": [
      "N is too large to display.\n"
     ]
    }
   ],
   "source": [
    "set_printoptions(formatter={'float' : \"{:24.16}\".format})\n",
    "N = 1 << 20;\n",
    "\n",
    "X = random.rand(N)\n",
    "if N < 32:\n",
    "    display(X)\n",
    "else:\n",
    "    print(\"N is too large to display.\")\n",
    "\n",
    "fout = open(\"X.dat\",\"wb\")\n",
    "array([N],dtype=int32).tofile(fout)\n",
    "X.tofile(fout)\n",
    "fout.close()"
   ]
  },
  {
   "cell_type": "markdown",
   "id": "2dafd2e9",
   "metadata": {},
   "source": [
    "### (prob2) Compute statistics in C (parallel)"
   ]
  },
  {
   "cell_type": "code",
   "execution_count": null,
   "id": "ac19503b",
   "metadata": {},
   "outputs": [],
   "source": []
  },
  {
   "cell_type": "code",
   "execution_count": 8,
   "id": "437e98a6",
   "metadata": {},
   "outputs": [
    {
     "name": "stdout",
     "output_type": "stream",
     "text": [
      "Overwriting prob2.c\n"
     ]
    }
   ],
   "source": [
    "%%file prob2.c\n",
    "#include <stdio.h>\n",
    "#include <stdlib.h>\n",
    "#include <time.h>\n",
    "#include <math.h>\n",
    "#include <mpi.h>\n",
    "\n",
    "void compute_stats(FILE *file, int n, double *mean, double *sum2)\n",
    "{\n",
    "    int i = 0;\n",
    "    double dm, value;\n",
    "    *mean = 0;\n",
    "    *sum2 = 0;\n",
    "\n",
    "    do {\n",
    "        fread(&value, sizeof(double), 1, file);\n",
    "        dm = value - *mean;\n",
    "        *mean += dm/(i + 1);\n",
    "        *sum2 += dm * (value - *mean);\n",
    "        i++;\n",
    "    } while (i < n);\n",
    "}\n",
    "\n",
    "int main(int argc, char** argv)\n",
    "{\n",
    "    MPI_Init(&argc, &argv);\n",
    "\n",
    "    int rank;\n",
    "    MPI_Comm_rank(MPI_COMM_WORLD, &rank);\n",
    "\n",
    "    int nprocs;\n",
    "    MPI_Comm_size(MPI_COMM_WORLD, &nprocs);\n",
    "\n",
    "    FILE *file=fopen(\"X.dat\",\"r\");\n",
    "    int N;\n",
    "    fread(&N,sizeof(int),1,file);\n",
    "\n",
    "    int N_local = N/nprocs;\n",
    "    double mean_local, sum2_local;\n",
    "\n",
    "    fseek(file, rank * N_local * sizeof(double), SEEK_CUR);\n",
    "    compute_stats(file, N_local, &mean_local, &sum2_local);\n",
    "    fclose(file);\n",
    "\n",
    "    MPI_Send(&mean_local, 1, MPI_DOUBLE, 0, 0, MPI_COMM_WORLD);\n",
    "    MPI_Send(&sum2_local, 1, MPI_DOUBLE, 0, 1, MPI_COMM_WORLD);\n",
    "\n",
    "    double mean, sum2;\n",
    "    mean = 0;\n",
    "    sum2 = 0;\n",
    "\n",
    "    if (rank == 0)\n",
    "    {\n",
    "        int NT = N_local;\n",
    "        mean = mean_local;\n",
    "        sum2 = sum2_local;\n",
    "        for (int i = 1; i < nprocs; i++)\n",
    "        {\n",
    "            MPI_Recv(&mean_local, 1, MPI_DOUBLE, i, 0, MPI_COMM_WORLD, MPI_STATUS_IGNORE);\n",
    "            MPI_Recv(&sum2_local, 1, MPI_DOUBLE, i, 1, MPI_COMM_WORLD, MPI_STATUS_IGNORE);\n",
    "            double delta = mean_local - mean;\n",
    "            mean += delta * N_local / ((i + 1) *N_local);\n",
    "            sum2 += sum2_local +  (pow(delta,2)* NT * N_local)/((i + 1) *N_local);\n",
    "            NT +=N_local;\n",
    "        }\n",
    "\n",
    "        printf(\"Mean  (C)       = %24.16f\\n\", mean);\n",
    "        printf(\"Sum2  (C)       = %24.16f\\n\", sum2);\n",
    "        printf(\"STD   (C)       = %24.16f\\n\",sqrt(sum2/N));\n",
    "    }\n",
    "\n",
    "    MPI_Finalize();\n",
    "\n",
    "    return 0;\n",
    "}\n"
   ]
  },
  {
   "cell_type": "markdown",
   "id": "d346bb73",
   "metadata": {},
   "source": [
    "### (prob2) Compile and run code"
   ]
  },
  {
   "cell_type": "code",
   "execution_count": 9,
   "id": "52c2e4f7",
   "metadata": {},
   "outputs": [
    {
     "name": "stdout",
     "output_type": "stream",
     "text": [
      "Mean  (C)       =       0.5003578871609435\n",
      "Sum2  (C)       =   87328.2754410904744873\n",
      "STD   (C)       =       0.2885874796040512\n"
     ]
    }
   ],
   "source": [
    "%%bash\n",
    "\n",
    "rm -rf prob2\n",
    "\n",
    "mpicc -o prob2 prob2.c\n",
    "\n",
    "mpirun -n 8 ./prob2"
   ]
  },
  {
   "cell_type": "code",
   "execution_count": null,
   "id": "4f537af5",
   "metadata": {},
   "outputs": [],
   "source": []
  },
  {
   "cell_type": "markdown",
   "id": "0410a4b4",
   "metadata": {},
   "source": [
    "### (prob2) Verify results"
   ]
  },
  {
   "cell_type": "code",
   "execution_count": 10,
   "id": "794055e1",
   "metadata": {},
   "outputs": [
    {
     "name": "stdout",
     "output_type": "stream",
     "text": [
      "Mean (Python) is       0.5003578871609460\n",
      "Sum2 (Python) is   87328.2754410906491103\n",
      "STD  (Python) is       0.2885874796040515\n"
     ]
    }
   ],
   "source": [
    "print(f\"Mean (Python) is {X.mean():24.16f}\")\n",
    "\n",
    "sum2 = sum((X-X.mean())**2)\n",
    "print(f\"Sum2 (Python) is {sum2:24.16f}\")\n",
    "print(f\"STD  (Python) is {X.std():24.16f}\")"
   ]
  },
  {
   "cell_type": "code",
   "execution_count": null,
   "id": "1fd70e31",
   "metadata": {},
   "outputs": [],
   "source": []
  },
  {
   "cell_type": "markdown",
   "id": "6276c4b2",
   "metadata": {},
   "source": [
    "<a id=\"prob3\"></a>\n",
    "\n",
    "<hr style=\"border:2px solid coral\"></hr>\n",
    "\n",
    "## Problem #3 : Truncation error\n",
    "\n",
    "<hr style=\"border:2px solid coral\"></hr>\n",
    "\n",
    "When developing numerical codes it is often useful as a verification step of code correctness to confirm the expected order of accuracy of a numerical scheme.  Below, you will confirm the second order accuracy of a finite difference scheme by numerically computing the *truncation error* of the scheme.\n",
    "\n",
    "For this problem, you are going to compute the truncation error for the centered finite difference scheme approximation to the second derivative, given by \n",
    "\n",
    "\\begin{equation}\n",
    "u''(x_i) \\approx \\frac{u_{i-1} - 2 u_i + u_{i+1}}{h^2}, \\qquad i = 0,1,\\dots N\n",
    "\\end{equation}\n",
    "\n",
    "where $u_i = u(x_i)$, $x_i = a + i h$, $h = (b-a)/N$ on an interval $[a,b]$. \n",
    "\n",
    "#### Truncation error\n",
    "The *truncation error* $\\tau(x;h)$ at a grid point $x_i$ associated with the centered difference approximation is given by\n",
    "\n",
    "\\begin{equation}\n",
    "\\tau(x_i;h)  = \\left|\\frac{u_{i-1} - 2 u_i + u_{i+1}}{h^2} - u''(x_i) \\right| = \\frac{1}{12}u''''(x_i) \\; h^2 + \\mathcal O(h^4).  \n",
    "\\end{equation}\n",
    "\n",
    "The underlying idea is that as $h$ (*mesh width*) goes to zero, this trunction error goes to 0 and our finite difference approximation at $x_i$ approaches the exact second derivative $u''(x_i)$.  *This particular form of the truncation error can be easily found using Taylor series expansions learned in Calculus I.*\n",
    "\n",
    "The centered difference scheme is referred to as a *second order scheme*, since $\\tau(x;h) \\sim \\mathcal O(h^2)$ in the limit as $h$ goes to zero.\n",
    "\n",
    "#### Numerical verification of the order of accuracy\n",
    "\n",
    "In practice, we can confirm the order accuracy of a numerical method by  neglecting the higher order terms in the truncation error and defining a numerical trunction error as \n",
    "\n",
    "\\begin{equation}\n",
    "\\tau_i \\equiv \\tau(x_i; h) \\approx  C h^p\n",
    "\\end{equation}\n",
    "\n",
    "For the second order, centered difference scheme above, the constant $C$ is depends on the fourth derivative of $u(x)$, or \n",
    "\n",
    "\\begin{equation}\n",
    "C \\approx \\frac{1}{12}u''''(x_i). \n",
    "\\end{equation}\n",
    "\n",
    "If we halve the mesh width $h$ for the centered scheme, we expect that the trunction error is reduced by a quarter, since\n",
    "\n",
    "\\begin{equation}\n",
    "\\tau(x_i;h/2) \\approx C\\left(\\frac{h}{2}\\right)^2 = \\frac{C}{4}h^2 = \\frac{1}{4}\\tau(x_i; h).\n",
    "\\end{equation}\n",
    "\n",
    "To confirm the second order accuracy of the  truncation error, we compute a sequence of values $N_m$ and $T_m$, $m = 0,1,\\dots,M$ as follows. \n",
    "\n",
    "* Define $N_m = N_0 2^m$. \n",
    "\n",
    "* Define $h_m = (b-a)/N_m$ and $x_i = a + ih_m$ for $i = 0,1,\\dots N_m$.\n",
    "\n",
    "Then\n",
    "\n",
    "1. Compute $\\tau_i =\\tau(x_i; h_m)$ at each grid point $x_i$.  Call this vector $\\mathbf t$, with components $\\tau_i$. \n",
    "\n",
    "\n",
    "2. Compute the inf-norm $\\Vert \\cdot \\Vert_{\\infty}$ of the vector $\\mathbf t$ as \n",
    "\n",
    "\\begin{equation}\n",
    "\\left\\Vert \\mathbf t \\right\\Vert_{\\infty}^{N_m} = \\max_{i=0,1,\\dots N_m} |\\tau_i|\n",
    "\\end{equation}\n",
    "\n",
    "3.  Define $T_m = \\Vert \\mathbf t \\Vert_{\\infty}^{N_m}$.  \n",
    "\n",
    "Using vectors $\\mathbf H$ and $\\mathbf T$ with components $h_m$ and $T_m$, we seek a parameter $p$ that fits the model\n",
    "\n",
    "\\begin{equation}\n",
    "T_m = C h_m^p.\n",
    "\\end{equation}\n",
    "\n",
    "Taking the log of both sides, we get the linear expression \n",
    "\n",
    "\\begin{equation}\n",
    "\\log(T_m) = \\log(h_m)\\; p + \\log(C)\n",
    "\\end{equation}\n",
    "\n",
    "Using linear regression (e.g. `polyfit`), we can find a value $p$ (e.g. *slope*) that best fits our linear model.    For the centered difference scheme, this slope should be approximately 2.  \n",
    "\n",
    "An alternative formulation that will give us the same slope (with opposite sign) is \n",
    "\n",
    "\\begin{equation}\n",
    "\\log(T_m) = \\log(N_m)\\; p + \\log(C)\n",
    "\\end{equation}\n",
    "\n",
    "This is more convenient form, since we can label the x-axis with integer $N$ values rather than small $h$ values. "
   ]
  },
  {
   "cell_type": "markdown",
   "id": "1ab92b40",
   "metadata": {},
   "source": [
    "### To Do\n",
    "\n",
    "Complete the code below. "
   ]
  },
  {
   "cell_type": "code",
   "execution_count": 11,
   "id": "b12dd17a",
   "metadata": {},
   "outputs": [],
   "source": [
    "%reset -f"
   ]
  },
  {
   "cell_type": "code",
   "execution_count": 12,
   "id": "73d1dcf2",
   "metadata": {},
   "outputs": [
    {
     "name": "stdout",
     "output_type": "stream",
     "text": [
      "Overwriting prob3.c\n"
     ]
    }
   ],
   "source": [
    "%%file prob3.c\n",
    "\n",
    "#include <stdio.h>\n",
    "#include <stdlib.h>\n",
    "#include <time.h>\n",
    "\n",
    "#include <mpi.h>\n",
    "\n",
    "#include <math.h>\n",
    "double* allocate_1d(int n, int m)\n",
    "{\n",
    "    /* Use malloc to allocate memory */\n",
    "    double *y = (double*) malloc((n+2*m)*sizeof(double));\n",
    "    return &y[m];\n",
    "}\n",
    "\n",
    "\n",
    "void free_1d(double **x, int m)\n",
    "{\n",
    "    /* Use free to free memory;  Set value of pointer to NULL after freeing memory.  */\n",
    "    if (*x != NULL) \n",
    "    {\n",
    "        free(*x+m);\n",
    "        *x = NULL;\n",
    "    }\n",
    "    \n",
    "}\n",
    "\n",
    "\n",
    "double utrue(double x)\n",
    "{\n",
    "    return cos(x);\n",
    "}\n",
    "\n",
    "double upp(double x)\n",
    "{\n",
    "    return -cos(x);\n",
    "}\n",
    "\n",
    "/* Evaluate true solution */\n",
    "void compute_solution(int n, double a, double b, double *u)\n",
    "{\n",
    "    int rank, nprocs;\n",
    "    MPI_Comm_rank(MPI_COMM_WORLD, &rank);\n",
    "    MPI_Comm_size(MPI_COMM_WORLD, &nprocs);\n",
    "    \n",
    "    int i1 = 0;\n",
    "    int i2 = (rank == nprocs-1) ? n+1 : n;\n",
    "    \n",
    "    double dx = (b-a)/n;\n",
    "    for(int i = i1; i < i2; i++)\n",
    "    {\n",
    "        double x = a + dx*i;\n",
    "        u[i] = utrue(x);\n",
    "        \n",
    "    }    \n",
    "}\n",
    "\n",
    "\n",
    "void compute_rhs(int n, double a, double b, double *f)\n",
    "{\n",
    "    double dx = (b-a)/n;\n",
    "    for(int i = 0; i < n+1; i++)\n",
    "    {\n",
    "        double x = a + (dx*i);        \n",
    "        f[i] = upp(x);        \n",
    "    }\n",
    "}\n",
    "\n",
    "void apply_Laplacian(int n, double a, double b, double *u, double *L)\n",
    "{\n",
    "    int rank, nprocs;\n",
    "    MPI_Comm_rank(MPI_COMM_WORLD, &rank);\n",
    "    MPI_Comm_size(MPI_COMM_WORLD, &nprocs);\n",
    "\n",
    "    /* # TODO : Evaluate the Laplacian L.  You will need to exchange data at the boundary of\n",
    "       # each processor region. */\n",
    "    double h = (b - a)/n;\n",
    "    int i2 = (rank == nprocs-1) ? n: n-1;\n",
    "    int i1 = 0;\n",
    "    \n",
    "    if (rank > 0)\n",
    "    {\n",
    "        int tag = 0;\n",
    "        int sender = rank - 1;\n",
    "        MPI_Recv(&u[-1],1,MPI_DOUBLE,sender,tag,MPI_COMM_WORLD, MPI_STATUS_IGNORE);\n",
    "        tag = 1;\n",
    "        int dest = rank - 1;\n",
    "        MPI_Send(&u[0],1,MPI_DOUBLE,dest,tag,MPI_COMM_WORLD);\n",
    "    }\n",
    "    if (rank < nprocs - 1)\n",
    "    {\n",
    "        int tag = 0;\n",
    "        int dest = rank + 1;\n",
    "        MPI_Send(&u[n-1],1,MPI_DOUBLE,dest,tag,MPI_COMM_WORLD);\n",
    "      \n",
    "        tag = 1;\n",
    "        int sender = rank + 1;\n",
    "        MPI_Recv(&u[n],1,MPI_DOUBLE,sender,tag,MPI_COMM_WORLD, MPI_STATUS_IGNORE);  \n",
    "    }\n",
    "    \n",
    "    if (rank == 0)\n",
    "    {\n",
    "        u[-1] = 2*u[0] - u[1];\n",
    "        \n",
    "        \n",
    "    }\n",
    "    \n",
    "    if (rank == nprocs -1)\n",
    "    {\n",
    "        u[n+1] = 2*u[n] - u[n - 1];\n",
    "    }\n",
    "    \n",
    "   \n",
    "    \n",
    "    for (int j = i1; j <= i2; j++)\n",
    "    {\n",
    "        L[j] = (u[j - 1] - 2*u[j] + u[j+1])/pow(h,2);\n",
    "        \n",
    "    }\n",
    "    \n",
    "}\n",
    "\n",
    "\n",
    "double compute_grid_error(int n, double a, double b, double *u, double *v)\n",
    "{\n",
    "    int rank, nprocs;\n",
    "    MPI_Comm_rank(MPI_COMM_WORLD, &rank);\n",
    "    MPI_Comm_size(MPI_COMM_WORLD, &nprocs);\n",
    "    \n",
    "    // Compute local maximum error\n",
    "    double local_max_error = 0.0;\n",
    "    int i1 = (rank == 0) ? 1: 0;\n",
    "    int i2 = (rank == nprocs - 1) ? n : n-1;\n",
    "    \n",
    "    for (int i = i1; i < i2; i++) {\n",
    "        double error = fabs(u[i] - v[i]);\n",
    "        if (error > local_max_error) {\n",
    "            local_max_error = error;\n",
    "        }\n",
    "    }\n",
    "    \n",
    "    // Find global maximum error\n",
    "    double global_max_error;\n",
    "    MPI_Allreduce(&local_max_error, &global_max_error, 1, MPI_DOUBLE, MPI_MAX, MPI_COMM_WORLD);\n",
    "    \n",
    "    return global_max_error;\n",
    "}\n",
    "\n",
    "\n",
    "int main(int argc, char** argv)\n",
    "{    \n",
    "    MPI_Init(&argc, &argv);\n",
    "    \n",
    "    int rank, nprocs;\n",
    "    MPI_Comm_rank(MPI_COMM_WORLD, &rank);\n",
    "    MPI_Comm_size(MPI_COMM_WORLD, &nprocs);\n",
    "    \n",
    "    if (argc < 2)\n",
    "    {\n",
    "        printf(\"User must supply N as a command line argument.\\n\");\n",
    "        exit(1);\n",
    "    }\n",
    "    \n",
    "    int N = atoi(argv[1]);\n",
    "    double a = 0, b = 2*M_PI;\n",
    "    int N_local = N/nprocs;\n",
    "    \n",
    "    double h = (b - a) / N;\n",
    "    \n",
    "    double a_local = a + rank * N_local * h;\n",
    "    double b_local = a_local + N_local * h;\n",
    "    \n",
    "    FILE *file=fopen(\"prob3.dat\",\"r\");\n",
    "    fread(&a,sizeof(double),1,file);\n",
    "    fread(&b,sizeof(double),1,file);\n",
    "    fclose(file);        \n",
    "    \n",
    "    /* # TODO : Determine interval [a_p, b_p] for this processor */\n",
    "    double *u_local = allocate_1d(N_local+1,0);\n",
    "    double *L_local = allocate_1d(N_local+1,0);\n",
    "    double *v_local = allocate_1d(N_local+1,0);\n",
    "    \n",
    "    /* # TODO : Create array of u values (use 'utrue') */\n",
    "    compute_solution(N_local, a_local, b_local, u_local);\n",
    "    apply_Laplacian(N_local,a_local, b_local, u_local, L_local);\n",
    "    compute_rhs(N_local, a_local,b_local,v_local);\n",
    "    \n",
    "    double g;\n",
    "    g = compute_grid_error(N_local,a_local, b_local, L_local, v_local);\n",
    "    double g_all; \n",
    "    MPI_Reduce(&g, &g_all, 1, MPI_DOUBLE, MPI_MAX, 0, MPI_COMM_WORLD);\n",
    "    \n",
    "    if (rank == 0)\n",
    "    {    \n",
    "        /* # TODO  : Use MPI_Reduce to compute norm of truncation error for entire mesh */\n",
    "        \n",
    "        FILE *fout = fopen(\"prob3.out\",\"w\");\n",
    "        fwrite(&g_all,sizeof(double),1,fout);\n",
    "        fclose(fout);\n",
    "    }\n",
    "    free_1d(&u_local,0);\n",
    "    free_1d(&L_local,0); \n",
    "    free_1d(&v_local,0);  \n",
    " \n",
    "    MPI_Finalize();\n",
    "}    "
   ]
  },
  {
   "cell_type": "code",
   "execution_count": 13,
   "id": "d6294cf8",
   "metadata": {},
   "outputs": [],
   "source": [
    "%%bash\n",
    "\n",
    "rm -rf prob3\n",
    "\n",
    "mpicc -o prob3 prob3.c"
   ]
  },
  {
   "cell_type": "code",
   "execution_count": 14,
   "id": "109905a7",
   "metadata": {},
   "outputs": [],
   "source": [
    "from numpy import *"
   ]
  },
  {
   "cell_type": "code",
   "execution_count": 15,
   "id": "fa1d6e6d",
   "metadata": {},
   "outputs": [
    {
     "name": "stdout",
     "output_type": "stream",
     "text": [
      "      32       3.2086e-03\n",
      "      64       8.0293e-04\n",
      "     128       2.0078e-04\n",
      "     256       5.0198e-05\n",
      "     512       1.2550e-05\n",
      "    1024       3.1375e-06\n"
     ]
    }
   ],
   "source": [
    "import subprocess\n",
    "import shlex\n",
    "import os\n",
    "\n",
    "a = 0\n",
    "b = 2*pi\n",
    "\n",
    "# mpirun command\n",
    "shell_cmd = 'mpirun -n 4 ./prob3 {N:d}'.format\n",
    "\n",
    "fout = open(\"prob3.dat\",\"wb\")\n",
    "array([a,b],dtype=float64).tofile(fout)\n",
    "fout.close()\n",
    "\n",
    "err = []\n",
    "Nv = []\n",
    "M = 5\n",
    "N0 = 32\n",
    "for p in range(M+1):\n",
    "    N = N0*(2**p);\n",
    "    cmd = shell_cmd(N=N)\n",
    "    arg_list = shlex.split(cmd) \n",
    "\n",
    "    # Run output\n",
    "    output = subprocess.run(arg_list)\n",
    "    \n",
    "    fout = open(\"prob3.out\",\"rb\")\n",
    "    g = fromfile(fout,dtype=float64,count=1)[0]\n",
    "    fout.close()\n",
    "    \n",
    "    print(f\"{N:8d} {g:16.4e}\")\n",
    "    \n",
    "    err.append(g)\n",
    "    Nv.append(N)\n",
    "    \n",
    "err = array(err)\n",
    "Nv = array(Nv)"
   ]
  },
  {
   "cell_type": "markdown",
   "id": "a3563c61",
   "metadata": {},
   "source": [
    "### Create plot of error"
   ]
  },
  {
   "cell_type": "code",
   "execution_count": 16,
   "id": "d72e2582",
   "metadata": {},
   "outputs": [],
   "source": [
    "from matplotlib.pyplot import *"
   ]
  },
  {
   "cell_type": "code",
   "execution_count": 17,
   "id": "3c28e805",
   "metadata": {},
   "outputs": [
    {
     "data": {
      "image/png": "[encoded data removed]",
      "text/plain": [
       "<Figure size 432x288 with 1 Axes>"
      ]
     },
     "metadata": {
      "needs_background": "light"
     },
     "output_type": "display_data"
    }
   ],
   "source": [
    "figure(1)\n",
    "clf()\n",
    "\n",
    "# TODO : Get best fit line to (N,err)\n",
    "\n",
    "# Plot best fit line (loglog)\n",
    "ps = polyfit(log(Nv),log(err),1)\n",
    "label = f\"Slope = {ps[0]:0.2f}\"\n",
    "loglog(Nv,exp(polyval(ps,log(Nv))),'k--',label=label)\n",
    "\n",
    "# Plot actual data points (loglog)\n",
    "loglog(Nv,err,'r.',ms=10,label='Error')\n",
    "\n",
    "\n",
    "# Make nice tick marks\n",
    "pstr = ([f'{N:d}' for N in Nv])\n",
    "xticks(Nv,pstr)\n",
    "\n",
    "minorticks_off();  # Needed to suppress minor tick mark labels\n",
    "\n",
    "legend();\n",
    "\n",
    "title(\"Truncation error\")\n",
    "xlabel(\"N\")\n",
    "ylabel(r\"|f - $\\nabla^2 u|$\");"
   ]
  },
  {
   "cell_type": "code",
   "execution_count": null,
   "id": "f3198224",
   "metadata": {},
   "outputs": [],
   "source": []
  }
 ],
 "metadata": {
  "kernelspec": {
   "display_name": "ipykernel",
   "language": "python",
   "name": "python3"
  },
  "language_info": {
   "codemirror_mode": {
    "name": "ipython",
    "version": 3
   },
   "file_extension": ".py",
   "mimetype": "text/x-python",
   "name": "python",
   "nbconvert_exporter": "python",
   "pygments_lexer": "ipython3",
   "version": "3.9.12"
  }
 },
 "nbformat": 4,
 "nbformat_minor": 5
}

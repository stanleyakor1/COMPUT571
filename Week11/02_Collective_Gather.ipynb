{
 "cells": [
  {
   "cell_type": "markdown",
   "metadata": {},
   "source": [
    "<hr style=\"border: 2px solid coral\"></hr>\n",
    "\n",
    "# MPI_Gather and MPI_Gatherv\n",
    "\n",
    "<hr style=\"border: 2px solid coral\"></hr>\n",
    "\n",
    "The functions `MPI_Gather` and `MPI_Gatherv` can be used to \"gather\" data onto a single node.  This can be used to create an output file from all the data used. \n",
    "\n",
    "`MPI_Gather` and  `MPI_Gatherv` are examples of *collective communication* routines.  \n",
    "\n",
    "We start with a single example illustrating the basic task, using `MPI_Send` and `MPI_Recv`.\n",
    "\n",
    "* <a href=\"#gather_v1\">Gathering data onto a single rank</a>\n",
    "\n",
    "\n",
    "A second set of examples illustrates the above tasks using `MPI_Gather`. \n",
    "\n",
    "\n",
    "* <a href=\"#gather_v2\">MPI_Gather (version 1)</a>\n",
    "\n",
    "* <a href=\"#gather_v3\">MPI_Gather (version 2, final)</a>\n",
    "\n",
    "\n",
    "For grid data, you can look at these two examples.  In this example, we introduce the use of `MPI_Gatherv`. \n",
    "\n",
    "* <a href=\"#gather_grid_v1\">MPI_Gather (version 1)</a>\n",
    "\n",
    "* <a href=\"#gatherv_v2\">MPI_Gatherv (version 2, final)</a>\n",
    "\n"
   ]
  },
  {
   "cell_type": "code",
   "execution_count": 1,
   "metadata": {},
   "outputs": [],
   "source": [
    "from matplotlib.pyplot import *\n",
    "from numpy import *"
   ]
  },
  {
   "cell_type": "markdown",
   "metadata": {},
   "source": [
    "<a id=\"gather_v0\"></a>\n",
    "\n",
    "### Example : \"Gathering\" data from all processors using MPI_Send/MPI_Recv\n",
    "\n",
    "<hr style=\"border:2px solid black\"></hr>\n",
    "\n",
    "Gather can be used any time we need to collective \"gather\" information from all the ranks. \n",
    "\n",
    "Suppose we wanted each processor to compute the result of multiplying their rank by $\\pi$, and then report the result to rank 0.  A simple code that does this is"
   ]
  },
  {
   "cell_type": "code",
   "execution_count": 5,
   "metadata": {},
   "outputs": [
    {
     "name": "stdout",
     "output_type": "stream",
     "text": [
      "Overwriting gather_01.c\n"
     ]
    }
   ],
   "source": [
    "%%file gather_01.c\n",
    "\n",
    "#include <stdio.h>\n",
    "#include <stdlib.h>\n",
    "\n",
    "#include <mpi.h>\n",
    "#include <math.h>\n",
    "\n",
    "\n",
    "int main(int argc, char** argv)\n",
    "{\n",
    "    MPI_Init(&argc, &argv);\n",
    "\n",
    "    int rank, nprocs;\n",
    "    MPI_Comm_rank(MPI_COMM_WORLD, &rank);\n",
    "    MPI_Comm_size(MPI_COMM_WORLD, &nprocs);\n",
    "    \n",
    "    double r_pi = rank*M_PI;    \n",
    "    \n",
    "    if (rank == 0)\n",
    "    {\n",
    "        int tag = 0;\n",
    "        double *results = (double*) malloc(nprocs*sizeof(double));\n",
    "        results[0] = r_pi;  // # assign rank 0 entry.\n",
    "        for(int p = 1; p < nprocs; p++)\n",
    "        {\n",
    "            int source = p;            \n",
    "            MPI_Recv(&results[p],1,MPI_DOUBLE,source,tag,MPI_COMM_WORLD,MPI_STATUS_IGNORE);\n",
    "        }\n",
    "        for(int p = 0; p < nprocs; p++)\n",
    "        {\n",
    "            printf(\"Results on rank %d is %f\\n\",p,results[p]);\n",
    "        }\n",
    "        free(results);\n",
    "    }\n",
    "    else\n",
    "    {\n",
    "        int dest = 0;        \n",
    "        int tag = 0;\n",
    "        MPI_Send(&r_pi,1,MPI_DOUBLE,dest,tag,MPI_COMM_WORLD);\n",
    "    }\n",
    "\n",
    "    MPI_Finalize();\n",
    "    return 0;\n",
    "}"
   ]
  },
  {
   "cell_type": "code",
   "execution_count": 7,
   "metadata": {},
   "outputs": [
    {
     "name": "stdout",
     "output_type": "stream",
     "text": [
      "Results on rank 0 is 0.000000\n",
      "Results on rank 1 is 3.141593\n",
      "Results on rank 2 is 6.283185\n",
      "Results on rank 3 is 9.424778\n"
     ]
    }
   ],
   "source": [
    "%%bash\n",
    "\n",
    "rm -rf gather_01.o gather_01\n",
    "\n",
    "mpicc -o gather_01 gather_01.c \n",
    "\n",
    "mpirun -n 4 ./gather_01"
   ]
  },
  {
   "cell_type": "markdown",
   "metadata": {},
   "source": [
    "<a id=\"gather_v1\"></a>\n",
    "\n",
    "\n",
    "### Example : \"Gathering\" data using MPI_Gather (version 1)\n",
    "\n",
    "<hr style=\"border:2px solid black\"></hr>\n",
    "\n",
    "Because \"gathering\" is such a common task, MPI has built in functions which accomplish this with essentially a single command.  Furthermore, the built in command will generally be much more efficiecient, since it is based on a tree-like commmunication structure. \n",
    "\n",
    "The gather command has the following syntax. \n",
    "\n",
    "    int MPI_Gather (void *sendbuf, int sendcnt, MPI_Datatype sendtype,\n",
    "                    void *recvbuf, int recvcount, MPI_Datatype recvtype,\n",
    "                    int root, MPI_Comm comm);\n",
    "\n",
    "\n",
    "where\n",
    "\n",
    "* **sendbuf** is the data on an individual processor to be sent\n",
    "\n",
    "* **sendcnt** is the number of elements to be sent\n",
    "\n",
    "* **sentype** is the MPI Data type, e.g. `MPI_DOUBLE`, `MPI_INT`, etc\n",
    "\n",
    "* **recvbuf** is the buffer on the `root` node that should receive all the entries. \n",
    "\n",
    "* **recvcount** Number of elements that *each proc* sends. \n",
    "\n",
    "* **recvtype** MPI Data type of the buffer to be received. \n",
    "\n",
    "* **root** The node that \"gathers\" the data\n",
    "\n",
    "* **comm** The MPI communicator.\n",
    "\n",
    "\n",
    "You can links to all MPI routines [here](https://hpc-tutorials.llnl.gov/mpi/appendix_a/)."
   ]
  },
  {
   "cell_type": "code",
   "execution_count": 8,
   "metadata": {},
   "outputs": [
    {
     "name": "stdout",
     "output_type": "stream",
     "text": [
      "Overwriting gather_02.c\n"
     ]
    }
   ],
   "source": [
    "%%file gather_02.c\n",
    "\n",
    "#include <stdio.h>\n",
    "#include <stdlib.h>\n",
    "\n",
    "#include <mpi.h>\n",
    "#include <math.h>\n",
    "\n",
    "\n",
    "int main(int argc, char** argv)\n",
    "{\n",
    "    MPI_Init(&argc, &argv);\n",
    "\n",
    "    int rank, nprocs;\n",
    "    MPI_Comm_rank(MPI_COMM_WORLD, &rank);\n",
    "    MPI_Comm_size(MPI_COMM_WORLD, &nprocs);\n",
    "    \n",
    "    double r_pi = rank*M_PI;\n",
    "    \n",
    "    int root = 0;\n",
    "    double * recv_buf;\n",
    "    recv_buf = (double*) malloc(nprocs*sizeof(double));        \n",
    "            \n",
    "    int recv_count = 1;\n",
    "    \n",
    "    MPI_Gather(&r_pi,1,MPI_DOUBLE,recv_buf,recv_count,MPI_DOUBLE,root,MPI_COMM_WORLD);\n",
    "    \n",
    "    if (rank == root)\n",
    "    {\n",
    "        for(int p = 0; p < nprocs; p++)\n",
    "            printf(\"Result from rank %d is %g\\n\",p,recv_buf[p]);        \n",
    "    }        \n",
    "    free(recv_buf);\n",
    "    \n",
    "    MPI_Finalize();\n",
    "    return 0;\n",
    "}"
   ]
  },
  {
   "cell_type": "code",
   "execution_count": 9,
   "metadata": {},
   "outputs": [
    {
     "name": "stdout",
     "output_type": "stream",
     "text": [
      "Result from rank 0 is 0\n",
      "Result from rank 1 is 3.14159\n",
      "Result from rank 2 is 6.28319\n",
      "Result from rank 3 is 9.42478\n",
      "Result from rank 4 is 12.5664\n",
      "Result from rank 5 is 15.708\n",
      "Result from rank 6 is 18.8496\n",
      "Result from rank 7 is 21.9911\n"
     ]
    }
   ],
   "source": [
    "%%bash\n",
    "\n",
    "rm -rf gather_02\n",
    "\n",
    "mpicc -o gather_02 gather_02.c \n",
    "\n",
    "mpirun -n 8 ./gather_02"
   ]
  },
  {
   "cell_type": "markdown",
   "metadata": {},
   "source": [
    "There is a bug in the above code.   How can we fix it? "
   ]
  },
  {
   "cell_type": "markdown",
   "metadata": {},
   "source": [
    "<a id=\"gather_v2\"></a>\n",
    "\n",
    "\n",
    "### Example : \"Gathering\" using MPI_Gather (version 2, final)\n",
    "\n",
    "<hr style=\"border:2px solid black\"></hr>\n",
    "\n",
    "In the above, only rank 0 actually needs to allocate memory for the receive buffer.  Below, we selectively allocate and deallocate memory only on the root node. "
   ]
  },
  {
   "cell_type": "code",
   "execution_count": 10,
   "metadata": {},
   "outputs": [
    {
     "name": "stdout",
     "output_type": "stream",
     "text": [
      "Writing gather_03.c\n"
     ]
    }
   ],
   "source": [
    "%%file gather_03.c\n",
    "\n",
    "#include <stdio.h>\n",
    "#include <stdlib.h>\n",
    "\n",
    "#include <mpi.h>\n",
    "#include <math.h>\n",
    "\n",
    "\n",
    "int main(int argc, char** argv)\n",
    "{\n",
    "    MPI_Init(&argc, &argv);\n",
    "\n",
    "    int rank, nprocs;\n",
    "    MPI_Comm_rank(MPI_COMM_WORLD, &rank);\n",
    "    MPI_Comm_size(MPI_COMM_WORLD, &nprocs);\n",
    "    \n",
    "    double r_pi = rank*M_PI;\n",
    "    \n",
    "    int root = 0;\n",
    "    double * recv_buf;\n",
    "    \n",
    "    if (rank == root)\n",
    "        recv_buf = (double*) malloc(nprocs*sizeof(double));        \n",
    "    else\n",
    "        recv_buf = NULL;\n",
    "            \n",
    "    int recv_count = 1;    \n",
    "    MPI_Gather(&r_pi,1,MPI_DOUBLE,recv_buf,recv_count,MPI_DOUBLE,root,MPI_COMM_WORLD);\n",
    "    \n",
    "    if (rank == root)\n",
    "    {\n",
    "        for(int p = 0; p < nprocs; p++)\n",
    "            printf(\"Result from rank %d is %12.4f\\n\",p,recv_buf[p]);        \n",
    "        free(recv_buf);\n",
    "    }        \n",
    "    \n",
    "    MPI_Finalize();\n",
    "    return 0;\n",
    "}"
   ]
  },
  {
   "cell_type": "code",
   "execution_count": 12,
   "metadata": {},
   "outputs": [
    {
     "name": "stdout",
     "output_type": "stream",
     "text": [
      "Result from rank 0 is       0.0000\n",
      "Result from rank 1 is       3.1416\n",
      "Result from rank 2 is       6.2832\n",
      "Result from rank 3 is       9.4248\n",
      "Result from rank 4 is      12.5664\n",
      "Result from rank 5 is      15.7080\n",
      "Result from rank 6 is      18.8496\n",
      "Result from rank 7 is      21.9911\n"
     ]
    }
   ],
   "source": [
    "%%bash\n",
    "\n",
    "rm -rf gather_03\n",
    "\n",
    "mpicc -o gather_03 gather_03.c \n",
    "\n",
    "mpirun -n 8 ./gather_03"
   ]
  },
  {
   "cell_type": "markdown",
   "metadata": {},
   "source": [
    "<hr style=\"border:2px solid coral\"></hr>\n",
    "\n",
    "## Using Gather with grid data\n",
    "\n",
    "<hr style=\"border:2px solid coral\"></hr>\n",
    "\n",
    "We can use gather to collect solution data from a grid solution onto a single processor.  This is useful for output, for example. "
   ]
  },
  {
   "cell_type": "markdown",
   "metadata": {},
   "source": [
    "<a id=\"gather_grid_v1\"></a>\n",
    "\n",
    "\n",
    "### Example : Writing out grid data using MPI_Gather (version 1)\n",
    "\n",
    "<hr style=\"border:2px solid black\"></hr>\n"
   ]
  },
  {
   "cell_type": "code",
   "execution_count": 13,
   "metadata": {},
   "outputs": [
    {
     "name": "stdout",
     "output_type": "stream",
     "text": [
      "Writing gather_04.c\n"
     ]
    }
   ],
   "source": [
    "%%file gather_04.c\n",
    "\n",
    "#include <stdio.h>\n",
    "#include <stdlib.h>\n",
    "\n",
    "#include <mpi.h>\n",
    "#include <math.h>\n",
    "\n",
    "double* allocate_1d(int n, int m)\n",
    "{\n",
    "    double *mem = (double*) malloc((n + 2*m)*sizeof(double));\n",
    "    return &mem[m];\n",
    "}\n",
    "\n",
    "void free_1d(double **x, int m)\n",
    "{\n",
    "    free(&(*x)[-m]);\n",
    "    *x = NULL;\n",
    "}\n",
    "\n",
    "\n",
    "void set_values(int n, double a, double b, double *q)\n",
    "{\n",
    "    double pi = M_PI;\n",
    "    double dx = (b-a)/n;\n",
    "    for(int i = 0; i < n; i++)\n",
    "    {\n",
    "        double x = a +  i*dx;\n",
    "        q[i] = cos(x);        \n",
    "    }    \n",
    "}\n",
    "\n",
    "int main(int argc, char** argv)\n",
    "{\n",
    "    MPI_Init(&argc, &argv);\n",
    "\n",
    "    int rank, nprocs;\n",
    "    MPI_Comm_rank(MPI_COMM_WORLD, &rank);\n",
    "    MPI_Comm_size(MPI_COMM_WORLD, &nprocs);\n",
    "\n",
    "    int N = 1 << 5;    // # 2^10\n",
    "\n",
    "    double a = 0;\n",
    "    double b = 2*M_PI;\n",
    "\n",
    "    int N_local = N/nprocs;\n",
    "\n",
    "    double dw = (b-a)/nprocs;\n",
    "    double a_local = a + rank*dw;\n",
    "    double b_local = a_local + dw;\n",
    "    \n",
    "    /* # Initialize data */\n",
    "    double *q_local = allocate_1d(N_local+1,0);\n",
    "\n",
    "    set_values(N_local,a_local, b_local, q_local);\n",
    "    \n",
    "    double *q = allocate_1d((N+1),0);\n",
    "\n",
    "    int root = 0;\n",
    "    MPI_Gather(q_local,N_local,MPI_DOUBLE,q,N_local,MPI_DOUBLE,root,MPI_COMM_WORLD);        \n",
    "    \n",
    "    /* Write out meta-data */\n",
    "    if (rank == root)\n",
    "    {\n",
    "        FILE* fout = fopen(\"gather_04.out\",\"w\");\n",
    "        fwrite(&N,1,sizeof(int),fout);\n",
    "        fwrite(&a,1,sizeof(double),fout);\n",
    "        fwrite(&b,1,sizeof(double),fout);\n",
    "\n",
    "        fwrite(q,N+1,sizeof(double),fout);\n",
    "        free(q);\n",
    "        fclose(fout);        \n",
    "    }\n",
    "\n",
    "    MPI_Finalize();\n",
    "    \n",
    "    return 0;\n",
    "}\n"
   ]
  },
  {
   "cell_type": "code",
   "execution_count": 14,
   "metadata": {},
   "outputs": [],
   "source": [
    "%%bash\n",
    "\n",
    "rm -rf gather_04.o gather_04\n",
    "\n",
    "mpicc -o gather_04 gather_04.c\n",
    "\n",
    "mpirun -n 4 ./gather_04"
   ]
  },
  {
   "cell_type": "code",
   "execution_count": 15,
   "metadata": {},
   "outputs": [
    {
     "name": "stdout",
     "output_type": "stream",
     "text": [
      "N = 32\n",
      "(a,b) = (0.00000000,6.28318531)\n",
      "\n",
      "q = [1.00000000 0.98078528 0.92387953 0.83146961 0.70710678 0.55557023\n",
      " 0.38268343 0.19509032 0.00000000 -0.19509032 -0.38268343 -0.55557023\n",
      " -0.70710678 -0.83146961 -0.92387953 -0.98078528 -1.00000000 -0.98078528\n",
      " -0.92387953 -0.83146961 -0.70710678 -0.55557023 -0.38268343 -0.19509032\n",
      " -0.00000000 0.19509032 0.38268343 0.55557023 0.70710678 0.83146961\n",
      " 0.92387953 0.98078528 0.00000000]\n"
     ]
    }
   ],
   "source": [
    "# Open file for reading; use binary mode\n",
    "fout = open(\"gather_04.out\",\"rb\")\n",
    "\n",
    "# Read meta data\n",
    "dt = dtype([('N',int32),('a',float64),('b',float64)])\n",
    "N,a,b = fromfile(fout,dtype=dt, count=1)[0]\n",
    "\n",
    "# Print meta data from dictionary\n",
    "print(f\"N = {N:d}\")\n",
    "print(f\"(a,b) = ({a:.8f},{b:.8f})\")\n",
    "\n",
    "# Read solution data using \"N\" read above\n",
    "q = fromfile(fout,dtype=float64,count=N+1)\n",
    "\n",
    "fout.close()\n",
    "\n",
    "with printoptions(formatter={'float' : \"{:.8f}\".format}):\n",
    "    print(\"\")\n",
    "    print(\"q = \",end=\"\")\n",
    "    print(q)"
   ]
  },
  {
   "cell_type": "code",
   "execution_count": 16,
   "metadata": {},
   "outputs": [
    {
     "data": {
      "image/png": "[encoded data removed]",
      "text/plain": [
       "<Figure size 432x288 with 1 Axes>"
      ]
     },
     "metadata": {
      "needs_background": "light"
     },
     "output_type": "display_data"
    }
   ],
   "source": [
    "fig = figure(1)\n",
    "clf()\n",
    "\n",
    "x = linspace(a,b,N+1)\n",
    "\n",
    "err = abs(q-cos(x)).max()\n",
    "\n",
    "plot(x,q,'b',lw=2,label=\"Stored solution\")\n",
    "plot(x,cos(x),'ro',ms=5,label=\"Expected solution\")\n",
    "\n",
    "xlabel('x')\n",
    "ylabel('Solution')\n",
    "xlim([a-0.1,b+0.1]);\n",
    "\n",
    "title(\"MPI_Gather: Grid data (version 1)\")\n",
    "\n",
    "legend();\n"
   ]
  },
  {
   "cell_type": "markdown",
   "metadata": {},
   "source": [
    "<a id=\"gatherv_v2\"></a>\n",
    "\n",
    "### Example : Writing out grid data using MPI_Gatherv (version 2, final)\n",
    "\n",
    "<hr style=\"border:2px solid black\"></hr>\n",
    "\n",
    "From the above, it seems that we need  to be able to send a variable number of elements depending on the processor rank.   We can do this using a second MPI function `MPI_Gatherv`.   \n",
    "\n",
    "`MPI_Gatherv` gathers a variable number of elements into specified locations in a receive buffer.   \n",
    "\n",
    "Rather than received a constant number of elements, into equally spaced locations, `MPI_Gatherv` takes a variable number of counts and \"displacements\", where the displacement is the location from the start of the receive buffer. \n",
    "\n",
    "     int MPI_Gatherv ( void *sendbuf, int sendcnt, MPI_Datatype sendtype,\n",
    "                       void *recvbuf, int *recvcnts, int *displs,\n",
    "                       MPI_Datatype recvtype, int root, MPI_Comm comm )\n",
    "                       \n",
    "* **recvcnts** A buffer containing the number of entries to gather  from each processor. \n",
    "\n",
    "* **displs** The location in the receive buffer to store the entries. \n",
    "\n",
    "Each of the two buffers above should be of length equal to the number of processors. \n",
    "\n",
    "You can read more about `MPI_Gatherv` [here](https://hpc-tutorials.llnl.gov/mpi/MPI_appendix/MPI_Gatherv.txt).\n",
    "\n",
    "##### Comment\n",
    "\n",
    "`MPI_Gatherv` allows for overlap of data.   The same location in the gather array may have values written from more than one processor. "
   ]
  },
  {
   "cell_type": "code",
   "execution_count": 17,
   "metadata": {},
   "outputs": [
    {
     "name": "stdout",
     "output_type": "stream",
     "text": [
      "Writing gather_05.c\n"
     ]
    }
   ],
   "source": [
    "%%file gather_05.c\n",
    "\n",
    "#include <stdio.h>\n",
    "#include <stdlib.h>\n",
    "\n",
    "#include <mpi.h>\n",
    "#include <math.h>\n",
    "\n",
    "double* allocate_1d(int n, int m)\n",
    "{\n",
    "    double *mem = (double*) malloc((n + 2*m)*sizeof(double));\n",
    "    return &mem[m];\n",
    "}\n",
    "\n",
    "void free_1d(double **x, int m)\n",
    "{\n",
    "    free(&(*x)[-m]);\n",
    "    *x = NULL;\n",
    "}\n",
    "\n",
    "\n",
    "void set_values(int n, double a, double b, double *q)\n",
    "{\n",
    "    double pi = M_PI;\n",
    "    double dx = (b-a)/n;\n",
    "    for(int i = 0; i < n+1; i++)\n",
    "    {\n",
    "        double x = a +  i*dx;\n",
    "        q[i] = cos(x);        \n",
    "    }    \n",
    "}\n",
    "\n",
    "int main(int argc, char** argv)\n",
    "{\n",
    "    MPI_Init(&argc, &argv);\n",
    "\n",
    "    int rank, nprocs;\n",
    "    MPI_Comm_rank(MPI_COMM_WORLD, &rank);\n",
    "    MPI_Comm_size(MPI_COMM_WORLD, &nprocs);\n",
    "\n",
    "    int N = 1 << 5;    // # 2^10\n",
    "\n",
    "    double a = 0;\n",
    "    double b = 2*M_PI;\n",
    "\n",
    "    int N_local = N/nprocs;\n",
    "\n",
    "    double dw = (b-a)/nprocs;\n",
    "    double a_local = a + rank*dw;\n",
    "    double b_local = a_local + dw;\n",
    "    \n",
    "    /* # Initialize data */\n",
    "    double *q_local = allocate_1d(N_local+1,0);\n",
    "\n",
    "    set_values(N_local,a_local, b_local, q_local);\n",
    "    \n",
    "    int root = 0;\n",
    "    int *recv_counts, *displs;\n",
    "    double *q;\n",
    "    if (rank == root)\n",
    "    {\n",
    "        q = allocate_1d(N+1,0);\n",
    "    \n",
    "        recv_counts = (int*) malloc(nprocs*sizeof(int));\n",
    "        displs = (int*) malloc(nprocs*sizeof(int));\n",
    "    \n",
    "        for(int p = 0; p < nprocs; p++)\n",
    "        {\n",
    "            recv_counts[p] = N_local+1;\n",
    "            displs[p] = p*N_local;\n",
    "        }\n",
    "    }\n",
    "\n",
    "    MPI_Gatherv(q_local,N_local+1,MPI_DOUBLE,q,recv_counts,displs,MPI_DOUBLE,root,MPI_COMM_WORLD);        \n",
    "    \n",
    "    if (rank == root)\n",
    "    {\n",
    "        FILE* fout = fopen(\"gather_05.out\",\"w\");\n",
    "        fwrite(&N,1,sizeof(int),fout);\n",
    "        fwrite(&a,1,sizeof(double),fout);\n",
    "        fwrite(&b,1,sizeof(double),fout);\n",
    "\n",
    "        fwrite(q,N+1,sizeof(double),fout);\n",
    "        fclose(fout);        \n",
    "        free_1d(&q,0);\n",
    "    }\n",
    "\n",
    "    MPI_Finalize();\n",
    "    \n",
    "    return 0;\n",
    "}\n"
   ]
  },
  {
   "cell_type": "code",
   "execution_count": 19,
   "metadata": {},
   "outputs": [],
   "source": [
    "%%bash\n",
    "\n",
    "rm -rf gather_05.o gather_05\n",
    "\n",
    "mpicc -o gather_05 gather_05.c \n",
    "\n",
    "mpirun -n 4 ./gather_05"
   ]
  },
  {
   "cell_type": "code",
   "execution_count": 20,
   "metadata": {},
   "outputs": [],
   "source": [
    "# Open file for reading; use binary mode\n",
    "fout = open(\"gather_05.out\",\"rb\")\n",
    "\n",
    "# Read meta data\n",
    "dt = dtype([('N',int32),('a',float64),('b',float64)])\n",
    "N,a,b = fromfile(fout,dtype=dt, count=1)[0]\n",
    "\n",
    "# Read solution data using \"N\" read above\n",
    "q = fromfile(fout,dtype=float64,count=N+1)\n",
    "\n",
    "fout.close()"
   ]
  },
  {
   "cell_type": "code",
   "execution_count": 21,
   "metadata": {},
   "outputs": [
    {
     "data": {
      "image/png": "[encoded data removed]",
      "text/plain": [
       "<Figure size 432x288 with 1 Axes>"
      ]
     },
     "metadata": {
      "needs_background": "light"
     },
     "output_type": "display_data"
    }
   ],
   "source": [
    "fig = figure(2)\n",
    "clf()\n",
    "\n",
    "x = linspace(a,b,N+1)\n",
    "\n",
    "err = abs(q-cos(x)).max()\n",
    "\n",
    "plot(x,q,'b',lw=2,label=\"Stored solution\")\n",
    "plot(x,cos(x),'ro',ms=5,label=\"Expected solution\")\n",
    "\n",
    "xlabel('x')\n",
    "ylabel('Solution')\n",
    "xlim([a-0.1,b+0.1]);\n",
    "\n",
    "title(\"MPI_Gatherv: Grid data (final)\")\n",
    "\n",
    "legend();\n"
   ]
  },
  {
   "cell_type": "code",
   "execution_count": null,
   "metadata": {},
   "outputs": [],
   "source": []
  },
  {
   "cell_type": "code",
   "execution_count": null,
   "metadata": {},
   "outputs": [],
   "source": []
  }
 ],
 "metadata": {
  "kernelspec": {
   "display_name": "ipykernel",
   "language": "python",
   "name": "python3"
  },
  "language_info": {
   "codemirror_mode": {
    "name": "ipython",
    "version": 3
   },
   "file_extension": ".py",
   "mimetype": "text/x-python",
   "name": "python",
   "nbconvert_exporter": "python",
   "pygments_lexer": "ipython3",
   "version": "3.9.12"
  }
 },
 "nbformat": 4,
 "nbformat_minor": 2
}

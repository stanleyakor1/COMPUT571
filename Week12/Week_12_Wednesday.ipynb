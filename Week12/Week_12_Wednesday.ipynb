{
 "cells": [
  {
   "cell_type": "markdown",
   "id": "d235aff9",
   "metadata": {},
   "source": [
    "<hr style=\"border:2px solid coral\"></hr>\n",
    "\n",
    "## Conjugate Gradient Algorithm\n",
    "\n",
    "<hr style=\"border:2px solid coral\"></hr>\n",
    "\n",
    "#### Conjugate gradient algorithm\n",
    "\n",
    "    xk = x0\n",
    "    rk = b - A*xk\n",
    "    pk = rk\n",
    "    for k = 0,1,2\n",
    "        Compute Apk = A*pk                # Matrix-vector product\n",
    "        alpha_k = rk.T*rk/(rk.T*Apk)\n",
    "        xkp1 = xk + alpha_k*pk       # New solution iterate\n",
    "        rkp1 = rk - alpha_k*Apk      # New residual\n",
    "        \n",
    "        beta = rkp1.T*rpk1/rk.T*rk\n",
    "        pkp1 = rkp1 + beta*pk        # new \"A-conjugate\" search direction\n",
    "        \n",
    "        if norm(rkp1) < tau          # Stopping criteria\n",
    "            stop\n",
    "\n",
    "        # Update xk,rk,pk"
   ]
  },
  {
   "cell_type": "code",
   "execution_count": 1,
   "id": "f195179e",
   "metadata": {},
   "outputs": [],
   "source": [
    "from numpy import *\n",
    "from matplotlib.pyplot import *\n",
    "\n",
    "from numpy.linalg import solve, norm\n"
   ]
  },
  {
   "cell_type": "code",
   "execution_count": 2,
   "id": "9797b2a0",
   "metadata": {},
   "outputs": [],
   "source": [
    "# Conjugate gradient algorithm\n",
    "\n",
    "from numpy.linalg import solve, norm\n",
    "\n",
    "def cg(A,F,kmax=10000,tol=1e-12,prt=False):\n",
    "    xk = zeros(F.shape)\n",
    "    rk = F - A@xk\n",
    "    pk = rk\n",
    "    for k in range(kmax):\n",
    "        itcount = k\n",
    "        \n",
    "        Apk = A@pk    \n",
    "        pAp = pk.T@Apk\n",
    "        if pAp == 0:\n",
    "            print(\"pAp == 0\")\n",
    "            xkp1 = xk\n",
    "            break\n",
    "        rTr = rk.T@rk\n",
    "        alpha = rTr/pAp\n",
    "        xkp1 = xk + alpha*pk\n",
    "        rkp1 = rk - alpha*Apk\n",
    "        \n",
    "        # Steepest descent directions   : pkp1 = rkp1\n",
    "\n",
    "        # A-conjugate search directions : pkp1 = rkp1 + beta*pk\n",
    "        beta = rkp1.T@rkp1/rTr    \n",
    "        pkp1 = rkp1 + beta*pk\n",
    "        \n",
    "        err = norm(rkp1,inf)\n",
    "        if prt:\n",
    "            print(f\"{k:5d} {err:12.4e}\")\n",
    "            \n",
    "        if err < tol:\n",
    "            break\n",
    "        pk = pkp1\n",
    "        rk = rkp1\n",
    "        xk = xkp1\n",
    "        \n",
    "    xk = xkp1\n",
    "    return xk,itcount        \n",
    "\n",
    "# Construct (N+1)x(N+1) linear system. "
   ]
  },
  {
   "cell_type": "code",
   "execution_count": 53,
   "id": "7a6790b5",
   "metadata": {},
   "outputs": [],
   "source": [
    "# Get [1,-2,1] linear system\n",
    "\n",
    "def get_linsys(N,a,b,upp):\n",
    "    A = diag(ones(N-2),-1) + -2*diag(ones(N-1)) + diag(ones(N-2),1)\n",
    "    h = (b-a)/N\n",
    "    x = linspace(a,b,N+1)[1:-1].reshape((N+1,1))\n",
    "    F = h**2*upp(x)\n",
    "    return A, F"
   ]
  },
  {
   "cell_type": "markdown",
   "id": "08bdab36",
   "metadata": {},
   "source": [
    "### Example\n",
    "\n",
    "<hr style=\"border:2px solid black\"></hr>"
   ]
  },
  {
   "cell_type": "code",
   "execution_count": 54,
   "id": "8977183f",
   "metadata": {},
   "outputs": [
    {
     "ename": "ValueError",
     "evalue": "cannot reshape array of size 7 into shape (9,1)",
     "output_type": "error",
     "traceback": [
      "\u001b[0;31m---------------------------------------------------------------------------\u001b[0m",
      "\u001b[0;31mValueError\u001b[0m                                Traceback (most recent call last)",
      "Input \u001b[0;32mIn [54]\u001b[0m, in \u001b[0;36m<cell line: 13>\u001b[0;34m()\u001b[0m\n\u001b[1;32m     10\u001b[0m     \u001b[38;5;66;03m#return -sin(x)\u001b[39;00m\n\u001b[1;32m     12\u001b[0m N \u001b[38;5;241m=\u001b[39m \u001b[38;5;241m8\u001b[39m\n\u001b[0;32m---> 13\u001b[0m A,F \u001b[38;5;241m=\u001b[39m \u001b[43mget_linsys\u001b[49m\u001b[43m(\u001b[49m\u001b[43mN\u001b[49m\u001b[43m,\u001b[49m\u001b[43ma\u001b[49m\u001b[43m,\u001b[49m\u001b[43mb\u001b[49m\u001b[43m,\u001b[49m\u001b[43mupp_true\u001b[49m\u001b[43m)\u001b[49m\n\u001b[1;32m     15\u001b[0m x_cg, itcount \u001b[38;5;241m=\u001b[39m cg(A,F,prt\u001b[38;5;241m=\u001b[39m\u001b[38;5;28;01mFalse\u001b[39;00m)\n\u001b[1;32m     16\u001b[0m \u001b[38;5;28mprint\u001b[39m(\u001b[38;5;124mf\u001b[39m\u001b[38;5;124m\"\u001b[39m\u001b[38;5;124mItcount = \u001b[39m\u001b[38;5;132;01m{\u001b[39;00mitcount\u001b[38;5;132;01m}\u001b[39;00m\u001b[38;5;124m\"\u001b[39m)\n",
      "Input \u001b[0;32mIn [53]\u001b[0m, in \u001b[0;36mget_linsys\u001b[0;34m(N, a, b, upp)\u001b[0m\n\u001b[1;32m      4\u001b[0m A \u001b[38;5;241m=\u001b[39m diag(ones(N\u001b[38;5;241m-\u001b[39m\u001b[38;5;241m2\u001b[39m),\u001b[38;5;241m-\u001b[39m\u001b[38;5;241m1\u001b[39m) \u001b[38;5;241m+\u001b[39m \u001b[38;5;241m-\u001b[39m\u001b[38;5;241m2\u001b[39m\u001b[38;5;241m*\u001b[39mdiag(ones(N\u001b[38;5;241m-\u001b[39m\u001b[38;5;241m1\u001b[39m)) \u001b[38;5;241m+\u001b[39m diag(ones(N\u001b[38;5;241m-\u001b[39m\u001b[38;5;241m2\u001b[39m),\u001b[38;5;241m1\u001b[39m)\n\u001b[1;32m      5\u001b[0m h \u001b[38;5;241m=\u001b[39m (b\u001b[38;5;241m-\u001b[39ma)\u001b[38;5;241m/\u001b[39mN\n\u001b[0;32m----> 6\u001b[0m x \u001b[38;5;241m=\u001b[39m \u001b[43mlinspace\u001b[49m\u001b[43m(\u001b[49m\u001b[43ma\u001b[49m\u001b[43m,\u001b[49m\u001b[43mb\u001b[49m\u001b[43m,\u001b[49m\u001b[43mN\u001b[49m\u001b[38;5;241;43m+\u001b[39;49m\u001b[38;5;241;43m1\u001b[39;49m\u001b[43m)\u001b[49m\u001b[43m[\u001b[49m\u001b[38;5;241;43m1\u001b[39;49m\u001b[43m:\u001b[49m\u001b[38;5;241;43m-\u001b[39;49m\u001b[38;5;241;43m1\u001b[39;49m\u001b[43m]\u001b[49m\u001b[38;5;241;43m.\u001b[39;49m\u001b[43mreshape\u001b[49m\u001b[43m(\u001b[49m\u001b[43m(\u001b[49m\u001b[43mN\u001b[49m\u001b[38;5;241;43m+\u001b[39;49m\u001b[38;5;241;43m1\u001b[39;49m\u001b[43m,\u001b[49m\u001b[38;5;241;43m1\u001b[39;49m\u001b[43m)\u001b[49m\u001b[43m)\u001b[49m\n\u001b[1;32m      7\u001b[0m F \u001b[38;5;241m=\u001b[39m h\u001b[38;5;241m*\u001b[39m\u001b[38;5;241m*\u001b[39m\u001b[38;5;241m2\u001b[39m\u001b[38;5;241m*\u001b[39mupp(x)\n\u001b[1;32m      8\u001b[0m \u001b[38;5;28;01mreturn\u001b[39;00m A, F\n",
      "\u001b[0;31mValueError\u001b[0m: cannot reshape array of size 7 into shape (9,1)"
     ]
    }
   ],
   "source": [
    "a = 0\n",
    "b = pi\n",
    "\n",
    "def u_true(x):\n",
    "    return x*(x-1)/2\n",
    "    #return sin(x)\n",
    "\n",
    "def upp_true(x):\n",
    "    return ones(x.shape)\n",
    "    #return -sin(x)\n",
    "\n",
    "N = 8\n",
    "A,F = get_linsys(N,a,b,upp_true)\n",
    "\n",
    "x_cg, itcount = cg(A,F,prt=False)\n",
    "print(f\"Itcount = {itcount}\")"
   ]
  },
  {
   "cell_type": "markdown",
   "id": "a955152f",
   "metadata": {},
   "source": [
    "#### Verify solution\n",
    "\n",
    "Compare solution using CG to solution using Gaussian Elimination"
   ]
  },
  {
   "cell_type": "code",
   "execution_count": 48,
   "id": "bbde970f",
   "metadata": {},
   "outputs": [
    {
     "name": "stdout",
     "output_type": "stream",
     "text": [
      "Error in linear system  :   2.1760e+01\n"
     ]
    }
   ],
   "source": [
    "xtrue = solve(A,F)  # Use Gaussian Elimination\n",
    "err = norm(xtrue - x_cg,inf)\n",
    "print(f\"Error in linear system  : {err:12.4e}\")"
   ]
  },
  {
   "cell_type": "markdown",
   "id": "0f2e8783",
   "metadata": {},
   "source": [
    "#### Verify residual"
   ]
  },
  {
   "cell_type": "code",
   "execution_count": 49,
   "id": "3155ddfb",
   "metadata": {},
   "outputs": [
    {
     "name": "stdout",
     "output_type": "stream",
     "text": [
      "Residual  :   2.8294e+01\n"
     ]
    }
   ],
   "source": [
    "res = norm(F - A@x_cg,inf)\n",
    "print(f\"Residual  : {res:12.4e}\")"
   ]
  },
  {
   "cell_type": "code",
   "execution_count": 50,
   "id": "d88b4fa9",
   "metadata": {},
   "outputs": [
    {
     "data": {
      "image/png": "[encoded data removed]",
      "text/plain": [
       "<Figure size 432x288 with 1 Axes>"
      ]
     },
     "metadata": {
      "needs_background": "light"
     },
     "output_type": "display_data"
    }
   ],
   "source": [
    "figure(1)\n",
    "clf()\n",
    "\n",
    "x = linspace(0,b,N+1)\n",
    "\n",
    "plot(x,x_cg,'ro',ms=3,label='Computed solution');\n",
    "\n",
    "xf = linspace(a,b,128)\n",
    "plot(xf,u_true(xf),'b-',lw=1,label='True solution');\n",
    "\n",
    "kwargs = {'color' : 'k', 'lw' : 0.5, 'ls' : '-'}\n",
    "axhline(**kwargs)\n",
    "axvline(**kwargs);\n",
    "\n",
    "# legend(loc=4);"
   ]
  },
  {
   "cell_type": "markdown",
   "id": "f84e1c53",
   "metadata": {},
   "source": [
    "### Implementation in C (serial)\n",
    "\n",
    "<hr style=\"border:2px solid black\"></hr>"
   ]
  },
  {
   "cell_type": "code",
   "execution_count": 21,
   "id": "6798d5ba",
   "metadata": {},
   "outputs": [
    {
     "name": "stdout",
     "output_type": "stream",
     "text": [
      "Writing cg_serial.c\n"
     ]
    }
   ],
   "source": [
    "%%file cg_serial.c\n",
    "\n",
    "#include <stdio.h>\n",
    "#include <stdlib.h>\n",
    "\n",
    "#include <math.h>\n",
    "\n",
    "double* allocate_1d(int n, int m)\n",
    "{\n",
    "    double *mem = (double*) malloc((n + 2*m)*sizeof(double));\n",
    "    return mem+m;\n",
    "}\n",
    "\n",
    "void free_1d(double **x, int m)\n",
    "{\n",
    "    free(*x-m);\n",
    "    *x = NULL;\n",
    "}\n",
    "\n",
    "double utrue(double x)\n",
    "{\n",
    "    return x*(x-1)/2;\n",
    "    //return sin(x);    \n",
    "}\n",
    "\n",
    "double rhs(double x)\n",
    "{\n",
    "    return 1;\n",
    "    //return -sin(x);\n",
    "}\n",
    "\n",
    "void matvec(int N, double *u, double *L)\n",
    "{\n",
    "    for(int i = 0; i < N+1; i++)\n",
    "        L[i] = (u[i-1] - 2*u[i] + u[i+1]); \n",
    "}\n",
    "\n",
    "int cg(int N, double *F, double *u, double tol, int kmax, int prt)\n",
    "{\n",
    "    double *uk = allocate_1d(N+1,1);\n",
    "    double *pk = allocate_1d(N+1,1);\n",
    "    \n",
    "    double rk[N+1];\n",
    "    for(int i = 0; i < N+1; i++)\n",
    "    {\n",
    "        uk[i] = 0;\n",
    "        rk[i] = F[i];\n",
    "        pk[i] = rk[i];    // # Start with uk = 0 --> r = b - Au = b\n",
    "    }\n",
    "                \n",
    "    double Apk[N+1];\n",
    "    double rkp1[N+1];\n",
    "    \n",
    "    int itcount = 0;\n",
    "    for(int k = 0; k < kmax; k++)\n",
    "    {\n",
    "        matvec(N,pk,Apk);\n",
    "        \n",
    "        // # Compute the residual\n",
    "        double rTr = 0;\n",
    "        double pTAp = 0;\n",
    "        for(int i = 0; i < N+1; i++)\n",
    "        {\n",
    "            rTr += rk[i]*rk[i];\n",
    "            pTAp += pk[i]*Apk[i];\n",
    "        }\n",
    "        double alpha = rTr/pTAp;\n",
    "        \n",
    "        double rpTrp = 0;\n",
    "        for(int i = 0; i < N+1; i++)\n",
    "        {\n",
    "            uk[i] = uk[i] + alpha*pk[i];\n",
    "            rkp1[i] = rk[i] - alpha*Apk[i];\n",
    "            rpTrp += rkp1[i]*rkp1[i];\n",
    "        }\n",
    "        \n",
    "        double beta = rpTrp/rTr;\n",
    "        \n",
    "        // update search direction\n",
    "        for(int i = 0; i < N+1; i++)\n",
    "            pk[i] = rkp1[i] + beta*pk[i];\n",
    "        \n",
    "        if (prt)\n",
    "            printf(\"%5d %12.4e\\n\",k,rpTrp);\n",
    "        \n",
    "        itcount = k;\n",
    "        if (rpTrp < tol)\n",
    "            break;\n",
    "        \n",
    "        // # Update values\n",
    "        for(int i = 0; i < N+1; i++)\n",
    "            rk[i] = rkp1[i];\n",
    "        \n",
    "        rTr = rpTrp;\n",
    "            \n",
    "    }\n",
    "    for(int i = 0; i < N+1; i++)\n",
    "        u[i] = uk[i];    \n",
    "    \n",
    "    return itcount;\n",
    "}\n",
    "\n",
    "int main(int argc, char** argv)\n",
    "{\n",
    "\n",
    "    int N;\n",
    "    if (argc < 2)\n",
    "        N = 64;\n",
    "    else\n",
    "        N = atoi(argv[1]);\n",
    "    \n",
    "    \n",
    "    // # Physical parameters\n",
    "    double a = 0; \n",
    "    double b = 1;\n",
    "    \n",
    "    // # Numerial parameters\n",
    "    double tol = 1e-12;\n",
    "    int kmax = 100000;\n",
    "    int prt = 0;\n",
    "    double h = (b-a)/N;\n",
    "    \n",
    "    // # Arrays\n",
    "    double *u = allocate_1d(N+1,1);\n",
    "    double F[N+1];\n",
    "    double Lu[N+1];\n",
    "    \n",
    "    // # Initialization\n",
    "    for(int i = 0; i < N+1; i++)\n",
    "    {\n",
    "        double x =  a + i*h;\n",
    "        F[i] = h*h*rhs(x);        \n",
    "        u[i] = 0;\n",
    "    }\n",
    "    \n",
    "    // # Compute the solution using Jacobi method\n",
    "    int itcount = cg(N,F,u,tol,kmax,prt);\n",
    "        \n",
    "    \n",
    "    /* Supply correct ghost cells values */\n",
    "    matvec(N,u,Lu);\n",
    "    \n",
    "    // # Compute error and residual\n",
    "    double max_res = 0;\n",
    "    \n",
    "    for(int i = 0; i < N+1; i++)\n",
    "    {\n",
    "        double x = a + h*i;\n",
    "        \n",
    "        double res = fabs(F[i] - Lu[i]);\n",
    "        max_res = fmax(res,max_res);            \n",
    "        \n",
    "#if 0\n",
    "        if (N < 32)\n",
    "            printf(\"%5d %16.8f %12.4e %12.4e\\n\",i, u[i],err,res);\n",
    "#endif        \n",
    "    }\n",
    "    \n",
    "    printf(\"\\n\");\n",
    "    printf(\"N = %d\\n\",N);\n",
    "    printf(\"Iteration count     : %24d\\n\",itcount);\n",
    "    printf(\"Residual (inf-norm) : %24.4e\\n\",max_res/2);\n",
    "    \n",
    "    FILE *fout = fopen(\"cg.dat\",\"wb\");   \n",
    "    fwrite(&N,sizeof(int),1,fout);\n",
    "    fwrite(&a,sizeof(double),1,fout);\n",
    "    fwrite(&b,sizeof(double),1,fout);\n",
    "    fwrite(&u[0],sizeof(double),N+1, fout); \n",
    "    fclose(fout);\n",
    "            \n",
    "    return 0;\n",
    "}    "
   ]
  },
  {
   "cell_type": "markdown",
   "id": "4673e6fd",
   "metadata": {},
   "source": [
    "### Run code and get output (serial)\n"
   ]
  },
  {
   "cell_type": "code",
   "execution_count": 22,
   "id": "b768ace7",
   "metadata": {},
   "outputs": [
    {
     "name": "stdout",
     "output_type": "stream",
     "text": [
      "\n",
      "N = 64\n",
      "Iteration count     :                       32\n",
      "Residual (inf-norm) :               0.0000e+00\n"
     ]
    }
   ],
   "source": [
    "%%bash\n",
    "\n",
    "rm -rf cg_serial.o cg_serial\n",
    "\n",
    "gcc -o cg_serial cg_serial.c\n",
    "\n",
    "./cg_serial 64"
   ]
  },
  {
   "cell_type": "code",
   "execution_count": 23,
   "id": "2fdd6768",
   "metadata": {},
   "outputs": [],
   "source": [
    "dt = np.dtype([('N',np.int32),\\\n",
    "               ('a',np.float64), \\\n",
    "               ('b',np.float64),\\\n",
    "               ('u',(np.float64,N+1))])\n",
    "\n",
    "fout = open(\"cg.dat\",\"rb\")\n",
    "N,a,b,u = np.fromfile(fout,dtype=dt, count=1)[0]\n",
    "fout.close()"
   ]
  },
  {
   "cell_type": "markdown",
   "id": "f8067db0",
   "metadata": {},
   "source": [
    "### Plot the solution (serial)"
   ]
  },
  {
   "cell_type": "code",
   "execution_count": 24,
   "id": "46a04f2c",
   "metadata": {},
   "outputs": [
    {
     "data": {
      "image/png": "[encoded data removed]",
      "text/plain": [
       "<Figure size 432x288 with 1 Axes>"
      ]
     },
     "metadata": {
      "needs_background": "light"
     },
     "output_type": "display_data"
    }
   ],
   "source": [
    "figure(2)\n",
    "clf()\n",
    "\n",
    "xf = linspace(a,b,128)\n",
    "plot(xf,u_true(xf),'b-',lw=1,label='True solution');\n",
    "\n",
    "x = linspace(a,b,N+1);\n",
    "plot(x,u,'ro',ms=3,label='Computed solution');\n",
    "\n",
    "kwargs = {'color' : 'k', 'lw' : 0.5, 'ls' : '-'}\n",
    "axhline(**kwargs)\n",
    "axvline(**kwargs)\n",
    "axvline(**kwargs);"
   ]
  },
  {
   "cell_type": "markdown",
   "id": "9dcf971c",
   "metadata": {},
   "source": [
    "## Verify solution to the PDE\n",
    "\n",
    "<hr style=\"border:2px solid black\"></hr>\n",
    "\n",
    "We are hoping to solve $u''(x) = 1$.  Do we? "
   ]
  },
  {
   "cell_type": "code",
   "execution_count": 25,
   "id": "0ba3c07e",
   "metadata": {},
   "outputs": [
    {
     "ename": "AssertionError",
     "evalue": "Don't run past here",
     "output_type": "error",
     "traceback": [
      "\u001b[0;31m---------------------------------------------------------------------------\u001b[0m",
      "\u001b[0;31mAssertionError\u001b[0m                            Traceback (most recent call last)",
      "Input \u001b[0;32mIn [25]\u001b[0m, in \u001b[0;36m<cell line: 1>\u001b[0;34m()\u001b[0m\n\u001b[0;32m----> 1\u001b[0m \u001b[38;5;28;01massert\u001b[39;00m \u001b[38;5;241m1\u001b[39m\u001b[38;5;241m==\u001b[39m\u001b[38;5;241m0\u001b[39m, \u001b[38;5;124m\"\u001b[39m\u001b[38;5;124mDon\u001b[39m\u001b[38;5;124m'\u001b[39m\u001b[38;5;124mt run past here\u001b[39m\u001b[38;5;124m\"\u001b[39m\n",
      "\u001b[0;31mAssertionError\u001b[0m: Don't run past here"
     ]
    }
   ],
   "source": [
    "assert 1==0, \"Don't run past here\""
   ]
  },
  {
   "cell_type": "code",
   "execution_count": 41,
   "id": "4fbb2f4a",
   "metadata": {},
   "outputs": [
    {
     "name": "stdout",
     "output_type": "stream",
     "text": [
      "\n",
      "Iteration count : 32\n",
      "\n",
      "Error in PDE  :   4.9278e-02\n"
     ]
    }
   ],
   "source": [
    "# Error in solution to PDE\n",
    "N = 64\n",
    "A,F = get_linsys(N,a,b,upp_true)\n",
    "\n",
    "prt = False\n",
    "if N < 32:\n",
    "    prt = True\n",
    "    \n",
    "x_cg, itcount = cg(A,F,prt=prt)\n",
    "x = linspace(a,b,N+1).reshape((N+1,1))\n",
    "\n",
    "print(\"\")\n",
    "print(f\"Iteration count : {itcount:d}\")\n",
    "print(\"\")\n",
    "\n",
    "utrue = u_true(x)\n",
    "err_pde = norm(x_cg - utrue,inf)\n",
    "print(f\"Error in PDE  : {err_pde:12.4e}\")"
   ]
  },
  {
   "cell_type": "code",
   "execution_count": 43,
   "id": "4c939b2c",
   "metadata": {},
   "outputs": [
    {
     "name": "stdout",
     "output_type": "stream",
     "text": [
      "[1.0098 1.0083 1.0050]\n"
     ]
    }
   ],
   "source": [
    "e =array([4.0059e-01,1.9894e-01,9.8899e-02,4.9278e-02])\n",
    "with printoptions(formatter={'float' : \"{:.4f}\".format}):\n",
    "    print(log2(e[:-1]/e[1:]))"
   ]
  },
  {
   "cell_type": "code",
   "execution_count": 40,
   "id": "60e83ed0",
   "metadata": {},
   "outputs": [
    {
     "data": {
      "text/plain": [
       "array([0.40059 , 0.19894 , 0.098899])"
      ]
     },
     "execution_count": 40,
     "metadata": {},
     "output_type": "execute_result"
    }
   ],
   "source": [
    "e"
   ]
  },
  {
   "cell_type": "code",
   "execution_count": null,
   "id": "5640c72d",
   "metadata": {},
   "outputs": [],
   "source": []
  }
 ],
 "metadata": {
  "kernelspec": {
   "display_name": "ipykernel",
   "language": "python",
   "name": "python3"
  },
  "language_info": {
   "codemirror_mode": {
    "name": "ipython",
    "version": 3
   },
   "file_extension": ".py",
   "mimetype": "text/x-python",
   "name": "python",
   "nbconvert_exporter": "python",
   "pygments_lexer": "ipython3",
   "version": "3.9.12"
  }
 },
 "nbformat": 4,
 "nbformat_minor": 5
}

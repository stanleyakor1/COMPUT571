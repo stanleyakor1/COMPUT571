{
 "cells": [
  {
   "cell_type": "markdown",
   "id": "8f15a553",
   "metadata": {},
   "source": [
    "<hr style=\"border:3px solid coral\"></hr>\n",
    "\n",
    "# Homework #3\n",
    "\n",
    "<hr style=\"border:3px solid coral\"></hr>\n",
    "\n",
    "The learning goals for this assignment are \n",
    "\n",
    "* Practice handling arrays in C\n",
    "\n",
    "* Implementation of a finite difference scheme in C\n",
    "\n",
    "* Practice using MPI\n",
    "\n",
    "* Practice writing files in C in binary format and reading them back into Python for plotting.\n",
    "\n",
    "Problems;\n",
    "\n",
    "* [Problem #1](#prob1) - Memory allocation\n",
    "\n",
    "* [Problem #2](#prob2) - Finite difference scheme\n",
    "\n",
    "* [Problem #3](#prob3) - Evaluate and plot a two dimensional shifted sinc function\n",
    "\n",
    "* [Problem #4](#prob4) - Fix an unreliable code\n",
    "\n",
    "* [Problem #5](#prob5) - Fix another unreliable code\n",
    "\n",
    "* [Problem #6](#prob6) - Computing a maximum value (MPI)\n",
    "\n",
    "* [Problem #7](#prob7) - Plot a circle\n",
    "\n",
    "* [Problem #8](#prob8) - Plot a spiral (COMPUT/ME 571)\n",
    "\n",
    "\n",
    "\n",
    "\n",
    "#### Note\n",
    "At the start of each problem, you'll see a line magic command `%reset -f`. This is essentially equivalent to selecting `restart` from the Kernel menu.  \n"
   ]
  },
  {
   "cell_type": "markdown",
   "id": "cf7b659e",
   "metadata": {},
   "source": [
    "<a id=\"prob1\"></a>\n",
    "\n",
    "<hr style=\"border:3px solid coral\"></hr>\n",
    "\n",
    "## Problem #1 - Memory allocation\n",
    "\n",
    "<hr style=\"border:3px solid coral\"></hr>\n",
    "\n",
    "\n",
    "Write a function that allocates memory and returns a pointer to the allocated memory.  Your allocation should include space for extra values at the beginning and end of the array.  This will be useful for implementing finite difference schemes. \n",
    "\n",
    "#### Example\n",
    "\n",
    "Suppose we want to allocate memory for an array $\\mathbf x$ of $N+1$ equally spaced points in an interval $[a,b]$.  In addition, we want to include $m$ extra values at the beginning of the array and $m$ values and the end of the array.  The entries of $\\mathbf x$ will then be given by \n",
    "\n",
    "\\begin{equation}\n",
    "x_i = a + hi, \\quad i = -m,-m+1,\\dots,0,1,\\dots, N,N+1,\\dots, N+m\n",
    "\\end{equation}\n",
    "\n",
    "where $h = (b-a)/N$.  With the above, we will have $x_0 = a$ and $x_N = b$. \n",
    "\n",
    "If we set $N=4$ and $m=1$ and call our function as\n",
    "\n",
    "     double *x = allocate_1d(N+1,m);\n",
    "     \n",
    "we should be able to index entries as \n",
    "\n",
    "    x[-1], x[0], x[1], x[2], x[3], x[4], x[5]\n",
    "    \n",
    "The total memory allocated in this case is $N+1 + 2m = 7$. \n",
    "\n",
    "     \n",
    "### To do\n",
    "\n",
    "* Write the function `allocate_1d` with signature\n",
    "\n",
    "      double  *y allocate_1d(int n, int m)\n",
    "\n",
    "\n",
    "* Use your function to allocate memory for an array $\\mathbf x$ of equally spaced points on an interval $[a,b]$.    Use values $N=8$ and $m=1$ so that you allocate memory for $N+1+2 = 11$ double values. \n",
    "\n",
    "\n",
    "* Using values $a=0$ and $b=1$, assign values to your array $\\mathbf x$ so that your entries in your array are \n",
    "\n",
    "            i     x[i]\n",
    "        --------------\n",
    "           -1   -0.125\n",
    "            0    0.000\n",
    "            1    0.125\n",
    "            2    0.250\n",
    "            3    0.375\n",
    "            4    0.500\n",
    "            5    0.625\n",
    "            6    0.750\n",
    "            7    0.875\n",
    "            8    1.000\n",
    "            9    1.125\n",
    "\n",
    "* Print out values of your array in a table as above. \n",
    "\n",
    "\n",
    "* Write a function that de-allocates the memory. \n",
    "\n",
    "#### Tips\n",
    "\n",
    "* Call `malloc` in the your function `allocate_1d`.  \n",
    "\n",
    "\n",
    "* Return a pointer to a value other than the address at the start of the array.  \n",
    "\n",
    "\n",
    "* The functions `malloc` and `free` should always appear in pairs.  For example. \n",
    "\n",
    "      double *array = (double *) malloc(5*sizeof(double));\n",
    "      \n",
    "      /* ... use array ... */\n",
    "      \n",
    "      free(array)\n",
    "      \n",
    "  For this problem, you should include a second function `free_1d` that frees any memory allocated in your function `allocate_1d`.        \n",
    "\n",
    "\n",
    "* Much of the code is written below.  You need to supply code for the functions that allocate and de-allocate arrays.  \n",
    "\n",
    "\n",
    "* Remove the `#if 0` and `#endif` to test your code. "
   ]
  },
  {
   "cell_type": "code",
   "execution_count": 1,
   "id": "8fd66c79",
   "metadata": {},
   "outputs": [],
   "source": [
    "%reset -f"
   ]
  },
  {
   "cell_type": "code",
   "execution_count": 2,
   "id": "f2fa2db7",
   "metadata": {},
   "outputs": [
    {
     "name": "stdout",
     "output_type": "stream",
     "text": [
      "Overwriting prob1.c\n"
     ]
    }
   ],
   "source": [
    "%%file prob1.c\n",
    "\n",
    "#include <stdio.h>\n",
    "#include <stdlib.h>\n",
    "\n",
    "double* allocate_1d(int n, int m)\n",
    "{\n",
    "    /* Use malloc to allocate memory */\n",
    "    double *y = (double*) malloc((n+2*m)*sizeof(double));\n",
    "    return y;\n",
    "}\n",
    "\n",
    "\n",
    "void free_1d(double **x, int m)\n",
    "{\n",
    "    /* Use free to free memory;  Set value of pointer to NULL after freeing memory.  */\n",
    "    if (*x != NULL) \n",
    "    {\n",
    "        free(*x+m);\n",
    "        *x = NULL;\n",
    "    }\n",
    "    \n",
    "}\n",
    "\n",
    "int main(int argv, char**argc)\n",
    "{\n",
    "    int N = 8;\n",
    "    int m = 1;\n",
    "    double a = 0;\n",
    "    double b = 1;\n",
    "    \n",
    "    double *x = allocate_1d(N+1,m);\n",
    "    \n",
    "    double h = (b-a)/N;\n",
    "\n",
    "    printf(\"%5s %8s\\n\",\"i\",\"x[i]\");\n",
    "    printf(\"--------------\\n\");\n",
    "    for(int i = -m; i < N+m+1; i++)\n",
    "    {\n",
    "        x[i] = a + i*h;\n",
    "        printf(\"%5d %8.4f\\n\",i,x[i]);\n",
    "       \n",
    "    }\n",
    "        \n",
    "    free_1d(&x,0);\n",
    "\n",
    "    \n",
    "    return 0;\n",
    "}"
   ]
  },
  {
   "cell_type": "code",
   "execution_count": 3,
   "id": "2ba039e8",
   "metadata": {},
   "outputs": [
    {
     "name": "stdout",
     "output_type": "stream",
     "text": [
      "    i     x[i]\n",
      "--------------\n",
      "   -1  -0.1250\n",
      "    0   0.0000\n",
      "    1   0.1250\n",
      "    2   0.2500\n",
      "    3   0.3750\n",
      "    4   0.5000\n",
      "    5   0.6250\n",
      "    6   0.7500\n",
      "    7   0.8750\n",
      "    8   1.0000\n",
      "    9   1.1250\n"
     ]
    }
   ],
   "source": [
    "%%bash\n",
    "\n",
    "rm -rf prob1\n",
    "\n",
    "gcc -o prob1 prob1.c\n",
    "\n",
    "./prob1"
   ]
  },
  {
   "cell_type": "markdown",
   "id": "7d639556",
   "metadata": {},
   "source": [
    "<a id=\"prob2\"></a>\n",
    "\n",
    "<hr style=\"border:3px solid coral\"></hr>\n",
    "\n",
    "## Problem #2 - Finite difference approximation\n",
    "\n",
    "<hr style=\"border:3px solid coral\"></hr>\n",
    "\n",
    "To approximate a derivative of a function $f(x)$ *numerically*, we borrow an idea from Calculus I and approximate a derivative using a *secant* approach. \n",
    "\n",
    "\\begin{equation}\n",
    "f'(x) \\approx \\frac{f(x + h) - f(x-h)}{2h}\n",
    "\\end{equation}\n",
    "\n",
    "for a small value of $h$. \n",
    "\n",
    "In this problem, you will approximate the derivative using this centered *finite difference formula*. \n",
    "\n",
    "### To Do\n",
    "\n",
    "*  Create an array $x$ of equally spaced points $x_i = a + hi$ for $i = -1,0.1,\\dots,N,N+1$ on the interval $[-1.1]$. \n",
    "\n",
    "\n",
    "* Create an array $y$ containing values $y_i = f(x_i)$ for \n",
    "\n",
    "\n",
    "\\begin{equation}\n",
    "f(x) = \\cos(x) e^{(-10 x^2)}, \\quad x \\in [-1,1]\n",
    "\\end{equation}\n",
    "\n",
    "* Create an array $g$ containing approximations to $f'(x_i)$, using a *centered difference formula*. \n",
    "\n",
    "\n",
    "* Write out a table of values for $N=8$ for values $i$, $x_i$, $f(x_i)$, your approximation $g_i = f'(x_i)$ and error $|f'(x_i) - g_i|$. \n",
    "\n",
    "\n",
    "Your table should $N+1$ rows corresponding to equally spaced points in $[-1,1]$. \n",
    "\n",
    "The results of your table should look like : \n",
    "\n",
    "     i            x         f(x)        f'(x)       err(x)\n",
    "    ------------------------------------------------------\n",
    "     0  -1.00000000   0.00052880   0.00527766   4.7489e-03\n",
    "     1  -0.75000000   0.04204160   0.14402367   1.0198e-01\n",
    "     2  -0.50000000   0.75971728   1.03196513   2.7225e-01\n",
    "     3  -0.25000000   2.72553303   1.85592727   8.6961e-01\n",
    "     4   0.00000000  -0.00000000   0.00000000   0.0000e+00\n",
    "     5   0.25000000  -2.72553303  -1.85592727   8.6961e-01\n",
    "     6   0.50000000  -0.75971728  -1.03196513   2.7225e-01\n",
    "     7   0.75000000  -0.04204160  -0.14402367   1.0198e-01\n",
    "     8   1.00000000  -0.00052880  -0.00527766   4.7489e-03     \n",
    "\n",
    "### Tips\n",
    "\n",
    "* Use your functions `allocate_1d` and `free_1d` to allocate and de-allocate arrays for $x$, $f(x)$ and $g(x)$.  \n",
    "\n",
    "\n",
    "* Use the Sympy code below to compute the true derivative $f'(x)$.   You will need this to compute your error. \n"
   ]
  },
  {
   "cell_type": "code",
   "execution_count": 4,
   "id": "1187aca8",
   "metadata": {},
   "outputs": [],
   "source": [
    "%reset -f"
   ]
  },
  {
   "cell_type": "markdown",
   "id": "5718f460",
   "metadata": {},
   "source": [
    "#### Sympy\n",
    "\n",
    "Sympy is a *symbolic* module available in Python.  Using Sympy, we can compute the derivative of $f(x)$ analytially.  In your code, you can use this analytic form to write a function that computes the true derivative. "
   ]
  },
  {
   "cell_type": "code",
   "execution_count": 5,
   "id": "da51f38f",
   "metadata": {},
   "outputs": [
    {
     "name": "stdout",
     "output_type": "stream",
     "text": [
      "f(x) = \n"
     ]
    },
    {
     "data": {
      "text/latex": [
       "$\\displaystyle e^{- 10 x^{2}} \\cos{\\left(x \\right)}$"
      ],
      "text/plain": [
       "exp(-10*x**2)*cos(x)"
      ]
     },
     "metadata": {},
     "output_type": "display_data"
    },
    {
     "name": "stdout",
     "output_type": "stream",
     "text": [
      "f'(x) = \n"
     ]
    },
    {
     "data": {
      "text/latex": [
       "$\\displaystyle - \\left(20 x \\cos{\\left(x \\right)} + \\sin{\\left(x \\right)}\\right) e^{- 10 x^{2}}$"
      ],
      "text/plain": [
       "-(20*x*cos(x) + sin(x))*exp(-10*x**2)"
      ]
     },
     "metadata": {},
     "output_type": "display_data"
    }
   ],
   "source": [
    "import sympy as sp\n",
    "\n",
    "x_sp = sp.symbols('x')\n",
    "\n",
    "f_sp = sp.cos(x_sp)*sp.exp(-10*x_sp**2)\n",
    "print(\"f(x) = \")\n",
    "display(f_sp)\n",
    "\n",
    "dfdx_sp = f_sp.diff().simplify()\n",
    "print(\"f'(x) = \")\n",
    "display(dfdx_sp)"
   ]
  },
  {
   "cell_type": "code",
   "execution_count": 6,
   "id": "9702b2ff",
   "metadata": {},
   "outputs": [
    {
     "name": "stdout",
     "output_type": "stream",
     "text": [
      "Overwriting prob2.c\n"
     ]
    }
   ],
   "source": [
    "%%file prob2.c\n",
    "\n",
    "#include <stdio.h>\n",
    "#include <stdlib.h>\n",
    "\n",
    "#include <math.h>\n",
    "\n",
    "double f(double x)\n",
    "{\n",
    "    return cos(x)*exp(-10*x*x);\n",
    "}\n",
    "\n",
    "double fp(double x)\n",
    "{\n",
    "    /* Put true derivative here */\n",
    "    return -exp(-10*x*x)*(sin(x)+20*x*cos(x));\n",
    "}\n",
    "\n",
    "\n",
    "\n",
    "double* allocate_1d(int n, int m)\n",
    "{\n",
    "    /* Use malloc to allocate memory */\n",
    "    double *y = (double*) malloc((n+2*m)*sizeof(double));\n",
    "    return y;\n",
    "}\n",
    "\n",
    "\n",
    "void free_1d(double **x, int m)\n",
    "{\n",
    "    /* Use free to free memory;  Set value of pointer to NULL after freeing memory.  */\n",
    "    if (*x != NULL) \n",
    "    {\n",
    "        free(*x+m);\n",
    "        *x = NULL;\n",
    "    }\n",
    "    \n",
    "}\n",
    "\n",
    "int main(int argv, char**argc)\n",
    "{\n",
    "    int N = 8;\n",
    "    int m = 1;\n",
    "    double a = -1;\n",
    "    double b = 1;\n",
    "    double g;\n",
    "    \n",
    "    double *x = allocate_1d(N+1,m); \n",
    "    double h = (b-a)/N;\n",
    "\n",
    "    for(int i = -m; i < N+m+1; i++)\n",
    "    {\n",
    "        x[i] = a + i*h;\n",
    "    }\n",
    "    printf(\"%6s %8s %12s %12s %12s\\n\",\"i\",\"x\",\"f'(x)\",\"g(x)\",\"err(x)\");\n",
    "    printf(\"----------------------------------------------------------------\\n\");\n",
    "    for(int i = 0; i <= N+m+1; i++)\n",
    "    {\n",
    "        g = (f(x[i+1])-f(x[i-1]))/(2*h);\n",
    "        if (i >= 0 && i < N+m)\n",
    "            printf(\"%5d %12.8f %12.8f %12.8f %12.4e\\n\",i,x[i],fp(x[i]),g,fabs(g-fp(x[i])));\n",
    "        \n",
    "    }\n",
    "    \n",
    "    free_1d(&x,0);\n",
    "    return 0;\n",
    "}"
   ]
  },
  {
   "cell_type": "code",
   "execution_count": 7,
   "id": "fc89c7c1",
   "metadata": {},
   "outputs": [
    {
     "name": "stdout",
     "output_type": "stream",
     "text": [
      "     i        x        f'(x)         g(x)       err(x)\n",
      "----------------------------------------------------------------\n",
      "    0  -1.00000000   0.00052880   0.00527766   4.7489e-03\n",
      "    1  -0.75000000   0.04204160   0.14402367   1.0198e-01\n",
      "    2  -0.50000000   0.75971728   1.03196513   2.7225e-01\n",
      "    3  -0.25000000   2.72553303   1.85592727   8.6961e-01\n",
      "    4   0.00000000  -0.00000000   0.00000000   0.0000e+00\n",
      "    5   0.25000000  -2.72553303  -1.85592727   8.6961e-01\n",
      "    6   0.50000000  -0.75971728  -1.03196513   2.7225e-01\n",
      "    7   0.75000000  -0.04204160  -0.14402367   1.0198e-01\n",
      "    8   1.00000000  -0.00052880  -0.00527766   4.7489e-03\n"
     ]
    }
   ],
   "source": [
    "%%bash\n",
    "\n",
    "rm -rf prob2\n",
    "\n",
    "gcc -o prob2 prob2.c\n",
    "\n",
    "./prob2"
   ]
  },
  {
   "cell_type": "markdown",
   "id": "d038ab2a",
   "metadata": {},
   "source": [
    "<a id=\"prob3\"></a>\n",
    "\n",
    "<hr style=\"border:3px solid coral\"></hr>\n",
    "\n",
    "## Problem #3 - Evaluate and plot a sinc function\n",
    "\n",
    "<hr style=\"border:3px solid coral\"></hr>\n",
    "\n",
    "In this problem, you will compute the values of a function on a two dimensional grid, write the solution to a file, load the solution back into Python, and plot the solution.  \n",
    "\n",
    "### To Do\n",
    "\n",
    "* Write a C program to compute the values of the two dimensional shifted *sinc* function \n",
    "\n",
    "\\begin{equation}\n",
    "f(x,y) = \\frac{\\sin(r)}{r}, \\qquad r = \\sqrt{(x-5)^2 + (y+5)^2}\n",
    "\\end{equation}\n",
    "\n",
    "on the domain  $(x,y) \\in [-20,20]\\times [-20,20]$.  \n",
    "\n",
    "* Write the values to a file using `fwrite`, along with any metadata,\n",
    "\n",
    "* Load the data in Python\n",
    "\n",
    "* Plot your solution. \n",
    "\n",
    "*See the practice notebook from Week #6 (Wednesday) for hints on this problem.*\n",
    "\n",
    "\n",
    "### Tips\n",
    "\n",
    "* To allocate memory for the function values, use  a \"statically defined array\".  \n",
    "\n",
    "      double F[N+1][N+1];\n",
    "     \n",
    "  We will discuss more flexible array indexing in 2d later.     \n",
    "  \n",
    "  \n",
    "* The sinc function is a continuous function, even at 0.  Using L'Hopitals rule, we can easily show that \n",
    "\n",
    "\n",
    "\\begin{equation}\n",
    "\\lim_{x \\rightarrow 0} \\frac{\\sin(x)}{x} = 1\n",
    "\\end{equation}\n",
    "\n",
    "\n",
    "From this, we can define $\\mbox{sinc}(0) = 1$.   In your code, you can do something like \n",
    "\n",
    "     if (x == 0)\n",
    "         return 1;\n",
    "     else\n",
    "         return sin(x)/x;\n",
    "         \n",
    "         \n",
    "* Be sure that your image shows the peak of the *sinc* function located at grid point $(5,-5)$. \n",
    "  \n",
    "         \n",
    "* Use `imshow` to plot the 2d solution.         "
   ]
  },
  {
   "cell_type": "code",
   "execution_count": 8,
   "id": "204b4c25",
   "metadata": {},
   "outputs": [],
   "source": [
    "%reset -f"
   ]
  },
  {
   "cell_type": "code",
   "execution_count": 9,
   "id": "eab18144",
   "metadata": {},
   "outputs": [
    {
     "name": "stdout",
     "output_type": "stream",
     "text": [
      "Overwriting prob3.c\n"
     ]
    }
   ],
   "source": [
    "%%file prob3.c\n",
    "\n",
    "#include <stdio.h>\n",
    "#include <stdlib.h>\n",
    "#include <math.h>\n",
    "\n",
    "void free_1d(double **x, int m)\n",
    "{\n",
    "    /* Use free to free memory;  Set value of pointer to NULL after freeing memory.  */\n",
    "    if (*x != NULL) \n",
    "    {\n",
    "        free(*x+m);\n",
    "        *x = NULL;\n",
    "    }\n",
    "    \n",
    "}\n",
    "\n",
    "double *linspace(int a,int b,int N)\n",
    "{  \n",
    "    double *y = (double*) malloc((N+1)*sizeof(double));\n",
    "    double h = (double)(b-a)/N;\n",
    "    \n",
    "    for(int i=0;i<=N;i++)\n",
    "    {\n",
    "       y[i]=a+(double)i*h;\n",
    "    }\n",
    "    return y;\n",
    "}\n",
    "\n",
    "\n",
    "int main(int argv, char** argc)\n",
    "{\n",
    "    int N=100;\n",
    "    \n",
    "    /* Your code goes here*/ \n",
    "    double *y = linspace(-20,20,N);  \n",
    "    double *x = linspace(-20,20,N);\n",
    "    double r;\n",
    "    double F[N+1][N+1];\n",
    "    \n",
    "    for(int i=0;i<=N;i++)\n",
    "    {\n",
    "        for(int j=0;j<=N;j++)\n",
    "        {\n",
    "            r=sqrt((x[i]-5)*(x[i]-5) + (y[j]+5)*(y[j]+5));\n",
    "            if (r ==0)\n",
    "                F[j][i]= 1;\n",
    "            else\n",
    "                F[j][i]= sin(r)/r;\n",
    "        }\n",
    "    }\n",
    "    \n",
    "    FILE *file = fopen(\"prob3_output.dat\",\"w\");\n",
    "    fwrite(&N,sizeof(int),1, file);\n",
    "    fwrite(&x[0],sizeof(double),N+1, file);\n",
    "    fwrite(&y[0],sizeof(double),N+1, file);\n",
    "    fwrite(&F, sizeof(double), (N+1)*(N+1), file);\n",
    "    fclose(file);\n",
    "    \n",
    "    free_1d(&y,0);\n",
    "    free_1d(&x,0);\n",
    "    return 0;\n",
    "}\n"
   ]
  },
  {
   "cell_type": "code",
   "execution_count": 10,
   "id": "7b1b2b0d",
   "metadata": {},
   "outputs": [],
   "source": [
    "%%bash\n",
    "\n",
    "rm -rf prob3\n",
    "\n",
    "gcc -o prob3 prob3.c\n",
    "\n",
    "./prob3"
   ]
  },
  {
   "cell_type": "code",
   "execution_count": 11,
   "id": "d1f96ffa",
   "metadata": {},
   "outputs": [
    {
     "name": "stdout",
     "output_type": "stream",
     "text": [
      "File size : 83228 bytes\n",
      "Expected file size :  83228\n"
     ]
    }
   ],
   "source": [
    "import os\n",
    "\n",
    "stats = os.stat('prob3_output.dat')\n",
    "print(f\"File size : {stats.st_size:d} bytes\")\n",
    "\n",
    "N = 100\n",
    "print(\"Expected file size : \",8*(N+1)**2+ 2*(N+1)*8 +4)"
   ]
  },
  {
   "cell_type": "code",
   "execution_count": 12,
   "id": "b44ed386",
   "metadata": {},
   "outputs": [],
   "source": [
    "from matplotlib.pyplot import *\n",
    "from numpy import *"
   ]
  },
  {
   "cell_type": "code",
   "execution_count": 13,
   "id": "74f05a8e",
   "metadata": {},
   "outputs": [],
   "source": [
    "dt = dtype([('N',np.int32), \\\n",
    "            ('x',(np.float64,N+1)),\\\n",
    "            ('y',(np.float64,N+1)),\\\n",
    "            ('F',(np.float64,(N+1)**2))])\n",
    "\n",
    "# read data from file\n",
    "fout = open('prob3_output.dat','rb')\n",
    "N,x,y,F = fromfile(fout,dtype=dt,count=1)[0]\n",
    "fout.close()"
   ]
  },
  {
   "cell_type": "code",
   "execution_count": 14,
   "id": "f0c87e24",
   "metadata": {},
   "outputs": [
    {
     "data": {
      "image/png": "[encoded data removed]",
      "text/plain": [
       "<Figure size 432x288 with 1 Axes>"
      ]
     },
     "metadata": {
      "needs_background": "light"
     },
     "output_type": "display_data"
    }
   ],
   "source": [
    "clf()\n",
    "figure(1)\n",
    "fxy=F.reshape((N+1,N+1))\n",
    "e = [x[0],x[N],y[0],y[N]]\n",
    "imshow(fxy,aspect=True,extent=e,origin=\"lower\");"
   ]
  },
  {
   "cell_type": "markdown",
   "id": "671585d8",
   "metadata": {},
   "source": [
    "<a id=\"prob4\"></a>\n",
    "\n",
    "\n",
    "<hr style=\"border:3px solid coral\"></hr>\n",
    "\n",
    "## Problem #4\n",
    "\n",
    "<hr style=\"border:3px solid coral\"></hr>\n",
    "\n",
    "Why might the following code produce unreliable results?  \n",
    "\n",
    "### Tip\n",
    "\n",
    "* Think about \"scope\". "
   ]
  },
  {
   "cell_type": "code",
   "execution_count": 15,
   "id": "f6fdf9f2",
   "metadata": {},
   "outputs": [],
   "source": [
    "%reset -f "
   ]
  },
  {
   "cell_type": "code",
   "execution_count": 16,
   "id": "7b0dd224",
   "metadata": {},
   "outputs": [
    {
     "name": "stdout",
     "output_type": "stream",
     "text": [
      "Overwriting prob4.c\n"
     ]
    }
   ],
   "source": [
    "%%file prob4.c\n",
    "\n",
    "#include <stdio.h>\n",
    "\n",
    "int main(int argc, char** argv)\n",
    "{\n",
    "    double *y = NULL;    \n",
    "    {\n",
    "        double x = 11.5;\n",
    "        y = &x;\n",
    "    }        \n",
    "    printf(\"y[0] = %f\\n\",y[0]);    \n",
    "}"
   ]
  },
  {
   "cell_type": "code",
   "execution_count": 17,
   "id": "e9677506",
   "metadata": {},
   "outputs": [
    {
     "name": "stdout",
     "output_type": "stream",
     "text": [
      "y[0] = 11.500000\n"
     ]
    }
   ],
   "source": [
    "%%bash \n",
    "\n",
    "rm -rf prob4.o\n",
    "\n",
    "gcc -o prob4 prob4.c\n",
    "\n",
    "./prob4"
   ]
  },
  {
   "cell_type": "markdown",
   "id": "98533b22",
   "metadata": {},
   "source": [
    "## COMMENT"
   ]
  },
  {
   "cell_type": "markdown",
   "id": "73684f93",
   "metadata": {},
   "source": [
    "The code is attempting to access previously deallocated memory, which could lead to unreliable results. The location of a local variable x allocated on the stack inside the block separated by curly braces is given to the pointer y. The lifetime of x expires after that block does, and attempting to access it via y causes ambiguous behavior. As a result, trying to print the value of y[0] after x has left the scope may cause the program to output an unexpected value. To prevent this from occuring, pointers must refer only to valid memory locations by employing dynamic memory allocation or keeping the variable pointed to in scope."
   ]
  },
  {
   "cell_type": "markdown",
   "id": "4d321b14",
   "metadata": {},
   "source": [
    "<a id=\"prob5\"></a>\n",
    "\n",
    "\n",
    "<hr style=\"border:3px solid coral\"></hr>\n",
    "\n",
    "## Problem #5 - Fix a memory issue\n",
    "\n",
    "<hr style=\"border:3px solid coral\"></hr>\n",
    "\n",
    "The following code should print out two different values.  It appears to work.  But is it reliable?\n",
    "\n",
    "### To Do \n",
    "\n",
    "* What is the code below doing?  Why might we expect unpredictable behavior? \n",
    "\n",
    "* Describe two fixes that would guarantee predictable behavior. \n",
    "\n",
    "* Implement your fixes. \n"
   ]
  },
  {
   "cell_type": "code",
   "execution_count": 18,
   "id": "b78d71b7",
   "metadata": {},
   "outputs": [],
   "source": [
    "%reset -f "
   ]
  },
  {
   "cell_type": "code",
   "execution_count": 19,
   "id": "b0ae70c5",
   "metadata": {},
   "outputs": [
    {
     "name": "stdout",
     "output_type": "stream",
     "text": [
      "Overwriting prob5.c\n"
     ]
    }
   ],
   "source": [
    "%%file prob5.c\n",
    "\n",
    "#include <stdio.h>\n",
    "\n",
    "void change_value(double **y)\n",
    "{\n",
    "    double x = 11.5;\n",
    "    *y = &x;\n",
    "}\n",
    "\n",
    "int main(int argc, char** argv)\n",
    "{\n",
    "    double x = 2.3;\n",
    "    double *y = &x;\n",
    "    \n",
    "    printf(\"Old value : y[0] = %f\\n\",y[0]);\n",
    "    change_value(&y);\n",
    "    printf(\"New value : y[0] = %f\\n\",y[0]);    \n",
    "}"
   ]
  },
  {
   "cell_type": "code",
   "execution_count": 20,
   "id": "d04c087c",
   "metadata": {},
   "outputs": [
    {
     "name": "stdout",
     "output_type": "stream",
     "text": [
      "Old value : y[0] = 2.300000\n",
      "New value : y[0] = 11.500000\n"
     ]
    }
   ],
   "source": [
    "%%bash \n",
    "\n",
    "rm -rf prob5.o\n",
    "\n",
    "gcc -o prob5 prob5.c\n",
    "\n",
    "./prob5"
   ]
  },
  {
   "cell_type": "markdown",
   "id": "44ffdeb1",
   "metadata": {},
   "source": [
    "## COMMENT"
   ]
  },
  {
   "cell_type": "markdown",
   "id": "34842a05",
   "metadata": {},
   "source": [
    "The code tries to modify a pointer's value to a double passed by reference to the function change_value(). The pointer *y is given the address of a local variable x in the function, designating that *y points to memory that is deallocated when the function completes ( i.e *y points to invalid memory when x goes out of scope). The pointer y points to invalid memory that could be overwritten at any time when main() attempts to dereference it, leading to unpredictable behavior.\n",
    "1. Use malloc() to dynamically create memory for the double pointed to by *y to ensure that it remains available after the change value() function has finished. After that, provide *y access to the memory's assigned address.\n",
    "2. Pass the variable by reference: In this instance, the change value() function can accept the address of the variable x from the main function. The value of x in the main function will be updated when we alter the value of *y in the change value() function in this fashion."
   ]
  },
  {
   "cell_type": "code",
   "execution_count": 21,
   "id": "3dc9baee",
   "metadata": {},
   "outputs": [
    {
     "name": "stdout",
     "output_type": "stream",
     "text": [
      "Overwriting prob5_fix1.c\n"
     ]
    }
   ],
   "source": [
    "%%file prob5_fix1.c   \n",
    "#include <stdio.h>     // FIRST FIX //\n",
    "#include <stdlib.h>\n",
    "\n",
    "void change_value(double **y)\n",
    "{\n",
    "    double *x =(double*) malloc(sizeof(double));\n",
    "     *x = 11.5;\n",
    "    *y = x;\n",
    "}\n",
    "\n",
    "int main(int argc, char** argv)\n",
    "{\n",
    "    double x = 2.3;\n",
    "    double *y = &x;\n",
    "    \n",
    "    printf(\"Old value : y[0] = %f\\n\",y[0]);\n",
    "    change_value(&y);\n",
    "    printf(\"New value : y[0] = %f\\n\",y[0]);   \n",
    "    \n",
    "    free(y);\n",
    "}\n"
   ]
  },
  {
   "cell_type": "code",
   "execution_count": 22,
   "id": "939c84a7",
   "metadata": {},
   "outputs": [
    {
     "name": "stdout",
     "output_type": "stream",
     "text": [
      "Old value : y[0] = 2.300000\n",
      "New value : y[0] = 11.500000\n"
     ]
    }
   ],
   "source": [
    "%%bash \n",
    "\n",
    "rm -rf prob5_fix1.o\n",
    "\n",
    "gcc -o prob5_fix1 prob5_fix1.c\n",
    "\n",
    "./prob5_fix1"
   ]
  },
  {
   "cell_type": "code",
   "execution_count": 23,
   "id": "abc69564",
   "metadata": {},
   "outputs": [
    {
     "name": "stdout",
     "output_type": "stream",
     "text": [
      "Overwriting prob5_fix2.c\n"
     ]
    }
   ],
   "source": [
    "%%file prob5_fix2.c\n",
    "\n",
    "#include <stdio.h>  // second fix //\n",
    "\n",
    "void change_value(double **y)\n",
    "{\n",
    "    \n",
    "    **y = 11.5;\n",
    "}\n",
    "\n",
    "int main(int argc, char** argv)\n",
    "{\n",
    "    double x = 2.3;\n",
    "    double *y = &x;\n",
    "    \n",
    "    printf(\"Old value : y[0] = %f\\n\",y[0]);\n",
    "    change_value(&y);\n",
    "    printf(\"New value : y[0] = %f\\n\",y[0]);    \n",
    "}"
   ]
  },
  {
   "cell_type": "code",
   "execution_count": 24,
   "id": "d4aef598",
   "metadata": {},
   "outputs": [
    {
     "name": "stdout",
     "output_type": "stream",
     "text": [
      "Old value : y[0] = 2.300000\n",
      "New value : y[0] = 11.500000\n"
     ]
    }
   ],
   "source": [
    "%%bash \n",
    "\n",
    "rm -rf prob5_fix2.o\n",
    "\n",
    "gcc -o prob5_fix2 prob5_fix1.c\n",
    "\n",
    "./prob5_fix2"
   ]
  },
  {
   "cell_type": "markdown",
   "id": "46bd6e05",
   "metadata": {},
   "source": [
    "<a id=\"prob6\"></a>\n",
    "\n",
    "<hr style=\"border:3px solid coral\"></hr>\n",
    "\n",
    "## Problem #6 - Computing a maximum using MPI\n",
    "\n",
    "<hr style=\"border:3px solid coral\"></hr>\n",
    "\n",
    "In the following problem, each processor will generate an random number.  Your task is to compute the largest of these numbers. \n",
    "\n",
    "### To Do \n",
    "\n",
    "* Complete the code below so that rank 0 receives a value from each of the other processes and computes a maximum of all values (including a value generated on rank 0).  \n",
    "\n",
    "* All ranks other than 0 should send their value to rank 0. \n",
    "\n",
    "* Each rank should print out its random value. \n",
    "\n",
    "* Report the maximum value you found. \n",
    "\n",
    "Run your code on 16 processes, so that 16 random numbers are generated. \n",
    "\n",
    "### Question\n",
    "\n",
    "We have only discussed in class *synchronous* send and receive calls.  This means that a send and receive calls are *blocking* (only complete when the message has been sent *and* recieved).  If you could send and receive *asynchronously* (.e.g. using non-blocking calls), can you think of an efficient way to organize the communication between processors?  "
   ]
  },
  {
   "cell_type": "markdown",
   "id": "c72661fc",
   "metadata": {},
   "source": [
    "### COMMENT"
   ]
  },
  {
   "cell_type": "markdown",
   "id": "5a3c4310",
   "metadata": {},
   "source": [
    "Synchronous calls are less effective in facilitating communication between processors than non-blocking calls. One technique to structure communication using non-blocking calls is to overlap processing and communication. This entails beginning communication processes while carrying on with computation. Managing the overlap between communication and computation is essential to prevent overloading either process."
   ]
  },
  {
   "cell_type": "code",
   "execution_count": 25,
   "id": "bf7e1b35",
   "metadata": {},
   "outputs": [],
   "source": [
    "%reset -f"
   ]
  },
  {
   "cell_type": "code",
   "execution_count": 26,
   "id": "ab71e6cf",
   "metadata": {},
   "outputs": [
    {
     "name": "stdout",
     "output_type": "stream",
     "text": [
      "Overwriting prob6.c\n"
     ]
    }
   ],
   "source": [
    "%%file prob6.c\n",
    "#include <stdio.h>\n",
    "#include <stdlib.h>\n",
    "#include <math.h>\n",
    "#include <time.h>\n",
    "#include <mpi.h>\n",
    "\n",
    "double random_number()\n",
    "{\n",
    "  return (double) rand() / (double) RAND_MAX ;\n",
    "}\n",
    "\n",
    "void random_seed()\n",
    "{\n",
    "    int rank;\n",
    "    MPI_Comm_rank(MPI_COMM_WORLD, &rank);\n",
    "    srand(clock() + rank);\n",
    "}\n",
    "\n",
    "int main(int argc, char** argv)\n",
    "{\n",
    "    int rank, nprocs;\n",
    "    \n",
    "    MPI_Init(&argc, &argv);\n",
    "    MPI_Comm_rank(MPI_COMM_WORLD, &rank);\n",
    "    MPI_Comm_size(MPI_COMM_WORLD, &nprocs);\n",
    "    \n",
    "    random_seed();\n",
    "\n",
    "    double x = random_number();\n",
    "    printf(\"Rank %3d : Random number is %12.8f\\n\",rank,x);\n",
    "    \n",
    "    if (rank == 0)\n",
    "    {         \n",
    "          double xmax = x;\n",
    "        \n",
    "        for (int i = 1; i < nprocs; i++) \n",
    "        {\n",
    "            double temp;\n",
    "            MPI_Recv(&temp, 1, MPI_DOUBLE, i, 0, MPI_COMM_WORLD, MPI_STATUS_IGNORE);\n",
    "            xmax = fmax(xmax, temp);\n",
    "        }\n",
    "        printf(\"Maximum value is %12.8f\\n\",xmax);       \n",
    "    }\n",
    "    else\n",
    "    {\n",
    "        MPI_Send(&x, 1, MPI_DOUBLE, 0, 0, MPI_COMM_WORLD);\n",
    "    }\n",
    "    \n",
    "    MPI_Finalize();\n",
    "}\n"
   ]
  },
  {
   "cell_type": "code",
   "execution_count": 27,
   "id": "096ffe2e",
   "metadata": {},
   "outputs": [
    {
     "name": "stdout",
     "output_type": "stream",
     "text": [
      "Rank   0 : Random number is   0.04425680\n",
      "Rank   4 : Random number is   0.09648999\n",
      "Rank  12 : Random number is   0.91858096\n",
      "Rank   2 : Random number is   0.06800200\n",
      "Rank  10 : Random number is   0.06181134\n",
      "Rank  14 : Random number is   0.03489646\n",
      "Rank   6 : Random number is   0.10224237\n",
      "Rank   3 : Random number is   0.07866152\n",
      "Rank  15 : Random number is   0.91894097\n",
      "Rank  11 : Random number is   0.00175179\n",
      "Rank   7 : Random number is   0.00666675\n",
      "Rank   5 : Random number is   0.08525915\n",
      "Rank  13 : Random number is   0.02146641\n",
      "Rank   8 : Random number is   0.98364939\n",
      "Rank   1 : Random number is   0.14236816\n",
      "Rank   9 : Random number is   0.16152711\n",
      "Maximum value is   0.98364939\n"
     ]
    }
   ],
   "source": [
    "%%bash\n",
    "\n",
    "rm -rf prob6\n",
    "\n",
    "mpicc -o prob6 prob6.c\n",
    "\n",
    "mpirun -n 16 ./prob6"
   ]
  },
  {
   "cell_type": "markdown",
   "id": "319c8e65",
   "metadata": {},
   "source": [
    "<a id=\"prob7\"></a>\n",
    "\n",
    "<hr style=\"border:3px solid coral\"></hr>\n",
    "\n",
    "## Problem #7 - Plot a circle! (MPI)\n",
    "\n",
    "<hr style=\"border:3px solid coral\"></hr>\n",
    "\n",
    "In the following, you will evaluate the parametric equations for a circle, write the values to a file, load the values in Python and then plot the values to create a circle.   The work of evaluating the parametric equations will be distributed to several MPI ranks. \n",
    "\n",
    "The parametric equations $(C(\\theta),S(\\theta))$ for the circle are given by \n",
    "\n",
    "\\begin{eqnarray}\n",
    "C(\\theta) & = \\cos(\\theta) \\\\\n",
    "S(\\theta) & = \\sin(\\theta)\n",
    "\\end{eqnarray}\n",
    "\n",
    "for $\\theta \\in [0, 2\\pi]$.  To plot a circle, we can evaluate these equations at $N$ equally spaced values $\\theta_i$, $i = 0,1,2,\\dots N$ in the interval $[0,2\\pi]$ to get points  $(C_i,S_i)$.  We then plot these points to get a circle. \n",
    "\n",
    "### To Do\n",
    "\n",
    "* Write a function that allocates memory for arrays $\\mathbf C$ and $\\mathbf S$, and evaluates the parametric equations at a range of values sub-intervals $[a,b] \\subset [0,2\\pi]$.   The signature for your function might look something like : \n",
    "\n",
    "            void eval_xy(double ap, double bp, int n, double**C, double **S)\n",
    "\n",
    "The function should allocate memory for arrays $\\mathbf C$ and $\\mathbf S$ and compute $C_i$ and $S_i$ for $i = 0,1,2,\\dots, n$. \n",
    "\n",
    "\n",
    "* The work will be distributed among a total of $P$ processes by dividing the domain $[a,b]$ into equal-sized subintervals $[a_p,b_p]$, $p=0,1,\\dots P-1$. \n",
    "\n",
    "\n",
    "* Each rank $p$ should evaluate the parametric equations at $N/P$ equally spaced values in the sub-interval  $[a_p, b_p] \\subset [0,2\\pi]$.  \n",
    "\n",
    "\n",
    "* Each rank $p$, $p > 0$, should send their results to rank 0.   \n",
    "\n",
    "\n",
    "* Rank 0 should collect all results for sub-intervals and store them in an arrays of length $N+1$.  \n",
    "\n",
    "\n",
    "* Rank 0 should write out $N$, the interval $[a,b] = [0,2\\pi]$, and arrays $\\mathbf \\theta$, $\\mathbf C$ and $\\mathbf S$.  \n",
    "\n",
    "\n",
    "* Load the meta data and arrays in python and plot your circle. \n",
    "\n",
    "Compute the above for $N=32$.   Run your code on 4 processors. \n",
    "\n",
    "### Tips\n",
    "\n",
    "* Use your function `allocate_1d` (with $m=0$) to allocate memory for local arrays in `eval_xy`. \n",
    "\n",
    "\n",
    "* Rank 0 should also do some work and compute values on the sub-interval $[a_0,b_0]$. \n",
    "\n",
    "\n",
    "* Use the MPI `tag` to make sure that the two arrays `C` and `S` get correctly received by rank 0.  \n",
    "\n",
    "\n",
    "* Create a Numpy `dtype` to read data back into Python. \n",
    "\n",
    "\n",
    "* Set the aspect ratio of your plot to `equal`.\n",
    " \n",
    "      gca().set_aspect('equal')  \n",
    "            "
   ]
  },
  {
   "cell_type": "code",
   "execution_count": 5,
   "id": "b0b978df",
   "metadata": {},
   "outputs": [],
   "source": [
    "%reset -f"
   ]
  },
  {
   "cell_type": "code",
   "execution_count": 7,
   "id": "a0132e11",
   "metadata": {},
   "outputs": [
    {
     "name": "stdout",
     "output_type": "stream",
     "text": [
      "Overwriting prob7.c\n"
     ]
    }
   ],
   "source": [
    "%%file prob7.c\n",
    "\n",
    "#include <stdio.h>\n",
    "#include <stdlib.h>\n",
    "#include <math.h>\n",
    "#include <mpi.h>\n",
    "\n",
    "double* allocate_1d(int n, int m)\n",
    "{\n",
    "    /* Use malloc to allocate memory */\n",
    "    double *y = (double*) malloc((n+2*m)*sizeof(double));\n",
    "    return y;\n",
    "}\n",
    "\n",
    "\n",
    "void free_1d(double **x)\n",
    "{\n",
    "    /* Use free to free memory;  Set value of pointer to NULL after freeing memory.  */\n",
    "    if (*x != NULL) \n",
    "    {\n",
    "        free(*x);\n",
    "        *x = NULL;\n",
    "    }\n",
    "    \n",
    "}\n",
    "\n",
    "void eval_xy(double ap, double bp, int n, double **C, double **S)\n",
    "{    \n",
    "    double xi, h;\n",
    "    \n",
    "    /* TODO : Allocate memory for S and C */\n",
    "    \n",
    "     *C = allocate_1d(n+1,0);\n",
    "     *S = allocate_1d(n+1,0);\n",
    "     h = (bp-ap)/n;\n",
    "    \n",
    "    for(int i=0;i<=n;i++)\n",
    "    {\n",
    "       xi =(double) ap+i*h;\n",
    "       *(*C+i)=cos(xi);\n",
    "       *(*S+i)=sin(xi);\n",
    "    }\n",
    "    \n",
    "}\n",
    "\n",
    "int main(int argc, char** argv)\n",
    "{\n",
    "    MPI_Init(&argc, &argv);\n",
    "    int rank, nprocs;\n",
    "    MPI_Comm_rank(MPI_COMM_WORLD, &rank);\n",
    "    MPI_Comm_size(MPI_COMM_WORLD, &nprocs);\n",
    "    \n",
    "    int N = 32;\n",
    "\n",
    "    double a = 0, b = 2*M_PI;\n",
    "    \n",
    "    int N_local = N/nprocs;\n",
    "\n",
    "    /* TODO : Use \"rank\" to determine range of values [a_local,b_local] for this processor */\n",
    "    \n",
    "    double h = (b - a) / N;\n",
    "    double a_local = a + rank * N_local * h;\n",
    "    double b_local = a_local + N_local * h;\n",
    "    printf(\"%d %d\\n\", N_local, N);\n",
    "    \n",
    "    double *C_local, *S_local;\n",
    "    \n",
    "    /* TODO : Compute range of values for this processor on [a_local, b_local] */\n",
    "    \n",
    "    eval_xy(a_local,b_local,N_local,&C_local,&S_local);\n",
    "    \n",
    "    if (rank == 0)\n",
    "    {        \n",
    "        /* Okay to define \"automatic arrays\" here, since they won't be referenced elsewhere */\n",
    "        double C[N+1], S[N+1];\n",
    "        \n",
    "        /* Copy data from rank 0 into C and S*/\n",
    "        for (int i = 0; i <= N_local; i++)\n",
    "        {\n",
    "            C[i] = C_local[i];\n",
    "            S[i] = S_local[i];\n",
    "        }\n",
    "    \n",
    "        \n",
    "        /* TODO : Receive data from each of nprocs-1 processes into correct range in C, S */ \n",
    "        for (int i = 1; i < nprocs; i++) \n",
    "        {\n",
    "         //TODO : Receive data from process i into correct range in C, S //\n",
    "    \n",
    "            MPI_Recv(&C[i * N_local], N_local+1, MPI_DOUBLE, i, 0, MPI_COMM_WORLD, MPI_STATUS_IGNORE);\n",
    "            MPI_Recv(&S[i * N_local], N_local+1, MPI_DOUBLE, i, 1, MPI_COMM_WORLD, MPI_STATUS_IGNORE);\n",
    "\n",
    "        }\n",
    "        \n",
    "        \n",
    "        FILE *fout = fopen(\"prob7_output.dat\",\"w\");   \n",
    "        \n",
    "        /* TODO : Write out meta-data and arrays */\n",
    " \n",
    "        fwrite(&N,sizeof(int),1,fout);\n",
    "        fwrite(&a,sizeof(double),1,fout);\n",
    "        fwrite(&b,sizeof(double),1,fout);\n",
    "        fwrite(C,sizeof(double),N+1,fout);\n",
    "        fwrite(S,sizeof(double),N+1,fout);\n",
    "        fclose(fout);       \n",
    "        \n",
    "        \n",
    "        /* ... */\n",
    "         \n",
    "    }\n",
    "    else\n",
    "    {\n",
    "\n",
    "        /* TODO : Send data for C and S to rank 0 */\n",
    "            MPI_Send(C_local, N_local+1, MPI_DOUBLE, 0, 0, MPI_COMM_WORLD);\n",
    "            MPI_Send(S_local, N_local+1, MPI_DOUBLE, 0, 1, MPI_COMM_WORLD);\n",
    "    }\n",
    "    \n",
    "    free_1d(&C_local);\n",
    "    free_1d(&S_local);\n",
    "    \n",
    "    MPI_Finalize();\n",
    "    return 0;\n",
    "}"
   ]
  },
  {
   "cell_type": "code",
   "execution_count": 8,
   "id": "4ac5dc56",
   "metadata": {},
   "outputs": [
    {
     "name": "stdout",
     "output_type": "stream",
     "text": [
      "8 32\n",
      "8 32\n",
      "8 32\n",
      "8 32\n"
     ]
    }
   ],
   "source": [
    "%%bash\n",
    "\n",
    "rm -rf prob7\n",
    "\n",
    "mpicc -o prob7 prob7.c\n",
    "\n",
    "mpirun -n 4 ./prob7"
   ]
  },
  {
   "cell_type": "code",
   "execution_count": null,
   "id": "05fd9abd",
   "metadata": {},
   "outputs": [],
   "source": []
  },
  {
   "cell_type": "markdown",
   "id": "a0eb5af3",
   "metadata": {},
   "source": [
    "#### Open file in Python"
   ]
  },
  {
   "cell_type": "code",
   "execution_count": 31,
   "id": "0626bddc",
   "metadata": {},
   "outputs": [],
   "source": [
    "from numpy import *"
   ]
  },
  {
   "cell_type": "code",
   "execution_count": 32,
   "id": "59c003b6",
   "metadata": {},
   "outputs": [
    {
     "name": "stdout",
     "output_type": "stream",
     "text": [
      "N is 32\n"
     ]
    }
   ],
   "source": [
    "fout=open(\"prob7_output.dat\",\"rb\")\n",
    "\n",
    "# Read value N\n",
    "N = fromfile(fout,dtype=int32,count=1)[0]\n",
    "\n",
    "fout.close()\n",
    "print(f\"N is {N:d}\")\n",
    "\n",
    "# TODO : Build a  Numpy `dtype`.  Use \"N\" read in above. \n",
    "dt = dtype([('N',int32), \\\n",
    "            ('a',float64),\\\n",
    "            ('b',float64),\\\n",
    "            ('C',(float64,N+1)),\\\n",
    "           ('S',(float64,N+1))])\n",
    "\n",
    "\n",
    "# TODO : Read data (include 'N' again).  \n",
    "\n",
    "# read data from file\n",
    "fout = open('prob7_output.dat','rb')\n",
    "N,a,b,C,S = fromfile(fout,dtype=dt,count=1)[0]\n",
    "fout.close()"
   ]
  },
  {
   "cell_type": "markdown",
   "id": "64160da7",
   "metadata": {},
   "source": [
    "#### Check file size"
   ]
  },
  {
   "cell_type": "code",
   "execution_count": 33,
   "id": "7a2f00a1",
   "metadata": {},
   "outputs": [
    {
     "name": "stdout",
     "output_type": "stream",
     "text": [
      "File size          : 548 bytes\n",
      "Expected file size : 548 bytes\n",
      "\n",
      "Actual size and expected size match!\n"
     ]
    }
   ],
   "source": [
    "import os\n",
    "\n",
    "stats = os.stat(\"prob7_output.dat\")\n",
    "actual_size = stats.st_size\n",
    "print(f\"File size          : {actual_size:d} bytes\")\n",
    "\n",
    "fout = open(\"prob7_output.dat\",\"rb\")\n",
    "N = fromfile(fout,dtype=int32, count=1)[0]\n",
    "fout.close()\n",
    "\n",
    "expected_size = 2*(N+1)*8 + 2*8 + 4\n",
    "print(f\"Expected file size : {expected_size:d} bytes\")\n",
    "\n",
    "print(\"\")\n",
    "if expected_size == actual_size:    \n",
    "    print(\"Actual size and expected size match!\")\n",
    "else:\n",
    "    print(\"Something went wrong : File sizes differ\")"
   ]
  },
  {
   "cell_type": "markdown",
   "id": "2045cfbd",
   "metadata": {},
   "source": [
    "#### Plot circle"
   ]
  },
  {
   "cell_type": "code",
   "execution_count": 34,
   "id": "2e03bf0c",
   "metadata": {},
   "outputs": [
    {
     "data": {
      "image/png": "[encoded data removed]",
      "text/plain": [
       "<Figure size 432x288 with 1 Axes>"
      ]
     },
     "metadata": {
      "needs_background": "light"
     },
     "output_type": "display_data"
    }
   ],
   "source": [
    "from matplotlib.pyplot import *\n",
    "\n",
    "figure(1)\n",
    "clf()\n",
    "\n",
    "# TODO : Plot a circle!\n",
    "plot(C,S)\n",
    "gca().set_aspect('equal');\n"
   ]
  },
  {
   "cell_type": "markdown",
   "id": "4b9dc757",
   "metadata": {},
   "source": [
    "<a id=\"prob8\"></a>\n",
    "\n",
    "<hr style=\"border:3px solid coral\"></hr>\n",
    "\n",
    "## Problem #8 - Fresnel functions (571, MPI)\n",
    "\n",
    "<hr style=\"border:3px solid coral\"></hr>\n",
    "\n",
    "Repeat problem #7, but instead of using $C(\\theta) = \\cos(\\theta)$ and $S(\\theta) = \\sin(\\theta)$, set $C$ and $S$ to the *Fresnel* functions\n",
    "\n",
    "\n",
    "\\begin{equation}\n",
    "C(t) = \\frac{\\pi}{2}\\frac{1-i}{4}\\left[\\mbox{erf}\\left(\\frac{1+i}{\\sqrt{2}}t\\right) +  i\\mbox{erf}\\left(\\frac{1-i}{\\sqrt{2}}t\\right)\\right]\n",
    "\\end{equation}\n",
    "\n",
    "and \n",
    "\n",
    "\\begin{equation}\n",
    "S(t) = \\frac{\\pi}{2}\\frac{1+i}{4}\\left[\\mbox{erf}\\left(\\frac{1+i}{\\sqrt{2}}t\\right) -  i\\mbox{erf}\\left(\\frac{1-i}{\\sqrt{2}}t\\right)\\right]\n",
    "\\end{equation}\n",
    "\n",
    "where $i = \\sqrt{-1]}$.  \n",
    "\n",
    "### To do\n",
    "\n",
    "* Evaluate the Fresnel functions $(C(t),S(t))$. \n",
    "\n",
    "\n",
    "* Plot the parametric equations over the interval $t \\in [-20,20]$. \n",
    "\n",
    "Compute the Fresnel equations for $N=1024$.  Run your results on four processors. \n",
    "\n",
    "*This problem is essentially problem #7, with a different set of parametric equations*\n",
    "\n",
    "### Tips\n",
    "\n",
    "\n",
    "* For this, you will need to include the header `complex.h`.  The complex unit is `I`.  \n",
    "\n",
    "\n",
    "* You will also need the complex valued error function `cerf`. \n",
    "\n",
    "  You can install this in Linux as \n",
    "\n",
    "      sudo apt-get install libcerf-dev\n",
    "     \n",
    " And on a Mac (using MacPorts, for example), you can use   \n",
    " \n",
    "       sudo port install libcerf\n",
    " \n",
    " Read more about this library [here](https://jugit.fz-juelich.de/mlz/libcerf).  \n",
    " \n",
    " \n",
    "* To compile the code, you may need to explicitly include an include path and a library path at the compile line. \n",
    "\n",
    "       mpicc -o prob8 prob8.c -I<include-dir> -L<lib-dir>  -lcerf\n",
    "\n",
    "where `<include-dir>` is the include directory containing `cerf.h` and `<lib-dir>` is the directory containing the library flie `libcerf.a`. \n",
    "\n",
    "#### Example\n",
    "\n",
    "If you use the MacPorts installation on OSX, the compile line will look something like.\n",
    "\n",
    "       mpicc -o prob8 prob8.c -I/opt/local/include -L/opt/local/lib -lcerf"
   ]
  },
  {
   "cell_type": "markdown",
   "id": "cf0ab28e",
   "metadata": {},
   "source": [
    "#### Test cerf installation\n",
    "\n",
    "Run the code below to test your installation of the library file `libcerf`."
   ]
  },
  {
   "cell_type": "code",
   "execution_count": 35,
   "id": "c8112537",
   "metadata": {},
   "outputs": [
    {
     "name": "stdout",
     "output_type": "stream",
     "text": [
      "Overwriting test_cerf.c\n"
     ]
    }
   ],
   "source": [
    "%%file test_cerf.c\n",
    "\n",
    "#include <stdio.h>\n",
    "#include <complex.h>\n",
    "#include <math.h>\n",
    "#include <cerf.h>\n",
    "\n",
    "int main(int argc, char** argv)\n",
    "{\n",
    "    complex double z0 = I*I;  /* should be -1 */\n",
    "    printf(\"I*I = %20.16f + %20.16f\\n\",creal(z0),cimag(z0));\n",
    "    \n",
    "    /* Complex valued error function cerf */\n",
    "    complex double z1 = cerf((1 + I)/sqrt(2.0));\n",
    "    printf(\"z   = %20.16f + %20.16f\\n\",creal(z1),cimag(z1));\n",
    "\n",
    "    return 0;\n",
    "}    "
   ]
  },
  {
   "cell_type": "code",
   "execution_count": 36,
   "id": "4899087c",
   "metadata": {},
   "outputs": [
    {
     "name": "stdout",
     "output_type": "stream",
     "text": [
      "I*I =  -1.0000000000000000 +   0.0000000000000000\n",
      "z   =   0.9692642119442157 +   0.4741476366409944\n"
     ]
    }
   ],
   "source": [
    "%%bash \n",
    "\n",
    "rm -rf test_cerf\n",
    "\n",
    "gcc -o test_cerf test_cerf.c -I/opt/local/include -L/opt/local/lib -lcerf\n",
    "\n",
    "./test_cerf"
   ]
  },
  {
   "cell_type": "markdown",
   "id": "9093b3dd",
   "metadata": {},
   "source": [
    "You should get : \n",
    "\n",
    "    I*I =  -1.0000000000000000 +   0.0000000000000000\n",
    "    z   =   0.9692642119442157 +   0.4741476366409944"
   ]
  },
  {
   "cell_type": "markdown",
   "id": "ca394f66",
   "metadata": {},
   "source": [
    "You can also check your results against the result from the complex-valued Scipy special function `erf`. "
   ]
  },
  {
   "cell_type": "code",
   "execution_count": 37,
   "id": "7411bf96",
   "metadata": {},
   "outputs": [
    {
     "name": "stdout",
     "output_type": "stream",
     "text": [
      "z =   0.9692642119442157 +   0.4741476366409944\n"
     ]
    }
   ],
   "source": [
    "import scipy\n",
    "from  scipy.special import erf\n",
    "from numpy import *\n",
    "\n",
    "z = erf((1 + 1j)/sqrt(2.))\n",
    "print(f\"z = {z.real:20.16f} + {z.imag:20.16f}\")"
   ]
  },
  {
   "cell_type": "markdown",
   "id": "8aafc52a",
   "metadata": {},
   "source": [
    "#### Code for problem #8"
   ]
  },
  {
   "cell_type": "code",
   "execution_count": 38,
   "id": "ca684e64",
   "metadata": {},
   "outputs": [],
   "source": [
    "%reset -f"
   ]
  },
  {
   "cell_type": "code",
   "execution_count": 39,
   "id": "f57a018a",
   "metadata": {},
   "outputs": [
    {
     "name": "stdout",
     "output_type": "stream",
     "text": [
      "Overwriting prob8.c\n"
     ]
    }
   ],
   "source": [
    "%%file prob8.c\n",
    "\n",
    "#include <stdio.h>\n",
    "#include <stdlib.h>\n",
    "#include <math.h>\n",
    "#include <mpi.h>\n",
    "#include <complex.h>\n",
    "#include <cerf.h>\n",
    "\n",
    "double* allocate_1d(int n, int m)\n",
    "{\n",
    "    /* Use malloc to allocate memory */\n",
    "    double *y = (double*) malloc((n+2*m)*sizeof(double));\n",
    "    return y;\n",
    "}\n",
    "\n",
    "\n",
    "void free_1d(double **x)\n",
    "{\n",
    "    /* Use free to free memory;  Set value of pointer to NULL after freeing memory.  */\n",
    "    if (*x != NULL) \n",
    "    {\n",
    "        free(*x);\n",
    "        *x = NULL;\n",
    "    }\n",
    "    \n",
    "}\n",
    "\n",
    "void eval_xy(double ap, double bp, int n, double **C, double **S)\n",
    "{    \n",
    "    double xi, h;\n",
    "    /* TODO : Allocate memory for S and C */\n",
    "    \n",
    "     *C = allocate_1d(n+1,0);\n",
    "     *S = allocate_1d(n+1,0);\n",
    "     h = (bp-ap)/n;\n",
    "    \n",
    "    for(int i=0;i<=n;i++)\n",
    "    {\n",
    "       xi =(double) ap+i*h;\n",
    "       *(*C+i)=(M_PI*(1-I))/8*(cerf(((1+I)/sqrt(2))*xi)+I*cerf(((1-I)/sqrt(2))*xi));\n",
    "       *(*S+i)=(M_PI*(1+I))/8*(cerf(((1+I)/sqrt(2))*xi)-I*cerf(((1-I)/sqrt(2))*xi));\n",
    "    }\n",
    "    \n",
    "}\n",
    "\n",
    "int main(int argc, char** argv)\n",
    "{\n",
    "    MPI_Init(&argc, &argv);\n",
    "    int rank, nprocs;\n",
    "    MPI_Comm_rank(MPI_COMM_WORLD, &rank);\n",
    "    MPI_Comm_size(MPI_COMM_WORLD, &nprocs);\n",
    "    \n",
    "    int N = 1024;\n",
    "\n",
    "    double a = -20.0, b = 20.0;\n",
    "    \n",
    "    int N_local = N/nprocs;\n",
    "\n",
    "    /* TODO : Use \"rank\" to determine range of values [a_local,b_local] for this processor */\n",
    "    \n",
    "    double h = (b - a) / N;\n",
    "    double a_local = a + rank * N_local * h;\n",
    "    double b_local = a_local + N_local * h;\n",
    "\n",
    "    \n",
    "    double *C_local, *S_local;\n",
    "    \n",
    "    /* TODO : Compute range of values for this processor on [a_local, b_local] */\n",
    "    \n",
    "    eval_xy(a_local,b_local,N_local,&C_local,&S_local);\n",
    "    \n",
    "    if (rank == 0)\n",
    "    {        \n",
    "        /* Okay to define \"automatic arrays\" here, since they won't be referenced elsewhere */\n",
    "        double C[N+1], S[N+1];\n",
    "        \n",
    "        /* Copy data from rank 0 into C and S*/\n",
    "        for (int i = 0; i <= N_local; i++)\n",
    "        {\n",
    "            C[i] = C_local[i];\n",
    "            S[i] = S_local[i];\n",
    "        }\n",
    "    \n",
    "        \n",
    "        /* TODO : Receive data from each of nprocs-1 processes into correct range in C, S */ \n",
    "        for (int i = 1; i < nprocs; i++) \n",
    "        {\n",
    "         //TODO : Receive data from process i into correct range in C, S //\n",
    "    \n",
    "            MPI_Recv(&C[i * N_local], N_local+1, MPI_DOUBLE, i, 0, MPI_COMM_WORLD, MPI_STATUS_IGNORE);\n",
    "            MPI_Recv(&S[i * N_local], N_local+1, MPI_DOUBLE, i, 1, MPI_COMM_WORLD, MPI_STATUS_IGNORE);\n",
    "\n",
    "        }\n",
    "        \n",
    "        FILE *fout = fopen(\"prob8_output.dat\",\"w\");   \n",
    "        \n",
    "        /* TODO : Write out meta-data and arrays */\n",
    " \n",
    "        fwrite(&N,sizeof(int),1,fout);\n",
    "        fwrite(&a,sizeof(double),1,fout);\n",
    "        fwrite(&b,sizeof(double),1,fout);\n",
    "        fwrite(C,sizeof(double),N+1,fout);\n",
    "        fwrite(S,sizeof(double),N+1,fout);\n",
    "        fclose(fout);       \n",
    "        \n",
    "        \n",
    "        /* ... */\n",
    "         \n",
    "    }\n",
    "    else\n",
    "    {\n",
    "\n",
    "        /* TODO : Send data for C and S to rank 0 */\n",
    "            MPI_Send(C_local, N_local+1, MPI_DOUBLE, 0, 0, MPI_COMM_WORLD);\n",
    "            MPI_Send(S_local, N_local+1, MPI_DOUBLE, 0, 1, MPI_COMM_WORLD);\n",
    "    }\n",
    "    \n",
    "    free_1d(&C_local);\n",
    "    free_1d(&S_local);\n",
    "    \n",
    "    MPI_Finalize();\n",
    "    return 0;\n",
    "}"
   ]
  },
  {
   "cell_type": "code",
   "execution_count": 40,
   "id": "9297b12e",
   "metadata": {},
   "outputs": [],
   "source": [
    "%%bash\n",
    "\n",
    "rm -rf prob8\n",
    "\n",
    "mpicc -o prob8 prob8.c -I/opt/local/include -L/opt/local/lib -lcerf\n",
    "\n",
    "mpirun -n 4 ./prob8"
   ]
  },
  {
   "cell_type": "markdown",
   "id": "066d492f",
   "metadata": {},
   "source": [
    "#### Open file in Python"
   ]
  },
  {
   "cell_type": "code",
   "execution_count": 41,
   "id": "495e6db8",
   "metadata": {},
   "outputs": [],
   "source": [
    "from numpy import *"
   ]
  },
  {
   "cell_type": "code",
   "execution_count": 42,
   "id": "91ace3e4",
   "metadata": {},
   "outputs": [
    {
     "name": "stdout",
     "output_type": "stream",
     "text": [
      "N is 1024\n"
     ]
    }
   ],
   "source": [
    "fout=open(\"prob8_output.dat\",\"rb\")\n",
    "\n",
    "# Read value N\n",
    "N = fromfile(fout,dtype=int32,count=1)[0]\n",
    "\n",
    "fout.close()\n",
    "print(f\"N is {N:d}\")\n",
    "\n",
    "# TODO : Build a  Numpy `dtype`.  Use \"N\" read in above. \n",
    "dt = dtype([('N',int32), \\\n",
    "            ('a',float64),\\\n",
    "            ('b',float64),\\\n",
    "            ('C',(float64,N+1)),\\\n",
    "           ('S',(float64,N+1))])\n",
    "\n",
    "\n",
    "# TODO : Read data (include 'N' again).  \n",
    "\n",
    "# read data from file\n",
    "fout = open('prob8_output.dat','rb')\n",
    "N,a,b,C,S = fromfile(fout,dtype=dt,count=1)[0]\n",
    "fout.close()"
   ]
  },
  {
   "cell_type": "markdown",
   "id": "8e2f7b8f",
   "metadata": {},
   "source": [
    "#### Check file size"
   ]
  },
  {
   "cell_type": "code",
   "execution_count": 43,
   "id": "6ddc7785",
   "metadata": {},
   "outputs": [
    {
     "name": "stdout",
     "output_type": "stream",
     "text": [
      "File size          : 16420 bytes\n",
      "Expected file size : 16420 bytes\n",
      "\n",
      "Actual size and expected size match!\n"
     ]
    }
   ],
   "source": [
    "# Check file size\n",
    "import os\n",
    "\n",
    "stats = os.stat(\"prob8_output.dat\")\n",
    "actual_size = stats.st_size\n",
    "print(f\"File size          : {actual_size:d} bytes\")\n",
    "\n",
    "fout = open(\"prob8_output.dat\",\"rb\")\n",
    "N = fromfile(fout,dtype=int32, count=1)[0]\n",
    "fout.close()\n",
    "\n",
    "expected_size = 2*(N+1)*8 + 2*8 + 4\n",
    "print(f\"Expected file size : {expected_size:d} bytes\")\n",
    "\n",
    "print(\"\")\n",
    "if expected_size == actual_size:    \n",
    "    print(\"Actual size and expected size match!\")\n",
    "else:\n",
    "    print(\"Something went wrong : File sizes differ\")"
   ]
  },
  {
   "cell_type": "markdown",
   "id": "552744c7",
   "metadata": {},
   "source": [
    "#### Plot the Euler Spiral! "
   ]
  },
  {
   "cell_type": "code",
   "execution_count": 44,
   "id": "9ab7b76e",
   "metadata": {},
   "outputs": [],
   "source": [
    "from matplotlib.pyplot import *"
   ]
  },
  {
   "cell_type": "code",
   "execution_count": 45,
   "id": "f1a37851",
   "metadata": {},
   "outputs": [
    {
     "data": {
      "image/png": "[encoded data removed]",
      "text/plain": [
       "<Figure size 432x288 with 1 Axes>"
      ]
     },
     "metadata": {
      "needs_background": "light"
     },
     "output_type": "display_data"
    }
   ],
   "source": [
    "figure(2)\n",
    "clf()\n",
    "\n",
    "# TODO : Plot a spiral\n",
    "plot(C,S,\"r\")\n",
    "gca().set_aspect('equal');"
   ]
  },
  {
   "cell_type": "code",
   "execution_count": null,
   "id": "8d3732bd",
   "metadata": {},
   "outputs": [],
   "source": []
  }
 ],
 "metadata": {
  "kernelspec": {
   "display_name": "ipykernel",
   "language": "python",
   "name": "python3"
  },
  "language_info": {
   "codemirror_mode": {
    "name": "ipython",
    "version": 3
   },
   "file_extension": ".py",
   "mimetype": "text/x-python",
   "name": "python",
   "nbconvert_exporter": "python",
   "pygments_lexer": "ipython3",
   "version": "3.9.12"
  }
 },
 "nbformat": 4,
 "nbformat_minor": 5
}

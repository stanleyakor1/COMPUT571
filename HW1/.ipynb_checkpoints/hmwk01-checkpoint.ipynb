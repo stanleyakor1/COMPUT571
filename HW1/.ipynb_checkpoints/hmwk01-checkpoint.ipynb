{
 "cells": [
  {
   "cell_type": "markdown",
   "id": "44c7ceee",
   "metadata": {},
   "source": [
    "<hr style=\"border-width:4px; border-color:coral\"></hr>\n",
    "\n",
    "# Homework #1\n",
    "\n",
    "<hr style=\"border-width:4px; border-color:coral\"></hr>\n",
    "\n",
    "This home will give you practice using the Python Multiprocessing module.  \n",
    "\n",
    "* Use Pipes to communicate between processes\n",
    "\n",
    "* Learn about timing and efficiency\n",
    "\n",
    "**Note:** 471 students may do the extra 571 problems for extra credit. \n"
   ]
  },
  {
   "cell_type": "code",
   "execution_count": 1,
   "id": "61108177",
   "metadata": {},
   "outputs": [],
   "source": [
    "import multiprocessing as mp"
   ]
  },
  {
   "cell_type": "markdown",
   "id": "db8e7f55",
   "metadata": {},
   "source": [
    "## Problem 1  : Pipe chain\n",
    "\n",
    "<hr style=\"border-width:4px; border-color:coral\"></hr>\n",
    "\n",
    "In this problem, you will chain together multiple pipes, end-to-end, and send a message down the chain.  The pipes will be connected by processes, or \"links\".  \n",
    "\n",
    "### To Do\n",
    "\n",
    "* Create $N$ links (processes) and $N+1$ pipes.\n",
    "\n",
    "\n",
    "* Connect the $N$ links using pipes, laid out end-to-end, so that each link is connected by two pipes. \n",
    "\n",
    "\n",
    "* From the main process, send the value $n=0$ through the first pipe, which will then send it down the chain. Each link that receives the value should increment $n$ by 1 and send the value along down the next pipe. \n",
    "\n",
    "\n",
    "* The main process should then receive the final value of $n$ from the last pipe in the chain. \n",
    "\n",
    "Run your code for $N=32$ and report the value of $n$ after you have run your code. \n",
    "\n",
    "### Tips\n",
    "\n",
    "* Use a loop to create the pipes and links, and to connect the pipes. \n"
   ]
  },
  {
   "cell_type": "code",
   "execution_count": null,
   "id": "5d6d574e",
   "metadata": {},
   "outputs": [],
   "source": [
    "# Problem 1 : Pipe chain"
   ]
  },
  {
   "cell_type": "markdown",
   "id": "90972b9f",
   "metadata": {},
   "source": [
    "## Problem 2  : Ping-Pong\n",
    "\n",
    "<hr style=\"border-width:4px; border-color:coral\"></hr>\n",
    "\n",
    "In this problem, you will simulate a game of ping-pong between two processes.  Each process, or \"player\" will receive the ping-pong ball, and then send it back to other player.  \n",
    "\n",
    "### To Do\n",
    "\n",
    "* Create two processes (or \"players\") and a single pipe. \n",
    "\n",
    "* Use the pipe to connect the two players. \n",
    "\n",
    "* One player is designated to start the game.  \n",
    "\n",
    "* Each player, will, in turn, receive the ball, and then return the ball to the other player. \n",
    "\n",
    "* The ping-pong game will stop when a maximum number of balls have been hit. \n",
    "\n",
    "* Allow an observer to \"watch\" the game. \n",
    "\n",
    "* End the game with a message, e.g. \"Thanks for playing!\". \n",
    "\n",
    "Run your code for 8 back-and-forth hits.  End the game \n",
    "\n",
    "### Tips\n",
    "\n",
    "* Use a counter to  keep track of each return.  Count the first \"serve\" from the player designated to start the game as a hit.   Pass the counter variable between the players. \n",
    "\n",
    "* Allow an observer to watch the game by putting print statements in the player process.  \n",
    "\n",
    "* Configure the `name` of the player processes with useful names, .e.g. \"Player 1\", \"Player 2\".  \n",
    "\n",
    "* Use variables names that are suggestive of what the variable does.  For example, name your processes \"player1\" and \"player2\".  "
   ]
  },
  {
   "cell_type": "code",
   "execution_count": 1,
   "id": "51dadb61",
   "metadata": {},
   "outputs": [],
   "source": [
    "# Problem 2 : Ping-pong"
   ]
  },
  {
   "cell_type": "markdown",
   "id": "c3e1bb5f",
   "metadata": {},
   "source": [
    "<hr style=\"border-width:4px; border-color:coral\"></hr>\n",
    "\n",
    "## Problem 3  :  Data\n",
    "\n",
    "<hr style=\"border-width:4px; border-color:coral\"></hr>\n",
    "\n",
    "In this problem, you will write a function `mp_mean` which computes the average of an array of numbers.  To compute the mean, you will use the idea that we can pass chunks of the data to individual processes.  These processes will add up the numbers in their chunk, and pass the sum back to a main process to collect the sums and compute the mean.  \n",
    "\n",
    "A goal of this problem is to determine whether we can improve upon the sum available in Python by computing many sums on separate processes. \n",
    "\n",
    "### To do\n",
    "\n",
    "* Create an Python list of $N$ random numbers in the interal $[0,1]$. \n",
    "\n",
    "* Write a function `mp_mean` that computes the mean of the data using $p$ multiprocesses.  \n",
    "* Use your function to compute the mean of your data.  Your result should be identical to the result produced from the Python `mean` function.\n",
    "\n",
    "* Time the function for $p = 1, 2, 4, 8$ processes. \n",
    "\n",
    "Run your job for $N=2^12 = 4096$.  \n",
    "\n",
    "### Tips\n",
    "\n",
    "* Create a pipe for each of the $p$ processes.  \n",
    "\n",
    "* Use a pipes to sends chunks of the data array `data[m*i:m*(i+1)]`, $m = N/p$ to each of the $p$ processes. \n",
    "\n",
    "* In target process, receive the data from the pipe, compute the sum, and pass the sum back to the main process. \n",
    "\n",
    "* In the main processes, accumulate the sums from each process and compute the mean of the data. \n"
   ]
  },
  {
   "cell_type": "code",
   "execution_count": 17,
   "id": "150759ca",
   "metadata": {},
   "outputs": [],
   "source": [
    "# Problem 3\n",
    "\n",
    "def serial_mean(data):\n",
    "    N = len(data)\n",
    "    return sum(data)/N\n",
    "\n",
    "def mp_mean(data,p=4):\n",
    "    N = len(data)\n",
    "    m = N//p     \n",
    "    assert p*m == N, \"Length of data array should be divisible by p\"\n",
    "\n",
    "    # TODO : Create target process to sum data\n",
    "    def adder(args):\n",
    "        # Do something here\n",
    "        pass\n",
    "    \n",
    "    # TODO : Create p pipes\n",
    "    \n",
    "    # TODO : Launch p processes, each with a pipe to the main process.  Use target=adder.\n",
    "    \n",
    "    # TODO : Send p chunks of data through the pipes to each process\n",
    "    \n",
    "    # TODO : Receive and accumulate the sums computed from each process\n",
    "    \n",
    "    # TODO : Compute the mean \n",
    "    \n",
    "    a = serial_mean(data)   # replace this with work above\n",
    "    return a\n",
    "    \n"
   ]
  },
  {
   "cell_type": "code",
   "execution_count": 18,
   "id": "b1b52cf3",
   "metadata": {},
   "outputs": [
    {
     "name": "stdout",
     "output_type": "stream",
     "text": [
      "Sum is       : 0.5028539603433133\n",
      "Expected sum : 0.5028539603433133\n"
     ]
    }
   ],
   "source": [
    "import random\n",
    "\n",
    "N = 2**12    # 2**12\n",
    "data = [random.random() for i in range(N)]\n",
    "\n",
    "# Mean computed using MP (should be identical to true mean below)\n",
    "data_mean = mp_mean(data,p=1)\n",
    "print(f\"Sum is       : {data_mean}\")    \n",
    "\n",
    "# True mean \n",
    "mean_true = serial_mean(data)\n",
    "print(f\"Expected sum : {mean_true}\")"
   ]
  },
  {
   "cell_type": "markdown",
   "id": "e189a24f",
   "metadata": {},
   "source": [
    "### Timing results"
   ]
  },
  {
   "cell_type": "code",
   "execution_count": 27,
   "id": "cfaba1bf",
   "metadata": {},
   "outputs": [
    {
     "name": "stdout",
     "output_type": "stream",
     "text": [
      "The slowest run took 14.33 times longer than the fastest. This could mean that an intermediate result is being cached.\n",
      "96.3 µs ± 146 µs per loop (mean ± std. dev. of 10 runs, 5 loops each)\n",
      "Best time : 0.0369 (ms)\n"
     ]
    }
   ],
   "source": [
    "# Time the non-parallel mean \n",
    "results = %timeit -r 10 -n 5 -o mean_true = serial_mean(data)\n",
    "print(\"Best time : {:.4f} (ms)\".format(results.best*1000))"
   ]
  },
  {
   "cell_type": "code",
   "execution_count": 28,
   "id": "7f15a6b4",
   "metadata": {},
   "outputs": [
    {
     "name": "stdout",
     "output_type": "stream",
     "text": [
      "15.6 µs ± 219 ns per loop (mean ± std. dev. of 10 runs, 5 loops each)\n",
      "Best time : 0.0154 (ms)\n"
     ]
    }
   ],
   "source": [
    "results = %timeit -r 10 -n 5 -o  data_mean = mp_mean(data,p=1)    \n",
    "print(\"Best time : {:.4f} (ms)\".format(results.best*1000))        "
   ]
  },
  {
   "cell_type": "markdown",
   "id": "1a147e8f",
   "metadata": {},
   "source": [
    "### Question\n",
    "\n",
    "What do you observe about your timing results found above?  Is there a benefit to using multiprocessing to compute the mean? Why or why not? \n",
    "\n",
    "*answer the question here*"
   ]
  },
  {
   "cell_type": "markdown",
   "id": "249402b1",
   "metadata": {},
   "source": [
    "<hr style=\"border-width:4px; border-color:coral\"></hr>\n",
    "\n",
    "## Problem 3  :  Timing results (571)\n",
    "\n",
    "<hr style=\"border-width:4px; border-color:coral\"></hr>\n",
    "\n",
    "Explain in more detail the timing results you found above.  \n",
    "\n",
    "* Read the notebook \"01_Multiprocessing\" to understand *latency*, *weak scaling* and *efficiency*\n",
    "\n",
    "* Describe your timing results in terms of *latency*.  \n",
    "\n",
    "    - Compute latency by creating a function `mp_noop` that does nothing, i.e. doesn't pass any data to target processs, and doesn't compute a mean.  Time this `mp_noop` routine.  How does the timing compare to what you get with your `mp_mean` function? \n",
    "    \n",
    "    - What is the latency associated with passing data through pipes to the target processes? \n",
    "\n",
    "\n",
    "* How would you design an experiment to test the \"weak scaling* and \"efficiency*? \n",
    "\n",
    "     - Is it very efficient to use multiprocessing, can you pinpoint the source of inefficiency?  \n",
    "\n",
    "\n",
    "* How does your `mp_mean` scale with the length of the data array?  Experiment with different data array lengths (e.g. $N=32, N=256, N=2^{15}$) and determine the effect that data size has on the timing results, for a fixed number of processors. \n",
    "\n",
    "* Create a few plots of timing results to illustrate your points. "
   ]
  },
  {
   "cell_type": "markdown",
   "id": "960bd180",
   "metadata": {},
   "source": [
    "(*Explain your answer here*).  "
   ]
  }
 ],
 "metadata": {
  "kernelspec": {
   "display_name": "ipykernel",
   "language": "python",
   "name": "python3"
  },
  "language_info": {
   "codemirror_mode": {
    "name": "ipython",
    "version": 3
   },
   "file_extension": ".py",
   "mimetype": "text/x-python",
   "name": "python",
   "nbconvert_exporter": "python",
   "pygments_lexer": "ipython3",
   "version": "3.9.12"
  }
 },
 "nbformat": 4,
 "nbformat_minor": 5
}

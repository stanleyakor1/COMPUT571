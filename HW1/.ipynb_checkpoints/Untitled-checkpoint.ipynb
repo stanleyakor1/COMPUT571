{
 "cells": [
  {
   "cell_type": "code",
   "execution_count": 1,
   "id": "fb387808",
   "metadata": {},
   "outputs": [],
   "source": [
    "from sys import *\n",
    "from time import sleep\n",
    "import multiprocessing as mp\n",
    "mp.set_start_method('fork')"
   ]
  },
  {
   "cell_type": "code",
   "execution_count": 2,
   "id": "62e195f9",
   "metadata": {},
   "outputs": [
    {
     "name": "stdout",
     "output_type": "stream",
     "text": [
      "32\n"
     ]
    }
   ],
   "source": [
    "def link(pipe_in, pipe_out):\n",
    "    n = pipe_in.recv()\n",
    "    n += 1\n",
    "    pipe_out.send(n)\n",
    "    \n",
    "N=32\n",
    "Pipes=[mp.Pipe() for i in range(N+1)]\n",
    "\n",
    "Pipes[0][0].send(0)\n",
    "\n",
    "Jobs=[]\n",
    "for i in range(N):  \n",
    "    proc=mp.Process(target=link,args=(Pipes[i][1], Pipes[i+1][0]))\n",
    "    proc.start()\n",
    "    Jobs.append(proc)\n",
    "for job in Jobs:\n",
    "    job.join()\n",
    "\n",
    "    \n",
    "final_value = Pipes[N][1].recv()\n",
    "print(final_value)"
   ]
  },
  {
   "cell_type": "code",
   "execution_count": 3,
   "id": "2c3e13be",
   "metadata": {},
   "outputs": [
    {
     "name": "stdout",
     "output_type": "stream",
     "text": [
      "First player serve\n",
      "Second player hit \n",
      "\n",
      "First player hit\n",
      "Second player hit \n",
      "\n",
      "First player hit\n",
      "Second player hit \n",
      "\n",
      "First player hit\n",
      "Second player hit \n",
      "\n",
      "First player hit\n",
      "Second player hit \n",
      "\n",
      "First player hit\n",
      "Second player hit \n",
      "\n",
      "First player hit\n",
      "Second player hit \n",
      "\n",
      "First player hit\n",
      "Second player hit \n",
      "\n",
      "Thanks for playing! \n",
      "\n"
     ]
    }
   ],
   "source": [
    "def play(connection, value):\n",
    "   \n",
    "    if value==0:\n",
    "        print('First player serve')\n",
    "        sleep(1)\n",
    "    else:\n",
    "        print(f'First player hit')\n",
    "        sleep(1)\n",
    "        \n",
    "    value +=1\n",
    "    \n",
    "    connection.send(value)\n",
    "\n",
    "def pingpong(connection, serve):\n",
    "    \n",
    "    if serve:\n",
    "        play(connection, 0)\n",
    "\n",
    "    while True:\n",
    "        value = connection.recv()\n",
    "        print(f'Second player hit \\n')\n",
    "       \n",
    "\n",
    "        \n",
    "        if value ==8:\n",
    "\n",
    "            break\n",
    "        play(connection, value)\n",
    "\n",
    "    print(\"Thanks for playing! \\n\")\n",
    "   \n",
    "conn1, conn2 = mp.Pipe()\n",
    "   \n",
    "player1 = mp.Process(target=pingpong, args=(conn1,True))\n",
    "player2 = mp.Process(target=pingpong, args=(conn2,False))\n",
    "   \n",
    "player1.start()\n",
    "player2.start()\n",
    "    \n",
    "player1.join()"
   ]
  },
  {
   "cell_type": "code",
   "execution_count": null,
   "id": "e62609e6",
   "metadata": {},
   "outputs": [],
   "source": []
  }
 ],
 "metadata": {
  "kernelspec": {
   "display_name": "ipykernel",
   "language": "python",
   "name": "python3"
  },
  "language_info": {
   "codemirror_mode": {
    "name": "ipython",
    "version": 3
   },
   "file_extension": ".py",
   "mimetype": "text/x-python",
   "name": "python",
   "nbconvert_exporter": "python",
   "pygments_lexer": "ipython3",
   "version": "3.9.12"
  }
 },
 "nbformat": 4,
 "nbformat_minor": 5
}

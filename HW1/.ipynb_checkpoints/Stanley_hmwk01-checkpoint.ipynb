{
 "cells": [
  {
   "cell_type": "markdown",
   "id": "33f1f05c",
   "metadata": {},
   "source": [
    "<hr style=\"border-width:4px; border-color:coral\"></hr>\n",
    "\n",
    "# Homework #1\n",
    "\n",
    "<hr style=\"border-width:4px; border-color:coral\"></hr>\n",
    "\n",
    "This home will give you practice using the Python Multiprocessing module.  \n",
    "\n",
    "* Learn about using pipes to communicate between Python processes\n",
    "\n",
    "* Learn about timing and efficiency\n",
    "\n",
    "**Note:** 471 students may do the extra 571 problems for extra credit. \n"
   ]
  },
  {
   "cell_type": "code",
   "execution_count": 3,
   "id": "f52c528e",
   "metadata": {},
   "outputs": [],
   "source": [
    "import multiprocessing as mp\n",
    "from time import sleep\n",
    "mp.set_start_method('fork')"
   ]
  },
  {
   "cell_type": "markdown",
   "id": "f8249665",
   "metadata": {},
   "source": [
    "## Problem 1  : Pipe chain\n",
    "\n",
    "<hr style=\"border-width:4px; border-color:coral\"></hr>\n",
    "\n",
    "In this problem, you will chain together multiple pipes, end-to-end, and send a message down the chain.  The pipes will be connected by processes, or \"links\".  \n",
    "\n",
    "### To Do\n",
    "\n",
    "* Create $N$ links (processes) and $N+1$ pipes.\n",
    "\n",
    "\n",
    "* Connect the $N$ links using pipes, laid out end-to-end, so that each link is connected to two pipes. \n",
    "\n",
    "\n",
    "* From the main process, send the value $n=0$ through the first pipe.  The first link will receive this value, increment the value by 1, and then send the new value through the second pipe.  In this way, send $n$ down the chain. \n",
    "\n",
    "\n",
    "* The main process should then receive the final value of $n$ from the last pipe in the chain. \n",
    "\n",
    "\n",
    "* Report the value of $n$ from the final pipe.  \n",
    "\n",
    "Run your code for $N=32$ and report the value of $n$ after you have run your code. \n",
    "\n",
    "### Tips\n",
    "\n",
    "* Use a loop to create the pipes and links, and to connect the pipes. \n"
   ]
  },
  {
   "cell_type": "code",
   "execution_count": 4,
   "id": "e956792e",
   "metadata": {},
   "outputs": [],
   "source": [
    "# Problem 1 : Pipe chain"
   ]
  },
  {
   "cell_type": "markdown",
   "id": "538ce0bd",
   "metadata": {},
   "source": [
    "## Problem 2  : Ping-Pong\n",
    "\n",
    "<hr style=\"border-width:4px; border-color:coral\"></hr>\n",
    "\n",
    "In this problem, you will simulate a game of ping-pong between two processes.  Each process, or \"player\" will receive the ping-pong ball, and then send it back to other player.  \n",
    "\n",
    "### To Do\n",
    "\n",
    "* Create two processes (or \"players\") and a single pipe. \n",
    "\n",
    "* Use the pipe to connect the two players. \n",
    "\n",
    "* One player is designated to start the game.  \n",
    "\n",
    "* Each player, will, in turn, receive the ball, and then return the ball to the other player. \n",
    "\n",
    "* The ping-pong game will stop when a maximum number of balls have been hit. \n",
    "\n",
    "* Allow an observer to \"watch\" the game. \n",
    "\n",
    "* End the game with a message, e.g. \"Thanks for playing!\". \n",
    "\n",
    "Run your code for 8 back-and-forth hits. \n",
    "\n",
    "### Tips\n",
    "\n",
    "* Use a counter to  keep track of each return.  Count the first \"serve\" from the player designated to start the game as a hit.   Pass the counter variable between the players. \n",
    "\n",
    "* Allow an observer to watch the game by putting print statements in the player processes.  \n",
    "\n",
    "* Configure the `name` of the player processes with useful names, .e.g. \"Player 1\", \"Player 2\".  \n",
    "\n",
    "* Use variables names that are suggestive of what the variable does.  For example, name your processes \"player1\" and \"player2\".  "
   ]
  },
  {
   "cell_type": "code",
   "execution_count": 5,
   "id": "4a27a034",
   "metadata": {},
   "outputs": [],
   "source": [
    "# Problem 2 : Ping-pong"
   ]
  },
  {
   "cell_type": "markdown",
   "id": "a1a96271",
   "metadata": {},
   "source": [
    "<hr style=\"border-width:4px; border-color:coral\"></hr>\n",
    "\n",
    "## Problem 3  :  Computing a mean\n",
    "\n",
    "<hr style=\"border-width:4px; border-color:coral\"></hr>\n",
    "\n",
    "In this problem, you will write a function `mp_mean` which computes the average of an array of numbers.  To compute the mean, you will pass chunks of the data to individual processes.  These processes will add up the numbers in their chunk, and pass the sum back to a main process.  The main process will collect the sums and compute the mean. \n",
    "\n",
    "A goal of this problem is to determine whether we can improve upon the sum available in Python by computing many smaller sums on separate processes. \n",
    "\n",
    "### To do\n",
    "\n",
    "* Create a Python list of $N$ random numbers in the interval $[0,1]$ (done below). \n",
    "\n",
    "* Write a function `mp_mean` that computes the mean of the data using $p$ multiprocesses.  \n",
    "* Use your function to compute the mean of the numbers in the data array.  Your result should be identical to the result produced without using multiprocessing (see `serial_mean`, below).\n",
    "\n",
    "* Time the function for $p = 1, 2, 4, 8$ processes. \n",
    "\n",
    "* Comment on the timing results you observe.  \n",
    "\n",
    "Run your job for $N=2^{12} = 4096$.   Verify your results and report timing results.\n",
    "\n",
    "### Tips\n",
    "\n",
    "* Create a pipe for each of the $p$ processes.  \n",
    "\n",
    "* Use a pipe to send the data chunk  `data[m*i:m*(i+1)]`, $m = N/p$, to process `i`.  \n",
    "\n",
    "* In the target process, receive the data from the pipe, compute the sum, and pass the sum back to the main process. \n",
    "\n",
    "* In the main process, accumulate the sums from each process and compute the mean of the data. \n"
   ]
  },
  {
   "cell_type": "code",
   "execution_count": 6,
   "id": "062503ea",
   "metadata": {},
   "outputs": [],
   "source": [
    "# Problem 3\n",
    "\n",
    "# \"Serial\" means sum is computed on a single process.\n",
    "def serial_mean(data):\n",
    "    N = len(data)\n",
    "    return sum(data)/N\n",
    "\n",
    "def mp_mean(data,p=4):\n",
    "    N = len(data)\n",
    "    m = N//p     \n",
    "    assert p*m == N, \"Length of data array should be divisible by p\"\n",
    "\n",
    "    # TODO : Create target process to sum data.  This target should be connected to the main\n",
    "    # process using a pipe.\n",
    "    def adder(args):\n",
    "        # Do something here\n",
    "        pass\n",
    "    \n",
    "    # TODO : Create p pipes\n",
    "    \n",
    "    # TODO : Launch p processes, each with a pipe to the main process.  Use target=adder.\n",
    "    \n",
    "    # TODO : Send p chunks of data through the pipes to each process\n",
    "    \n",
    "    # TODO : Receive and accumulate the sums computed from each process\n",
    "    \n",
    "    # TODO : Compute the mean \n",
    "    \n",
    "    a = serial_mean(data)   # replace this with work above\n",
    "    return a\n",
    "    \n"
   ]
  },
  {
   "cell_type": "markdown",
   "id": "f3afc9ea",
   "metadata": {},
   "source": [
    "### Create random data aray"
   ]
  },
  {
   "cell_type": "code",
   "execution_count": 7,
   "id": "983cffe6",
   "metadata": {},
   "outputs": [],
   "source": [
    "import random\n",
    "\n",
    "# Create array of N random numbers in [0,1]\n",
    "N = 2**12    # 2**12\n",
    "data = [random.random() for i in range(N)]"
   ]
  },
  {
   "cell_type": "markdown",
   "id": "33bddfce",
   "metadata": {},
   "source": [
    "### Compute the mean and verify results\n",
    "\n",
    "Run the code below to check that your `mp_mean` is computing the correct value.   Verify your results for $p=1,2,4,8$ processes."
   ]
  },
  {
   "cell_type": "code",
   "execution_count": 8,
   "id": "714e3a58",
   "metadata": {},
   "outputs": [
    {
     "name": "stdout",
     "output_type": "stream",
     "text": [
      "Sum is       : 0.49635587682341714\n",
      "Expected sum : 0.49635587682341714\n"
     ]
    }
   ],
   "source": [
    "# Mean computed using multiprocessing (should be identical to true mean below)\n",
    "data_mean = mp_mean(data,p=1)\n",
    "print(f\"Sum is       : {data_mean}\")    \n",
    "\n",
    "# True mean \n",
    "mean_true = serial_mean(data)\n",
    "print(f\"Expected sum : {mean_true}\")"
   ]
  },
  {
   "cell_type": "markdown",
   "id": "7cb7eadc",
   "metadata": {},
   "source": [
    "### Timing results\n",
    "\n",
    "Below, we use the line-magic command `%timeit` to time the call to `serial_mean` and `mp_mean`.  The results will be printed to the console.  \n",
    "\n",
    "Read more about `timeit` in notebook `00_timeit`, available on the Canvas modules page."
   ]
  },
  {
   "cell_type": "code",
   "execution_count": 9,
   "id": "3f99bd70",
   "metadata": {},
   "outputs": [
    {
     "name": "stdout",
     "output_type": "stream",
     "text": [
      "276 µs ± 13.6 µs per loop (mean ± std. dev. of 10 runs, 5 loops each)\n",
      "Best time : 0.2659 (ms)\n"
     ]
    }
   ],
   "source": [
    "# Time the non-parallel mean \n",
    "results = %timeit -r 10 -n 5 -o mean_true = serial_mean(data)\n",
    "print(\"Best time : {:.4f} (ms)\".format(results.best*1000))"
   ]
  },
  {
   "cell_type": "code",
   "execution_count": 10,
   "id": "3578e84e",
   "metadata": {},
   "outputs": [
    {
     "name": "stdout",
     "output_type": "stream",
     "text": [
      "281 µs ± 10.3 µs per loop (mean ± std. dev. of 10 runs, 5 loops each)\n",
      "Best time : 0.2716 (ms)\n"
     ]
    }
   ],
   "source": [
    "results = %timeit -r 10 -n 5 -o  data_mean = mp_mean(data,p=1)    \n",
    "print(\"Best time : {:.4f} (ms)\".format(results.best*1000))        "
   ]
  },
  {
   "cell_type": "markdown",
   "id": "60103202",
   "metadata": {},
   "source": [
    "### Observations on timing results\n",
    "\n",
    "What do you observe about your timing results found above?  Is there a benefit to using multiprocessing to compute the mean of a large array of numbers? Why or why not? \n",
    "\n",
    "(your answers here). "
   ]
  },
  {
   "cell_type": "markdown",
   "id": "2e6bd4d0",
   "metadata": {},
   "source": [
    "<hr style=\"border-width:4px; border-color:coral\"></hr>\n",
    "\n",
    "## Problem 4  :  Weak scaling and efficiency (571)\n",
    "\n",
    "<hr style=\"border-width:4px; border-color:coral\"></hr>\n",
    "\n",
    "We can verify the \"weak scalability\" of `mp_mean` routine by running the code using $P=1,2,4,8, 16$ process(es) for a data array of length $M=P \\times M_0$ and store the timing results.    If our `mp_mean` routine scales perfectly, the total time should be the same for all five runs, since each process will sum the numbers in a data array of length $M_0$.  However, due to overhead (or \"latency\"), we don't see perfect scaling in practice. \n",
    "\n",
    "We can model the total time $T$ that `mp_mean` will take to run using `P` processes using the equation\n",
    "\n",
    "\\begin{equation}\n",
    "T = T_s + \\alpha P\n",
    "\\end{equation}\n",
    "\n",
    "where $T_s$ is the time to compute the mean of $M_0$ numbers using a serial algorithm (`mean_serial`) and $\\alpha$ is the overhead associated with launching a single process and sending data to the process. \n",
    "\n",
    "Model *efficiency* can then be computed as \n",
    "\n",
    "\\begin{equation}\n",
    "E = \\frac{T_s}{T_s + \\alpha P} \\approx 1 - \\frac{\\alpha P}{T_s}, \\qquad \\frac{\\alpha P}{T_s} \\ll 1\n",
    "\\end{equation}\n",
    "\n",
    "Under the assumption that $\\alpha$ is small relative to $T_s$, we expect $E$ to be close to 1, and our algorithm will be close to 100% efficient. \n",
    "\n",
    "The *latency* $L$ in the system can be modeled as\n",
    "\n",
    "\\begin{equation}\n",
    "L = T-T_s = \\alpha P\n",
    "\\end{equation}\n",
    "\n",
    "In this problem, you will explore the efficiency of the routine `mp_mean`. \n",
    "\n",
    "#### To Do\n",
    "\n",
    "\n",
    "* Run the code below to get an array `T_weak` of timing results for the simulation run on $P=1,2,4,8,16$ processes.  \n",
    "\n",
    "* Compute the time $T_s$ it takes to sum $M_0 = 2^N$ numbers using a serial algorithm (also in code below). To start, choose $M_0 = 2^{20}$. \n",
    "\n",
    "* Plot the *computed* efficiency $E = T_s/T_{weak}$ verses $P$ using timing results in the array `T_weak`.  \n",
    " \n",
    "* Using linear regression, (e.g. Numpy `polyfit`) find paramters $m$ and $C$ for the latency model\n",
    "\n",
    "\\begin{equation}\n",
    "\\log(L) = \\log(T-T_s) =  m\\log(P) + C. \n",
    "\\end{equation}\n",
    "\n",
    "From this, you can obtain $\\alpha$ as $\\alpha = e^C$.   Your slope $m$ should be close to 1. \n",
    "Report the value of $\\alpha$ and a slope $m$ that you get. See the Multiprocessing notebook  for details on how to compute these parameters.  \n",
    "\n",
    "* Plot the *model* efficiency $E=T_s/(T_s + \\alpha P)$ on the same graph as your computed efficiency. \n",
    "\n",
    "* Answer questions below. \n",
    "\n",
    "For both the computed and model efficiencies, you plot should actually plot efficiency as a percentage.  That is, plot $100 E$ in both cases.   Use a *semilogx* plot for both efficiency curves. \n",
    "\n",
    "#### Tips\n",
    "\n",
    "* Start with $M_0 = 2^{20}$. If you can,  push this to $M_0 = 2^{22}$ or $M_0 = 2^{24}$.\n"
   ]
  },
  {
   "cell_type": "code",
   "execution_count": 11,
   "id": "264dd8c5",
   "metadata": {},
   "outputs": [],
   "source": [
    "from matplotlib.pyplot import *\n",
    "from numpy import *"
   ]
  },
  {
   "cell_type": "code",
   "execution_count": 12,
   "id": "e61cb859",
   "metadata": {},
   "outputs": [
    {
     "name": "stdout",
     "output_type": "stream",
     "text": [
      "51.2 ms ± 0 ns per loop (mean ± std. dev. of 1 run, 1 loop each)\n",
      "Best time (P=1) : 51.1665 (ms)\n",
      "\n",
      "116 ms ± 0 ns per loop (mean ± std. dev. of 1 run, 1 loop each)\n",
      "Best time (P=2) : 116.4470 (ms)\n",
      "\n",
      "231 ms ± 0 ns per loop (mean ± std. dev. of 1 run, 1 loop each)\n",
      "Best time (P=4) : 230.7761 (ms)\n",
      "\n",
      "675 ms ± 0 ns per loop (mean ± std. dev. of 1 run, 1 loop each)\n",
      "Best time (P=8) : 675.2810 (ms)\n",
      "\n",
      "914 ms ± 0 ns per loop (mean ± std. dev. of 1 run, 1 loop each)\n",
      "Best time (P=16) : 914.2121 (ms)\n",
      "\n",
      "T_weak array : \n",
      "[ 51.16653  116.447023 230.776069 675.280982 914.212147]\n"
     ]
    }
   ],
   "source": [
    "def weak_timing(M0,P):\n",
    "    M = P*M0\n",
    "    data = [random.random() for i in range(M)]\n",
    "    results = %timeit -r 1 -n 1 -o  data_mean = mp_mean(data,p=P)   \n",
    "    T = 1000*results.best\n",
    "    return T\n",
    "\n",
    "M0 = 2**20    # Push this to 2**20 or 2**24, if you can \n",
    "\n",
    "P = array([1,2,4,8,16])  # Processor count\n",
    "T_weak = empty(P.shape)\n",
    "for i in range(len(P)):\n",
    "    T_weak[i] = weak_timing(M0,P[i])\n",
    "    print(\"Best time (P={:d}) : {:.4f} (ms)\".format(P[i],T_weak[i]))\n",
    "    print(\"\")\n",
    "    \n",
    "print(\"T_weak array : \")    \n",
    "print(T_weak)    "
   ]
  },
  {
   "cell_type": "markdown",
   "id": "3655dc0d",
   "metadata": {},
   "source": [
    "Time the serial code to compute $T_s$. "
   ]
  },
  {
   "cell_type": "code",
   "execution_count": null,
   "id": "cf639f99",
   "metadata": {},
   "outputs": [],
   "source": [
    "# Run serial routine to compute Ts\n",
    "data = [random.random() for i in range(M0)]\n",
    "results = %timeit -r 5 -n 5 -o mean_true = serial_mean(data)\n",
    "\n",
    "print(\"Best time (Ts) : {:.4f} (ms)\".format(results.best*1000))\n",
    "print(\"\")\n",
    "\n",
    "Ts = results.best*1000\n",
    "\n",
    "print(f\"Ts = {Ts:.2f} (ms)\")"
   ]
  },
  {
   "cell_type": "code",
   "execution_count": null,
   "id": "518af3cb",
   "metadata": {},
   "outputs": [],
   "source": [
    "# Approximate alpha using linear regression\n",
    "\n",
    "# ...."
   ]
  },
  {
   "cell_type": "markdown",
   "id": "7e5e040b",
   "metadata": {},
   "source": [
    "#### Efficiency plots"
   ]
  },
  {
   "cell_type": "code",
   "execution_count": null,
   "id": "0e230907",
   "metadata": {},
   "outputs": [],
   "source": [
    "figure(1)\n",
    "clf()\n",
    "\n",
    "\n",
    "# Computed efficiency \n",
    "E = Ts/T_weak    \n",
    "semilogx(P,100*E,'r.-',ms=10,label='Computed efficiency')\n",
    "\n",
    "\n",
    "# TODO : Model efficiency\n",
    "\n",
    "\n",
    "# Make nice tick marks\n",
    "pstr = ([f'{p}' for p in P])\n",
    "xticks(P,pstr)\n",
    "\n",
    "title(r'Efficiency')\n",
    "xlabel('P (processor count)')\n",
    "ylabel('Efficency (%)')\n",
    "\n",
    "ylim([-10,110])\n",
    "legend()\n",
    "\n",
    "grid();"
   ]
  },
  {
   "cell_type": "markdown",
   "id": "e3faef74",
   "metadata": {},
   "source": [
    "### Questions\n",
    "<hr style=\"border-width:2px; border-color:black\"></hr>\n",
    "\n",
    "* Comment on the \"efficiency\" of the `mp_mean` routine when run on multiple processes.  Is the routine `mp_mean` *efficient* ? \n",
    "\n",
    "* As the size of the data array increases, we expect $T_s$ to increase.   Does this mean that `mp_mean` is more efficient for larger data arrays?  **Hint:** The latency parameter $\\alpha$ depends on the size of the data array (Why?)  Can we always assume that $\\alpha P/T_s$ is \"small\" (e.g. less than 1)?  \n",
    "\n",
    "### Answer\n",
    "\n",
    "(your answers here) \n",
    "..."
   ]
  },
  {
   "cell_type": "code",
   "execution_count": null,
   "id": "0cf4b9c1",
   "metadata": {},
   "outputs": [],
   "source": []
  }
 ],
 "metadata": {
  "kernelspec": {
   "display_name": "ipykernel",
   "language": "python",
   "name": "python3"
  },
  "language_info": {
   "codemirror_mode": {
    "name": "ipython",
    "version": 3
   },
   "file_extension": ".py",
   "mimetype": "text/x-python",
   "name": "python",
   "nbconvert_exporter": "python",
   "pygments_lexer": "ipython3",
   "version": "3.9.12"
  }
 },
 "nbformat": 4,
 "nbformat_minor": 5
}

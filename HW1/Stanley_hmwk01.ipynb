{
 "cells": [
  {
   "cell_type": "markdown",
   "id": "33f1f05c",
   "metadata": {},
   "source": [
    "<hr style=\"border-width:4px; border-color:coral\"></hr>\n",
    "\n",
    "# Homework #1\n",
    "\n",
    "<hr style=\"border-width:4px; border-color:coral\"></hr>\n",
    "\n",
    "This home will give you practice using the Python Multiprocessing module.  \n",
    "\n",
    "* Learn about using pipes to communicate between Python processes\n",
    "\n",
    "* Learn about timing and efficiency\n",
    "\n",
    "**Note:** 471 students may do the extra 571 problems for extra credit. \n"
   ]
  },
  {
   "cell_type": "code",
   "execution_count": 1,
   "id": "f52c528e",
   "metadata": {},
   "outputs": [],
   "source": [
    "import multiprocessing as mp\n",
    "from time import sleep\n",
    "mp.set_start_method('fork')\n",
    "from matplotlib.pyplot import *\n",
    "from numpy import *\n",
    "import random\n"
   ]
  },
  {
   "cell_type": "code",
   "execution_count": null,
   "id": "4a2fde60",
   "metadata": {},
   "outputs": [],
   "source": []
  },
  {
   "cell_type": "markdown",
   "id": "f8249665",
   "metadata": {},
   "source": [
    "## Problem 1  : Pipe chain\n",
    "\n",
    "<hr style=\"border-width:4px; border-color:coral\"></hr>\n",
    "\n",
    "In this problem, you will chain together multiple pipes, end-to-end, and send a message down the chain.  The pipes will be connected by processes, or \"links\".  \n",
    "\n",
    "### To Do\n",
    "\n",
    "* Create $N$ links (processes) and $N+1$ pipes.\n",
    "\n",
    "\n",
    "* Connect the $N$ links using pipes, laid out end-to-end, so that each link is connected to two pipes. \n",
    "\n",
    "\n",
    "* From the main process, send the value $n=0$ through the first pipe.  The first link will receive this value, increment the value by 1, and then send the new value through the second pipe.  In this way, send $n$ down the chain. \n",
    "\n",
    "\n",
    "* The main process should then receive the final value of $n$ from the last pipe in the chain. \n",
    "\n",
    "\n",
    "* Report the value of $n$ from the final pipe.  \n",
    "\n",
    "Run your code for $N=32$ and report the value of $n$ after you have run your code. \n",
    "\n",
    "### Tips\n",
    "\n",
    "* Use a loop to create the pipes and links, and to connect the pipes. \n"
   ]
  },
  {
   "cell_type": "code",
   "execution_count": 2,
   "id": "e956792e",
   "metadata": {},
   "outputs": [
    {
     "name": "stdout",
     "output_type": "stream",
     "text": [
      "32\n"
     ]
    }
   ],
   "source": [
    "# Problem 1 : Pipe chain\n",
    "\n",
    "def link(pipe_in, pipe_out):\n",
    "    n = pipe_in.recv()\n",
    "    n += 1\n",
    "    pipe_out.send(n)\n",
    "    \n",
    "N=32\n",
    "Pipes=[mp.Pipe() for i in range(N+1)]\n",
    "\n",
    "Pipes[0][0].send(0)\n",
    "\n",
    "Jobs=[]\n",
    "for i in range(N):  \n",
    "    proc=mp.Process(target=link,args=(Pipes[i][1], Pipes[i+1][0]))\n",
    "    proc.start()\n",
    "    Jobs.append(proc)\n",
    "for job in Jobs:\n",
    "    job.join()\n",
    "\n",
    "    \n",
    "final_value = Pipes[N][1].recv()\n",
    "print(final_value)"
   ]
  },
  {
   "cell_type": "markdown",
   "id": "538ce0bd",
   "metadata": {},
   "source": [
    "## Problem 2  : Ping-Pong\n",
    "\n",
    "<hr style=\"border-width:4px; border-color:coral\"></hr>\n",
    "\n",
    "In this problem, you will simulate a game of ping-pong between two processes.  Each process, or \"player\" will receive the ping-pong ball, and then send it back to other player.  \n",
    "\n",
    "### To Do\n",
    "\n",
    "* Create two processes (or \"players\") and a single pipe. \n",
    "\n",
    "* Use the pipe to connect the two players. \n",
    "\n",
    "* One player is designated to start the game.  \n",
    "\n",
    "* Each player, will, in turn, receive the ball, and then return the ball to the other player. \n",
    "\n",
    "* The ping-pong game will stop when a maximum number of balls have been hit. \n",
    "\n",
    "* Allow an observer to \"watch\" the game. \n",
    "\n",
    "* End the game with a message, e.g. \"Thanks for playing!\". \n",
    "\n",
    "Run your code for 8 back-and-forth hits. \n",
    "\n",
    "### Tips\n",
    "\n",
    "* Use a counter to  keep track of each return.  Count the first \"serve\" from the player designated to start the game as a hit.   Pass the counter variable between the players. \n",
    "\n",
    "* Allow an observer to watch the game by putting print statements in the player processes.  \n",
    "\n",
    "* Configure the `name` of the player processes with useful names, .e.g. \"Player 1\", \"Player 2\".  \n",
    "\n",
    "* Use variables names that are suggestive of what the variable does.  For example, name your processes \"player1\" and \"player2\".  "
   ]
  },
  {
   "cell_type": "code",
   "execution_count": 3,
   "id": "4a27a034",
   "metadata": {},
   "outputs": [
    {
     "name": "stdout",
     "output_type": "stream",
     "text": [
      "Player 1 serve\n",
      "Player 2 hit \n",
      "\n",
      "Player 1 hit\n",
      "Player 2 hit \n",
      "\n",
      "Player 1 hit\n",
      "Player 2 hit \n",
      "\n",
      "Player 1 hit\n",
      "Player 2 hit \n",
      "\n",
      "Thanks for playing! \n",
      "\n"
     ]
    }
   ],
   "source": [
    "# Problem 2 : Ping-pong\n",
    "\n",
    "\n",
    "def play(connection, value):\n",
    "   \n",
    "    if value==0:\n",
    "        print('Player 1 serve')\n",
    "        sleep(1.5)\n",
    "    else:\n",
    "        print('Player 1 hit')\n",
    "        sleep(1.5)\n",
    "        \n",
    "    value +=1\n",
    "    \n",
    "    connection.send(value)\n",
    "\n",
    "def pingpong(connection, serve):\n",
    "    \n",
    "    if serve:\n",
    "        play(connection, 0)\n",
    "\n",
    "    while True:\n",
    "        value = connection.recv()\n",
    "        value+=1\n",
    "        print(f'Player 2 hit \\n')\n",
    "       \n",
    "\n",
    "        \n",
    "        if value ==8:\n",
    "\n",
    "            break\n",
    "        play(connection, value)\n",
    "\n",
    "    print(\"Thanks for playing! \\n\")\n",
    "   \n",
    "conR, conS = mp.Pipe()\n",
    "   \n",
    "player1 = mp.Process(target=pingpong, args=(conR,True))\n",
    "player2 = mp.Process(target=pingpong, args=(conS,False))\n",
    "   \n",
    "player1.start()\n",
    "player2.start()\n",
    "    \n",
    "player1.join()"
   ]
  },
  {
   "cell_type": "markdown",
   "id": "a1a96271",
   "metadata": {},
   "source": [
    "<hr style=\"border-width:4px; border-color:coral\"></hr>\n",
    "\n",
    "## Problem 3  :  Computing a mean\n",
    "\n",
    "<hr style=\"border-width:4px; border-color:coral\"></hr>\n",
    "\n",
    "In this problem, you will write a function `mp_mean` which computes the average of an array of numbers.  To compute the mean, you will pass chunks of the data to individual processes.  These processes will add up the numbers in their chunk, and pass the sum back to a main process.  The main process will collect the sums and compute the mean. \n",
    "\n",
    "A goal of this problem is to determine whether we can improve upon the sum available in Python by computing many smaller sums on separate processes. \n",
    "\n",
    "### To do\n",
    "\n",
    "* Create a Python list of $N$ random numbers in the interval $[0,1]$ (done below). \n",
    "\n",
    "* Write a function `mp_mean` that computes the mean of the data using $p$ multiprocesses.  \n",
    "* Use your function to compute the mean of the numbers in the data array.  Your result should be identical to the result produced without using multiprocessing (see `serial_mean`, below).\n",
    "\n",
    "* Time the function for $p = 1, 2, 4, 8$ processes. \n",
    "\n",
    "* Comment on the timing results you observe.  \n",
    "\n",
    "Run your job for $N=2^{12} = 4096$.   Verify your results and report timing results.\n",
    "\n",
    "### Tips\n",
    "\n",
    "* Create a pipe for each of the $p$ processes.  \n",
    "\n",
    "* Use a pipe to send the data chunk  `data[m*i:m*(i+1)]`, $m = N/p$, to process `i`.  \n",
    "\n",
    "* In the target process, receive the data from the pipe, compute the sum, and pass the sum back to the main process. \n",
    "\n",
    "* In the main process, accumulate the sums from each process and compute the mean of the data. \n"
   ]
  },
  {
   "cell_type": "code",
   "execution_count": 4,
   "id": "062503ea",
   "metadata": {},
   "outputs": [],
   "source": [
    "def serial_mean(data):\n",
    "    N = len(data)\n",
    "    return sum(data)/N\n",
    "\n",
    "def mp_mean(data,p):\n",
    "    N = len(data)\n",
    "    m = N//p     \n",
    "    assert p*m == N, \"Length of data array should be divisible by p\"\n",
    "\n",
    "    # TODO : Create target process to sum data\n",
    "    def adder(pipein,data):\n",
    "        pipein[0].send(sum(data))\n",
    "        \n",
    "    \n",
    "    # TODO : Create p pipes\n",
    "    Pipes=[mp.Pipe() for i in range(p)]\n",
    "    \n",
    "    \n",
    "    # TODO : Launch p processes, each with a pipe to the main process.  Use target=adder.\n",
    "    Jobs=[];\n",
    "    S=0 # initialize the sum\n",
    "    for i in range(p):\n",
    "        # TODO : Send p chunks of data through the pipes to each process\n",
    "        proc=mp.Process(target=adder,args=(Pipes[i],data[m*i:m*(i+1)]))\n",
    "        proc.start()\n",
    "        Jobs.append(proc)\n",
    "        \n",
    "    #for job in Jobs:\n",
    "        \n",
    "    \n",
    "    for job in Jobs:\n",
    "        job.join()\n",
    "    \n",
    "    # TODO : Receive and accumulate the sums computed from each process\n",
    "    \n",
    "    for pipe in Pipes:\n",
    "        S+=pipe[1].recv()     \n",
    "    \n",
    "    # TODO : Compute the mean\n",
    "    return S/N\n",
    "    "
   ]
  },
  {
   "cell_type": "markdown",
   "id": "f3afc9ea",
   "metadata": {},
   "source": [
    "### Create random data aray"
   ]
  },
  {
   "cell_type": "code",
   "execution_count": 5,
   "id": "983cffe6",
   "metadata": {},
   "outputs": [],
   "source": [
    "\n",
    "# Create array of N random numbers in [0,1]\n",
    "N = 2**12    # 2**12\n",
    "data = [random.random() for i in range(N)]"
   ]
  },
  {
   "cell_type": "markdown",
   "id": "33bddfce",
   "metadata": {},
   "source": [
    "### Compute the mean and verify results\n",
    "\n",
    "Run the code below to check that your `mp_mean` is computing the correct value.   Verify your results for $p=1,2,4,8$ processes."
   ]
  },
  {
   "cell_type": "code",
   "execution_count": 6,
   "id": "714e3a58",
   "metadata": {},
   "outputs": [
    {
     "name": "stdout",
     "output_type": "stream",
     "text": [
      "Sum is       : 0.5006594034147724\n",
      "Expected sum : 0.5006594034147724\n"
     ]
    }
   ],
   "source": [
    "# Mean computed using multiprocessing (should be identical to true mean below)\n",
    "data_mean = mp_mean(data,p=1)\n",
    "print(f\"Sum is       : {data_mean}\")    \n",
    "\n",
    "# True mean \n",
    "mean_true = serial_mean(data)\n",
    "print(f\"Expected sum : {mean_true}\")"
   ]
  },
  {
   "cell_type": "markdown",
   "id": "7cb7eadc",
   "metadata": {},
   "source": [
    "### Timing results\n",
    "\n",
    "Below, we use the line-magic command `%timeit` to time the call to `serial_mean` and `mp_mean`.  The results will be printed to the console.  \n",
    "\n",
    "Read more about `timeit` in notebook `00_timeit`, available on the Canvas modules page."
   ]
  },
  {
   "cell_type": "code",
   "execution_count": 7,
   "id": "3f99bd70",
   "metadata": {},
   "outputs": [
    {
     "name": "stdout",
     "output_type": "stream",
     "text": [
      "287 µs ± 46.9 µs per loop (mean ± std. dev. of 10 runs, 5 loops each)\n",
      "Best time : 0.0003 (s)\n"
     ]
    }
   ],
   "source": [
    "# Time the non-parallel mean \n",
    "results = %timeit -r 10 -n 5 -o mean_true = serial_mean(data)\n",
    "print(\"Best time : {:.4f} (s)\".format(results.best))"
   ]
  },
  {
   "cell_type": "code",
   "execution_count": 8,
   "id": "3578e84e",
   "metadata": {},
   "outputs": [
    {
     "name": "stdout",
     "output_type": "stream",
     "text": [
      "9.46 ms ± 885 µs per loop (mean ± std. dev. of 10 runs, 5 loops each)\n",
      "12 ms ± 625 µs per loop (mean ± std. dev. of 10 runs, 5 loops each)\n",
      "19.7 ms ± 1.34 ms per loop (mean ± std. dev. of 10 runs, 5 loops each)\n",
      "32.5 ms ± 1.12 ms per loop (mean ± std. dev. of 10 runs, 5 loops each)\n",
      "[0.00865577 0.01155397 0.01741254 0.03093678]\n"
     ]
    }
   ],
   "source": [
    "# compute the parallel mean\n",
    "\n",
    "PL=[1,2,4,8]\n",
    "T=[0]*len(PL)\n",
    "for i in range(len(PL)):\n",
    "     result= %timeit -r 10 -n 5 -o  data_mean = mp_mean(data,p=PL[i])\n",
    "     T[i]=result.best    \n",
    "print(array(T))  #Time for the parallel mean in seconds"
   ]
  },
  {
   "cell_type": "code",
   "execution_count": 9,
   "id": "eb963e21",
   "metadata": {},
   "outputs": [
    {
     "data": {
      "image/png": "[encoded data removed]",
      "text/plain": [
       "<Figure size 432x288 with 1 Axes>"
      ]
     },
     "metadata": {
      "needs_background": "light"
     },
     "output_type": "display_data"
    }
   ],
   "source": [
    "figure(1)\n",
    "clf()\n",
    "\n",
    "  \n",
    "semilogx(PL,T,'r.-',ms=10,label='Timing')\n",
    "\n",
    "# Make nice tick marks\n",
    "pstr = ([int(p) for p in PL])\n",
    "xticks(PL,pstr)\n",
    "\n",
    "title(r'Timing')\n",
    "xlabel('P (processor count)')\n",
    "ylabel('Time (s)')\n",
    "\n",
    "legend()\n",
    "\n",
    "grid();"
   ]
  },
  {
   "cell_type": "markdown",
   "id": "60103202",
   "metadata": {},
   "source": [
    "### Observations on timing results\n",
    "\n",
    "What do you observe about your timing results found above?  Is there a benefit to using multiprocessing to compute the mean of a large array of numbers? Why or why not? \n",
    "\n",
    "(your answers here). "
   ]
  },
  {
   "cell_type": "markdown",
   "id": "a486ac9a",
   "metadata": {},
   "source": [
    "From the timing result illustrated by the figure above, we observe that the amount of time required to compute the mean increases as the number of processes. Judging by this result alone, it isn't wise to compute the mean of a large array using multiprocessing."
   ]
  },
  {
   "cell_type": "markdown",
   "id": "2e6bd4d0",
   "metadata": {},
   "source": [
    "<hr style=\"border-width:4px; border-color:coral\"></hr>\n",
    "\n",
    "## Problem 4  :  Weak scaling and efficiency (571)\n",
    "\n",
    "<hr style=\"border-width:4px; border-color:coral\"></hr>\n",
    "\n",
    "We can verify the \"weak scalability\" of `mp_mean` routine by running the code using $P=1,2,4,8, 16$ process(es) for a data array of length $M=P \\times M_0$ and store the timing results.    If our `mp_mean` routine scales perfectly, the total time should be the same for all five runs, since each process will sum the numbers in a data array of length $M_0$.  However, due to overhead (or \"latency\"), we don't see perfect scaling in practice. \n",
    "\n",
    "We can model the total time $T$ that `mp_mean` will take to run using `P` processes using the equation\n",
    "\n",
    "\\begin{equation}\n",
    "T = T_s + \\alpha P\n",
    "\\end{equation}\n",
    "\n",
    "where $T_s$ is the time to compute the mean of $M_0$ numbers using a serial algorithm (`mean_serial`) and $\\alpha$ is the overhead associated with launching a single process and sending data to the process. \n",
    "\n",
    "Model *efficiency* can then be computed as \n",
    "\n",
    "\\begin{equation}\n",
    "E = \\frac{T_s}{T_s + \\alpha P} \\approx 1 - \\frac{\\alpha P}{T_s}, \\qquad \\frac{\\alpha P}{T_s} \\ll 1\n",
    "\\end{equation}\n",
    "\n",
    "Under the assumption that $\\alpha$ is small relative to $T_s$, we expect $E$ to be close to 1, and our algorithm will be close to 100% efficient. \n",
    "\n",
    "The *latency* $L$ in the system can be modeled as\n",
    "\n",
    "\\begin{equation}\n",
    "L = T-T_s = \\alpha P\n",
    "\\end{equation}\n",
    "\n",
    "In this problem, you will explore the efficiency of the routine `mp_mean`. \n",
    "\n",
    "#### To Do\n",
    "\n",
    "\n",
    "* Run the code below to get an array `T_weak` of timing results for the simulation run on $P=1,2,4,8,16$ processes.  \n",
    "\n",
    "* Compute the time $T_s$ it takes to sum $M_0 = 2^N$ numbers using a serial algorithm (also in code below). To start, choose $M_0 = 2^{20}$. \n",
    "\n",
    "* Plot the *computed* efficiency $E = T_s/T_{weak}$ verses $P$ using timing results in the array `T_weak`.  \n",
    " \n",
    "* Using linear regression, (e.g. Numpy `polyfit`) find paramters $m$ and $C$ for the latency model\n",
    "\n",
    "\\begin{equation}\n",
    "\\log(L) = \\log(T-T_s) =  m\\log(P) + C. \n",
    "\\end{equation}\n",
    "\n",
    "From this, you can obtain $\\alpha$ as $\\alpha = e^C$.   Your slope $m$ should be close to 1. \n",
    "Report the value of $\\alpha$ and a slope $m$ that you get. See the Multiprocessing notebook  for details on how to compute these parameters.  \n",
    "\n",
    "* Plot the *model* efficiency $E=T_s/(T_s + \\alpha P)$ on the same graph as your computed efficiency. \n",
    "\n",
    "* Answer questions below. \n",
    "\n",
    "For both the computed and model efficiencies, you plot should actually plot efficiency as a percentage.  That is, plot $100 E$ in both cases.   Use a *semilogx* plot for both efficiency curves. \n",
    "\n",
    "#### Tips\n",
    "\n",
    "* Start with $M_0 = 2^{20}$. If you can,  push this to $M_0 = 2^{22}$ or $M_0 = 2^{24}$.\n"
   ]
  },
  {
   "cell_type": "code",
   "execution_count": 10,
   "id": "e61cb859",
   "metadata": {},
   "outputs": [
    {
     "name": "stdout",
     "output_type": "stream",
     "text": [
      "---------------------------------- M0=2^20 ----------------------------------\n",
      "108 ms ± 0 ns per loop (mean ± std. dev. of 1 run, 1 loop each)\n",
      "164 ms ± 0 ns per loop (mean ± std. dev. of 1 run, 1 loop each)\n",
      "303 ms ± 0 ns per loop (mean ± std. dev. of 1 run, 1 loop each)\n",
      "652 ms ± 0 ns per loop (mean ± std. dev. of 1 run, 1 loop each)\n",
      "1.12 s ± 0 ns per loop (mean ± std. dev. of 1 run, 1 loop each)\n",
      "[0.10760641 0.1638871  0.30267245 0.65229448 1.12284184]\n",
      "\n",
      "---------------------------------- M0=2^24 ----------------------------------\n",
      "\n",
      "1.43 s ± 0 ns per loop (mean ± std. dev. of 1 run, 1 loop each)\n",
      "2.43 s ± 0 ns per loop (mean ± std. dev. of 1 run, 1 loop each)\n",
      "4.56 s ± 0 ns per loop (mean ± std. dev. of 1 run, 1 loop each)\n",
      "10.1 s ± 0 ns per loop (mean ± std. dev. of 1 run, 1 loop each)\n",
      "23.1 s ± 0 ns per loop (mean ± std. dev. of 1 run, 1 loop each)\n",
      "[ 1.4301903   2.4292399   4.55810511 10.13522009 23.09502025]\n"
     ]
    }
   ],
   "source": [
    "# [0.10908858 0.18828485 0.33706451 0.63119592 1.17750993]\n",
    "def weak_timing(M0,P):\n",
    "    M = P*M0\n",
    "    data = [random.random() for i in range(M)]\n",
    "    results = %timeit -r 1 -n 1 -o  data_mean = mp_mean(data,p=P)   \n",
    "    T = results.best\n",
    "    return T\n",
    "\n",
    "print(f\"{'--'*17} M0=2^20 {'--'*17}\")\n",
    "M01 = 2**20\n",
    "def getTweak(M0):\n",
    "    P = array([1,2,4,8,16])  # Processor count\n",
    "    T_weak = empty(P.shape)\n",
    "    for i in range(len(P)):\n",
    "        T_weak[i] = weak_timing(M0,P[i])    \n",
    "    return T_weak\n",
    "T_weak1=getTweak(M01)\n",
    "print(T_weak1)    # weak timing in seconds.\n",
    "\n",
    "\n",
    "\n",
    "print(\"\")\n",
    "print(f\"{'--'*17} M0=2^24 {'--'*17}\")\n",
    "print(\"\")\n",
    "\n",
    "M02=2**(24)\n",
    "\n",
    "T_weak2=getTweak(M02)\n",
    "print(T_weak2)"
   ]
  },
  {
   "cell_type": "markdown",
   "id": "3655dc0d",
   "metadata": {},
   "source": [
    "Time the serial code to compute $T_s$. "
   ]
  },
  {
   "cell_type": "code",
   "execution_count": 11,
   "id": "cf639f99",
   "metadata": {},
   "outputs": [
    {
     "name": "stdout",
     "output_type": "stream",
     "text": [
      "---------------------------------- M0=2^20 ----------------------------------\n",
      "47 ms ± 1.05 ms per loop (mean ± std. dev. of 5 runs, 5 loops each)\n",
      "Best time (Ts) : 0.0463 (s)\n",
      "\n",
      "Ts = 0.05 (s)\n",
      "\n",
      "---------------------------------- M0=2^24 ----------------------------------\n",
      "786 ms ± 18 ms per loop (mean ± std. dev. of 5 runs, 5 loops each)\n",
      "Best time (Ts) : 0.7656 (s)\n",
      "\n",
      "Ts = 0.77 (s)\n"
     ]
    }
   ],
   "source": [
    "# Run serial routine to compute Ts\n",
    "def serial(M0):\n",
    "    data = [random.random() for i in range(M0)]\n",
    "    results = %timeit -r 5 -n 5 -o mean_true = serial_mean(data)\n",
    "    print(\"Best time (Ts) : {:.4f} (s)\".format(results.best))\n",
    "    print(\"\")\n",
    "    Ts = results.best\n",
    "    return Ts\n",
    "M0=2**20\n",
    "print(f\"{'--'*17} M0=2^20 {'--'*17}\")\n",
    "Ts1=serial(M0)\n",
    "print(f\"Ts = {Ts1:.2f} (s)\")\n",
    "print(\"\")\n",
    "\n",
    "M02=2**24\n",
    "print(f\"{'--'*17} M0=2^24 {'--'*17}\")\n",
    "Ts2=serial(M02)\n",
    "print(f\"Ts = {Ts2:.2f} (s)\")\n"
   ]
  },
  {
   "cell_type": "code",
   "execution_count": 12,
   "id": "15c5a81f",
   "metadata": {},
   "outputs": [
    {
     "name": "stdout",
     "output_type": "stream",
     "text": [
      "---------------------------------- M0=2^(20) ----------------------------------\n",
      "Power p is approx. 1.06\n",
      "Constant C is approx. -2.82e+00 (s)\n",
      "alpha = 0.05969950210418932\n",
      " \n",
      "---------------------------------- M0=2^(24) ----------------------------------\n",
      "Power p is approx. 1.26\n",
      "Constant C is approx. -3.96e-01 (s)\n",
      "alpha = 0.6729618730308499\n"
     ]
    }
   ],
   "source": [
    "# Approximate alpha using linear regression\n",
    "def alpha(Tweak,Ts,P=[1,2,4,8,16]):\n",
    "    L = (Tweak - Ts)\n",
    "    pC = polyfit(log(P),log(L),1)\n",
    "    p = pC[0]  # power p\n",
    "    Cbar = pC[1]  # Constant C\n",
    "    alpha=exp(Cbar)\n",
    "    print(f\"Power p is approx. {p:.2f}\")\n",
    "    print(f\"Constant C is approx. {Cbar:.2e} (s)\")\n",
    "    print(f\"alpha = {alpha}\")\n",
    "    return alpha\n",
    "\n",
    "\n",
    "print(f\"{'--'*17} M0=2^(20) {'--'*17}\")\n",
    "alpha1=alpha(T_weak1,Ts1)\n",
    "print(\" \")\n",
    "\n",
    "print(f\"{'--'*17} M0=2^(24) {'--'*17}\")\n",
    "alpha2=alpha(T_weak2,Ts2)\n",
    "\n",
    "\n"
   ]
  },
  {
   "cell_type": "markdown",
   "id": "7e5e040b",
   "metadata": {},
   "source": [
    "#### Efficiency plots"
   ]
  },
  {
   "cell_type": "code",
   "execution_count": 13,
   "id": "13baa981",
   "metadata": {},
   "outputs": [
    {
     "data": {
      "text/plain": [
       "<matplotlib.legend.Legend at 0x7fca11412070>"
      ]
     },
     "execution_count": 13,
     "metadata": {},
     "output_type": "execute_result"
    },
    {
     "data": {
      "text/plain": [
       "<Figure size 432x288 with 0 Axes>"
      ]
     },
     "metadata": {},
     "output_type": "display_data"
    },
    {
     "data": {
      "image/png": "[encoded data removed]",
      "text/plain": [
       "<Figure size 1008x432 with 2 Axes>"
      ]
     },
     "metadata": {
      "needs_background": "light"
     },
     "output_type": "display_data"
    }
   ],
   "source": [
    "\n",
    "P=array([1,2,4,8,16])\n",
    "\n",
    "#model efficiency\n",
    "def Eff(P,Ts,alpha):\n",
    "    return Ts/(Ts+alpha*P)\n",
    "\n",
    "figure(2)\n",
    "clf()\n",
    "figure(figsize=(14, 6)) \n",
    "\n",
    "\n",
    "subplot(1,2,1)\n",
    "E1 = (Ts1/T_weak1) \n",
    "semilogx(P,100*E1,'r.-',ms=10,label='Computed efficiency')\n",
    "semilogx(P,100*Eff(P,Ts1,alpha1),'b.--',ms=10,label=\"Efficiency model\")\n",
    "pstr = ([f'{p}' for p in P])\n",
    "xticks(P,pstr)\n",
    "ylim([-10,110])\n",
    "title(r'Efficiency $M0=2^{20}$')\n",
    "xlabel('P (processor count)')\n",
    "ylabel('Efficency (%)')\n",
    "grid()\n",
    "legend()\n",
    "\n",
    "\n",
    "\n",
    "subplot(1,2,2)\n",
    "E2 = (Ts2/T_weak2) \n",
    "semilogx(P,100*E2,'r.-',ms=10,label='Computed efficiency')\n",
    "semilogx(P,100*Eff(P,Ts2,alpha2),'b.--',ms=10,label=\"Efficiency model\")\n",
    "pstr = ([f'{p}' for p in P])\n",
    "xticks(P,pstr)\n",
    "ylim([-10,110])\n",
    "title(r'Efficiency $M0=2^{24}$')\n",
    "xlabel('P (processor count)')\n",
    "ylabel('Efficency (%)')\n",
    "grid()\n",
    "legend()\n",
    "\n",
    "\n"
   ]
  },
  {
   "cell_type": "markdown",
   "id": "e3faef74",
   "metadata": {},
   "source": [
    "### Questions\n",
    "<hr style=\"border-width:2px; border-color:black\"></hr>\n",
    "\n",
    "* Comment on the \"efficiency\" of the `mp_mean` routine when run on multiple processes.  Is the routine `mp_mean` *efficient* ? \n",
    "\n",
    "* As the size of the data array increases, we expect $T_s$ to increase.   Does this mean that `mp_mean` is more efficient for larger data arrays?  **Hint:** The latency parameter $\\alpha$ depends on the size of the data array (Why?)  Can we always assume that $\\alpha P/T_s$ is \"small\" (e.g. less than 1)?  \n",
    "\n",
    "### Answer\n",
    "\n",
    "(your answers here) \n",
    "..."
   ]
  },
  {
   "cell_type": "markdown",
   "id": "f0f1c0f7",
   "metadata": {},
   "source": [
    "\n",
    "* By observing the figures above, we see that the mp_mean routine performs badly, the efficiency drops as the number of processes increases. \n",
    "\n",
    "* The answer is no, mp mean is not always more efficient with bigger data arrays. Due to the fact that sending data between processors takes longer as the size of the data array increases, the latency parameter 𝛼 is dependent on the size of the data array. As a result, the ratio 𝛼𝑃/𝑇𝑠 and the latency parameter both grow as the size of the data array increases. As the size of the data array grows, it is possible for 𝛼𝑃/𝑇𝑠 to become higher than 1, therefore we cannot always assume that it is \"small\" (i.e., less than 1).\n"
   ]
  }
 ],
 "metadata": {
  "kernelspec": {
   "display_name": "ipykernel",
   "language": "python",
   "name": "python3"
  },
  "language_info": {
   "codemirror_mode": {
    "name": "ipython",
    "version": 3
   },
   "file_extension": ".py",
   "mimetype": "text/x-python",
   "name": "python",
   "nbconvert_exporter": "python",
   "pygments_lexer": "ipython3",
   "version": "3.9.12"
  }
 },
 "nbformat": 4,
 "nbformat_minor": 5
}

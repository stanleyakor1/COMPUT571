{
 "cells": [
  {
   "cell_type": "markdown",
   "id": "43535e41",
   "metadata": {},
   "source": [
    "<hr style=\"border:2px solid coral\"></hr>\n",
    "\n",
    "# Practice\n",
    "\n",
    "<hr style=\"border:2px solid coral\"></hr>\n",
    "\n",
    "Fix the following code so that it handles the ghost cell at the end points of the domain correctly by comparing the source or destination ranks to `MPI_PROC_NULL`.  \n",
    "\n",
    "### Tips\n",
    "\n",
    "* You will know that if a source on the left is MPI_PROC_NULL, than you are at a left boundary.  Same for the right boundary. \n",
    "\n",
    "* Do not compare to rank 0 or rank `nprocs-1`, since you won't in general know that rank 0 is the left boundary or that `nprocs-1` is the right boundary.\n",
    "\n"
   ]
  },
  {
   "cell_type": "code",
   "execution_count": 4,
   "id": "55c16b94",
   "metadata": {},
   "outputs": [
    {
     "name": "stdout",
     "output_type": "stream",
     "text": [
      "Writing cart_practice_01.c\n"
     ]
    }
   ],
   "source": [
    "%%file cart_practice_01.c\n",
    "\n",
    "#include <mpi.h>\n",
    "#include <math.h>\n",
    "\n",
    "#include <stdio.h>\n",
    "#include <stdlib.h>\n",
    "\n",
    "void main(int argc, char** argv)\n",
    "{\n",
    "    MPI_Init(&argc, &argv);\n",
    "\n",
    "    int rank, nprocs;\n",
    "    MPI_Comm_rank(MPI_COMM_WORLD, &rank);\n",
    "    MPI_Comm_size(MPI_COMM_WORLD, &nprocs);\n",
    "    \n",
    "    int root = 0;\n",
    "    \n",
    "    double qmem[3];    \n",
    "    double *q = &qmem[1];\n",
    "\n",
    "    double h = 1.0/nprocs;  \n",
    "    \n",
    "    // # Fill in cell centered mesh locations. \n",
    "    q[0] = (rank+0.5)*h;\n",
    "    \n",
    "    double arr[nprocs];\n",
    "    MPI_Gather(q,1,MPI_DOUBLE,arr,1,MPI_DOUBLE,root,MPI_COMM_WORLD);\n",
    "    if (rank == root)\n",
    "    {\n",
    "        printf(\"f(x) = x (cell centers) : \\n\");\n",
    "        printf(\"%8s : \",\"Rank\");\n",
    "        for(int p = 0; p < nprocs; p++)\n",
    "            printf(\"%10d\",p);\n",
    "        printf(\"\\n\");\n",
    "        \n",
    "        printf(\"%8s : \",\"f(x)\");\n",
    "        for(int p = 0; p < nprocs; p++)\n",
    "            printf(\"%10.4f\",arr[p]);\n",
    "        printf(\"\\n\");\n",
    "    }        \n",
    "\n",
    "    // # Fill in q[-1] and q[1] with data from neighbors */\n",
    "    MPI_Comm comm_cart;\n",
    "    int ndim = 1;\n",
    "    int dims[1] = {nprocs};\n",
    "    int periodicity[1] = {0};\n",
    "    int reorder = 0;\n",
    "    MPI_Cart_create(MPI_COMM_WORLD, ndim, dims,  periodicity, reorder, &comm_cart);\n",
    "\n",
    "    // #  Fill ghost value q[-1]  (shift values right)\n",
    "    int dir = 0;\n",
    "    int disp = 1;\n",
    "    int source, dest;\n",
    "    int ierr = MPI_Cart_shift(comm_cart, dir, disp, &source, &dest);\n",
    "\n",
    "    int tag = 0;\n",
    "    MPI_Sendrecv(&q[0], 1, MPI_DOUBLE, dest, tag, \n",
    "                 &q[-1], 1, MPI_DOUBLE, source, tag, \n",
    "                 comm_cart, MPI_STATUS_IGNORE);\n",
    "\n",
    "    // #  Fill ghost value q[1]\n",
    "    disp = -1;  \n",
    "    MPI_Cart_shift(comm_cart, dir, disp, &source, &dest);\n",
    "\n",
    "    tag = 1;\n",
    "    ierr = MPI_Sendrecv(&q[0], 1, MPI_DOUBLE, dest, tag, \n",
    "                        &q[1], 1, MPI_DOUBLE, source, tag, \n",
    "                        comm_cart, MPI_STATUS_IGNORE);\n",
    "\n",
    "    // # Compute a derivative using left and right values\n",
    "    double deriv = (q[1] - q[-1])/(2*h);\n",
    "    \n",
    "    MPI_Gather(&deriv,1,MPI_DOUBLE,arr,1,MPI_DOUBLE,root,MPI_COMM_WORLD);\n",
    "    if (rank == root)\n",
    "    {\n",
    "        printf(\"\\n\");\n",
    "        printf(\"Derivative f'(x) = 1 (cell-centers): \\n\");\n",
    "        printf(\"%8s : \",\"Rank\");\n",
    "        for(int p = 0; p < nprocs; p++)\n",
    "            printf(\"%10d\",p);\n",
    "        printf(\"\\n\");\n",
    "        \n",
    "        printf(\"%8s : \",\"f'(x)\");\n",
    "        for(int p = 0; p < nprocs; p++)\n",
    "            printf(\"%10.4f\",arr[p]);\n",
    "        printf(\"\\n\");\n",
    "    }\n",
    "    \n",
    "\n",
    "    MPI_Finalize();\n",
    "}"
   ]
  },
  {
   "cell_type": "code",
   "execution_count": 5,
   "id": "1e19a1f0",
   "metadata": {},
   "outputs": [
    {
     "name": "stdout",
     "output_type": "stream",
     "text": [
      "f(x) = x (cell centers) : \n",
      "    Rank :          0         1         2         3         4         5         6         7\n",
      "    f(x) :     0.0625    0.1875    0.3125    0.4375    0.5625    0.6875    0.8125    0.9375\n",
      "\n",
      "Derivative f'(x) = 1 (cell-centers): \n",
      "    Rank :          0         1         2         3         4         5         6         7\n",
      "   f'(x) :     0.7500    1.0000    1.0000    1.0000    1.0000    1.0000    1.0000   -3.2500\n"
     ]
    }
   ],
   "source": [
    "%%bash \n",
    "\n",
    "mpicc -o cart_practice_01 cart_practice_01.c\n",
    "\n",
    "mpirun -n 8 cart_practice_01"
   ]
  },
  {
   "cell_type": "code",
   "execution_count": null,
   "id": "cedbf37c",
   "metadata": {},
   "outputs": [],
   "source": []
  }
 ],
 "metadata": {
  "kernelspec": {
   "display_name": "ipykernel",
   "language": "python",
   "name": "python3"
  },
  "language_info": {
   "codemirror_mode": {
    "name": "ipython",
    "version": 3
   },
   "file_extension": ".py",
   "mimetype": "text/x-python",
   "name": "python",
   "nbconvert_exporter": "python",
   "pygments_lexer": "ipython3",
   "version": "3.9.12"
  }
 },
 "nbformat": 4,
 "nbformat_minor": 5
}
